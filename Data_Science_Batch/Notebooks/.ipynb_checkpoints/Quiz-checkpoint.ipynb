{
 "cells": [
  {
   "cell_type": "code",
   "execution_count": null,
   "metadata": {
    "collapsed": true
   },
   "outputs": [],
   "source": [
    "questions = [\n",
    "    {},\n",
    "    {},\n",
    "    {},\n",
    "    {}\n",
    "]"
   ]
  },
  {
   "cell_type": "code",
   "execution_count": 74,
   "metadata": {},
   "outputs": [
    {
     "name": "stdout",
     "output_type": "stream",
     "text": [
      "Sucessfully updated\n"
     ]
    }
   ],
   "source": [
    "def read_data():\n",
    "    f = open('ques.txt')\n",
    "    data = f.read()\n",
    "    f.close()\n",
    "    data = data.split('\\n\\n')\n",
    "    if data[-1] : \n",
    "        pass\n",
    "    else :\n",
    "        data = data[:-1]\n",
    "    new_data = []\n",
    "    for var in data:\n",
    "        q = var.split('\\n')\n",
    "        q[1] = q[1].split('\\t')\n",
    "        new_data.append(q)\n",
    "    return new_data\n",
    "f = open('quiz_dataset.db')\n",
    "Ques = json.load(f)\n",
    "f.close()\n",
    "data = read_data()\n",
    "def update(data):\n",
    "    global Ques\n",
    "    n = [ ]\n",
    "    for q in data : \n",
    "        key = q[0].strip()\n",
    "        value = [ q[1], q[2] ]\n",
    "        d = (key,value)\n",
    "        n.append(d)\n",
    "    Ques['python']['Basic'].update(n)\n",
    "    print(\"Sucessfully updated\")\n",
    "f = open('quiz_backup.db','w')\n",
    "json.dump(Ques,f)\n",
    "f.close()\n",
    "update(data)\n",
    "f = open('quiz_dataset.db','w')\n",
    "json.dump(Ques,f)\n",
    "f.close()"
   ]
  },
  {
   "cell_type": "code",
   "execution_count": 39,
   "metadata": {},
   "outputs": [
    {
     "name": "stdout",
     "output_type": "stream",
     "text": [
      "[['python is launched officially in year ? ',\n",
      "  ['1991', '1992', '1994', '1996'],\n",
      "  '1994'],\n",
      " ['which is not a python web framwork ? ',\n",
      "  ['Django', 'Flask', 'Web2Py', 'Scipy'],\n",
      "  'Scipy'],\n",
      " ['which package of python provides array processing functions ? ',\n",
      "  ['pandas', 'numpy', 'scikit-learn', 'Scipy'],\n",
      "  'numpy'],\n",
      " ['in which year python3 is launched ? ',\n",
      "  ['2007', '2008', '2009', '2006'],\n",
      "  '2008'],\n",
      " ['which is not python data type ?',\n",
      "  ['list', 'array', 'dictionary', 'sets'],\n",
      "  'array']]\n"
     ]
    }
   ],
   "source": [
    "from pprint import pprint\n",
    "data = read_data()\n",
    "pprint(new_data)"
   ]
  },
  {
   "cell_type": "code",
   "execution_count": 40,
   "metadata": {},
   "outputs": [
    {
     "data": {
      "text/plain": [
       "['python is launched officially in year ? ',\n",
       " ['1991', '1992', '1994', '1996'],\n",
       " '1994']"
      ]
     },
     "execution_count": 40,
     "metadata": {},
     "output_type": "execute_result"
    }
   ],
   "source": [
    "data[0]"
   ]
  },
  {
   "cell_type": "code",
   "execution_count": 42,
   "metadata": {
    "collapsed": true
   },
   "outputs": [],
   "source": [
    "Ques = {\n",
    "    'python' : {\n",
    "        \n",
    "        'Basic' : { },\n",
    "        'Advance' : {\n",
    "            'Gernal' : None,\n",
    "            'Data_Science' : None,\n",
    "            'Web_Desgining' : None,\n",
    "            'Automation' : None,\n",
    "            \n",
    "                    }\n",
    "        \n",
    "                },\n",
    "    'java' : None,\n",
    "    'c' : None,\n",
    "    'c++' : None,\n",
    "    'science' : None,\n",
    "    'maths' : None,\n",
    "}"
   ]
  },
  {
   "cell_type": "code",
   "execution_count": 48,
   "metadata": {},
   "outputs": [
    {
     "name": "stdout",
     "output_type": "stream",
     "text": [
      "{'c': None,\n",
      " 'c++': None,\n",
      " 'java': None,\n",
      " 'maths': None,\n",
      " 'python': {'Advance': {'Automation': None,\n",
      "                        'Data_Science': None,\n",
      "                        'Gernal': None,\n",
      "                        'Web_Desgining': None},\n",
      "            'Basic': {'in which year python3 is launched ?': [['2007',\n",
      "                                                               '2008',\n",
      "                                                               '2009',\n",
      "                                                               '2006'],\n",
      "                                                              '2008'],\n",
      "                      'python is launched officially in year ?': [['1991',\n",
      "                                                                   '1992',\n",
      "                                                                   '1994',\n",
      "                                                                   '1996'],\n",
      "                                                                  '1994'],\n",
      "                      'which is not a python web framwork ?': [['Django',\n",
      "                                                                'Flask',\n",
      "                                                                'Web2Py',\n",
      "                                                                'Scipy'],\n",
      "                                                               'Scipy'],\n",
      "                      'which is not python data type ?': [['list',\n",
      "                                                           'array',\n",
      "                                                           'dictionary',\n",
      "                                                           'sets'],\n",
      "                                                          'array'],\n",
      "                      'which package of python provides array processing functions ?': [['pandas',\n",
      "                                                                                         'numpy',\n",
      "                                                                                         'scikit-learn',\n",
      "                                                                                         'Scipy'],\n",
      "                                                                                        'numpy']}},\n",
      " 'science': None}\n"
     ]
    }
   ],
   "source": [
    "pprint(Ques)"
   ]
  },
  {
   "cell_type": "code",
   "execution_count": 50,
   "metadata": {},
   "outputs": [
    {
     "name": "stdout",
     "output_type": "stream",
     "text": [
      "Your Choices : \n",
      "python java c c++ science maths\n"
     ]
    }
   ],
   "source": [
    "print(\"Your Choices : \")\n",
    "print(*Ques.keys())"
   ]
  },
  {
   "cell_type": "code",
   "execution_count": 68,
   "metadata": {},
   "outputs": [
    {
     "name": "stdout",
     "output_type": "stream",
     "text": [
      "Your Choices : \n",
      "1. python\n",
      "2. java\n",
      "3. c\n",
      "4. c++\n",
      "5. science\n",
      "6. maths\n",
      "Your subject : python\n",
      "You wanna try which League \n",
      "1. Basic\n",
      "2. Advance\n",
      "Your Choice : 1\n",
      "Invalid Choice Try Again \n",
      "Your Choices : \n",
      "1. python\n",
      "2. java\n",
      "3. c\n",
      "4. c++\n",
      "5. science\n",
      "6. maths\n",
      "Your subject : 1\n",
      "Invalid Choice Try Again\n",
      "Your Choices : \n",
      "1. python\n",
      "2. java\n",
      "3. c\n",
      "4. c++\n",
      "5. science\n",
      "6. maths\n",
      "Your subject : python\n",
      "You wanna try which League \n",
      "1. Basic\n",
      "2. Advance\n",
      "Your Choice : Basic\n",
      "Total Questinos :  5\n",
      "Your Question is : \n",
      "python is launched officially in year ? \n",
      "\n",
      "1. 1991\t2. 1992\t3. 1994\t4. 1996\n",
      "Your answer : 3\n",
      "Your Question is : \n",
      "which is not a python web framwork ? \n",
      "\n",
      "1. Django\t2. Flask\t3. Web2Py\t4. Scipy\n",
      "Your answer : 4\n",
      "Your Question is : \n",
      "which package of python provides array processing functions ? \n",
      "\n",
      "1. pandas\t2. numpy\t3. scikit-learn\t4. Scipy\n",
      "Your answer : 2\n",
      "Your Question is : \n",
      "in which year python3 is launched ? \n",
      "\n",
      "1. 2007\t2. 2008\t3. 2009\t4. 2006\n",
      "Your answer : 2\n",
      "Your Question is : \n",
      "which is not python data type ? \n",
      "\n",
      "1. list\t2. array\t3. dictionary\t4. sets\n",
      "Your answer : 2\n",
      "Thanks for having the quiz \n",
      "Total Correct answers :  5\n",
      "Total Incorrect answers :  0\n",
      "Your Score is :  20\n"
     ]
    }
   ],
   "source": [
    "def quiz():\n",
    "    print(\"Your Choices : \")\n",
    "    c = 1\n",
    "    for var in Ques :\n",
    "        print(\"{}. {}\".format(c,var))\n",
    "        c += 1\n",
    "    ch1 = input(\"Your subject : \").strip().lower()\n",
    "    if ch1 in Ques :\n",
    "        print(\"You wanna try which League \")\n",
    "        c = 1 \n",
    "        for key in Ques[ch1] : \n",
    "            print(\"{}. {}\".format(c,key))\n",
    "            c = c + 1\n",
    "        ch2 = input(\"Your Choice : \").strip()\n",
    "        if ch2 in Ques[ch1] : \n",
    "            start_quiz(ch1,ch2)\n",
    "        else :\n",
    "            print(\"Invalid Choice Try Again \")\n",
    "            quiz()\n",
    "    else :\n",
    "        print(\"Invalid Choice Try Again\")\n",
    "        quiz()\n",
    "        \n",
    "def start_quiz(key1,key2):\n",
    "    data = Ques[key1][key2]\n",
    "    score = 0\n",
    "    correct = 0\n",
    "    print(\"Total Questinos : \",len(data))\n",
    "    for question in data : \n",
    "        print(\"Your Question is : \")\n",
    "        print(question,'\\n')\n",
    "        print(\"1. {}\\t2. {}\\t3. {}\\t4. {}\".format(*(data[question][0])))\n",
    "        \n",
    "        uans = int(input(\"Your answer : \")) - 1\n",
    "        cans = data[question][0].index(data[question][1])\n",
    "        if uans == cans :\n",
    "            score += 4\n",
    "            correct += 1\n",
    "        else :\n",
    "            score -= 1\n",
    "    print(\"Thanks for having the quiz \")\n",
    "    print(\"Total Correct answers : \",correct)\n",
    "    print(\"Total Incorrect answers : \",len(data)-correct)\n",
    "    print(\"Your Score is : \",score)\n",
    "    \n",
    "quiz()"
   ]
  },
  {
   "cell_type": "code",
   "execution_count": 70,
   "metadata": {},
   "outputs": [],
   "source": [
    "f = open('quiz_dataset.db','w')\n",
    "import json\n",
    "json.dump(Ques,f)\n",
    "f.close()"
   ]
  },
  {
   "cell_type": "code",
   "execution_count": 75,
   "metadata": {},
   "outputs": [
    {
     "name": "stdout",
     "output_type": "stream",
     "text": [
      "{'c': None,\n",
      " 'c++': None,\n",
      " 'java': None,\n",
      " 'maths': None,\n",
      " 'python': {'Advance': {'Automation': None,\n",
      "                        'Data_Science': None,\n",
      "                        'Gernal': None,\n",
      "                        'Web_Desgining': None},\n",
      "            'Basic': {'in which year python3 is launched ?': [['2007',\n",
      "                                                               '2008',\n",
      "                                                               '2009',\n",
      "                                                               '2006'],\n",
      "                                                              '2008'],\n",
      "                      'python is launched officially in year ?': [['1991',\n",
      "                                                                   '1992',\n",
      "                                                                   '1994',\n",
      "                                                                   '1996'],\n",
      "                                                                  '1994'],\n",
      "                      'which is not a python web framwork ?': [['Django',\n",
      "                                                                'Flask',\n",
      "                                                                'Web2Py',\n",
      "                                                                'Scipy'],\n",
      "                                                               'Scipy'],\n",
      "                      'which is not a valid python ?': [['Ipython',\n",
      "                                                         'Cpython',\n",
      "                                                         'JPython',\n",
      "                                                         'Ppython'],\n",
      "                                                        'Ppython'],\n",
      "                      'which is not python data type ?': [['list',\n",
      "                                                           'array',\n",
      "                                                           'dictionary',\n",
      "                                                           'sets'],\n",
      "                                                          'array'],\n",
      "                      'which is not python operator ?': [['Increment',\n",
      "                                                          'logical',\n",
      "                                                          'comparision',\n",
      "                                                          'Arithmetic'],\n",
      "                                                         'Increment'],\n",
      "                      'which package of python provides array processing functions ?': [['pandas',\n",
      "                                                                                         'numpy',\n",
      "                                                                                         'scikit-learn',\n",
      "                                                                                         'Scipy'],\n",
      "                                                                                        'numpy']}},\n",
      " 'science': None}\n"
     ]
    }
   ],
   "source": [
    "pprint(Ques)"
   ]
  },
  {
   "cell_type": "code",
   "execution_count": null,
   "metadata": {
    "collapsed": true
   },
   "outputs": [],
   "source": []
  }
 ],
 "metadata": {
  "kernelspec": {
   "display_name": "Python 3",
   "language": "python",
   "name": "python3"
  },
  "language_info": {
   "codemirror_mode": {
    "name": "ipython",
    "version": 3
   },
   "file_extension": ".py",
   "mimetype": "text/x-python",
   "name": "python",
   "nbconvert_exporter": "python",
   "pygments_lexer": "ipython3",
   "version": "3.6.5"
  }
 },
 "nbformat": 4,
 "nbformat_minor": 2
}
