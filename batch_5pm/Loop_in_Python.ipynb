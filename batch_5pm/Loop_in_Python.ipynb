{
 "cells": [
  {
   "cell_type": "code",
   "execution_count": 2,
   "metadata": {},
   "outputs": [
    {
     "name": "stdout",
     "output_type": "stream",
     "text": [
      "Loop will start from here\n",
      "Loop ends here\n"
     ]
    }
   ],
   "source": [
    "i = 11\n",
    "print(\"Loop will start from here\")\n",
    "while i <= 10 :\n",
    "    i = 1\n",
    "    print(\"Whola i am inside the loop for repeatation\")\n",
    "    print(\"Hello {}\".format(i))\n",
    "    i = i + 1\n",
    "print(\"Loop ends here\")"
   ]
  },
  {
   "cell_type": "code",
   "execution_count": 9,
   "metadata": {},
   "outputs": [
    {
     "name": "stdout",
     "output_type": "stream",
     "text": [
      "Loop will start from here\n",
      "Whola i am inside the loop for repeatation\n",
      "Hello 0\n",
      "Whola i am inside the loop for repeatation\n",
      "Hello 1\n",
      "Whola i am inside the loop for repeatation\n",
      "Hello 2\n",
      "Loop ends here\n"
     ]
    }
   ],
   "source": [
    "i = 0\n",
    "print(\"Loop will start from here\")\n",
    "while i <= 10 :\n",
    "    if i == 3 : \n",
    "        break\n",
    "    print(\"Whola i am inside the loop for repeatation\")\n",
    "    print(\"Hello {}\".format(i))\n",
    "    i = i + 1\n",
    "print(\"Loop ends here\")"
   ]
  },
  {
   "cell_type": "code",
   "execution_count": 5,
   "metadata": {},
   "outputs": [
    {
     "name": "stdout",
     "output_type": "stream",
     "text": [
      "Loop will start from here\n",
      "Hello World Times 0\n",
      "Hello World Times 3\n",
      "Hello World Times 6\n",
      "Hello World Times 9\n",
      "Loop ends here\n"
     ]
    }
   ],
   "source": [
    "i = 0\n",
    "print(\"Loop will start from here\")\n",
    "while i <= 10 :\n",
    "    print(\"Hello World Times {}\".format(i))\n",
    "    i = i + 3\n",
    "print(\"Loop ends here\")"
   ]
  },
  {
   "cell_type": "code",
   "execution_count": 10,
   "metadata": {},
   "outputs": [
    {
     "name": "stdout",
     "output_type": "stream",
     "text": [
      "Hey how you doing Times 1\n",
      "Hey how you doing Times 2\n",
      "Hey how you doing Times 3\n",
      "Hey how you doing Times 4\n",
      "Hey how you doing Times 5\n",
      "Hey how you doing Times 6\n",
      "Hey how you doing Times 7\n",
      "Hey how you doing Times 8\n",
      "Hey how you doing Times 9\n",
      "bye bye \n"
     ]
    }
   ],
   "source": [
    "i = 1\n",
    "while i <= 50 : \n",
    "    if i >= 10 : \n",
    "        print(\"bye bye \")\n",
    "        break\n",
    "    print(\"Hey how you doing Times {}\".format(i))\n",
    "    i += 1\n",
    "else :\n",
    "    print(\"Will I print or not ? \")"
   ]
  },
  {
   "cell_type": "code",
   "execution_count": 11,
   "metadata": {},
   "outputs": [
    {
     "name": "stdout",
     "output_type": "stream",
     "text": [
      "Hello World 1\n",
      "Hello World 3\n",
      "Hello World 5\n"
     ]
    }
   ],
   "source": [
    "i = 1\n",
    "while i <= 10 : \n",
    "    if i % 7 == 0  : \n",
    "        break\n",
    "    print(\"Hello World {}\".format(i))\n",
    "    i += 2\n",
    "else : \n",
    "    print(\"should i do something for you ? \")"
   ]
  },
  {
   "cell_type": "code",
   "execution_count": 13,
   "metadata": {},
   "outputs": [
    {
     "name": "stdout",
     "output_type": "stream",
     "text": [
      "Hello World 1\n",
      "Hello World 2\n",
      "Hello World 4\n",
      "Hello World 8\n",
      "should i do something for you ? \n"
     ]
    }
   ],
   "source": [
    "i = 1\n",
    "while i <= 10 : \n",
    "    if i % 7 == 0  : \n",
    "        break\n",
    "    print(\"Hello World {}\".format(i))\n",
    "    i = 2*i \n",
    "else : \n",
    "    print(\"should i do something for you ? \")"
   ]
  },
  {
   "cell_type": "code",
   "execution_count": 14,
   "metadata": {},
   "outputs": [
    {
     "name": "stdout",
     "output_type": "stream",
     "text": [
      "Hello World Times 1.\n",
      "Hello World Times 2.\n",
      "Hello World Times 3.\n",
      "Hello World Times 4.\n"
     ]
    },
    {
     "ename": "KeyboardInterrupt",
     "evalue": "",
     "output_type": "error",
     "traceback": [
      "\u001b[1;31m---------------------------------------------------------------------------\u001b[0m",
      "\u001b[1;31mKeyboardInterrupt\u001b[0m                         Traceback (most recent call last)",
      "\u001b[1;32m<ipython-input-14-887c0063e9df>\u001b[0m in \u001b[0;36m<module>\u001b[1;34m()\u001b[0m\n\u001b[0;32m      2\u001b[0m \u001b[1;32mwhile\u001b[0m \u001b[0mi\u001b[0m \u001b[1;33m<=\u001b[0m \u001b[1;36m10\u001b[0m \u001b[1;33m:\u001b[0m\u001b[1;33m\u001b[0m\u001b[0m\n\u001b[0;32m      3\u001b[0m \u001b[1;33m\u001b[0m\u001b[0m\n\u001b[1;32m----> 4\u001b[1;33m     \u001b[1;32mif\u001b[0m \u001b[0mi\u001b[0m \u001b[1;33m==\u001b[0m \u001b[1;36m5\u001b[0m \u001b[1;33m:\u001b[0m\u001b[1;33m\u001b[0m\u001b[0m\n\u001b[0m\u001b[0;32m      5\u001b[0m         \u001b[1;32mcontinue\u001b[0m\u001b[1;33m\u001b[0m\u001b[0m\n\u001b[0;32m      6\u001b[0m     \u001b[0mprint\u001b[0m\u001b[1;33m(\u001b[0m\u001b[1;34m\"Hello World Times {}.\"\u001b[0m\u001b[1;33m.\u001b[0m\u001b[0mformat\u001b[0m\u001b[1;33m(\u001b[0m\u001b[0mi\u001b[0m\u001b[1;33m)\u001b[0m\u001b[1;33m)\u001b[0m\u001b[1;33m\u001b[0m\u001b[0m\n",
      "\u001b[1;31mKeyboardInterrupt\u001b[0m: "
     ]
    }
   ],
   "source": [
    "i = 1 \n",
    "while i <= 10 : \n",
    "    \n",
    "    if i == 5 : \n",
    "        continue\n",
    "    print(\"Hello World Times {}.\".format(i))\n",
    "    i += 1\n",
    "else : \n",
    "    print(\"Hey can you see that ? \")"
   ]
  },
  {
   "cell_type": "code",
   "execution_count": 15,
   "metadata": {},
   "outputs": [
    {
     "name": "stdout",
     "output_type": "stream",
     "text": [
      "Hello World Times 2.\n",
      "Hello World Times 4.\n",
      "Hello World Times 6.\n",
      "Hello World Times 8.\n",
      "Hello World Times 10.\n",
      "Hey can you see that ? \n"
     ]
    }
   ],
   "source": [
    "i = 1 \n",
    "while i <= 10 :  \n",
    "    if i % 2 : \n",
    "        i += 1\n",
    "        continue\n",
    "    print(\"Hello World Times {}.\".format(i))\n",
    "    i += 1\n",
    "else : \n",
    "    print(\"Hey can you see that ? \")"
   ]
  },
  {
   "cell_type": "code",
   "execution_count": 16,
   "metadata": {},
   "outputs": [
    {
     "name": "stdout",
     "output_type": "stream",
     "text": [
      "1\n",
      "3\n",
      "5\n",
      "7\n",
      "9\n",
      "11\n",
      "What will Happen ? \n"
     ]
    }
   ],
   "source": [
    "i = 0\n",
    "while i <= 10 :\n",
    "    i += 1\n",
    "    if i % 2 : \n",
    "        print(i)\n",
    "    else  : \n",
    "           continue\n",
    "else : \n",
    "    print(\"What will Happen ? \")"
   ]
  },
  {
   "cell_type": "code",
   "execution_count": 17,
   "metadata": {},
   "outputs": [
    {
     "name": "stdout",
     "output_type": "stream",
     "text": [
      "Hello World 0.\n",
      "Let me know i will run or not ? \n"
     ]
    }
   ],
   "source": [
    "i = 0 \n",
    "while i <= 10 : \n",
    "    if i % 2 and i > 8 : \n",
    "        break \n",
    "    elif i % 3 : \n",
    "        i += 3\n",
    "        continue \n",
    "    else : \n",
    "        print(\"Hello World {}.\".format(i))\n",
    "    i += 1\n",
    "else : \n",
    "    print(\"Let me know i will run or not ? \")"
   ]
  },
  {
   "cell_type": "code",
   "execution_count": 18,
   "metadata": {},
   "outputs": [
    {
     "name": "stdout",
     "output_type": "stream",
     "text": [
      "prompt : d\n",
      "Hello World\n",
      "How are you\n",
      "prompt : d\n",
      "Hello World\n",
      "How are you\n",
      "prompt : d\n",
      "Hello World\n",
      "How are you\n",
      "prompt : None\n",
      "Hello World\n",
      "How are you\n",
      "prompt : False\n",
      "Hello World\n",
      "How are you\n",
      "prompt : \n"
     ]
    }
   ],
   "source": [
    "while input(\"prompt : \"):\n",
    "    print(\"Hello World\")\n",
    "    print(\"How are you\")\n",
    "    "
   ]
  },
  {
   "cell_type": "code",
   "execution_count": 19,
   "metadata": {},
   "outputs": [
    {
     "name": "stdout",
     "output_type": "stream",
     "text": [
      "Enter a number : 5\n",
      "squre of num is  25\n",
      "Press any key to continue : y\n",
      "Enter a number : 34\n",
      "squre of num is  1156\n",
      "Press any key to continue : \n"
     ]
    }
   ],
   "source": [
    "while True : \n",
    "    x = int(input(\"Enter a number : \"))\n",
    "    print(\"squre of num is \",x**2)\n",
    "    if input(\"Press any key to continue : \") : \n",
    "        continue\n",
    "    else : \n",
    "        break\n",
    "else : \n",
    "    print(\"I am useless i will never print\")"
   ]
  },
  {
   "cell_type": "raw",
   "metadata": {},
   "source": [
    "for i in seq : \n",
    "    st1\n",
    "    st2\n",
    "    st3"
   ]
  },
  {
   "cell_type": "code",
   "execution_count": 20,
   "metadata": {},
   "outputs": [
    {
     "name": "stdout",
     "output_type": "stream",
     "text": [
      "p\n",
      "y\n",
      "t\n",
      "h\n",
      "o\n",
      "n\n"
     ]
    }
   ],
   "source": [
    "for var in 'python' : \n",
    "    print(var)"
   ]
  },
  {
   "cell_type": "code",
   "execution_count": 25,
   "metadata": {},
   "outputs": [
    {
     "name": "stdout",
     "output_type": "stream",
     "text": [
      "Hello World Times  1\n",
      "Hello World Times  2\n",
      "Hello World Times  3\n",
      "Hello World Times  4\n",
      "Hello World Times  5\n",
      "Hello World Times  6\n",
      "Hello World Times  7\n",
      "Hello World Times  8\n",
      "Hello World Times  9\n",
      "Hello World Times  10\n"
     ]
    }
   ],
   "source": [
    "for var in [1,2,3,4,5,6,7,8,9,10]: \n",
    "    print(\"Hello World Times \",var)\n",
    "    "
   ]
  },
  {
   "cell_type": "code",
   "execution_count": 26,
   "metadata": {},
   "outputs": [
    {
     "data": {
      "text/plain": [
       "str"
      ]
     },
     "execution_count": 26,
     "metadata": {},
     "output_type": "execute_result"
    }
   ],
   "source": [
    "s = \"python\"\n",
    "type(s)"
   ]
  },
  {
   "cell_type": "code",
   "execution_count": 28,
   "metadata": {},
   "outputs": [
    {
     "data": {
      "text/plain": [
       "str_iterator"
      ]
     },
     "execution_count": 28,
     "metadata": {},
     "output_type": "execute_result"
    }
   ],
   "source": [
    "s = iter(s)\n",
    "type(s)"
   ]
  },
  {
   "cell_type": "code",
   "execution_count": 29,
   "metadata": {},
   "outputs": [
    {
     "data": {
      "text/plain": [
       "'p'"
      ]
     },
     "execution_count": 29,
     "metadata": {},
     "output_type": "execute_result"
    }
   ],
   "source": [
    "next(s)"
   ]
  },
  {
   "cell_type": "code",
   "execution_count": 30,
   "metadata": {},
   "outputs": [
    {
     "data": {
      "text/plain": [
       "'y'"
      ]
     },
     "execution_count": 30,
     "metadata": {},
     "output_type": "execute_result"
    }
   ],
   "source": [
    "next(s)"
   ]
  },
  {
   "cell_type": "code",
   "execution_count": 35,
   "metadata": {},
   "outputs": [
    {
     "ename": "StopIteration",
     "evalue": "",
     "output_type": "error",
     "traceback": [
      "\u001b[1;31m---------------------------------------------------------------------------\u001b[0m",
      "\u001b[1;31mStopIteration\u001b[0m                             Traceback (most recent call last)",
      "\u001b[1;32m<ipython-input-35-61c30b5fe1d5>\u001b[0m in \u001b[0;36m<module>\u001b[1;34m()\u001b[0m\n\u001b[1;32m----> 1\u001b[1;33m \u001b[0mnext\u001b[0m\u001b[1;33m(\u001b[0m\u001b[0ms\u001b[0m\u001b[1;33m)\u001b[0m\u001b[1;33m\u001b[0m\u001b[0m\n\u001b[0m",
      "\u001b[1;31mStopIteration\u001b[0m: "
     ]
    }
   ],
   "source": [
    "next(s)"
   ]
  },
  {
   "cell_type": "code",
   "execution_count": 2,
   "metadata": {},
   "outputs": [
    {
     "name": "stdout",
     "output_type": "stream",
     "text": [
      "H\te\tl\tl\to\t \tW\to\tr\tl\td\t \th\to\tw\t \ta\tr\te\t \ty\to\tu\t \t"
     ]
    }
   ],
   "source": [
    "s = \"Hello World how are you \"\n",
    "for x in s : \n",
    "    print(x,end='\\t')"
   ]
  },
  {
   "cell_type": "code",
   "execution_count": 3,
   "metadata": {},
   "outputs": [
    {
     "name": "stdout",
     "output_type": "stream",
     "text": [
      "['hello', 1, 2, 3, 'hi', 'python', 'java', 'c', 'c++']\n"
     ]
    }
   ],
   "source": [
    "l = [ 'hello',1,2,3,'hi','python','java','c','c++']\n",
    "print(l)"
   ]
  },
  {
   "cell_type": "code",
   "execution_count": 5,
   "metadata": {},
   "outputs": [
    {
     "name": "stdout",
     "output_type": "stream",
     "text": [
      "hello\n",
      "1\n",
      "2\n",
      "3\n",
      "hi\n",
      "python\n",
      "java\n",
      "c\n",
      "c++\n"
     ]
    }
   ],
   "source": [
    "for item in l : \n",
    "    print(item)"
   ]
  },
  {
   "cell_type": "code",
   "execution_count": 7,
   "metadata": {},
   "outputs": [],
   "source": [
    "info = { 'name':'sachin',\n",
    "        'age':22,'country':'india',\n",
    "        'hobby':'cricket','blood_group':'B+ive'}\n"
   ]
  },
  {
   "cell_type": "code",
   "execution_count": 8,
   "metadata": {},
   "outputs": [
    {
     "name": "stdout",
     "output_type": "stream",
     "text": [
      "{'name': 'sachin', 'age': 22, 'country': 'india', 'hobby': 'cricket', 'blood_group': 'B+ive'}\n"
     ]
    }
   ],
   "source": [
    "print(info)"
   ]
  },
  {
   "cell_type": "code",
   "execution_count": 9,
   "metadata": {},
   "outputs": [
    {
     "name": "stdout",
     "output_type": "stream",
     "text": [
      "name\n",
      "age\n",
      "country\n",
      "hobby\n",
      "blood_group\n"
     ]
    }
   ],
   "source": [
    "for something in info : \n",
    "    print(something)"
   ]
  },
  {
   "cell_type": "code",
   "execution_count": 15,
   "metadata": {},
   "outputs": [
    {
     "data": {
      "text/plain": [
       "'B+ive'"
      ]
     },
     "execution_count": 15,
     "metadata": {},
     "output_type": "execute_result"
    }
   ],
   "source": [
    "info['blood_group']"
   ]
  },
  {
   "cell_type": "code",
   "execution_count": 18,
   "metadata": {},
   "outputs": [
    {
     "name": "stdout",
     "output_type": "stream",
     "text": [
      "name = sachin\n",
      "age = 22\n",
      "country = india\n",
      "hobby = cricket\n",
      "blood_group = B+ive\n"
     ]
    }
   ],
   "source": [
    "for key in info : \n",
    "    print(\"{} = {}\".format(key,info[key]))"
   ]
  },
  {
   "cell_type": "code",
   "execution_count": 19,
   "metadata": {},
   "outputs": [
    {
     "name": "stdout",
     "output_type": "stream",
     "text": [
      "5 6\n",
      "6 5\n"
     ]
    }
   ],
   "source": [
    "x = 5\n",
    "y = 6\n",
    "print(x,y)\n",
    "x,y = y,x\n",
    "print(x,y)"
   ]
  },
  {
   "cell_type": "code",
   "execution_count": 20,
   "metadata": {},
   "outputs": [
    {
     "name": "stdout",
     "output_type": "stream",
     "text": [
      "(1, 2, 3, 'hello')\n",
      "<class 'tuple'>\n"
     ]
    }
   ],
   "source": [
    "x = 1,2,3,\"hello\"\n",
    "print(x)\n",
    "print(type(x))"
   ]
  },
  {
   "cell_type": "code",
   "execution_count": 24,
   "metadata": {},
   "outputs": [
    {
     "ename": "TypeError",
     "evalue": "'int' object is not iterable",
     "output_type": "error",
     "traceback": [
      "\u001b[1;31m---------------------------------------------------------------------------\u001b[0m",
      "\u001b[1;31mTypeError\u001b[0m                                 Traceback (most recent call last)",
      "\u001b[1;32m<ipython-input-24-83746461f08e>\u001b[0m in \u001b[0;36m<module>\u001b[1;34m()\u001b[0m\n\u001b[1;32m----> 1\u001b[1;33m \u001b[0mx\u001b[0m\u001b[1;33m,\u001b[0m\u001b[0my\u001b[0m \u001b[1;33m=\u001b[0m \u001b[1;36m45\u001b[0m\u001b[1;33m\u001b[0m\u001b[0m\n\u001b[0m\u001b[0;32m      2\u001b[0m \u001b[0mprint\u001b[0m\u001b[1;33m(\u001b[0m\u001b[0mx\u001b[0m\u001b[1;33m)\u001b[0m\u001b[1;33m\u001b[0m\u001b[0m\n\u001b[0;32m      3\u001b[0m \u001b[0mprint\u001b[0m\u001b[1;33m(\u001b[0m\u001b[0my\u001b[0m\u001b[1;33m)\u001b[0m\u001b[1;33m\u001b[0m\u001b[0m\n\u001b[0;32m      4\u001b[0m \u001b[0mprint\u001b[0m\u001b[1;33m(\u001b[0m\u001b[0mid\u001b[0m\u001b[1;33m(\u001b[0m\u001b[0mx\u001b[0m\u001b[1;33m)\u001b[0m\u001b[1;33m)\u001b[0m\u001b[1;33m\u001b[0m\u001b[0m\n\u001b[0;32m      5\u001b[0m \u001b[0mprint\u001b[0m\u001b[1;33m(\u001b[0m\u001b[0mid\u001b[0m\u001b[1;33m(\u001b[0m\u001b[0my\u001b[0m\u001b[1;33m)\u001b[0m\u001b[1;33m)\u001b[0m\u001b[1;33m\u001b[0m\u001b[0m\n",
      "\u001b[1;31mTypeError\u001b[0m: 'int' object is not iterable"
     ]
    }
   ],
   "source": [
    "x,y = 45\n",
    "print(x)\n",
    "print(y)\n",
    "print(id(x))\n",
    "print(id(y))"
   ]
  },
  {
   "cell_type": "code",
   "execution_count": 25,
   "metadata": {},
   "outputs": [
    {
     "name": "stdout",
     "output_type": "stream",
     "text": [
      "This time v1 = a and v2 = b \n",
      "This time v1 = c and v2 = d \n",
      "This time v1 = e and v2 = f \n",
      "This time v1 = g and v2 = h \n",
      "This time v1 = i and v2 = j \n",
      "This time v1 = k and v2 = l \n"
     ]
    }
   ],
   "source": [
    "l = [ 'ab','cd','ef','gh','ij','kl']\n",
    "for v1,v2 in l : \n",
    "    print(\"This time v1 = {} and v2 = {} \".format(v1,v2))"
   ]
  },
  {
   "cell_type": "code",
   "execution_count": 26,
   "metadata": {},
   "outputs": [],
   "source": [
    "l = [ ('hello','hi'), ('bye','bye'),('python','awesome'),('c','super awesome')]"
   ]
  },
  {
   "cell_type": "code",
   "execution_count": 27,
   "metadata": {},
   "outputs": [
    {
     "name": "stdout",
     "output_type": "stream",
     "text": [
      "[('hello', 'hi'), ('bye', 'bye'), ('python', 'awesome'), ('c', 'super awesome')]\n"
     ]
    }
   ],
   "source": [
    "print(l)"
   ]
  },
  {
   "cell_type": "code",
   "execution_count": 28,
   "metadata": {},
   "outputs": [
    {
     "name": "stdout",
     "output_type": "stream",
     "text": [
      "x = hello and y = hi \n",
      "\n",
      "x = bye and y = bye \n",
      "\n",
      "x = python and y = awesome \n",
      "\n",
      "x = c and y = super awesome \n",
      "\n"
     ]
    }
   ],
   "source": [
    "for x,y in l : \n",
    "    print(\"x = {} and y = {} \".format(x,y),end='\\n\\n')"
   ]
  },
  {
   "cell_type": "code",
   "execution_count": 29,
   "metadata": {},
   "outputs": [
    {
     "data": {
      "text/plain": [
       "dict_items([('name', 'sachin'), ('age', 22), ('country', 'india'), ('hobby', 'cricket'), ('blood_group', 'B+ive')])"
      ]
     },
     "execution_count": 29,
     "metadata": {},
     "output_type": "execute_result"
    }
   ],
   "source": [
    "info.items()"
   ]
  },
  {
   "cell_type": "code",
   "execution_count": 30,
   "metadata": {},
   "outputs": [
    {
     "name": "stdout",
     "output_type": "stream",
     "text": [
      "name = sachin \n",
      "age = 22 \n",
      "country = india \n",
      "hobby = cricket \n",
      "blood_group = B+ive \n"
     ]
    }
   ],
   "source": [
    "for key,value in info.items():\n",
    "    print(\"{} = {} \".format(key,value))"
   ]
  },
  {
   "cell_type": "code",
   "execution_count": 33,
   "metadata": {},
   "outputs": [
    {
     "name": "stdout",
     "output_type": "stream",
     "text": [
      "1, 2, 3, 4\n",
      "\n",
      "5, 6, 7, 8\n",
      "\n",
      "hello, hi, bye, bye\n",
      "\n"
     ]
    }
   ],
   "source": [
    "l = [ (1,2,3,4),(5,6,7,8),('hello','hi','bye','bye')]\n",
    "for p,q,r,s in l : \n",
    "    print(p,q,r,s,sep=', ',end='\\n\\n')"
   ]
  },
  {
   "cell_type": "code",
   "execution_count": 36,
   "metadata": {},
   "outputs": [
    {
     "name": "stdout",
     "output_type": "stream",
     "text": [
      "1, 2, 3, 4, \n",
      "\n",
      "5, 6, 7, 8, \n",
      "\n",
      "hello, hi, bye, bye, \n",
      "\n"
     ]
    }
   ],
   "source": [
    "l = [ (1,2,3,4),(5,6,7,8),('hello','hi','bye','bye')]\n",
    "for var in l : \n",
    "    for value in var : \n",
    "        print(value,end=', ')\n",
    "    print('\\n')"
   ]
  },
  {
   "cell_type": "code",
   "execution_count": 51,
   "metadata": {},
   "outputs": [
    {
     "name": "stdout",
     "output_type": "stream",
     "text": [
      "1 7\n",
      "2 3\n",
      "3 2\n",
      "4 4\n",
      "5 5\n",
      "6 7\n"
     ]
    }
   ],
   "source": [
    "l1 = [ 1,2,3,4,5,6]\n",
    "l2 = [ 7,3,2,4,5,7]\n",
    "\n",
    "for v1,v2 in zip(l1,l2) : \n",
    "    print(v1,v2)"
   ]
  },
  {
   "cell_type": "code",
   "execution_count": 53,
   "metadata": {},
   "outputs": [
    {
     "name": "stdout",
     "output_type": "stream",
     "text": [
      "Hello World 1\n",
      "Hello World 2\n",
      "Hello World 3\n",
      "Hello World 4\n",
      "Hello World 5\n",
      "Hello World 6\n",
      "Hello World 7\n",
      "Hello World 8\n",
      "Hello World 9\n",
      "Hello World 10\n"
     ]
    }
   ],
   "source": [
    "c = 1\n",
    "for kuch_bhi in 'akskdkfkdk' : \n",
    "    print(\"Hello World\",c)\n",
    "    c = c + 1"
   ]
  },
  {
   "cell_type": "code",
   "execution_count": 54,
   "metadata": {},
   "outputs": [
    {
     "name": "stdout",
     "output_type": "stream",
     "text": [
      "Enter a number : 13\n",
      "13x1=13\n",
      "13x2=26\n",
      "13x3=39\n",
      "13x4=52\n",
      "13x5=65\n",
      "13x6=78\n",
      "13x7=91\n",
      "13x8=104\n",
      "13x9=117\n",
      "13x10=130\n"
     ]
    }
   ],
   "source": [
    "num = int(input(\"Enter a number : \"))\n",
    "c = 1\n",
    "for kuch_bhi in 'akskdkfkdk' : \n",
    "    print(\"{}x{}={}\".format(num,c,num*c))\n",
    "    c = c + 1"
   ]
  },
  {
   "cell_type": "code",
   "execution_count": 55,
   "metadata": {},
   "outputs": [
    {
     "name": "stdout",
     "output_type": "stream",
     "text": [
      "Enter a name : sachin\n",
      "Enter a name : rajat\n",
      "Enter a name : nidhi\n",
      "Enter a name : gaurav\n",
      "Enter a name : ravi\n",
      "['sachin', 'rajat', 'nidhi', 'gaurav', 'ravi']\n"
     ]
    }
   ],
   "source": [
    "l = []\n",
    "for var in 'abdad' : \n",
    "    name = input(\"Enter a name : \")\n",
    "    l.append(name)\n",
    "print(l)"
   ]
  },
  {
   "cell_type": "code",
   "execution_count": 59,
   "metadata": {},
   "outputs": [
    {
     "name": "stdout",
     "output_type": "stream",
     "text": [
      "Enter name of person1 : sachin\n",
      "Enter name of person2 : yahoo\n",
      "Enter name of person3 : google\n",
      "Enter name of person4 : facebook\n",
      "Enter name of person5 : grras\n",
      "['sachin', 'yahoo', 'google', 'facebook', 'grras']\n"
     ]
    }
   ],
   "source": [
    "#list compression\n",
    "names = [ input(\"Enter name of person{} : \".format(var)) for var in '12345']\n",
    "print(names)"
   ]
  },
  {
   "cell_type": "code",
   "execution_count": 65,
   "metadata": {},
   "outputs": [
    {
     "name": "stdout",
     "output_type": "stream",
     "text": [
      "Give me an input : hi hello by bye bye \n",
      "['hi', 'hello', 'by', 'bye', 'bye']\n"
     ]
    }
   ],
   "source": [
    "x = input(\"Give me an input : \").split()\n",
    "print(x)"
   ]
  },
  {
   "cell_type": "code",
   "execution_count": 68,
   "metadata": {},
   "outputs": [
    {
     "name": "stdout",
     "output_type": "stream",
     "text": [
      "Enter five names , seprated : sachin,nidhi,rajat,grras,yahoo\n"
     ]
    }
   ],
   "source": [
    "names = input('Enter five names , seprated : ').split(',')"
   ]
  },
  {
   "cell_type": "code",
   "execution_count": 69,
   "metadata": {},
   "outputs": [
    {
     "data": {
      "text/plain": [
       "['sachin', 'nidhi', 'rajat', 'grras', 'yahoo']"
      ]
     },
     "execution_count": 69,
     "metadata": {},
     "output_type": "execute_result"
    }
   ],
   "source": [
    "names"
   ]
  },
  {
   "cell_type": "code",
   "execution_count": 70,
   "metadata": {},
   "outputs": [
    {
     "name": "stdout",
     "output_type": "stream",
     "text": [
      "Enter five numbers space seprated : 1 2 3 4 5 \n",
      "['1', '2', '3', '4', '5']\n"
     ]
    }
   ],
   "source": [
    "five_num = input(\"Enter five numbers space seprated : \").split()\n",
    "print(five_num)"
   ]
  },
  {
   "cell_type": "code",
   "execution_count": 71,
   "metadata": {},
   "outputs": [],
   "source": [
    "n = []\n",
    "for var in five_num : \n",
    "    n.append(int(var))"
   ]
  },
  {
   "cell_type": "code",
   "execution_count": 72,
   "metadata": {},
   "outputs": [
    {
     "data": {
      "text/plain": [
       "[1, 2, 3, 4, 5]"
      ]
     },
     "execution_count": 72,
     "metadata": {},
     "output_type": "execute_result"
    }
   ],
   "source": [
    "n"
   ]
  },
  {
   "cell_type": "code",
   "execution_count": 73,
   "metadata": {},
   "outputs": [
    {
     "name": "stdout",
     "output_type": "stream",
     "text": [
      "Enter five numbers : 1 2 3 4 5\n"
     ]
    }
   ],
   "source": [
    "five_num = list(map(int,input(\"Enter five numbers : \").split()))"
   ]
  },
  {
   "cell_type": "code",
   "execution_count": 74,
   "metadata": {},
   "outputs": [
    {
     "data": {
      "text/plain": [
       "[1, 2, 3, 4, 5]"
      ]
     },
     "execution_count": 74,
     "metadata": {},
     "output_type": "execute_result"
    }
   ],
   "source": [
    "five_num"
   ]
  },
  {
   "cell_type": "code",
   "execution_count": 82,
   "metadata": {},
   "outputs": [
    {
     "name": "stdout",
     "output_type": "stream",
     "text": [
      "12\n",
      "insert 0 5\n",
      "insert 1 10\n",
      "insert 0 6\n",
      "print\n",
      "[6, 5, 10]\n",
      "remove 6\n",
      "append 9\n",
      "append 1\n",
      "sort\n",
      "print\n",
      "[1, 5, 9, 10]\n",
      "pop\n",
      "reverse\n",
      "print\n",
      "[9, 5, 1]\n"
     ]
    }
   ],
   "source": [
    "#Hacker rank question list \n",
    "l = [] \n",
    "for var in range(int(input())): \n",
    "    data = input().split()\n",
    "    if data[0] == 'print' : \n",
    "        print(l)\n",
    "    elif data[0] == 'append' : \n",
    "        l.append(int(data[1]))\n",
    "    elif data[0] == 'insert' : \n",
    "        l.insert(int(data[1]),int(data[2]))\n",
    "    elif data[0] == 'sort' : \n",
    "        l.sort()\n",
    "    elif data[0] == 'reverse' : \n",
    "        l.reverse()\n",
    "    elif data[0] == 'pop' : \n",
    "        l.pop()\n",
    "    elif data[0] == 'remove' : \n",
    "        l.remove(int(data[1]))\n",
    "    "
   ]
  },
  {
   "cell_type": "code",
   "execution_count": 1,
   "metadata": {},
   "outputs": [
    {
     "data": {
      "text/plain": [
       "range(0, 10)"
      ]
     },
     "execution_count": 1,
     "metadata": {},
     "output_type": "execute_result"
    }
   ],
   "source": [
    "range(10)"
   ]
  },
  {
   "cell_type": "code",
   "execution_count": 6,
   "metadata": {},
   "outputs": [
    {
     "data": {
      "text/plain": [
       "[0, 1, 2, 3, 4]"
      ]
     },
     "execution_count": 6,
     "metadata": {},
     "output_type": "execute_result"
    }
   ],
   "source": [
    "x = range(5)\n",
    "list(x)"
   ]
  },
  {
   "cell_type": "code",
   "execution_count": 10,
   "metadata": {},
   "outputs": [
    {
     "name": "stdout",
     "output_type": "stream",
     "text": [
      "[1, 2, 3, 4, 5, 6, 7, 8, 9, 10, 11, 12, 13, 14, 15, 16, 17, 18, 19, 20, 21, 22, 23, 24, 25, 26, 27, 28, 29, 30, 31, 32, 33, 34, 35, 36, 37, 38, 39, 40, 41, 42, 43, 44, 45, 46, 47, 48, 49, 50, 51, 52, 53, 54, 55, 56, 57, 58, 59, 60, 61, 62, 63, 64, 65, 66, 67, 68, 69, 70, 71, 72, 73, 74, 75, 76, 77, 78, 79, 80, 81, 82, 83, 84, 85, 86, 87, 88, 89, 90, 91, 92, 93, 94, 95, 96, 97, 98, 99, 100]\n"
     ]
    }
   ],
   "source": [
    "x = range(1,101)\n",
    "print(list(x))"
   ]
  },
  {
   "cell_type": "code",
   "execution_count": 12,
   "metadata": {},
   "outputs": [
    {
     "name": "stdout",
     "output_type": "stream",
     "text": [
      "[100, 99, 98, 97, 96, 95, 94, 93, 92, 91, 90, 89, 88, 87, 86, 85, 84, 83, 82, 81, 80, 79, 78, 77, 76, 75, 74, 73, 72, 71, 70, 69, 68, 67, 66, 65, 64, 63, 62, 61, 60, 59, 58, 57, 56, 55, 54, 53, 52, 51, 50, 49, 48, 47, 46, 45, 44, 43, 42, 41, 40, 39, 38, 37, 36, 35, 34, 33, 32, 31, 30, 29, 28, 27, 26, 25, 24, 23, 22, 21, 20, 19, 18, 17, 16, 15, 14, 13, 12, 11, 10, 9, 8, 7, 6, 5, 4, 3, 2]\n"
     ]
    }
   ],
   "source": [
    "x = range(100,1,-1)\n",
    "print(list(x))"
   ]
  },
  {
   "cell_type": "code",
   "execution_count": 14,
   "metadata": {},
   "outputs": [
    {
     "name": "stdout",
     "output_type": "stream",
     "text": [
      "13 26 39 52 65 78 91 104 117 130\n"
     ]
    }
   ],
   "source": [
    "x = range(13,131,13)\n",
    "print(*list(x))"
   ]
  },
  {
   "cell_type": "code",
   "execution_count": 21,
   "metadata": {},
   "outputs": [
    {
     "name": "stdout",
     "output_type": "stream",
     "text": [
      "Enter a number : 13\n",
      "13\n",
      "26\n",
      "39\n",
      "52\n",
      "65\n",
      "78\n",
      "91\n",
      "104\n",
      "117\n",
      "130\n"
     ]
    }
   ],
   "source": [
    "num = int(input(\"Enter a number : \"))\n",
    "print(*list(range(num,(num*10)+1,num)),sep='\\n')"
   ]
  },
  {
   "cell_type": "code",
   "execution_count": 26,
   "metadata": {},
   "outputs": [
    {
     "name": "stdout",
     "output_type": "stream",
     "text": [
      "Enter a number : 13\n",
      "13\n",
      "26\n",
      "39\n",
      "52\n",
      "65\n",
      "78\n",
      "91\n",
      "104\n",
      "117\n",
      "130\n",
      "[None, None, None, None, None, None, None, None, None, None]\n"
     ]
    }
   ],
   "source": [
    "num = int(input(\"Enter a number : \"))\n",
    "l = [ print(var) for var in range(num,num*10+1,num)]\n",
    "print(l)"
   ]
  },
  {
   "cell_type": "code",
   "execution_count": 28,
   "metadata": {},
   "outputs": [
    {
     "name": "stdout",
     "output_type": "stream",
     "text": [
      "[48, 76, 82, 44, 95, 98, 34, 28, 19, 33, 32, 6, 50, 92, 92, 41, 16, 14, 27, 91, 54, 48, 32, 17, 24, 35, 3, 98, 8, 52, 29, 87, 81, 67, 28, 88, 98, 79, 39, 67, 64, 85, 31, 88, 75, 20, 41, 74, 2, 77]\n"
     ]
    }
   ],
   "source": [
    "from random import randint\n",
    "l = [ randint(1,100) for var in range(50)]\n",
    "print(l)"
   ]
  },
  {
   "cell_type": "code",
   "execution_count": 29,
   "metadata": {},
   "outputs": [
    {
     "name": "stdout",
     "output_type": "stream",
     "text": [
      "28 73 51 32 73 6 63 68 17 84 54 45 94 9 36 42 58 99 57 91 21 43 43 72 52 13 50 82 80 90 84 74 23 17 98 69 79 79 72 91 30 30 27 1 93 4 2 63 58 60\n"
     ]
    }
   ],
   "source": [
    "from random import randint\n",
    "l  = []\n",
    "for var in range(50) :\n",
    "    random_num = randint(1,100)\n",
    "    l.append(random_num)\n",
    "print(*l)"
   ]
  },
  {
   "cell_type": "code",
   "execution_count": 30,
   "metadata": {},
   "outputs": [
    {
     "data": {
      "text/plain": [
       "[-10, -9, -8, -7, -6, -5, -4, -3, -2]"
      ]
     },
     "execution_count": 30,
     "metadata": {},
     "output_type": "execute_result"
    }
   ],
   "source": [
    "list(range(-10,-1))"
   ]
  },
  {
   "cell_type": "code",
   "execution_count": 32,
   "metadata": {},
   "outputs": [
    {
     "name": "stdout",
     "output_type": "stream",
     "text": [
      "[-3, -6, -9, -12, -15, -18, -21, -24, -27, -30, -33, -36, -39, -42, -45, -48, -51, -54, -57, -60, -63, -66, -69, -72, -75, -78, -81, -84, -87, -90, -93, -96, -99]\n"
     ]
    }
   ],
   "source": [
    "#-1,-100,3\n",
    "l = list(range(-3,-100,-3))\n",
    "print(l)"
   ]
  },
  {
   "cell_type": "code",
   "execution_count": 34,
   "metadata": {},
   "outputs": [
    {
     "name": "stdout",
     "output_type": "stream",
     "text": [
      "Hello World\n",
      "Okay bye now\n"
     ]
    }
   ],
   "source": [
    "from time import sleep\n",
    "print(\"Hello World\")\n",
    "sleep(5)\n",
    "print(\"Okay bye now\")"
   ]
  },
  {
   "cell_type": "code",
   "execution_count": 35,
   "metadata": {},
   "outputs": [],
   "source": [
    "print?"
   ]
  },
  {
   "cell_type": "code",
   "execution_count": 36,
   "metadata": {},
   "outputs": [],
   "source": [
    "def hello(name):\n",
    "    print(\"Welcome\")\n",
    "    print(\"Hello Mr. \",name)\n",
    "    return 'jai ho'\n",
    "\n"
   ]
  },
  {
   "cell_type": "code",
   "execution_count": 37,
   "metadata": {},
   "outputs": [
    {
     "name": "stdout",
     "output_type": "stream",
     "text": [
      "Welcome\n",
      "Hello Mr.  sachin\n"
     ]
    }
   ],
   "source": [
    "st = hello('sachin')"
   ]
  },
  {
   "cell_type": "code",
   "execution_count": 38,
   "metadata": {},
   "outputs": [
    {
     "name": "stdout",
     "output_type": "stream",
     "text": [
      "jai ho\n"
     ]
    }
   ],
   "source": [
    "print(st)"
   ]
  },
  {
   "cell_type": "code",
   "execution_count": null,
   "metadata": {},
   "outputs": [],
   "source": []
  }
 ],
 "metadata": {
  "kernelspec": {
   "display_name": "Python 3",
   "language": "python",
   "name": "python3"
  },
  "language_info": {
   "codemirror_mode": {
    "name": "ipython",
    "version": 3
   },
   "file_extension": ".py",
   "mimetype": "text/x-python",
   "name": "python",
   "nbconvert_exporter": "python",
   "pygments_lexer": "ipython3",
   "version": "3.6.5"
  }
 },
 "nbformat": 4,
 "nbformat_minor": 2
}
