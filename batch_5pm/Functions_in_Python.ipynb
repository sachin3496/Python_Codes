{
 "cells": [
  {
   "cell_type": "markdown",
   "metadata": {},
   "source": [
    "<h1 style='color:red'>What is a function ? </h1>"
   ]
  },
  {
   "cell_type": "code",
   "execution_count": null,
   "metadata": {},
   "outputs": [],
   "source": [
    "s = \"     Hello World    \"\n",
    "k = s.strip()\n",
    "l = s.lower()\n",
    "print(\"{!r}\".format(s))\n",
    "print(k)\n",
    "print(l)"
   ]
  },
  {
   "cell_type": "code",
   "execution_count": null,
   "metadata": {},
   "outputs": [],
   "source": [
    "s = \"     Hello World    \"\n",
    "s = s.strip()\n",
    "s = s.lower()\n",
    "print(\"{!r}\".format(s))\n"
   ]
  },
  {
   "cell_type": "code",
   "execution_count": null,
   "metadata": {},
   "outputs": [],
   "source": [
    "from random import randint\n",
    "x = randint(1,50)"
   ]
  },
  {
   "cell_type": "code",
   "execution_count": 5,
   "metadata": {},
   "outputs": [],
   "source": [
    "def print(arg):\n",
    "    pass"
   ]
  },
  {
   "cell_type": "code",
   "execution_count": 6,
   "metadata": {},
   "outputs": [],
   "source": [
    "print(\"Hello Word'\")"
   ]
  },
  {
   "cell_type": "code",
   "execution_count": null,
   "metadata": {},
   "outputs": [],
   "source": [
    "if = 5"
   ]
  },
  {
   "cell_type": "code",
   "execution_count": 1,
   "metadata": {},
   "outputs": [
    {
     "name": "stdout",
     "output_type": "stream",
     "text": [
      "Hello world\n"
     ]
    }
   ],
   "source": [
    "print(\"Hello world\")"
   ]
  },
  {
   "cell_type": "code",
   "execution_count": 2,
   "metadata": {},
   "outputs": [
    {
     "name": "stdout",
     "output_type": "stream",
     "text": [
      "sachin\n"
     ]
    }
   ],
   "source": [
    "x = input()"
   ]
  },
  {
   "cell_type": "code",
   "execution_count": 6,
   "metadata": {},
   "outputs": [
    {
     "name": "stdout",
     "output_type": "stream",
     "text": [
      "Welcome To Python\n",
      "Hello world this is retrn \n",
      "Enjoy Coding\n"
     ]
    }
   ],
   "source": [
    "data = greeting()\n",
    "print(\"Hello world this is retrn \")\n",
    "print(data)"
   ]
  },
  {
   "cell_type": "code",
   "execution_count": 4,
   "metadata": {},
   "outputs": [
    {
     "name": "stdout",
     "output_type": "stream",
     "text": [
      "hello world : hadksf\n"
     ]
    }
   ],
   "source": [
    "x = input(\"hello world : \")"
   ]
  },
  {
   "cell_type": "code",
   "execution_count": 5,
   "metadata": {},
   "outputs": [
    {
     "data": {
      "text/plain": [
       "'hadksf'"
      ]
     },
     "execution_count": 5,
     "metadata": {},
     "output_type": "execute_result"
    }
   ],
   "source": [
    "x"
   ]
  },
  {
   "cell_type": "code",
   "execution_count": 10,
   "metadata": {},
   "outputs": [],
   "source": [
    "def greeting():\n",
    "    print(\"Welcome To Python\")\n",
    "    return 'Enjoy Coding'\n",
    "    "
   ]
  },
  {
   "cell_type": "code",
   "execution_count": 12,
   "metadata": {},
   "outputs": [
    {
     "name": "stdout",
     "output_type": "stream",
     "text": [
      "Welcome To Python\n",
      "Enjoy Coding\n"
     ]
    }
   ],
   "source": [
    "x = greeting()\n",
    "print(x)"
   ]
  },
  {
   "cell_type": "code",
   "execution_count": 9,
   "metadata": {},
   "outputs": [
    {
     "name": "stdout",
     "output_type": "stream",
     "text": [
      "Enjoy Coding\n"
     ]
    }
   ],
   "source": [
    "def greeting():\n",
    "    return 'Enjoy Coding'\n",
    "    print(\"Welcome To Python\")\n",
    "    \n",
    "x = greeting()\n",
    "print(x)   "
   ]
  },
  {
   "cell_type": "code",
   "execution_count": 14,
   "metadata": {},
   "outputs": [
    {
     "name": "stdout",
     "output_type": "stream",
     "text": [
      "Welcome mr. sachin to the world of python     functions.\n",
      "Whola you have done a great work\n"
     ]
    }
   ],
   "source": [
    "def hello(name):\n",
    "    print(\"Welcome mr. {} to the world of python \\\n",
    "    functions.\".format(name))\n",
    "    return 0\n",
    "if hello('sachin'):\n",
    "    print(\"Function has some serious Issues\")\n",
    "else : \n",
    "    print(\"Whola you have done a great work\")"
   ]
  },
  {
   "cell_type": "code",
   "execution_count": 16,
   "metadata": {},
   "outputs": [
    {
     "name": "stdout",
     "output_type": "stream",
     "text": [
      "Enter a number : 16\n",
      "Given number is EVEN\n"
     ]
    }
   ],
   "source": [
    "def even(var):\n",
    "    if var % 2 : \n",
    "        return ''\n",
    "    else :\n",
    "        return 'a'\n",
    "\n",
    "if even(int(input(\"Enter a number : \"))) :\n",
    "    print(\"Given number is EVEN\")\n",
    "else : \n",
    "    print(\"Given number is ODD\")"
   ]
  },
  {
   "cell_type": "code",
   "execution_count": 18,
   "metadata": {},
   "outputs": [
    {
     "name": "stdout",
     "output_type": "stream",
     "text": [
      "Enter a number : 55\n",
      "Given number is EVEN\n"
     ]
    }
   ],
   "source": [
    "def even(var):\n",
    "    if var % 2 : \n",
    "        return True\n",
    "    else :\n",
    "        return False\n",
    "\n",
    "if even(int(input(\"Enter a number : \"))) :\n",
    "    print(\"Given number is EVEN\")\n",
    "else : \n",
    "    print(\"Given number is ODD\")"
   ]
  },
  {
   "cell_type": "code",
   "execution_count": 20,
   "metadata": {},
   "outputs": [
    {
     "name": "stdout",
     "output_type": "stream",
     "text": [
      "Enter a number : 12\n",
      "Given Number is :  EVEN\n"
     ]
    }
   ],
   "source": [
    "def even(var):\n",
    "    if var % 2 : \n",
    "        return 'ODD'\n",
    "    else :\n",
    "        return 'EVEN'\n",
    "\n",
    "print(\"Given Number is : \",even(int(input(\"Enter a number : \"))))"
   ]
  },
  {
   "cell_type": "code",
   "execution_count": 4,
   "metadata": {},
   "outputs": [
    {
     "name": "stdout",
     "output_type": "stream",
     "text": [
      "Enter number of rows : 10\n",
      "          *\n",
      "         ***\n",
      "        *****\n",
      "       *******\n",
      "      *********\n",
      "     ***********\n",
      "    *************\n",
      "   ***************\n",
      "  *****************\n",
      " *******************\n"
     ]
    }
   ],
   "source": [
    "rows = int(input(\"Enter number of rows : \"))\n",
    "\n",
    "for row in range(rows):\n",
    "    print(\" \"*(rows-row),end='')\n",
    "    print(\"*\"*(2*row+1))\n",
    "    "
   ]
  },
  {
   "cell_type": "code",
   "execution_count": 1,
   "metadata": {},
   "outputs": [],
   "source": [
    "#types of arguments\n",
    "from random import choice\n",
    "def random(a,b,c):\n",
    "    \n",
    "    return choice([ a,b,c ])\n",
    "    \n",
    "    "
   ]
  },
  {
   "cell_type": "code",
   "execution_count": 5,
   "metadata": {},
   "outputs": [
    {
     "name": "stdout",
     "output_type": "stream",
     "text": [
      "hi\n"
     ]
    }
   ],
   "source": [
    "r = random('hello','hi','bye')\n",
    "print(r)"
   ]
  },
  {
   "cell_type": "code",
   "execution_count": 6,
   "metadata": {},
   "outputs": [
    {
     "name": "stdout",
     "output_type": "stream",
     "text": [
      "Help on method choice in module random:\n",
      "\n",
      "choice(seq) method of random.Random instance\n",
      "    Choose a random element from a non-empty sequence.\n",
      "\n"
     ]
    }
   ],
   "source": [
    "help(choice)\n"
   ]
  },
  {
   "cell_type": "code",
   "execution_count": 7,
   "metadata": {},
   "outputs": [
    {
     "name": "stdout",
     "output_type": "stream",
     "text": [
      "Choose a random element from a non-empty sequence.\n"
     ]
    }
   ],
   "source": [
    "print(choice.__doc__)"
   ]
  },
  {
   "cell_type": "code",
   "execution_count": 8,
   "metadata": {},
   "outputs": [
    {
     "name": "stdout",
     "output_type": "stream",
     "text": [
      "Help on function random in module __main__:\n",
      "\n",
      "random(a, b, c)\n",
      "\n"
     ]
    }
   ],
   "source": [
    "help(random)"
   ]
  },
  {
   "cell_type": "code",
   "execution_count": 9,
   "metadata": {},
   "outputs": [],
   "source": [
    "random.__doc__"
   ]
  },
  {
   "cell_type": "code",
   "execution_count": 14,
   "metadata": {},
   "outputs": [],
   "source": [
    "def greatest(x,y,z): \n",
    "    #doc-string\n",
    "    \"\"\"greatest(x,y,z) ---> return greatest among x,y,z\n",
    "    this function takes 3 arguments as x,y,z and than return \n",
    "    greatest among them.\n",
    "    eg. greatest(5,10,8)\n",
    "    [1] 10\n",
    "    \"\"\"\n",
    "    if x >= y and y >= z : \n",
    "        return x\n",
    "    elif y >= x and y >= z : \n",
    "        return y\n",
    "    else : \n",
    "        return z\n",
    "    "
   ]
  },
  {
   "cell_type": "code",
   "execution_count": 15,
   "metadata": {},
   "outputs": [
    {
     "name": "stdout",
     "output_type": "stream",
     "text": [
      "Help on function greatest in module __main__:\n",
      "\n",
      "greatest(x, y, z)\n",
      "    greatest(x,y,z) ---> return greatest among x,y,z\n",
      "    this function takes 3 arguments as x,y,z and than return \n",
      "    greatest among them.\n",
      "    eg. greatest(5,10,8)\n",
      "    [1] 10\n",
      "\n"
     ]
    }
   ],
   "source": [
    "help(greatest)"
   ]
  },
  {
   "cell_type": "code",
   "execution_count": 16,
   "metadata": {},
   "outputs": [
    {
     "name": "stdout",
     "output_type": "stream",
     "text": [
      "greatest(x,y,z) ---> return greatest among x,y,z\n",
      "    this function takes 3 arguments as x,y,z and than return \n",
      "    greatest among them.\n",
      "    eg. greatest(5,10,8)\n",
      "    [1] 10\n",
      "    \n"
     ]
    }
   ],
   "source": [
    "print(greatest.__doc__)"
   ]
  },
  {
   "cell_type": "code",
   "execution_count": 17,
   "metadata": {},
   "outputs": [],
   "source": [
    "r = greatest(10,6,67)"
   ]
  },
  {
   "cell_type": "code",
   "execution_count": 18,
   "metadata": {},
   "outputs": [
    {
     "data": {
      "text/plain": [
       "67"
      ]
     },
     "execution_count": 18,
     "metadata": {},
     "output_type": "execute_result"
    }
   ],
   "source": [
    "r"
   ]
  },
  {
   "cell_type": "code",
   "execution_count": 21,
   "metadata": {},
   "outputs": [],
   "source": [
    "from random import randint\n",
    "\n",
    "random_list = [ randint(1,50) for var in range(50) ]"
   ]
  },
  {
   "cell_type": "code",
   "execution_count": 24,
   "metadata": {},
   "outputs": [
    {
     "name": "stdout",
     "output_type": "stream",
     "text": [
      "[42, 12, 28, 50, 44, 7, 28, 1, 39, 8, 28, 42, 34, 14, 25, 2, 14, 18, 6, 19, 3, 32, 39, 35, 6, 4, 31, 34, 1, 30, 6, 28, 47, 2, 3, 43, 28, 11, 42, 48, 8, 39, 46, 40, 25, 34, 39, 32, 15, 35]\n"
     ]
    },
    {
     "data": {
      "text/plain": [
       "2"
      ]
     },
     "execution_count": 24,
     "metadata": {},
     "output_type": "execute_result"
    }
   ],
   "source": [
    "print(random_list)\n",
    "random_list.count(2)"
   ]
  },
  {
   "cell_type": "code",
   "execution_count": 25,
   "metadata": {},
   "outputs": [],
   "source": [
    "def delete_item(seq,item):\n",
    "    count = seq.count(item)\n",
    "    for var in range(count):\n",
    "        seq.remove(item)\n"
   ]
  },
  {
   "cell_type": "code",
   "execution_count": 26,
   "metadata": {},
   "outputs": [],
   "source": [
    "delete_item(random_list,2)"
   ]
  },
  {
   "cell_type": "code",
   "execution_count": 28,
   "metadata": {},
   "outputs": [
    {
     "name": "stdout",
     "output_type": "stream",
     "text": [
      "[42, 12, 28, 50, 44, 7, 28, 1, 39, 8, 28, 42, 34, 14, 25, 14, 18, 6, 19, 3, 32, 39, 35, 6, 4, 31, 34, 1, 30, 6, 28, 47, 3, 43, 28, 11, 42, 48, 8, 39, 46, 40, 25, 34, 39, 32, 15, 35]\n"
     ]
    }
   ],
   "source": [
    "print(random_list)"
   ]
  },
  {
   "cell_type": "markdown",
   "metadata": {},
   "source": [
    "<h1 style='color:#123456'>Parameter passing</h1>\n",
    "<ol style='color:#123454'>\n",
    "    <li>Positional Arguments</li>\n",
    "    <li>Default Arguments</li>\n",
    "    <li>Keyword Arguments</li>\n",
    "    <li>Variable Length Arguments</li>\n",
    "    </ol>"
   ]
  },
  {
   "cell_type": "code",
   "execution_count": 29,
   "metadata": {},
   "outputs": [],
   "source": [
    "# Positional Arguments\n",
    "\n",
    "def add(a,b,c):\n",
    "    return a+b+c"
   ]
  },
  {
   "cell_type": "code",
   "execution_count": 30,
   "metadata": {},
   "outputs": [],
   "source": [
    "s = add(1,5,7)\n",
    "s1 = add('hello ','world ','how are you')\n",
    "s2 = add([1,2,3],['hi','bye','hello'],[])"
   ]
  },
  {
   "cell_type": "code",
   "execution_count": 31,
   "metadata": {},
   "outputs": [
    {
     "data": {
      "text/plain": [
       "13"
      ]
     },
     "execution_count": 31,
     "metadata": {},
     "output_type": "execute_result"
    }
   ],
   "source": [
    "s"
   ]
  },
  {
   "cell_type": "code",
   "execution_count": 32,
   "metadata": {},
   "outputs": [
    {
     "data": {
      "text/plain": [
       "'hello world how are you'"
      ]
     },
     "execution_count": 32,
     "metadata": {},
     "output_type": "execute_result"
    }
   ],
   "source": [
    "s1"
   ]
  },
  {
   "cell_type": "code",
   "execution_count": 33,
   "metadata": {},
   "outputs": [
    {
     "data": {
      "text/plain": [
       "[1, 2, 3, 'hi', 'bye', 'hello']"
      ]
     },
     "execution_count": 33,
     "metadata": {},
     "output_type": "execute_result"
    }
   ],
   "source": [
    "s2"
   ]
  },
  {
   "cell_type": "code",
   "execution_count": 34,
   "metadata": {},
   "outputs": [],
   "source": [
    "# Positional Arguments\n",
    "\n",
    "def add(a,b,c):\n",
    "    return a+b+c"
   ]
  },
  {
   "cell_type": "code",
   "execution_count": 38,
   "metadata": {},
   "outputs": [
    {
     "ename": "TypeError",
     "evalue": "add() takes 3 positional arguments but 4 were given",
     "output_type": "error",
     "traceback": [
      "\u001b[1;31m---------------------------------------------------------------------------\u001b[0m",
      "\u001b[1;31mTypeError\u001b[0m                                 Traceback (most recent call last)",
      "\u001b[1;32m<ipython-input-38-33ae41f0f966>\u001b[0m in \u001b[0;36m<module>\u001b[1;34m()\u001b[0m\n\u001b[1;32m----> 1\u001b[1;33m \u001b[0mr\u001b[0m \u001b[1;33m=\u001b[0m \u001b[0madd\u001b[0m\u001b[1;33m(\u001b[0m\u001b[1;36m5\u001b[0m\u001b[1;33m,\u001b[0m\u001b[1;36m2\u001b[0m\u001b[1;33m,\u001b[0m\u001b[1;36m1\u001b[0m\u001b[1;33m,\u001b[0m\u001b[1;36m5\u001b[0m\u001b[1;33m)\u001b[0m\u001b[1;33m\u001b[0m\u001b[0m\n\u001b[0m\u001b[0;32m      2\u001b[0m \u001b[0mprint\u001b[0m\u001b[1;33m(\u001b[0m\u001b[0mr\u001b[0m\u001b[1;33m)\u001b[0m\u001b[1;33m\u001b[0m\u001b[0m\n",
      "\u001b[1;31mTypeError\u001b[0m: add() takes 3 positional arguments but 4 were given"
     ]
    }
   ],
   "source": [
    "r = add(5,2,1,5)\n",
    "print(r)"
   ]
  },
  {
   "cell_type": "markdown",
   "metadata": {},
   "source": [
    "##### "
   ]
  },
  {
   "cell_type": "code",
   "execution_count": 41,
   "metadata": {},
   "outputs": [
    {
     "name": "stdout",
     "output_type": "stream",
     "text": [
      "a = 5 , b = 2, c = 0 \n",
      "7\n"
     ]
    }
   ],
   "source": [
    "def add(a,b=0,c=0): #default arguments\n",
    "    print(\"a = {} , b = {}, c = {} \".format(a,b,c))\n",
    "    return a+b+c\n",
    "r = add(5,2)\n",
    "print(r)"
   ]
  },
  {
   "cell_type": "code",
   "execution_count": 44,
   "metadata": {},
   "outputs": [
    {
     "name": "stdout",
     "output_type": "stream",
     "text": [
      "Hello\t\tWorld\t\tHow\t\tare\t\tyou\n"
     ]
    }
   ],
   "source": [
    "print(\"Hello\",\"World\",'How','are','you',sep='\\t\\t')"
   ]
  },
  {
   "cell_type": "code",
   "execution_count": 45,
   "metadata": {},
   "outputs": [],
   "source": [
    "print?"
   ]
  },
  {
   "cell_type": "code",
   "execution_count": 48,
   "metadata": {},
   "outputs": [
    {
     "name": "stdout",
     "output_type": "stream",
     "text": [
      "a = 3 , b = 13, c = 5 \n",
      "21\n"
     ]
    }
   ],
   "source": [
    "#keyword arguments\n",
    "def add(a,b=0,c=0): #default arguments\n",
    "    print(\"a = {} , b = {}, c = {} \".format(a,b,c))\n",
    "    return a+b+c\n",
    "r = add(c=5,a=3,b=13)\n",
    "print(r)\n"
   ]
  },
  {
   "cell_type": "code",
   "execution_count": 50,
   "metadata": {},
   "outputs": [
    {
     "name": "stdout",
     "output_type": "stream",
     "text": [
      "a = 5 , b = 13, c = 3 \n",
      "21\n"
     ]
    }
   ],
   "source": [
    "#keyword arguments\n",
    "def add(a,b=0,c=0): #default arguments\n",
    "    print(\"a = {} , b = {}, c = {} \".format(a,b,c))\n",
    "    return a+b+c\n",
    "r = add(5,c=3,b=13)\n",
    "print(r)\n"
   ]
  },
  {
   "cell_type": "code",
   "execution_count": 51,
   "metadata": {},
   "outputs": [
    {
     "ename": "SyntaxError",
     "evalue": "positional argument follows keyword argument (<ipython-input-51-75243f8be3ef>, line 5)",
     "output_type": "error",
     "traceback": [
      "\u001b[1;36m  File \u001b[1;32m\"<ipython-input-51-75243f8be3ef>\"\u001b[1;36m, line \u001b[1;32m5\u001b[0m\n\u001b[1;33m    r = add(c=3,b=13,5)\u001b[0m\n\u001b[1;37m                    ^\u001b[0m\n\u001b[1;31mSyntaxError\u001b[0m\u001b[1;31m:\u001b[0m positional argument follows keyword argument\n"
     ]
    }
   ],
   "source": [
    "#keyword arguments\n",
    "def add(a,b=0,c=0): #default arguments\n",
    "    print(\"a = {} , b = {}, c = {} \".format(a,b,c))\n",
    "    return a+b+c\n",
    "r = add(c=3,b=13,5)\n",
    "print(r)\n"
   ]
  },
  {
   "cell_type": "code",
   "execution_count": 52,
   "metadata": {},
   "outputs": [
    {
     "ename": "SyntaxError",
     "evalue": "non-default argument follows default argument (<ipython-input-52-3444b925a32f>, line 1)",
     "output_type": "error",
     "traceback": [
      "\u001b[1;36m  File \u001b[1;32m\"<ipython-input-52-3444b925a32f>\"\u001b[1;36m, line \u001b[1;32m1\u001b[0m\n\u001b[1;33m    def add(b=0,x,c=1):\u001b[0m\n\u001b[1;37m           ^\u001b[0m\n\u001b[1;31mSyntaxError\u001b[0m\u001b[1;31m:\u001b[0m non-default argument follows default argument\n"
     ]
    }
   ],
   "source": [
    "def add(b=0,x,c=1):\n",
    "    pass"
   ]
  },
  {
   "cell_type": "code",
   "execution_count": 54,
   "metadata": {},
   "outputs": [
    {
     "data": {
      "text/plain": [
       "3805"
      ]
     },
     "execution_count": 54,
     "metadata": {},
     "output_type": "execute_result"
    }
   ],
   "source": [
    "sum([1,23,23,23,2,32,32,323,2,3,23,23,2,3,2,3,23,2,3232,3,23,2])"
   ]
  },
  {
   "cell_type": "code",
   "execution_count": 55,
   "metadata": {},
   "outputs": [],
   "source": [
    "def my_sum(seq):\n",
    "    result = 0 \n",
    "    for var in seq : \n",
    "        result = result + var\n",
    "    return result\n"
   ]
  },
  {
   "cell_type": "code",
   "execution_count": 57,
   "metadata": {},
   "outputs": [
    {
     "data": {
      "text/plain": [
       "254"
      ]
     },
     "execution_count": 57,
     "metadata": {},
     "output_type": "execute_result"
    }
   ],
   "source": [
    "my_sum([12,3,34,34,4,6,43,42,34,42])"
   ]
  },
  {
   "cell_type": "code",
   "execution_count": 3,
   "metadata": {},
   "outputs": [],
   "source": [
    "# as tuple --> * \n",
    "# as dictionary --> **\n",
    "def add(*args):\n",
    "    result = 0\n",
    "    for var in args : \n",
    "        result += var\n",
    "    return result\n"
   ]
  },
  {
   "cell_type": "code",
   "execution_count": 7,
   "metadata": {},
   "outputs": [
    {
     "data": {
      "text/plain": [
       "6"
      ]
     },
     "execution_count": 7,
     "metadata": {},
     "output_type": "execute_result"
    }
   ],
   "source": [
    "add(1,2,3)"
   ]
  },
  {
   "cell_type": "code",
   "execution_count": 9,
   "metadata": {},
   "outputs": [
    {
     "data": {
      "text/plain": [
       "15"
      ]
     },
     "execution_count": 9,
     "metadata": {},
     "output_type": "execute_result"
    }
   ],
   "source": [
    "t = (1,2,3,4,5)\n",
    "add(*t)"
   ]
  },
  {
   "cell_type": "code",
   "execution_count": 10,
   "metadata": {},
   "outputs": [],
   "source": [
    "#keyworkd arguments ** kwargs"
   ]
  },
  {
   "cell_type": "code",
   "execution_count": 14,
   "metadata": {},
   "outputs": [],
   "source": [
    "def print_dict(**kwargs):\n",
    "    #print(kwargs)\n",
    "    return kwargs"
   ]
  },
  {
   "cell_type": "code",
   "execution_count": 15,
   "metadata": {},
   "outputs": [],
   "source": [
    "my_data = print_dict(name='sachin',age=22,country='india')"
   ]
  },
  {
   "cell_type": "code",
   "execution_count": 16,
   "metadata": {},
   "outputs": [
    {
     "data": {
      "text/plain": [
       "{'name': 'sachin', 'age': 22, 'country': 'india'}"
      ]
     },
     "execution_count": 16,
     "metadata": {},
     "output_type": "execute_result"
    }
   ],
   "source": [
    "my_data"
   ]
  },
  {
   "cell_type": "code",
   "execution_count": 17,
   "metadata": {},
   "outputs": [],
   "source": [
    "def print_dict(**kwargs):\n",
    "    #print(kwargs)\n",
    "    for key,value in kwargs.items() :\n",
    "        print(\"{key} = {value}\".format(key=key,value=value))"
   ]
  },
  {
   "cell_type": "code",
   "execution_count": 24,
   "metadata": {},
   "outputs": [],
   "source": [
    "l1 = list(range(1,100))\n",
    "l2 = list(range(100,1,-1))\n",
    "if len(l1) == len(l2) : \n",
    "    data = dict(zip(l1,l2))\n",
    "else : \n",
    "    print(\"Error!!both list are not have same length\")\n"
   ]
  },
  {
   "cell_type": "code",
   "execution_count": 30,
   "metadata": {},
   "outputs": [
    {
     "ename": "TypeError",
     "evalue": "print_dict() keywords must be strings",
     "output_type": "error",
     "traceback": [
      "\u001b[1;31m---------------------------------------------------------------------------\u001b[0m",
      "\u001b[1;31mTypeError\u001b[0m                                 Traceback (most recent call last)",
      "\u001b[1;32m<ipython-input-30-360c593f7873>\u001b[0m in \u001b[0;36m<module>\u001b[1;34m()\u001b[0m\n\u001b[1;32m----> 1\u001b[1;33m \u001b[0mprint_dict\u001b[0m\u001b[1;33m(\u001b[0m\u001b[1;33m**\u001b[0m\u001b[0mdata\u001b[0m\u001b[1;33m)\u001b[0m\u001b[1;33m\u001b[0m\u001b[0m\n\u001b[0m",
      "\u001b[1;31mTypeError\u001b[0m: print_dict() keywords must be strings"
     ]
    }
   ],
   "source": [
    "print_dict(**data)"
   ]
  },
  {
   "cell_type": "code",
   "execution_count": 31,
   "metadata": {},
   "outputs": [],
   "source": [
    "info = { 'name':'sachin','age':22,'country':'india','education':'b.tech'}"
   ]
  },
  {
   "cell_type": "code",
   "execution_count": 33,
   "metadata": {},
   "outputs": [
    {
     "name": "stdout",
     "output_type": "stream",
     "text": [
      "name = sachin\n",
      "age = 22\n",
      "country = india\n",
      "education = b.tech\n"
     ]
    }
   ],
   "source": [
    "print_dict(**info)"
   ]
  },
  {
   "cell_type": "markdown",
   "metadata": {},
   "source": [
    "<h1 style='color:red'>Var length Arguments</h1>"
   ]
  },
  {
   "cell_type": "code",
   "execution_count": 2,
   "metadata": {},
   "outputs": [
    {
     "name": "stdout",
     "output_type": "stream",
     "text": [
      "sum =  12\n",
      "sum =  17\n",
      "sum =  6\n"
     ]
    }
   ],
   "source": [
    "def sum(a,b=0,c=0):\n",
    "    print(\"sum = \",a+b+c) \n",
    "\n",
    "sum(12)\n",
    "sum(12,c=5)\n",
    "sum(1,2,3)\n",
    "    "
   ]
  },
  {
   "cell_type": "code",
   "execution_count": 4,
   "metadata": {},
   "outputs": [],
   "source": [
    "def sum(*args):\n",
    "    \"example of var length of arguments.\"\n",
    "    print(\"type of args = \",type(args))\n",
    "    print(\"Value of args = \",args)"
   ]
  },
  {
   "cell_type": "code",
   "execution_count": 5,
   "metadata": {},
   "outputs": [
    {
     "name": "stdout",
     "output_type": "stream",
     "text": [
      "type of args =  <class 'tuple'>\n",
      "Value of args =  (1, 2, 3)\n"
     ]
    }
   ],
   "source": [
    "sum(1,2,3)"
   ]
  },
  {
   "cell_type": "code",
   "execution_count": 6,
   "metadata": {},
   "outputs": [
    {
     "name": "stdout",
     "output_type": "stream",
     "text": [
      "type of args =  <class 'tuple'>\n",
      "Value of args =  ()\n"
     ]
    }
   ],
   "source": [
    "sum()"
   ]
  },
  {
   "cell_type": "code",
   "execution_count": 12,
   "metadata": {},
   "outputs": [],
   "source": [
    "def squre(*items):\n",
    "    print(items)\n",
    "    for item in items : \n",
    "        print(\"squre of {} = {}\".format(item,item**2))\n",
    "    "
   ]
  },
  {
   "cell_type": "code",
   "execution_count": 13,
   "metadata": {},
   "outputs": [
    {
     "name": "stdout",
     "output_type": "stream",
     "text": [
      "(1, 2, 3, 4)\n",
      "squre of 1 = 1\n",
      "squre of 2 = 4\n",
      "squre of 3 = 9\n",
      "squre of 4 = 16\n"
     ]
    }
   ],
   "source": [
    "squre(1,2,3,4)"
   ]
  },
  {
   "cell_type": "code",
   "execution_count": 14,
   "metadata": {},
   "outputs": [
    {
     "name": "stdout",
     "output_type": "stream",
     "text": [
      "[0, 1, 2, 3, 4, 5, 6, 7, 8, 9, 10, 11, 12, 13, 14, 15, 16, 17, 18, 19]\n"
     ]
    }
   ],
   "source": [
    "l = list(range(20))\n",
    "print(l)"
   ]
  },
  {
   "cell_type": "code",
   "execution_count": 16,
   "metadata": {},
   "outputs": [
    {
     "name": "stdout",
     "output_type": "stream",
     "text": [
      "(0, 1, 2, 3, 4, 5, 6, 7, 8, 9, 10, 11, 12, 13, 14, 15, 16, 17, 18, 19)\n",
      "squre of 0 = 0\n",
      "squre of 1 = 1\n",
      "squre of 2 = 4\n",
      "squre of 3 = 9\n",
      "squre of 4 = 16\n",
      "squre of 5 = 25\n",
      "squre of 6 = 36\n",
      "squre of 7 = 49\n",
      "squre of 8 = 64\n",
      "squre of 9 = 81\n",
      "squre of 10 = 100\n",
      "squre of 11 = 121\n",
      "squre of 12 = 144\n",
      "squre of 13 = 169\n",
      "squre of 14 = 196\n",
      "squre of 15 = 225\n",
      "squre of 16 = 256\n",
      "squre of 17 = 289\n",
      "squre of 18 = 324\n",
      "squre of 19 = 361\n"
     ]
    }
   ],
   "source": [
    "squre(*l)"
   ]
  },
  {
   "cell_type": "code",
   "execution_count": 18,
   "metadata": {},
   "outputs": [],
   "source": [
    "def test(*args):\n",
    "    if len(args) == 1 : \n",
    "        print(\"line\")\n",
    "    elif len(args) == 2 : \n",
    "        print(\"Parallel lines\")\n",
    "    elif len(args) == 3 : \n",
    "        print(\"Triangle\")\n",
    "    elif len(args) == 4 : \n",
    "        print(\"Squre\")\n",
    "    elif len(args) == 0 : \n",
    "        print(\"Please provide at least one arguments\")\n",
    "    else :\n",
    "        print(\"Polygon\")"
   ]
  },
  {
   "cell_type": "code",
   "execution_count": 19,
   "metadata": {},
   "outputs": [
    {
     "name": "stdout",
     "output_type": "stream",
     "text": [
      "Please provide at least one arguments\n",
      "line\n",
      "Parallel lines\n",
      "Triangle\n",
      "Squre\n",
      "Polygon\n"
     ]
    }
   ],
   "source": [
    "test()\n",
    "test(1)\n",
    "test('hello',1)\n",
    "test('a','b','c')\n",
    "test(1,2,3,4)\n",
    "test(1,23,24,54,5,34,34342423323,323)"
   ]
  },
  {
   "cell_type": "code",
   "execution_count": 23,
   "metadata": {},
   "outputs": [
    {
     "name": "stdout",
     "output_type": "stream",
     "text": [
      "Enter number of inputs : 2\n",
      "Enter value number 1 : f\n",
      "Enter value number 2 : g\n",
      "Parallel lines\n"
     ]
    }
   ],
   "source": [
    "n = int(input(\"Enter number of inputs : \"))\n",
    "l = []\n",
    "for var in range(n):\n",
    "    l.append(input(\"Enter value number {} : \".format(var+1)))\n",
    "test(*l)"
   ]
  },
  {
   "cell_type": "code",
   "execution_count": 24,
   "metadata": {},
   "outputs": [],
   "source": [
    "def data(**kwargs):\n",
    "    print(\"Type of kwargs = \",type(kwargs))\n",
    "    print(\"Value of kwargs\",kwargs)"
   ]
  },
  {
   "cell_type": "code",
   "execution_count": 26,
   "metadata": {},
   "outputs": [
    {
     "name": "stdout",
     "output_type": "stream",
     "text": [
      "Type of kwargs =  <class 'dict'>\n",
      "Value of kwargs {'one': 'hi', 'two': 'hello', 'three': 'how are you'}\n"
     ]
    }
   ],
   "source": [
    "data(one='hi',two='hello',three='how are you')"
   ]
  },
  {
   "cell_type": "code",
   "execution_count": 27,
   "metadata": {},
   "outputs": [],
   "source": [
    "def info(**kwargs):\n",
    "    for key,value in kwargs.items() : \n",
    "        print(\"\\t\\t{} = {} \".format(key,value))"
   ]
  },
  {
   "cell_type": "code",
   "execution_count": 28,
   "metadata": {},
   "outputs": [
    {
     "name": "stdout",
     "output_type": "stream",
     "text": [
      "\t\tname = python \n",
      "\t\tversion = 3.6 \n",
      "\t\tfather = Guido Van Rossum \n"
     ]
    }
   ],
   "source": [
    "info(name='python',version=3.6,father='Guido Van Rossum')"
   ]
  },
  {
   "cell_type": "code",
   "execution_count": 29,
   "metadata": {},
   "outputs": [],
   "source": [
    "d = { 'a':'b','b':'c','name':['python','hello','hi']}"
   ]
  },
  {
   "cell_type": "code",
   "execution_count": 31,
   "metadata": {},
   "outputs": [
    {
     "name": "stdout",
     "output_type": "stream",
     "text": [
      "\t\ta = b \n",
      "\t\tb = c \n",
      "\t\tname = ['python', 'hello', 'hi'] \n"
     ]
    }
   ],
   "source": [
    "info(**d)"
   ]
  },
  {
   "cell_type": "code",
   "execution_count": 40,
   "metadata": {},
   "outputs": [
    {
     "name": "stdout",
     "output_type": "stream",
     "text": [
      "Positional argument is  =  hi\n",
      "Default argument is =  1\n",
      "VAlues give as var-length tuple argument is \n",
      "*var[1] = 2 \n",
      "*var[2] = 3 \n",
      "*var[3] = 4 \n",
      "*var[4] = 5 \n",
      "*var[5] = 3 \n",
      "*var[6] = 32 \n",
      "KWARGS values  = \n",
      "name = python\n",
      "version = 3.6\n"
     ]
    }
   ],
   "source": [
    "def last_fun(pos,default=None,*args,**kwargs):\n",
    "    print(\"Positional argument is  = \",pos)\n",
    "    print(\"Default argument is = \",default)\n",
    "    print(\"VAlues give as var-length tuple argument is \")\n",
    "    for var in range(len(args)):\n",
    "        print(\"*var[{}] = {} \".format(var+1,args[var]))\n",
    "    print(\"KWARGS values  = \")\n",
    "    for key,value in kwargs.items():\n",
    "        print(\"{} = {}\".format(key,value))\n",
    "    \n",
    "last_fun('hi',1,2,3,4,5,3,32,name='python',version=3.6)"
   ]
  },
  {
   "cell_type": "code",
   "execution_count": 44,
   "metadata": {},
   "outputs": [
    {
     "name": "stdout",
     "output_type": "stream",
     "text": [
      "even_odd(value)--> True/False\n",
      "    this function will return True if value is even\n",
      "    else it will return False.\n",
      "    \n",
      "Enter a value : 33\n",
      "Number is odd.\n"
     ]
    }
   ],
   "source": [
    "def even_odd(value):\n",
    "    \"\"\"even_odd(value)--> True/False\n",
    "    this function will return True if value is even\n",
    "    else it will return False.\n",
    "    \"\"\"\n",
    "    if value % 2 : \n",
    "        return False \n",
    "    else : \n",
    "        return True\n",
    "print(even_odd.__doc__)\n",
    "    \n",
    "if even_odd(int(input(\"Enter a value : \"))) : \n",
    "    print(\"Number is even.\")\n",
    "else : \n",
    "    print(\"Number is odd.\")"
   ]
  },
  {
   "cell_type": "code",
   "execution_count": 51,
   "metadata": {},
   "outputs": [
    {
     "name": "stdout",
     "output_type": "stream",
     "text": [
      "[None, 2, None, 4, None, 6, None, 8, None, 10, None, 12, None, 14, None, 16, None, 18, None, 20, None, 22, None, 24, None, 26, None, 28, None, 30, None, 32, None, 34, None, 36, None, 38, None, 40, None, 42, None, 44, None, 46, None, 48, None, 50, None, 52, None, 54, None, 56, None, 58, None, 60, None, 62, None, 64, None, 66, None, 68, None, 70, None, 72, None, 74, None, 76, None, 78, None, 80, None, 82, None, 84, None, 86, None, 88, None, 90, None, 92, None, 94, None, 96, None, 98, None]\n"
     ]
    }
   ],
   "source": [
    "#ternary operator\n",
    "\n",
    "#syntax value1 if True else value2\n",
    "\n",
    "even_range =  [  var if var % 2 == 0 else None for var in range(1,100) ] \n",
    "print(even_range)"
   ]
  },
  {
   "cell_type": "code",
   "execution_count": 55,
   "metadata": {},
   "outputs": [],
   "source": [
    "#syntax fun_name = lambda arg1,arg2 : value1 if cond. else value2\n",
    "\n",
    "simple = lambda a,b,c:[a,b,c]"
   ]
  },
  {
   "cell_type": "code",
   "execution_count": 56,
   "metadata": {},
   "outputs": [],
   "source": [
    "k = simple(1,2,3)"
   ]
  },
  {
   "cell_type": "code",
   "execution_count": 57,
   "metadata": {},
   "outputs": [
    {
     "data": {
      "text/plain": [
       "[1, 2, 3]"
      ]
     },
     "execution_count": 57,
     "metadata": {},
     "output_type": "execute_result"
    }
   ],
   "source": [
    "k"
   ]
  },
  {
   "cell_type": "code",
   "execution_count": 59,
   "metadata": {},
   "outputs": [
    {
     "name": "stdout",
     "output_type": "stream",
     "text": [
      "{'name': 'python', 'father': 'Guido Van Rossum'}\n"
     ]
    }
   ],
   "source": [
    "info = lambda key1,value1,key2,value2:{ key1:value1,key2:value2}\n",
    "\n",
    "data  = info(\"name\",\"python\",\"father\",\"Guido Van Rossum\")\n",
    "print(data)"
   ]
  },
  {
   "cell_type": "code",
   "execution_count": 63,
   "metadata": {},
   "outputs": [],
   "source": [
    "even_odd = lambda value : True if value % 2 == 0 else False "
   ]
  },
  {
   "cell_type": "code",
   "execution_count": 65,
   "metadata": {},
   "outputs": [
    {
     "data": {
      "text/plain": [
       "True"
      ]
     },
     "execution_count": 65,
     "metadata": {},
     "output_type": "execute_result"
    }
   ],
   "source": [
    "even_odd(12)"
   ]
  },
  {
   "cell_type": "code",
   "execution_count": 67,
   "metadata": {},
   "outputs": [
    {
     "name": "stdout",
     "output_type": "stream",
     "text": [
      "Enter space separted values : 1 2 3 4 5 6 7 8 9 10 11 12 13\n",
      "['1', '2', '3', '4', '5', '6', '7', '8', '9', '10', '11', '12', '13']\n",
      "[1, 2, 3, 4, 5, 6, 7, 8, 9, 10, 11, 12, 13]\n"
     ]
    }
   ],
   "source": [
    "data = input(\"Enter space separted values : \").split()\n",
    "print(data)\n",
    "new_data = []\n",
    "for value in data : \n",
    "    new_data.append(int(value))\n",
    "print(new_data"
   ]
  },
  {
   "cell_type": "code",
   "execution_count": 69,
   "metadata": {},
   "outputs": [
    {
     "name": "stdout",
     "output_type": "stream",
     "text": [
      "Enter space separted values : 1 2 3 4 5 7 8 34 332 32 3\n",
      "['1', '2', '3', '4', '5', '7', '8', '34', '332', '32', '3']\n",
      "[1, 2, 3, 4, 5, 7, 8, 34, 332, 32, 3]\n"
     ]
    }
   ],
   "source": [
    "data = input(\"Enter space separted values : \").split()\n",
    "print(data)\n",
    "new_data = list(map(int,data))\n",
    "print(new_data)"
   ]
  },
  {
   "cell_type": "code",
   "execution_count": 72,
   "metadata": {},
   "outputs": [
    {
     "name": "stdout",
     "output_type": "stream",
     "text": [
      "1 2 3 4 5 5\n",
      "[1, 2, 3, 4, 5, 5]\n"
     ]
    }
   ],
   "source": [
    "data = list(map(int,input().split()))\n",
    "print(data)"
   ]
  },
  {
   "cell_type": "code",
   "execution_count": 76,
   "metadata": {},
   "outputs": [
    {
     "name": "stdout",
     "output_type": "stream",
     "text": [
      "12.34+5j\n"
     ]
    },
    {
     "data": {
      "text/plain": [
       "(12.34+5j)"
      ]
     },
     "execution_count": 76,
     "metadata": {},
     "output_type": "execute_result"
    }
   ],
   "source": [
    "eval(input())"
   ]
  },
  {
   "cell_type": "code",
   "execution_count": 77,
   "metadata": {},
   "outputs": [
    {
     "name": "stdout",
     "output_type": "stream",
     "text": [
      "1 3.12 4+5j 1 123  32 32 34.34 23.0\n"
     ]
    }
   ],
   "source": [
    "data = list(map(eval,input().split()))"
   ]
  },
  {
   "cell_type": "code",
   "execution_count": 78,
   "metadata": {},
   "outputs": [
    {
     "data": {
      "text/plain": [
       "[1, 3.12, (4+5j), 1, 123, 32, 32, 34.34, 23.0]"
      ]
     },
     "execution_count": 78,
     "metadata": {},
     "output_type": "execute_result"
    }
   ],
   "source": [
    "data"
   ]
  },
  {
   "cell_type": "code",
   "execution_count": 79,
   "metadata": {},
   "outputs": [
    {
     "data": {
      "text/plain": [
       "['h', 'n', 'o', 'p', 't', 'y']"
      ]
     },
     "execution_count": 79,
     "metadata": {},
     "output_type": "execute_result"
    }
   ],
   "source": [
    "sorted('python')"
   ]
  },
  {
   "cell_type": "code",
   "execution_count": 81,
   "metadata": {},
   "outputs": [
    {
     "data": {
      "text/plain": [
       "[1, 2, 3, 4, 5, 6, 23, 34]"
      ]
     },
     "execution_count": 81,
     "metadata": {},
     "output_type": "execute_result"
    }
   ],
   "source": [
    "sorted([1,23,2,34,3,4,5,6])"
   ]
  },
  {
   "cell_type": "code",
   "execution_count": 85,
   "metadata": {},
   "outputs": [
    {
     "name": "stdout",
     "output_type": "stream",
     "text": [
      "1 23 45 34 25  24 3 23 5  35 44 32 432 432 434\n",
      "[1, 23, 45, 34, 25, 24, 3, 23, 5, 35, 44, 32, 432, 432, 434]\n",
      "[False, False, False, True, False, True, False, False, False, False, True, True, True, True, True]\n",
      "[(1, False), (23, False), (45, False), (34, True), (25, False), (24, True), (3, False), (23, False), (5, False), (35, False), (44, True), (32, True), (432, True), (432, True), (434, True)]\n"
     ]
    }
   ],
   "source": [
    "l = list(map(int,input().split()))\n",
    "even = list(map(lambda value : True if value % 2 == 0 else False,l))\n",
    "print(l)\n",
    "print(even)\n",
    "print(list(zip(l,even)))"
   ]
  },
  {
   "cell_type": "code",
   "execution_count": 87,
   "metadata": {},
   "outputs": [
    {
     "name": "stdout",
     "output_type": "stream",
     "text": [
      "12 323 2 32 33 213 123 21\n",
      "[12, 323, 2, 32, 33, 213, 123, 21]\n",
      "[12, 2, 32]\n"
     ]
    }
   ],
   "source": [
    "l = list(map(int,input().split()))\n",
    "even = list(filter(lambda value : True if value % 2 == 0 else False,l))\n",
    "print(l)\n",
    "print(even)"
   ]
  },
  {
   "cell_type": "code",
   "execution_count": 88,
   "metadata": {},
   "outputs": [
    {
     "name": "stdout",
     "output_type": "stream",
     "text": [
      "X : 234 34 34 124 3\n",
      "Y : 3 5 23 45 23\n",
      "[234, 34, 34, 124, 3]\n",
      "[3, 5, 23, 45, 23]\n"
     ]
    }
   ],
   "source": [
    "x = list(map(int,input(\"X : \").split()))\n",
    "y = list(map(int,input(\"Y : \").split()))\n",
    "print(x)\n",
    "print(y)\n",
    "z = list(map(lambda a,b :a**2+b**2,x,y))"
   ]
  },
  {
   "cell_type": "code",
   "execution_count": 90,
   "metadata": {},
   "outputs": [
    {
     "name": "stdout",
     "output_type": "stream",
     "text": [
      "[54765, 1181, 1685, 17401, 538]\n",
      "[234.01922997907673, 34.36568055487916, 41.048751503547585, 131.91285001848757, 23.194827009486403]\n"
     ]
    }
   ],
   "source": [
    "print(z)\n",
    "from math import sqrt\n",
    "r = list(map(sqrt,z))\n",
    "print(r)"
   ]
  },
  {
   "cell_type": "code",
   "execution_count": 1,
   "metadata": {},
   "outputs": [
    {
     "name": "stdout",
     "output_type": "stream",
     "text": [
      "1 2 3 4 5\n",
      "[1, 2, 3, 4, 5]\n",
      "Squre list  [1, 4, 9, 16, 25]\n",
      "55\n"
     ]
    }
   ],
   "source": [
    "value = list(map(int,input().split()))\n",
    "print(value)\n",
    "l = []\n",
    "for var in value : \n",
    "    l.append(var**2)\n",
    "print(\"Squre list \",l)\n",
    "print(sum(l))\n"
   ]
  },
  {
   "cell_type": "code",
   "execution_count": 14,
   "metadata": {},
   "outputs": [
    {
     "name": "stdout",
     "output_type": "stream",
     "text": [
      "1 2 3 4 5\n",
      "[1, 4, 9, 16, 25]\n",
      "sum =  55\n"
     ]
    }
   ],
   "source": [
    "from functools import reduce\n",
    "value = list(map(lambda x:x**2,map(int,input().split())))\n",
    "print(value)\n",
    "print(\"sum = \",reduce(lambda x,y:x+y,value))\n"
   ]
  },
  {
   "cell_type": "code",
   "execution_count": null,
   "metadata": {},
   "outputs": [],
   "source": [
    "#syntax fun_name = lambda arg1,arg2 : value1 if cond. else value2"
   ]
  },
  {
   "cell_type": "code",
   "execution_count": 3,
   "metadata": {},
   "outputs": [
    {
     "name": "stdout",
     "output_type": "stream",
     "text": [
      "Enter your argumentlakjsdf\n",
      "foo|bar\n"
     ]
    }
   ],
   "source": [
    "def check(arg):\n",
    "    if arg.lower().strip() == 'foo' : \n",
    "        return 'bar'\n",
    "    elif arg.lower().strip() == 'bar' : \n",
    "        return 'foo'\n",
    "    else  : \n",
    "        return 'foo|bar'\n",
    "    \n",
    "result = check(input(\"Enter your argument\"))\n",
    "print(result)"
   ]
  },
  {
   "cell_type": "code",
   "execution_count": 4,
   "metadata": {},
   "outputs": [],
   "source": [
    "check = lambda arg : 'foo' if arg.lower().strip() == 'bar' \\\n",
    "else ( 'bar' if arg.lower().strip() == 'foo' else 'foo|bar' )"
   ]
  },
  {
   "cell_type": "code",
   "execution_count": 5,
   "metadata": {},
   "outputs": [
    {
     "data": {
      "text/plain": [
       "'foo'"
      ]
     },
     "execution_count": 5,
     "metadata": {},
     "output_type": "execute_result"
    }
   ],
   "source": [
    "check('bar')"
   ]
  },
  {
   "cell_type": "code",
   "execution_count": 6,
   "metadata": {},
   "outputs": [
    {
     "data": {
      "text/plain": [
       "'bar'"
      ]
     },
     "execution_count": 6,
     "metadata": {},
     "output_type": "execute_result"
    }
   ],
   "source": [
    "check('foo')"
   ]
  },
  {
   "cell_type": "code",
   "execution_count": 7,
   "metadata": {},
   "outputs": [
    {
     "data": {
      "text/plain": [
       "'foo|bar'"
      ]
     },
     "execution_count": 7,
     "metadata": {},
     "output_type": "execute_result"
    }
   ],
   "source": [
    "check('foo|bar')"
   ]
  },
  {
   "cell_type": "raw",
   "metadata": {},
   "source": [
    "if cond : \n",
    "    st1\n",
    "else :\n",
    "    st2\n",
    "#single \n",
    "st1 if cond else st2 "
   ]
  },
  {
   "cell_type": "raw",
   "metadata": {},
   "source": [
    "if cond1 : \n",
    "    st1\n",
    "else :\n",
    "    if cond2 :\n",
    "        st2\n",
    "    else :\n",
    "        st3\n",
    "        \n",
    "single line\n",
    "\n",
    "st1 if cond1 else ( st2 if cond2 else st3 )"
   ]
  },
  {
   "cell_type": "code",
   "execution_count": 19,
   "metadata": {},
   "outputs": [
    {
     "name": "stdout",
     "output_type": "stream",
     "text": [
      "123 23 1\n",
      "123\n"
     ]
    }
   ],
   "source": [
    "greatest = lambda a,b,c : a if a >= b and a >= c \\\n",
    "else ( b if b >= a and b >= c else c ) \n",
    "#num = input().split()\n",
    "#print(num)\n",
    "#num = list(map(int,num))\n",
    "#print(num)\n",
    "#num = list(map(int,input().split()))\n",
    "#r = greatest(*num)\n",
    "r = greatest(*list(map(int,input().split())))\n",
    "print(r)"
   ]
  },
  {
   "cell_type": "code",
   "execution_count": 10,
   "metadata": {},
   "outputs": [
    {
     "name": "stdout",
     "output_type": "stream",
     "text": [
      "1 2 5 34 2 32 3 23\n",
      "['1', '2', '5', '34', '2', '32', '3', '23']\n"
     ]
    }
   ],
   "source": [
    "a = input().split()\n",
    "print(a)"
   ]
  },
  {
   "cell_type": "code",
   "execution_count": 33,
   "metadata": {},
   "outputs": [
    {
     "data": {
      "text/plain": [
       "17"
      ]
     },
     "execution_count": 33,
     "metadata": {},
     "output_type": "execute_result"
    }
   ],
   "source": [
    "from math import sqrt\n",
    "def prime(num):\n",
    "    sq_num = round(sqrt(num))\n",
    "    for var in range(2,sq_num+1) : \n",
    "        if num % var == 0 :\n",
    "            return 0\n",
    "    else : \n",
    "        return num\n",
    "\n",
    "prime(17)"
   ]
  },
  {
   "cell_type": "code",
   "execution_count": 36,
   "metadata": {},
   "outputs": [
    {
     "name": "stdout",
     "output_type": "stream",
     "text": [
      "9967 1021 7027 7951 4177 3631 4297 9323 5879 911\n"
     ]
    },
    {
     "data": {
      "text/plain": [
       "''"
      ]
     },
     "execution_count": 36,
     "metadata": {},
     "output_type": "execute_result"
    }
   ],
   "source": [
    "from random import randint\n",
    "l = [ randint(1,10000) for var in range(100) ]\n",
    "\n",
    "#prime_list = list(map(prime,l))\n",
    "prime_list = list(filter(prime,l))\n",
    "print(*prime_list)\n",
    "\n",
    "\"\"\"\n",
    "print(*l)\n",
    "print(\"Total number = \",len(l))\n",
    "c = 0\n",
    "for var in l : \n",
    "    if prime(var) : \n",
    "        c = c + 1\n",
    "        print(var,end='\\t')\n",
    "print(\"Total prime found = \",c)\n",
    "\"\"\"\n",
    "''"
   ]
  },
  {
   "cell_type": "code",
   "execution_count": 41,
   "metadata": {},
   "outputs": [
    {
     "data": {
      "text/plain": [
       "120"
      ]
     },
     "execution_count": 41,
     "metadata": {},
     "output_type": "execute_result"
    }
   ],
   "source": [
    "#recursion\n",
    "def fact(num):\n",
    "    if num == 1 : \n",
    "        return 1\n",
    "    else :\n",
    "        return num*fact(num-1)\n",
    "fact(5)"
   ]
  },
  {
   "cell_type": "code",
   "execution_count": 43,
   "metadata": {},
   "outputs": [
    {
     "ename": "SyntaxError",
     "evalue": "can't assign to literal (<ipython-input-43-3162e36f1e62>, line 2)",
     "output_type": "error",
     "traceback": [
      "\u001b[1;36m  File \u001b[1;32m\"<ipython-input-43-3162e36f1e62>\"\u001b[1;36m, line \u001b[1;32m2\u001b[0m\n\u001b[1;33m    5 = 'hi'\u001b[0m\n\u001b[1;37m            ^\u001b[0m\n\u001b[1;31mSyntaxError\u001b[0m\u001b[1;31m:\u001b[0m can't assign to literal\n"
     ]
    }
   ],
   "source": [
    "print(\"helooo world\")\n",
    "5 = 'hi'"
   ]
  },
  {
   "cell_type": "code",
   "execution_count": 44,
   "metadata": {},
   "outputs": [
    {
     "ename": "ZeroDivisionError",
     "evalue": "division by zero",
     "output_type": "error",
     "traceback": [
      "\u001b[1;31m---------------------------------------------------------------------------\u001b[0m",
      "\u001b[1;31mZeroDivisionError\u001b[0m                         Traceback (most recent call last)",
      "\u001b[1;32m<ipython-input-44-f0cedc6e090f>\u001b[0m in \u001b[0;36m<module>\u001b[1;34m()\u001b[0m\n\u001b[1;32m----> 1\u001b[1;33m \u001b[0mx\u001b[0m \u001b[1;33m=\u001b[0m \u001b[1;36m5\u001b[0m \u001b[1;33m+\u001b[0m \u001b[1;36m10\u001b[0m \u001b[1;33m-\u001b[0m \u001b[1;36m6\u001b[0m \u001b[1;33m*\u001b[0m \u001b[1;36m3\u001b[0m \u001b[1;33m/\u001b[0m \u001b[1;36m0\u001b[0m\u001b[1;33m\u001b[0m\u001b[0m\n\u001b[0m",
      "\u001b[1;31mZeroDivisionError\u001b[0m: division by zero"
     ]
    }
   ],
   "source": [
    "x = 5 + 10 - 6 * 3 / 0"
   ]
  },
  {
   "cell_type": "code",
   "execution_count": 45,
   "metadata": {},
   "outputs": [
    {
     "ename": "NameError",
     "evalue": "name 'abracadabra' is not defined",
     "output_type": "error",
     "traceback": [
      "\u001b[1;31m---------------------------------------------------------------------------\u001b[0m",
      "\u001b[1;31mNameError\u001b[0m                                 Traceback (most recent call last)",
      "\u001b[1;32m<ipython-input-45-da469592df07>\u001b[0m in \u001b[0;36m<module>\u001b[1;34m()\u001b[0m\n\u001b[1;32m----> 1\u001b[1;33m \u001b[0mprint\u001b[0m\u001b[1;33m(\u001b[0m\u001b[1;34m\"i am khan\"\u001b[0m\u001b[1;33m,\u001b[0m\u001b[0mabracadabra\u001b[0m\u001b[1;33m)\u001b[0m\u001b[1;33m\u001b[0m\u001b[0m\n\u001b[0m",
      "\u001b[1;31mNameError\u001b[0m: name 'abracadabra' is not defined"
     ]
    }
   ],
   "source": [
    "print(\"i am khan\",abracadabra)"
   ]
  },
  {
   "cell_type": "code",
   "execution_count": 46,
   "metadata": {},
   "outputs": [
    {
     "data": {
      "text/plain": [
       "{'__name__': '__main__',\n",
       " '__doc__': '\\nprint(*l)\\nprint(\"Total number = \",len(l))\\nc = 0\\nfor var in l : \\n    if prime(var) : \\n        c = c + 1\\n        print(var,end=\\'\\t\\')\\nprint(\"Total prime found = \",c)\\n',\n",
       " '__package__': None,\n",
       " '__loader__': None,\n",
       " '__spec__': None,\n",
       " '__builtin__': <module 'builtins' (built-in)>,\n",
       " '__builtins__': <module 'builtins' (built-in)>,\n",
       " '_ih': ['',\n",
       "  'def check(arg):\\n    if arg.lower().strip() == \\'foo\\' : \\n        return \\'bar\\'\\n    elif arg.lower().strip() == \\'bar\\' : \\n        return \\'foo\\'\\n    else  : \\n        return \\'foo|bar\\'\\n    \\nresult = check(input(\"Enter your argument\"))\\nprint(result)',\n",
       "  'def check(arg):\\n    if arg.lower().strip() == \\'foo\\' : \\n        return \\'bar\\'\\n    elif arg.lower().strip() == \\'bar\\' : \\n        return \\'foo\\'\\n    else  : \\n        return \\'foo|bar\\'\\n    \\nresult = check(input(\"Enter your argument\"))\\nprint(result)',\n",
       "  'def check(arg):\\n    if arg.lower().strip() == \\'foo\\' : \\n        return \\'bar\\'\\n    elif arg.lower().strip() == \\'bar\\' : \\n        return \\'foo\\'\\n    else  : \\n        return \\'foo|bar\\'\\n    \\nresult = check(input(\"Enter your argument\"))\\nprint(result)',\n",
       "  \"check = lambda arg : 'foo' if arg.lower().strip() == 'bar' else ( 'bar' if arg.lower().strip() == 'foo' else 'foo|bar' )\",\n",
       "  \"check('bar')\",\n",
       "  \"check('foo')\",\n",
       "  \"check('foo|bar')\",\n",
       "  'greatest = lambda a,b,c : a if a >= b and a >= c \\\\ \\nelse ( b if b >= a and b >= c else c ) \\ngreatest(*input().split())',\n",
       "  'greatest = lambda a,b,c : a if a >= b and a >= c else ( b if b >= a and b >= c else c ) \\ngreatest(*input().split())',\n",
       "  'a = input().split()\\nprint(a)',\n",
       "  'greatest = lambda a,b,c : a if a >= b and a >= c else ( b if b >= a and b >= c else c ) \\n\\nnum = input().split()\\nprint(3_num)\\n\\n#greatest(a,b,c)',\n",
       "  'greatest = lambda a,b,c : a if a >= b and a >= c else ( b if b >= a and b >= c else c ) \\n\\nnum = input().split()\\nprint(num)\\n\\n#greatest(a,b,c)',\n",
       "  'greatest = lambda a,b,c : a if a >= b and a >= c else ( b if b >= a and b >= c else c ) \\n\\nnum = input().split()\\nprint(num)\\n\\nnum = list(map(print,num))\\n\\n#greatest(a,b,c)',\n",
       "  'greatest = lambda a,b,c : a if a >= b and a >= c else ( b if b >= a and b >= c else c ) \\n\\nnum = input().split()\\nprint(num)\\n\\nnum = list(map(print,num))\\nprint(num)\\n#greatest(a,b,c)',\n",
       "  'greatest = lambda a,b,c : a if a >= b and a >= c else ( b if b >= a and b >= c else c ) \\n\\nnum = input().split()\\nprint(num)\\n\\nnum = list(map(int,num))\\nprint(num)\\n#greatest(a,b,c)',\n",
       "  'greatest = lambda a,b,c : a if a >= b and a >= c else ( b if b >= a and b >= c else c ) \\nnum = input().split()\\nprint(num)\\nnum = list(map(int,num))\\nprint(num)\\nr = greatest(*num)\\nprint(r)',\n",
       "  'greatest = lambda a,b,c : a if a >= b and a >= c else ( b if b >= a and b >= c else c ) \\n#num = input().split()\\n#print(num)\\n#num = list(map(int,num))\\n#print(num)\\nnum = list(map(int,input().split()))\\nr = greatest(*num)\\nprint(r)',\n",
       "  'greatest = lambda a,b,c : a if a >= b and a >= c else ( b if b >= a and b >= c else c ) \\n#num = input().split()\\n#print(num)\\n#num = list(map(int,num))\\n#print(num)\\n#num = list(map(int,input().split()))\\n#r = greatest(*num)\\nr = greatest(*list(map(int,input().split())))\\nprint(r)',\n",
       "  'greatest = lambda a,b,c : a if a >= b and a >= c else ( b if b >= a and b >= c else c ) \\n#num = input().split()\\n#print(num)\\n#num = list(map(int,num))\\n#print(num)\\n#num = list(map(int,input().split()))\\n#r = greatest(*num)\\nr = greatest(*list(map(int,input().split())))\\nprint(r)',\n",
       "  'from math import sqrt\\ndef prime(num):\\n    sq_num = round(sqrt(num))\\n    for var in range(2,sq_num+1) : \\n        if num % var == 0 :\\n    ',\n",
       "  'from math import sqrt\\ndef prime(num):\\n    sq_num = round(sqrt(num))\\n    for var in range(2,sq_num+1) : \\n        if num % var == 0 :\\n            return False\\n    else : \\n    ',\n",
       "  'from math import sqrt\\ndef prime(num):\\n    sq_num = round(sqrt(num))\\n    for var in range(2,sq_num+1) : \\n        if num % var == 0 :\\n            return False\\n    else : \\n        return True\\n    ',\n",
       "  'from math import sqrt\\ndef prime(num):\\n    sq_num = round(sqrt(num))\\n    for var in range(2,sq_num+1) : \\n        if num % var == 0 :\\n            return False\\n    else : \\n        return True\\n\\nprime(121)',\n",
       "  'from math import sqrt\\ndef prime(num):\\n    sq_num = round(sqrt(num))\\n    for var in range(2,sq_num+1) : \\n        if num % var == 0 :\\n            return False\\n    else : \\n        return True\\n\\nprime(127)',\n",
       "  'from math import sqrt\\ndef prime(num):\\n    sq_num = round(sqrt(num))\\n    for var in range(2,sq_num+1) : \\n        if num % var == 0 :\\n            return False\\n    else : \\n        return True\\n\\nprime(15)',\n",
       "  'from math import sqrt\\ndef prime(num):\\n    sq_num = round(sqrt(num))\\n    for var in range(2,sq_num+1) : \\n        if num % var == 0 :\\n            return False\\n    else : \\n        return True\\n\\nprime(17)',\n",
       "  'from random import randint\\nl = [ ranint(1,10000) for var in range(100) ]\\nprint(*l)',\n",
       "  'from random import randint\\nl = [ randint(1,10000) for var in range(100) ]\\nprint(*l)',\n",
       "  'from random import randint\\nl = [ randint(1,10000) for var in range(100) ]\\nprint(*l)\\nfor var in l : \\n    if prime(var) : \\n        print(var)',\n",
       "  'from random import randint\\nl = [ randint(1,10000) for var in range(100) ]\\nprint(*l)\\nprint(\"Total number = \",len(l))\\nc = 0\\nfor var in l : \\n    if prime(var) : \\n        c = c + 1\\n        print(var,end=\\'\\\\t\\')\\nprint(\"Total prime found = \",c)',\n",
       "  'from random import randint\\nl = [ randint(1,10000) for var in range(100) ]\\n\\nprime_list = list(map(prime,l))\\nprint(*prime_list)\\n\\n\"\"\"\\nprint(*l)\\nprint(\"Total number = \",len(l))\\nc = 0\\nfor var in l : \\n    if prime(var) : \\n        c = c + 1\\n        print(var,end=\\'\\\\t\\')\\nprint(\"Total prime found = \",c)\\n\"\"\"',\n",
       "  'from math import sqrt\\ndef prime(num):\\n    sq_num = round(sqrt(num))\\n    for var in range(2,sq_num+1) : \\n        if num % var == 0 :\\n            return False\\n    else : \\n        return num\\n\\nprime(17)',\n",
       "  'from math import sqrt\\ndef prime(num):\\n    sq_num = round(sqrt(num))\\n    for var in range(2,sq_num+1) : \\n        if num % var == 0 :\\n            return 0\\n    else : \\n        return num\\n\\nprime(17)',\n",
       "  'from random import randint\\nl = [ randint(1,10000) for var in range(100) ]\\n\\nprime_list = list(map(prime,l))\\n#prime_list = list(filter(prime))\\nprint(*prime_list)\\n\\n\"\"\"\\nprint(*l)\\nprint(\"Total number = \",len(l))\\nc = 0\\nfor var in l : \\n    if prime(var) : \\n        c = c + 1\\n        print(var,end=\\'\\\\t\\')\\nprint(\"Total prime found = \",c)\\n\"\"\"',\n",
       "  'from random import randint\\nl = [ randint(1,10000) for var in range(100) ]\\n\\nprime_list = list(map(prime,l))\\n#prime_list = list(filter(prime))\\nprint(*prime_list)\\n\\n\"\"\"\\nprint(*l)\\nprint(\"Total number = \",len(l))\\nc = 0\\nfor var in l : \\n    if prime(var) : \\n        c = c + 1\\n        print(var,end=\\'\\\\t\\')\\nprint(\"Total prime found = \",c)\\n\"\"\"\\n\\'\\'',\n",
       "  'from random import randint\\nl = [ randint(1,10000) for var in range(100) ]\\n\\n#prime_list = list(map(prime,l))\\nprime_list = list(filter(prime,l))\\nprint(*prime_list)\\n\\n\"\"\"\\nprint(*l)\\nprint(\"Total number = \",len(l))\\nc = 0\\nfor var in l : \\n    if prime(var) : \\n        c = c + 1\\n        print(var,end=\\'\\\\t\\')\\nprint(\"Total prime found = \",c)\\n\"\"\"\\n\\'\\'',\n",
       "  'round(15.6)',\n",
       "  'round(15.5)',\n",
       "  'round(15.4)',\n",
       "  '#recursion\\ndef fact(num):\\n    if num == 1 : \\n        return 1\\n    else :\\n        return fact(num-1)\\nfact(5)',\n",
       "  '#recursion\\ndef fact(num):\\n    if num == 1 : \\n        return 1\\n    else :\\n        return num*fact(num-1)\\nfact(5)',\n",
       "  'print(\"helo',\n",
       "  'print(\"helooo world\")\\n5 = \\'hi\\'',\n",
       "  'x = 5 + 10 - 6 * 3 / 0',\n",
       "  'print(\"i am khan\",abracadabra)',\n",
       "  'globals()'],\n",
       " '_oh': {5: 'foo',\n",
       "  6: 'bar',\n",
       "  7: 'foo|bar',\n",
       "  9: '5',\n",
       "  23: False,\n",
       "  24: True,\n",
       "  25: False,\n",
       "  26: True,\n",
       "  31: '\\nprint(*l)\\nprint(\"Total number = \",len(l))\\nc = 0\\nfor var in l : \\n    if prime(var) : \\n        c = c + 1\\n        print(var,end=\\'\\t\\')\\nprint(\"Total prime found = \",c)\\n',\n",
       "  32: 17,\n",
       "  33: 17,\n",
       "  34: '\\nprint(*l)\\nprint(\"Total number = \",len(l))\\nc = 0\\nfor var in l : \\n    if prime(var) : \\n        c = c + 1\\n        print(var,end=\\'\\t\\')\\nprint(\"Total prime found = \",c)\\n',\n",
       "  35: '',\n",
       "  36: '',\n",
       "  37: 16,\n",
       "  38: 16,\n",
       "  39: 15,\n",
       "  40: 1,\n",
       "  41: 120},\n",
       " '_dh': ['C:\\\\Users\\\\sachin\\\\Documents\\\\GitHub\\\\Python_Codes\\\\batch_5pm'],\n",
       " 'In': ['',\n",
       "  'def check(arg):\\n    if arg.lower().strip() == \\'foo\\' : \\n        return \\'bar\\'\\n    elif arg.lower().strip() == \\'bar\\' : \\n        return \\'foo\\'\\n    else  : \\n        return \\'foo|bar\\'\\n    \\nresult = check(input(\"Enter your argument\"))\\nprint(result)',\n",
       "  'def check(arg):\\n    if arg.lower().strip() == \\'foo\\' : \\n        return \\'bar\\'\\n    elif arg.lower().strip() == \\'bar\\' : \\n        return \\'foo\\'\\n    else  : \\n        return \\'foo|bar\\'\\n    \\nresult = check(input(\"Enter your argument\"))\\nprint(result)',\n",
       "  'def check(arg):\\n    if arg.lower().strip() == \\'foo\\' : \\n        return \\'bar\\'\\n    elif arg.lower().strip() == \\'bar\\' : \\n        return \\'foo\\'\\n    else  : \\n        return \\'foo|bar\\'\\n    \\nresult = check(input(\"Enter your argument\"))\\nprint(result)',\n",
       "  \"check = lambda arg : 'foo' if arg.lower().strip() == 'bar' else ( 'bar' if arg.lower().strip() == 'foo' else 'foo|bar' )\",\n",
       "  \"check('bar')\",\n",
       "  \"check('foo')\",\n",
       "  \"check('foo|bar')\",\n",
       "  'greatest = lambda a,b,c : a if a >= b and a >= c \\\\ \\nelse ( b if b >= a and b >= c else c ) \\ngreatest(*input().split())',\n",
       "  'greatest = lambda a,b,c : a if a >= b and a >= c else ( b if b >= a and b >= c else c ) \\ngreatest(*input().split())',\n",
       "  'a = input().split()\\nprint(a)',\n",
       "  'greatest = lambda a,b,c : a if a >= b and a >= c else ( b if b >= a and b >= c else c ) \\n\\nnum = input().split()\\nprint(3_num)\\n\\n#greatest(a,b,c)',\n",
       "  'greatest = lambda a,b,c : a if a >= b and a >= c else ( b if b >= a and b >= c else c ) \\n\\nnum = input().split()\\nprint(num)\\n\\n#greatest(a,b,c)',\n",
       "  'greatest = lambda a,b,c : a if a >= b and a >= c else ( b if b >= a and b >= c else c ) \\n\\nnum = input().split()\\nprint(num)\\n\\nnum = list(map(print,num))\\n\\n#greatest(a,b,c)',\n",
       "  'greatest = lambda a,b,c : a if a >= b and a >= c else ( b if b >= a and b >= c else c ) \\n\\nnum = input().split()\\nprint(num)\\n\\nnum = list(map(print,num))\\nprint(num)\\n#greatest(a,b,c)',\n",
       "  'greatest = lambda a,b,c : a if a >= b and a >= c else ( b if b >= a and b >= c else c ) \\n\\nnum = input().split()\\nprint(num)\\n\\nnum = list(map(int,num))\\nprint(num)\\n#greatest(a,b,c)',\n",
       "  'greatest = lambda a,b,c : a if a >= b and a >= c else ( b if b >= a and b >= c else c ) \\nnum = input().split()\\nprint(num)\\nnum = list(map(int,num))\\nprint(num)\\nr = greatest(*num)\\nprint(r)',\n",
       "  'greatest = lambda a,b,c : a if a >= b and a >= c else ( b if b >= a and b >= c else c ) \\n#num = input().split()\\n#print(num)\\n#num = list(map(int,num))\\n#print(num)\\nnum = list(map(int,input().split()))\\nr = greatest(*num)\\nprint(r)',\n",
       "  'greatest = lambda a,b,c : a if a >= b and a >= c else ( b if b >= a and b >= c else c ) \\n#num = input().split()\\n#print(num)\\n#num = list(map(int,num))\\n#print(num)\\n#num = list(map(int,input().split()))\\n#r = greatest(*num)\\nr = greatest(*list(map(int,input().split())))\\nprint(r)',\n",
       "  'greatest = lambda a,b,c : a if a >= b and a >= c else ( b if b >= a and b >= c else c ) \\n#num = input().split()\\n#print(num)\\n#num = list(map(int,num))\\n#print(num)\\n#num = list(map(int,input().split()))\\n#r = greatest(*num)\\nr = greatest(*list(map(int,input().split())))\\nprint(r)',\n",
       "  'from math import sqrt\\ndef prime(num):\\n    sq_num = round(sqrt(num))\\n    for var in range(2,sq_num+1) : \\n        if num % var == 0 :\\n    ',\n",
       "  'from math import sqrt\\ndef prime(num):\\n    sq_num = round(sqrt(num))\\n    for var in range(2,sq_num+1) : \\n        if num % var == 0 :\\n            return False\\n    else : \\n    ',\n",
       "  'from math import sqrt\\ndef prime(num):\\n    sq_num = round(sqrt(num))\\n    for var in range(2,sq_num+1) : \\n        if num % var == 0 :\\n            return False\\n    else : \\n        return True\\n    ',\n",
       "  'from math import sqrt\\ndef prime(num):\\n    sq_num = round(sqrt(num))\\n    for var in range(2,sq_num+1) : \\n        if num % var == 0 :\\n            return False\\n    else : \\n        return True\\n\\nprime(121)',\n",
       "  'from math import sqrt\\ndef prime(num):\\n    sq_num = round(sqrt(num))\\n    for var in range(2,sq_num+1) : \\n        if num % var == 0 :\\n            return False\\n    else : \\n        return True\\n\\nprime(127)',\n",
       "  'from math import sqrt\\ndef prime(num):\\n    sq_num = round(sqrt(num))\\n    for var in range(2,sq_num+1) : \\n        if num % var == 0 :\\n            return False\\n    else : \\n        return True\\n\\nprime(15)',\n",
       "  'from math import sqrt\\ndef prime(num):\\n    sq_num = round(sqrt(num))\\n    for var in range(2,sq_num+1) : \\n        if num % var == 0 :\\n            return False\\n    else : \\n        return True\\n\\nprime(17)',\n",
       "  'from random import randint\\nl = [ ranint(1,10000) for var in range(100) ]\\nprint(*l)',\n",
       "  'from random import randint\\nl = [ randint(1,10000) for var in range(100) ]\\nprint(*l)',\n",
       "  'from random import randint\\nl = [ randint(1,10000) for var in range(100) ]\\nprint(*l)\\nfor var in l : \\n    if prime(var) : \\n        print(var)',\n",
       "  'from random import randint\\nl = [ randint(1,10000) for var in range(100) ]\\nprint(*l)\\nprint(\"Total number = \",len(l))\\nc = 0\\nfor var in l : \\n    if prime(var) : \\n        c = c + 1\\n        print(var,end=\\'\\\\t\\')\\nprint(\"Total prime found = \",c)',\n",
       "  'from random import randint\\nl = [ randint(1,10000) for var in range(100) ]\\n\\nprime_list = list(map(prime,l))\\nprint(*prime_list)\\n\\n\"\"\"\\nprint(*l)\\nprint(\"Total number = \",len(l))\\nc = 0\\nfor var in l : \\n    if prime(var) : \\n        c = c + 1\\n        print(var,end=\\'\\\\t\\')\\nprint(\"Total prime found = \",c)\\n\"\"\"',\n",
       "  'from math import sqrt\\ndef prime(num):\\n    sq_num = round(sqrt(num))\\n    for var in range(2,sq_num+1) : \\n        if num % var == 0 :\\n            return False\\n    else : \\n        return num\\n\\nprime(17)',\n",
       "  'from math import sqrt\\ndef prime(num):\\n    sq_num = round(sqrt(num))\\n    for var in range(2,sq_num+1) : \\n        if num % var == 0 :\\n            return 0\\n    else : \\n        return num\\n\\nprime(17)',\n",
       "  'from random import randint\\nl = [ randint(1,10000) for var in range(100) ]\\n\\nprime_list = list(map(prime,l))\\n#prime_list = list(filter(prime))\\nprint(*prime_list)\\n\\n\"\"\"\\nprint(*l)\\nprint(\"Total number = \",len(l))\\nc = 0\\nfor var in l : \\n    if prime(var) : \\n        c = c + 1\\n        print(var,end=\\'\\\\t\\')\\nprint(\"Total prime found = \",c)\\n\"\"\"',\n",
       "  'from random import randint\\nl = [ randint(1,10000) for var in range(100) ]\\n\\nprime_list = list(map(prime,l))\\n#prime_list = list(filter(prime))\\nprint(*prime_list)\\n\\n\"\"\"\\nprint(*l)\\nprint(\"Total number = \",len(l))\\nc = 0\\nfor var in l : \\n    if prime(var) : \\n        c = c + 1\\n        print(var,end=\\'\\\\t\\')\\nprint(\"Total prime found = \",c)\\n\"\"\"\\n\\'\\'',\n",
       "  'from random import randint\\nl = [ randint(1,10000) for var in range(100) ]\\n\\n#prime_list = list(map(prime,l))\\nprime_list = list(filter(prime,l))\\nprint(*prime_list)\\n\\n\"\"\"\\nprint(*l)\\nprint(\"Total number = \",len(l))\\nc = 0\\nfor var in l : \\n    if prime(var) : \\n        c = c + 1\\n        print(var,end=\\'\\\\t\\')\\nprint(\"Total prime found = \",c)\\n\"\"\"\\n\\'\\'',\n",
       "  'round(15.6)',\n",
       "  'round(15.5)',\n",
       "  'round(15.4)',\n",
       "  '#recursion\\ndef fact(num):\\n    if num == 1 : \\n        return 1\\n    else :\\n        return fact(num-1)\\nfact(5)',\n",
       "  '#recursion\\ndef fact(num):\\n    if num == 1 : \\n        return 1\\n    else :\\n        return num*fact(num-1)\\nfact(5)',\n",
       "  'print(\"helo',\n",
       "  'print(\"helooo world\")\\n5 = \\'hi\\'',\n",
       "  'x = 5 + 10 - 6 * 3 / 0',\n",
       "  'print(\"i am khan\",abracadabra)',\n",
       "  'globals()'],\n",
       " 'Out': {5: 'foo',\n",
       "  6: 'bar',\n",
       "  7: 'foo|bar',\n",
       "  9: '5',\n",
       "  23: False,\n",
       "  24: True,\n",
       "  25: False,\n",
       "  26: True,\n",
       "  31: '\\nprint(*l)\\nprint(\"Total number = \",len(l))\\nc = 0\\nfor var in l : \\n    if prime(var) : \\n        c = c + 1\\n        print(var,end=\\'\\t\\')\\nprint(\"Total prime found = \",c)\\n',\n",
       "  32: 17,\n",
       "  33: 17,\n",
       "  34: '\\nprint(*l)\\nprint(\"Total number = \",len(l))\\nc = 0\\nfor var in l : \\n    if prime(var) : \\n        c = c + 1\\n        print(var,end=\\'\\t\\')\\nprint(\"Total prime found = \",c)\\n',\n",
       "  35: '',\n",
       "  36: '',\n",
       "  37: 16,\n",
       "  38: 16,\n",
       "  39: 15,\n",
       "  40: 1,\n",
       "  41: 120},\n",
       " 'get_ipython': <bound method InteractiveShell.get_ipython of <ipykernel.zmqshell.ZMQInteractiveShell object at 0x0000020E26320748>>,\n",
       " 'exit': <IPython.core.autocall.ZMQExitAutocall at 0x20e263709e8>,\n",
       " 'quit': <IPython.core.autocall.ZMQExitAutocall at 0x20e263709e8>,\n",
       " '_': 120,\n",
       " '__': 1,\n",
       " '___': 15,\n",
       " '_i': 'print(\"i am khan\",abracadabra)',\n",
       " '_ii': 'x = 5 + 10 - 6 * 3 / 0',\n",
       " '_iii': 'print(\"helooo world\")\\n5 = \\'hi\\'',\n",
       " '_i1': 'def check(arg):\\n    if arg.lower().strip() == \\'foo\\' : \\n        return \\'bar\\'\\n    elif arg.lower().strip() == \\'bar\\' : \\n        return \\'foo\\'\\n    else  : \\n        return \\'foo|bar\\'\\n    \\nresult = check(input(\"Enter your argument\"))\\nprint(result)',\n",
       " 'check': <function __main__.<lambda>(arg)>,\n",
       " 'result': 'foo|bar',\n",
       " '_i2': 'def check(arg):\\n    if arg.lower().strip() == \\'foo\\' : \\n        return \\'bar\\'\\n    elif arg.lower().strip() == \\'bar\\' : \\n        return \\'foo\\'\\n    else  : \\n        return \\'foo|bar\\'\\n    \\nresult = check(input(\"Enter your argument\"))\\nprint(result)',\n",
       " '_i3': 'def check(arg):\\n    if arg.lower().strip() == \\'foo\\' : \\n        return \\'bar\\'\\n    elif arg.lower().strip() == \\'bar\\' : \\n        return \\'foo\\'\\n    else  : \\n        return \\'foo|bar\\'\\n    \\nresult = check(input(\"Enter your argument\"))\\nprint(result)',\n",
       " '_i4': \"check = lambda arg : 'foo' if arg.lower().strip() == 'bar' \\\\\\nelse ( 'bar' if arg.lower().strip() == 'foo' else 'foo|bar' )\",\n",
       " '_i5': \"check('bar')\",\n",
       " '_5': 'foo',\n",
       " '_i6': \"check('foo')\",\n",
       " '_6': 'bar',\n",
       " '_i7': \"check('foo|bar')\",\n",
       " '_7': 'foo|bar',\n",
       " '_i8': 'greatest = lambda a,b,c : a if a >= b and a >= c \\\\ \\nelse ( b if b >= a and b >= c else c ) \\ngreatest(*input().split())',\n",
       " '_i9': 'greatest = lambda a,b,c : a if a >= b and a >= c \\\\\\nelse ( b if b >= a and b >= c else c ) \\ngreatest(*input().split())',\n",
       " 'greatest': <function __main__.<lambda>(a, b, c)>,\n",
       " '_9': '5',\n",
       " '_i10': 'a = input().split()\\nprint(a)',\n",
       " 'a': ['1', '2', '5', '34', '2', '32', '3', '23'],\n",
       " '_i11': 'greatest = lambda a,b,c : a if a >= b and a >= c \\\\\\nelse ( b if b >= a and b >= c else c ) \\n\\nnum = input().split()\\nprint(3_num)\\n\\n#greatest(a,b,c)',\n",
       " '_i12': 'greatest = lambda a,b,c : a if a >= b and a >= c \\\\\\nelse ( b if b >= a and b >= c else c ) \\n\\nnum = input().split()\\nprint(num)\\n\\n#greatest(a,b,c)',\n",
       " 'num': [1, 3, 2],\n",
       " '_i13': 'greatest = lambda a,b,c : a if a >= b and a >= c \\\\\\nelse ( b if b >= a and b >= c else c ) \\n\\nnum = input().split()\\nprint(num)\\n\\nnum = list(map(print,num))\\n\\n#greatest(a,b,c)',\n",
       " '_i14': 'greatest = lambda a,b,c : a if a >= b and a >= c \\\\\\nelse ( b if b >= a and b >= c else c ) \\n\\nnum = input().split()\\nprint(num)\\n\\nnum = list(map(print,num))\\nprint(num)\\n#greatest(a,b,c)',\n",
       " '_i15': 'greatest = lambda a,b,c : a if a >= b and a >= c \\\\\\nelse ( b if b >= a and b >= c else c ) \\n\\nnum = input().split()\\nprint(num)\\n\\nnum = list(map(int,num))\\nprint(num)\\n#greatest(a,b,c)',\n",
       " '_i16': 'greatest = lambda a,b,c : a if a >= b and a >= c \\\\\\nelse ( b if b >= a and b >= c else c ) \\nnum = input().split()\\nprint(num)\\nnum = list(map(int,num))\\nprint(num)\\nr = greatest(*num)\\nprint(r)',\n",
       " 'r': 123,\n",
       " '_i17': 'greatest = lambda a,b,c : a if a >= b and a >= c \\\\\\nelse ( b if b >= a and b >= c else c ) \\n#num = input().split()\\n#print(num)\\n#num = list(map(int,num))\\n#print(num)\\nnum = list(map(int,input().split()))\\nr = greatest(*num)\\nprint(r)',\n",
       " '_i18': 'greatest = lambda a,b,c : a if a >= b and a >= c \\\\\\nelse ( b if b >= a and b >= c else c ) \\n#num = input().split()\\n#print(num)\\n#num = list(map(int,num))\\n#print(num)\\n#num = list(map(int,input().split()))\\n#r = greatest(*num)\\nr = greatest(*list(map(int,input().split())))\\nprint(r)',\n",
       " '_i19': 'greatest = lambda a,b,c : a if a >= b and a >= c \\\\\\nelse ( b if b >= a and b >= c else c ) \\n#num = input().split()\\n#print(num)\\n#num = list(map(int,num))\\n#print(num)\\n#num = list(map(int,input().split()))\\n#r = greatest(*num)\\nr = greatest(*list(map(int,input().split())))\\nprint(r)',\n",
       " '_i20': 'from math import sqrt\\ndef prime(num):\\n    sq_num = round(sqrt(num))\\n    for var in range(2,sq_num+1) : \\n        if num % var == 0 :\\n    ',\n",
       " '_i21': 'from math import sqrt\\ndef prime(num):\\n    sq_num = round(sqrt(num))\\n    for var in range(2,sq_num+1) : \\n        if num % var == 0 :\\n            return False\\n    else : \\n    ',\n",
       " '_i22': 'from math import sqrt\\ndef prime(num):\\n    sq_num = round(sqrt(num))\\n    for var in range(2,sq_num+1) : \\n        if num % var == 0 :\\n            return False\\n    else : \\n        return True\\n    ',\n",
       " 'sqrt': <function math.sqrt>,\n",
       " 'prime': <function __main__.prime(num)>,\n",
       " '_i23': 'from math import sqrt\\ndef prime(num):\\n    sq_num = round(sqrt(num))\\n    for var in range(2,sq_num+1) : \\n        if num % var == 0 :\\n            return False\\n    else : \\n        return True\\n\\nprime(121)',\n",
       " '_23': False,\n",
       " '_i24': 'from math import sqrt\\ndef prime(num):\\n    sq_num = round(sqrt(num))\\n    for var in range(2,sq_num+1) : \\n        if num % var == 0 :\\n            return False\\n    else : \\n        return True\\n\\nprime(127)',\n",
       " '_24': True,\n",
       " '_i25': 'from math import sqrt\\ndef prime(num):\\n    sq_num = round(sqrt(num))\\n    for var in range(2,sq_num+1) : \\n        if num % var == 0 :\\n            return False\\n    else : \\n        return True\\n\\nprime(15)',\n",
       " '_25': False,\n",
       " '_i26': 'from math import sqrt\\ndef prime(num):\\n    sq_num = round(sqrt(num))\\n    for var in range(2,sq_num+1) : \\n        if num % var == 0 :\\n            return False\\n    else : \\n        return True\\n\\nprime(17)',\n",
       " '_26': True,\n",
       " '_i27': 'from random import randint\\nl = [ ranint(1,10000) for var in range(100) ]\\nprint(*l)',\n",
       " 'randint': <bound method Random.randint of <random.Random object at 0x0000020E242E0F98>>,\n",
       " '_i28': 'from random import randint\\nl = [ randint(1,10000) for var in range(100) ]\\nprint(*l)',\n",
       " 'l': [5232,\n",
       "  4824,\n",
       "  5270,\n",
       "  9967,\n",
       "  6747,\n",
       "  6312,\n",
       "  1021,\n",
       "  2495,\n",
       "  7027,\n",
       "  1474,\n",
       "  6476,\n",
       "  4460,\n",
       "  969,\n",
       "  7951,\n",
       "  7312,\n",
       "  4177,\n",
       "  9604,\n",
       "  4094,\n",
       "  4511,\n",
       "  3631,\n",
       "  4297,\n",
       "  1004,\n",
       "  1681,\n",
       "  2005,\n",
       "  8097,\n",
       "  3598,\n",
       "  7148,\n",
       "  10000,\n",
       "  8189,\n",
       "  7282,\n",
       "  7706,\n",
       "  106,\n",
       "  258,\n",
       "  9956,\n",
       "  1340,\n",
       "  9580,\n",
       "  8336,\n",
       "  9323,\n",
       "  6854,\n",
       "  8480,\n",
       "  9789,\n",
       "  5368,\n",
       "  8666,\n",
       "  4286,\n",
       "  7123,\n",
       "  5858,\n",
       "  9522,\n",
       "  3972,\n",
       "  6352,\n",
       "  1135,\n",
       "  4571,\n",
       "  9177,\n",
       "  8655,\n",
       "  6022,\n",
       "  2956,\n",
       "  2730,\n",
       "  7960,\n",
       "  3861,\n",
       "  4086,\n",
       "  4030,\n",
       "  7464,\n",
       "  3926,\n",
       "  4762,\n",
       "  8948,\n",
       "  556,\n",
       "  2449,\n",
       "  6448,\n",
       "  7389,\n",
       "  927,\n",
       "  7647,\n",
       "  2429,\n",
       "  5993,\n",
       "  3242,\n",
       "  1257,\n",
       "  5580,\n",
       "  2457,\n",
       "  5879,\n",
       "  9640,\n",
       "  2506,\n",
       "  3654,\n",
       "  1664,\n",
       "  738,\n",
       "  2607,\n",
       "  5294,\n",
       "  4516,\n",
       "  2892,\n",
       "  911,\n",
       "  5076,\n",
       "  2884,\n",
       "  2032,\n",
       "  420,\n",
       "  4029,\n",
       "  6185,\n",
       "  9700,\n",
       "  6112,\n",
       "  9499,\n",
       "  2961,\n",
       "  5808,\n",
       "  1027,\n",
       "  430],\n",
       " '_i29': 'from random import randint\\nl = [ randint(1,10000) for var in range(100) ]\\nprint(*l)\\nfor var in l : \\n    if prime(var) : \\n        print(var)',\n",
       " 'var': 9687,\n",
       " '_i30': 'from random import randint\\nl = [ randint(1,10000) for var in range(100) ]\\nprint(*l)\\nprint(\"Total number = \",len(l))\\nc = 0\\nfor var in l : \\n    if prime(var) : \\n        c = c + 1\\n        print(var,end=\\'\\\\t\\')\\nprint(\"Total prime found = \",c)',\n",
       " 'c': 16,\n",
       " '_i31': 'from random import randint\\nl = [ randint(1,10000) for var in range(100) ]\\n\\nprime_list = list(map(prime,l))\\nprint(*prime_list)\\n\\n\"\"\"\\nprint(*l)\\nprint(\"Total number = \",len(l))\\nc = 0\\nfor var in l : \\n    if prime(var) : \\n        c = c + 1\\n        print(var,end=\\'\\\\t\\')\\nprint(\"Total prime found = \",c)\\n\"\"\"',\n",
       " 'prime_list': [9967, 1021, 7027, 7951, 4177, 3631, 4297, 9323, 5879, 911],\n",
       " '_31': '\\nprint(*l)\\nprint(\"Total number = \",len(l))\\nc = 0\\nfor var in l : \\n    if prime(var) : \\n        c = c + 1\\n        print(var,end=\\'\\t\\')\\nprint(\"Total prime found = \",c)\\n',\n",
       " '_i32': 'from math import sqrt\\ndef prime(num):\\n    sq_num = round(sqrt(num))\\n    for var in range(2,sq_num+1) : \\n        if num % var == 0 :\\n            return False\\n    else : \\n        return num\\n\\nprime(17)',\n",
       " '_32': 17,\n",
       " '_i33': 'from math import sqrt\\ndef prime(num):\\n    sq_num = round(sqrt(num))\\n    for var in range(2,sq_num+1) : \\n        if num % var == 0 :\\n            return 0\\n    else : \\n        return num\\n\\nprime(17)',\n",
       " '_33': 17,\n",
       " '_i34': 'from random import randint\\nl = [ randint(1,10000) for var in range(100) ]\\n\\nprime_list = list(map(prime,l))\\n#prime_list = list(filter(prime))\\nprint(*prime_list)\\n\\n\"\"\"\\nprint(*l)\\nprint(\"Total number = \",len(l))\\nc = 0\\nfor var in l : \\n    if prime(var) : \\n        c = c + 1\\n        print(var,end=\\'\\\\t\\')\\nprint(\"Total prime found = \",c)\\n\"\"\"',\n",
       " '_34': '\\nprint(*l)\\nprint(\"Total number = \",len(l))\\nc = 0\\nfor var in l : \\n    if prime(var) : \\n        c = c + 1\\n        print(var,end=\\'\\t\\')\\nprint(\"Total prime found = \",c)\\n',\n",
       " '_i35': 'from random import randint\\nl = [ randint(1,10000) for var in range(100) ]\\n\\nprime_list = list(map(prime,l))\\n#prime_list = list(filter(prime))\\nprint(*prime_list)\\n\\n\"\"\"\\nprint(*l)\\nprint(\"Total number = \",len(l))\\nc = 0\\nfor var in l : \\n    if prime(var) : \\n        c = c + 1\\n        print(var,end=\\'\\\\t\\')\\nprint(\"Total prime found = \",c)\\n\"\"\"\\n\\'\\'',\n",
       " '_35': '',\n",
       " '_i36': 'from random import randint\\nl = [ randint(1,10000) for var in range(100) ]\\n\\n#prime_list = list(map(prime,l))\\nprime_list = list(filter(prime,l))\\nprint(*prime_list)\\n\\n\"\"\"\\nprint(*l)\\nprint(\"Total number = \",len(l))\\nc = 0\\nfor var in l : \\n    if prime(var) : \\n        c = c + 1\\n        print(var,end=\\'\\\\t\\')\\nprint(\"Total prime found = \",c)\\n\"\"\"\\n\\'\\'',\n",
       " '_36': '',\n",
       " '_i37': 'round(15.6)',\n",
       " '_37': 16,\n",
       " '_i38': 'round(15.5)',\n",
       " '_38': 16,\n",
       " '_i39': 'round(15.4)',\n",
       " '_39': 15,\n",
       " '_i40': '#recursion\\ndef fact(num):\\n    if num == 1 : \\n        return 1\\n    else :\\n        return fact(num-1)\\nfact(5)',\n",
       " 'fact': <function __main__.fact(num)>,\n",
       " '_40': 1,\n",
       " '_i41': '#recursion\\ndef fact(num):\\n    if num == 1 : \\n        return 1\\n    else :\\n        return num*fact(num-1)\\nfact(5)',\n",
       " '_41': 120,\n",
       " '_i42': 'print(\"helo',\n",
       " '_i43': 'print(\"helooo world\")\\n5 = \\'hi\\'',\n",
       " '_i44': 'x = 5 + 10 - 6 * 3 / 0',\n",
       " '_i45': 'print(\"i am khan\",abracadabra)',\n",
       " '_i46': 'globals()'}"
      ]
     },
     "execution_count": 46,
     "metadata": {},
     "output_type": "execute_result"
    }
   ],
   "source": [
    "globals()"
   ]
  },
  {
   "cell_type": "code",
   "execution_count": 48,
   "metadata": {},
   "outputs": [
    {
     "data": {
      "text/plain": [
       "{'__name__': '__main__',\n",
       " '__doc__': '\\nprint(*l)\\nprint(\"Total number = \",len(l))\\nc = 0\\nfor var in l : \\n    if prime(var) : \\n        c = c + 1\\n        print(var,end=\\'\\t\\')\\nprint(\"Total prime found = \",c)\\n',\n",
       " '__package__': None,\n",
       " '__loader__': None,\n",
       " '__spec__': None,\n",
       " '__builtin__': <module 'builtins' (built-in)>,\n",
       " '__builtins__': <module 'builtins' (built-in)>,\n",
       " '_ih': ['',\n",
       "  'def check(arg):\\n    if arg.lower().strip() == \\'foo\\' : \\n        return \\'bar\\'\\n    elif arg.lower().strip() == \\'bar\\' : \\n        return \\'foo\\'\\n    else  : \\n        return \\'foo|bar\\'\\n    \\nresult = check(input(\"Enter your argument\"))\\nprint(result)',\n",
       "  'def check(arg):\\n    if arg.lower().strip() == \\'foo\\' : \\n        return \\'bar\\'\\n    elif arg.lower().strip() == \\'bar\\' : \\n        return \\'foo\\'\\n    else  : \\n        return \\'foo|bar\\'\\n    \\nresult = check(input(\"Enter your argument\"))\\nprint(result)',\n",
       "  'def check(arg):\\n    if arg.lower().strip() == \\'foo\\' : \\n        return \\'bar\\'\\n    elif arg.lower().strip() == \\'bar\\' : \\n        return \\'foo\\'\\n    else  : \\n        return \\'foo|bar\\'\\n    \\nresult = check(input(\"Enter your argument\"))\\nprint(result)',\n",
       "  \"check = lambda arg : 'foo' if arg.lower().strip() == 'bar' else ( 'bar' if arg.lower().strip() == 'foo' else 'foo|bar' )\",\n",
       "  \"check('bar')\",\n",
       "  \"check('foo')\",\n",
       "  \"check('foo|bar')\",\n",
       "  'greatest = lambda a,b,c : a if a >= b and a >= c \\\\ \\nelse ( b if b >= a and b >= c else c ) \\ngreatest(*input().split())',\n",
       "  'greatest = lambda a,b,c : a if a >= b and a >= c else ( b if b >= a and b >= c else c ) \\ngreatest(*input().split())',\n",
       "  'a = input().split()\\nprint(a)',\n",
       "  'greatest = lambda a,b,c : a if a >= b and a >= c else ( b if b >= a and b >= c else c ) \\n\\nnum = input().split()\\nprint(3_num)\\n\\n#greatest(a,b,c)',\n",
       "  'greatest = lambda a,b,c : a if a >= b and a >= c else ( b if b >= a and b >= c else c ) \\n\\nnum = input().split()\\nprint(num)\\n\\n#greatest(a,b,c)',\n",
       "  'greatest = lambda a,b,c : a if a >= b and a >= c else ( b if b >= a and b >= c else c ) \\n\\nnum = input().split()\\nprint(num)\\n\\nnum = list(map(print,num))\\n\\n#greatest(a,b,c)',\n",
       "  'greatest = lambda a,b,c : a if a >= b and a >= c else ( b if b >= a and b >= c else c ) \\n\\nnum = input().split()\\nprint(num)\\n\\nnum = list(map(print,num))\\nprint(num)\\n#greatest(a,b,c)',\n",
       "  'greatest = lambda a,b,c : a if a >= b and a >= c else ( b if b >= a and b >= c else c ) \\n\\nnum = input().split()\\nprint(num)\\n\\nnum = list(map(int,num))\\nprint(num)\\n#greatest(a,b,c)',\n",
       "  'greatest = lambda a,b,c : a if a >= b and a >= c else ( b if b >= a and b >= c else c ) \\nnum = input().split()\\nprint(num)\\nnum = list(map(int,num))\\nprint(num)\\nr = greatest(*num)\\nprint(r)',\n",
       "  'greatest = lambda a,b,c : a if a >= b and a >= c else ( b if b >= a and b >= c else c ) \\n#num = input().split()\\n#print(num)\\n#num = list(map(int,num))\\n#print(num)\\nnum = list(map(int,input().split()))\\nr = greatest(*num)\\nprint(r)',\n",
       "  'greatest = lambda a,b,c : a if a >= b and a >= c else ( b if b >= a and b >= c else c ) \\n#num = input().split()\\n#print(num)\\n#num = list(map(int,num))\\n#print(num)\\n#num = list(map(int,input().split()))\\n#r = greatest(*num)\\nr = greatest(*list(map(int,input().split())))\\nprint(r)',\n",
       "  'greatest = lambda a,b,c : a if a >= b and a >= c else ( b if b >= a and b >= c else c ) \\n#num = input().split()\\n#print(num)\\n#num = list(map(int,num))\\n#print(num)\\n#num = list(map(int,input().split()))\\n#r = greatest(*num)\\nr = greatest(*list(map(int,input().split())))\\nprint(r)',\n",
       "  'from math import sqrt\\ndef prime(num):\\n    sq_num = round(sqrt(num))\\n    for var in range(2,sq_num+1) : \\n        if num % var == 0 :\\n    ',\n",
       "  'from math import sqrt\\ndef prime(num):\\n    sq_num = round(sqrt(num))\\n    for var in range(2,sq_num+1) : \\n        if num % var == 0 :\\n            return False\\n    else : \\n    ',\n",
       "  'from math import sqrt\\ndef prime(num):\\n    sq_num = round(sqrt(num))\\n    for var in range(2,sq_num+1) : \\n        if num % var == 0 :\\n            return False\\n    else : \\n        return True\\n    ',\n",
       "  'from math import sqrt\\ndef prime(num):\\n    sq_num = round(sqrt(num))\\n    for var in range(2,sq_num+1) : \\n        if num % var == 0 :\\n            return False\\n    else : \\n        return True\\n\\nprime(121)',\n",
       "  'from math import sqrt\\ndef prime(num):\\n    sq_num = round(sqrt(num))\\n    for var in range(2,sq_num+1) : \\n        if num % var == 0 :\\n            return False\\n    else : \\n        return True\\n\\nprime(127)',\n",
       "  'from math import sqrt\\ndef prime(num):\\n    sq_num = round(sqrt(num))\\n    for var in range(2,sq_num+1) : \\n        if num % var == 0 :\\n            return False\\n    else : \\n        return True\\n\\nprime(15)',\n",
       "  'from math import sqrt\\ndef prime(num):\\n    sq_num = round(sqrt(num))\\n    for var in range(2,sq_num+1) : \\n        if num % var == 0 :\\n            return False\\n    else : \\n        return True\\n\\nprime(17)',\n",
       "  'from random import randint\\nl = [ ranint(1,10000) for var in range(100) ]\\nprint(*l)',\n",
       "  'from random import randint\\nl = [ randint(1,10000) for var in range(100) ]\\nprint(*l)',\n",
       "  'from random import randint\\nl = [ randint(1,10000) for var in range(100) ]\\nprint(*l)\\nfor var in l : \\n    if prime(var) : \\n        print(var)',\n",
       "  'from random import randint\\nl = [ randint(1,10000) for var in range(100) ]\\nprint(*l)\\nprint(\"Total number = \",len(l))\\nc = 0\\nfor var in l : \\n    if prime(var) : \\n        c = c + 1\\n        print(var,end=\\'\\\\t\\')\\nprint(\"Total prime found = \",c)',\n",
       "  'from random import randint\\nl = [ randint(1,10000) for var in range(100) ]\\n\\nprime_list = list(map(prime,l))\\nprint(*prime_list)\\n\\n\"\"\"\\nprint(*l)\\nprint(\"Total number = \",len(l))\\nc = 0\\nfor var in l : \\n    if prime(var) : \\n        c = c + 1\\n        print(var,end=\\'\\\\t\\')\\nprint(\"Total prime found = \",c)\\n\"\"\"',\n",
       "  'from math import sqrt\\ndef prime(num):\\n    sq_num = round(sqrt(num))\\n    for var in range(2,sq_num+1) : \\n        if num % var == 0 :\\n            return False\\n    else : \\n        return num\\n\\nprime(17)',\n",
       "  'from math import sqrt\\ndef prime(num):\\n    sq_num = round(sqrt(num))\\n    for var in range(2,sq_num+1) : \\n        if num % var == 0 :\\n            return 0\\n    else : \\n        return num\\n\\nprime(17)',\n",
       "  'from random import randint\\nl = [ randint(1,10000) for var in range(100) ]\\n\\nprime_list = list(map(prime,l))\\n#prime_list = list(filter(prime))\\nprint(*prime_list)\\n\\n\"\"\"\\nprint(*l)\\nprint(\"Total number = \",len(l))\\nc = 0\\nfor var in l : \\n    if prime(var) : \\n        c = c + 1\\n        print(var,end=\\'\\\\t\\')\\nprint(\"Total prime found = \",c)\\n\"\"\"',\n",
       "  'from random import randint\\nl = [ randint(1,10000) for var in range(100) ]\\n\\nprime_list = list(map(prime,l))\\n#prime_list = list(filter(prime))\\nprint(*prime_list)\\n\\n\"\"\"\\nprint(*l)\\nprint(\"Total number = \",len(l))\\nc = 0\\nfor var in l : \\n    if prime(var) : \\n        c = c + 1\\n        print(var,end=\\'\\\\t\\')\\nprint(\"Total prime found = \",c)\\n\"\"\"\\n\\'\\'',\n",
       "  'from random import randint\\nl = [ randint(1,10000) for var in range(100) ]\\n\\n#prime_list = list(map(prime,l))\\nprime_list = list(filter(prime,l))\\nprint(*prime_list)\\n\\n\"\"\"\\nprint(*l)\\nprint(\"Total number = \",len(l))\\nc = 0\\nfor var in l : \\n    if prime(var) : \\n        c = c + 1\\n        print(var,end=\\'\\\\t\\')\\nprint(\"Total prime found = \",c)\\n\"\"\"\\n\\'\\'',\n",
       "  'round(15.6)',\n",
       "  'round(15.5)',\n",
       "  'round(15.4)',\n",
       "  '#recursion\\ndef fact(num):\\n    if num == 1 : \\n        return 1\\n    else :\\n        return fact(num-1)\\nfact(5)',\n",
       "  '#recursion\\ndef fact(num):\\n    if num == 1 : \\n        return 1\\n    else :\\n        return num*fact(num-1)\\nfact(5)',\n",
       "  'print(\"helo',\n",
       "  'print(\"helooo world\")\\n5 = \\'hi\\'',\n",
       "  'x = 5 + 10 - 6 * 3 / 0',\n",
       "  'print(\"i am khan\",abracadabra)',\n",
       "  'globals()',\n",
       "  'local()',\n",
       "  'locals()'],\n",
       " '_oh': {5: 'foo',\n",
       "  6: 'bar',\n",
       "  7: 'foo|bar',\n",
       "  9: '5',\n",
       "  23: False,\n",
       "  24: True,\n",
       "  25: False,\n",
       "  26: True,\n",
       "  31: '\\nprint(*l)\\nprint(\"Total number = \",len(l))\\nc = 0\\nfor var in l : \\n    if prime(var) : \\n        c = c + 1\\n        print(var,end=\\'\\t\\')\\nprint(\"Total prime found = \",c)\\n',\n",
       "  32: 17,\n",
       "  33: 17,\n",
       "  34: '\\nprint(*l)\\nprint(\"Total number = \",len(l))\\nc = 0\\nfor var in l : \\n    if prime(var) : \\n        c = c + 1\\n        print(var,end=\\'\\t\\')\\nprint(\"Total prime found = \",c)\\n',\n",
       "  35: '',\n",
       "  36: '',\n",
       "  37: 16,\n",
       "  38: 16,\n",
       "  39: 15,\n",
       "  40: 1,\n",
       "  41: 120,\n",
       "  46: {...}},\n",
       " '_dh': ['C:\\\\Users\\\\sachin\\\\Documents\\\\GitHub\\\\Python_Codes\\\\batch_5pm'],\n",
       " 'In': ['',\n",
       "  'def check(arg):\\n    if arg.lower().strip() == \\'foo\\' : \\n        return \\'bar\\'\\n    elif arg.lower().strip() == \\'bar\\' : \\n        return \\'foo\\'\\n    else  : \\n        return \\'foo|bar\\'\\n    \\nresult = check(input(\"Enter your argument\"))\\nprint(result)',\n",
       "  'def check(arg):\\n    if arg.lower().strip() == \\'foo\\' : \\n        return \\'bar\\'\\n    elif arg.lower().strip() == \\'bar\\' : \\n        return \\'foo\\'\\n    else  : \\n        return \\'foo|bar\\'\\n    \\nresult = check(input(\"Enter your argument\"))\\nprint(result)',\n",
       "  'def check(arg):\\n    if arg.lower().strip() == \\'foo\\' : \\n        return \\'bar\\'\\n    elif arg.lower().strip() == \\'bar\\' : \\n        return \\'foo\\'\\n    else  : \\n        return \\'foo|bar\\'\\n    \\nresult = check(input(\"Enter your argument\"))\\nprint(result)',\n",
       "  \"check = lambda arg : 'foo' if arg.lower().strip() == 'bar' else ( 'bar' if arg.lower().strip() == 'foo' else 'foo|bar' )\",\n",
       "  \"check('bar')\",\n",
       "  \"check('foo')\",\n",
       "  \"check('foo|bar')\",\n",
       "  'greatest = lambda a,b,c : a if a >= b and a >= c \\\\ \\nelse ( b if b >= a and b >= c else c ) \\ngreatest(*input().split())',\n",
       "  'greatest = lambda a,b,c : a if a >= b and a >= c else ( b if b >= a and b >= c else c ) \\ngreatest(*input().split())',\n",
       "  'a = input().split()\\nprint(a)',\n",
       "  'greatest = lambda a,b,c : a if a >= b and a >= c else ( b if b >= a and b >= c else c ) \\n\\nnum = input().split()\\nprint(3_num)\\n\\n#greatest(a,b,c)',\n",
       "  'greatest = lambda a,b,c : a if a >= b and a >= c else ( b if b >= a and b >= c else c ) \\n\\nnum = input().split()\\nprint(num)\\n\\n#greatest(a,b,c)',\n",
       "  'greatest = lambda a,b,c : a if a >= b and a >= c else ( b if b >= a and b >= c else c ) \\n\\nnum = input().split()\\nprint(num)\\n\\nnum = list(map(print,num))\\n\\n#greatest(a,b,c)',\n",
       "  'greatest = lambda a,b,c : a if a >= b and a >= c else ( b if b >= a and b >= c else c ) \\n\\nnum = input().split()\\nprint(num)\\n\\nnum = list(map(print,num))\\nprint(num)\\n#greatest(a,b,c)',\n",
       "  'greatest = lambda a,b,c : a if a >= b and a >= c else ( b if b >= a and b >= c else c ) \\n\\nnum = input().split()\\nprint(num)\\n\\nnum = list(map(int,num))\\nprint(num)\\n#greatest(a,b,c)',\n",
       "  'greatest = lambda a,b,c : a if a >= b and a >= c else ( b if b >= a and b >= c else c ) \\nnum = input().split()\\nprint(num)\\nnum = list(map(int,num))\\nprint(num)\\nr = greatest(*num)\\nprint(r)',\n",
       "  'greatest = lambda a,b,c : a if a >= b and a >= c else ( b if b >= a and b >= c else c ) \\n#num = input().split()\\n#print(num)\\n#num = list(map(int,num))\\n#print(num)\\nnum = list(map(int,input().split()))\\nr = greatest(*num)\\nprint(r)',\n",
       "  'greatest = lambda a,b,c : a if a >= b and a >= c else ( b if b >= a and b >= c else c ) \\n#num = input().split()\\n#print(num)\\n#num = list(map(int,num))\\n#print(num)\\n#num = list(map(int,input().split()))\\n#r = greatest(*num)\\nr = greatest(*list(map(int,input().split())))\\nprint(r)',\n",
       "  'greatest = lambda a,b,c : a if a >= b and a >= c else ( b if b >= a and b >= c else c ) \\n#num = input().split()\\n#print(num)\\n#num = list(map(int,num))\\n#print(num)\\n#num = list(map(int,input().split()))\\n#r = greatest(*num)\\nr = greatest(*list(map(int,input().split())))\\nprint(r)',\n",
       "  'from math import sqrt\\ndef prime(num):\\n    sq_num = round(sqrt(num))\\n    for var in range(2,sq_num+1) : \\n        if num % var == 0 :\\n    ',\n",
       "  'from math import sqrt\\ndef prime(num):\\n    sq_num = round(sqrt(num))\\n    for var in range(2,sq_num+1) : \\n        if num % var == 0 :\\n            return False\\n    else : \\n    ',\n",
       "  'from math import sqrt\\ndef prime(num):\\n    sq_num = round(sqrt(num))\\n    for var in range(2,sq_num+1) : \\n        if num % var == 0 :\\n            return False\\n    else : \\n        return True\\n    ',\n",
       "  'from math import sqrt\\ndef prime(num):\\n    sq_num = round(sqrt(num))\\n    for var in range(2,sq_num+1) : \\n        if num % var == 0 :\\n            return False\\n    else : \\n        return True\\n\\nprime(121)',\n",
       "  'from math import sqrt\\ndef prime(num):\\n    sq_num = round(sqrt(num))\\n    for var in range(2,sq_num+1) : \\n        if num % var == 0 :\\n            return False\\n    else : \\n        return True\\n\\nprime(127)',\n",
       "  'from math import sqrt\\ndef prime(num):\\n    sq_num = round(sqrt(num))\\n    for var in range(2,sq_num+1) : \\n        if num % var == 0 :\\n            return False\\n    else : \\n        return True\\n\\nprime(15)',\n",
       "  'from math import sqrt\\ndef prime(num):\\n    sq_num = round(sqrt(num))\\n    for var in range(2,sq_num+1) : \\n        if num % var == 0 :\\n            return False\\n    else : \\n        return True\\n\\nprime(17)',\n",
       "  'from random import randint\\nl = [ ranint(1,10000) for var in range(100) ]\\nprint(*l)',\n",
       "  'from random import randint\\nl = [ randint(1,10000) for var in range(100) ]\\nprint(*l)',\n",
       "  'from random import randint\\nl = [ randint(1,10000) for var in range(100) ]\\nprint(*l)\\nfor var in l : \\n    if prime(var) : \\n        print(var)',\n",
       "  'from random import randint\\nl = [ randint(1,10000) for var in range(100) ]\\nprint(*l)\\nprint(\"Total number = \",len(l))\\nc = 0\\nfor var in l : \\n    if prime(var) : \\n        c = c + 1\\n        print(var,end=\\'\\\\t\\')\\nprint(\"Total prime found = \",c)',\n",
       "  'from random import randint\\nl = [ randint(1,10000) for var in range(100) ]\\n\\nprime_list = list(map(prime,l))\\nprint(*prime_list)\\n\\n\"\"\"\\nprint(*l)\\nprint(\"Total number = \",len(l))\\nc = 0\\nfor var in l : \\n    if prime(var) : \\n        c = c + 1\\n        print(var,end=\\'\\\\t\\')\\nprint(\"Total prime found = \",c)\\n\"\"\"',\n",
       "  'from math import sqrt\\ndef prime(num):\\n    sq_num = round(sqrt(num))\\n    for var in range(2,sq_num+1) : \\n        if num % var == 0 :\\n            return False\\n    else : \\n        return num\\n\\nprime(17)',\n",
       "  'from math import sqrt\\ndef prime(num):\\n    sq_num = round(sqrt(num))\\n    for var in range(2,sq_num+1) : \\n        if num % var == 0 :\\n            return 0\\n    else : \\n        return num\\n\\nprime(17)',\n",
       "  'from random import randint\\nl = [ randint(1,10000) for var in range(100) ]\\n\\nprime_list = list(map(prime,l))\\n#prime_list = list(filter(prime))\\nprint(*prime_list)\\n\\n\"\"\"\\nprint(*l)\\nprint(\"Total number = \",len(l))\\nc = 0\\nfor var in l : \\n    if prime(var) : \\n        c = c + 1\\n        print(var,end=\\'\\\\t\\')\\nprint(\"Total prime found = \",c)\\n\"\"\"',\n",
       "  'from random import randint\\nl = [ randint(1,10000) for var in range(100) ]\\n\\nprime_list = list(map(prime,l))\\n#prime_list = list(filter(prime))\\nprint(*prime_list)\\n\\n\"\"\"\\nprint(*l)\\nprint(\"Total number = \",len(l))\\nc = 0\\nfor var in l : \\n    if prime(var) : \\n        c = c + 1\\n        print(var,end=\\'\\\\t\\')\\nprint(\"Total prime found = \",c)\\n\"\"\"\\n\\'\\'',\n",
       "  'from random import randint\\nl = [ randint(1,10000) for var in range(100) ]\\n\\n#prime_list = list(map(prime,l))\\nprime_list = list(filter(prime,l))\\nprint(*prime_list)\\n\\n\"\"\"\\nprint(*l)\\nprint(\"Total number = \",len(l))\\nc = 0\\nfor var in l : \\n    if prime(var) : \\n        c = c + 1\\n        print(var,end=\\'\\\\t\\')\\nprint(\"Total prime found = \",c)\\n\"\"\"\\n\\'\\'',\n",
       "  'round(15.6)',\n",
       "  'round(15.5)',\n",
       "  'round(15.4)',\n",
       "  '#recursion\\ndef fact(num):\\n    if num == 1 : \\n        return 1\\n    else :\\n        return fact(num-1)\\nfact(5)',\n",
       "  '#recursion\\ndef fact(num):\\n    if num == 1 : \\n        return 1\\n    else :\\n        return num*fact(num-1)\\nfact(5)',\n",
       "  'print(\"helo',\n",
       "  'print(\"helooo world\")\\n5 = \\'hi\\'',\n",
       "  'x = 5 + 10 - 6 * 3 / 0',\n",
       "  'print(\"i am khan\",abracadabra)',\n",
       "  'globals()',\n",
       "  'local()',\n",
       "  'locals()'],\n",
       " 'Out': {5: 'foo',\n",
       "  6: 'bar',\n",
       "  7: 'foo|bar',\n",
       "  9: '5',\n",
       "  23: False,\n",
       "  24: True,\n",
       "  25: False,\n",
       "  26: True,\n",
       "  31: '\\nprint(*l)\\nprint(\"Total number = \",len(l))\\nc = 0\\nfor var in l : \\n    if prime(var) : \\n        c = c + 1\\n        print(var,end=\\'\\t\\')\\nprint(\"Total prime found = \",c)\\n',\n",
       "  32: 17,\n",
       "  33: 17,\n",
       "  34: '\\nprint(*l)\\nprint(\"Total number = \",len(l))\\nc = 0\\nfor var in l : \\n    if prime(var) : \\n        c = c + 1\\n        print(var,end=\\'\\t\\')\\nprint(\"Total prime found = \",c)\\n',\n",
       "  35: '',\n",
       "  36: '',\n",
       "  37: 16,\n",
       "  38: 16,\n",
       "  39: 15,\n",
       "  40: 1,\n",
       "  41: 120,\n",
       "  46: {...}},\n",
       " 'get_ipython': <bound method InteractiveShell.get_ipython of <ipykernel.zmqshell.ZMQInteractiveShell object at 0x0000020E26320748>>,\n",
       " 'exit': <IPython.core.autocall.ZMQExitAutocall at 0x20e263709e8>,\n",
       " 'quit': <IPython.core.autocall.ZMQExitAutocall at 0x20e263709e8>,\n",
       " '_': {...},\n",
       " '__': 120,\n",
       " '___': 1,\n",
       " '_i': 'local()',\n",
       " '_ii': 'globals()',\n",
       " '_iii': 'print(\"i am khan\",abracadabra)',\n",
       " '_i1': 'def check(arg):\\n    if arg.lower().strip() == \\'foo\\' : \\n        return \\'bar\\'\\n    elif arg.lower().strip() == \\'bar\\' : \\n        return \\'foo\\'\\n    else  : \\n        return \\'foo|bar\\'\\n    \\nresult = check(input(\"Enter your argument\"))\\nprint(result)',\n",
       " 'check': <function __main__.<lambda>(arg)>,\n",
       " 'result': 'foo|bar',\n",
       " '_i2': 'def check(arg):\\n    if arg.lower().strip() == \\'foo\\' : \\n        return \\'bar\\'\\n    elif arg.lower().strip() == \\'bar\\' : \\n        return \\'foo\\'\\n    else  : \\n        return \\'foo|bar\\'\\n    \\nresult = check(input(\"Enter your argument\"))\\nprint(result)',\n",
       " '_i3': 'def check(arg):\\n    if arg.lower().strip() == \\'foo\\' : \\n        return \\'bar\\'\\n    elif arg.lower().strip() == \\'bar\\' : \\n        return \\'foo\\'\\n    else  : \\n        return \\'foo|bar\\'\\n    \\nresult = check(input(\"Enter your argument\"))\\nprint(result)',\n",
       " '_i4': \"check = lambda arg : 'foo' if arg.lower().strip() == 'bar' \\\\\\nelse ( 'bar' if arg.lower().strip() == 'foo' else 'foo|bar' )\",\n",
       " '_i5': \"check('bar')\",\n",
       " '_5': 'foo',\n",
       " '_i6': \"check('foo')\",\n",
       " '_6': 'bar',\n",
       " '_i7': \"check('foo|bar')\",\n",
       " '_7': 'foo|bar',\n",
       " '_i8': 'greatest = lambda a,b,c : a if a >= b and a >= c \\\\ \\nelse ( b if b >= a and b >= c else c ) \\ngreatest(*input().split())',\n",
       " '_i9': 'greatest = lambda a,b,c : a if a >= b and a >= c \\\\\\nelse ( b if b >= a and b >= c else c ) \\ngreatest(*input().split())',\n",
       " 'greatest': <function __main__.<lambda>(a, b, c)>,\n",
       " '_9': '5',\n",
       " '_i10': 'a = input().split()\\nprint(a)',\n",
       " 'a': ['1', '2', '5', '34', '2', '32', '3', '23'],\n",
       " '_i11': 'greatest = lambda a,b,c : a if a >= b and a >= c \\\\\\nelse ( b if b >= a and b >= c else c ) \\n\\nnum = input().split()\\nprint(3_num)\\n\\n#greatest(a,b,c)',\n",
       " '_i12': 'greatest = lambda a,b,c : a if a >= b and a >= c \\\\\\nelse ( b if b >= a and b >= c else c ) \\n\\nnum = input().split()\\nprint(num)\\n\\n#greatest(a,b,c)',\n",
       " 'num': [1, 3, 2],\n",
       " '_i13': 'greatest = lambda a,b,c : a if a >= b and a >= c \\\\\\nelse ( b if b >= a and b >= c else c ) \\n\\nnum = input().split()\\nprint(num)\\n\\nnum = list(map(print,num))\\n\\n#greatest(a,b,c)',\n",
       " '_i14': 'greatest = lambda a,b,c : a if a >= b and a >= c \\\\\\nelse ( b if b >= a and b >= c else c ) \\n\\nnum = input().split()\\nprint(num)\\n\\nnum = list(map(print,num))\\nprint(num)\\n#greatest(a,b,c)',\n",
       " '_i15': 'greatest = lambda a,b,c : a if a >= b and a >= c \\\\\\nelse ( b if b >= a and b >= c else c ) \\n\\nnum = input().split()\\nprint(num)\\n\\nnum = list(map(int,num))\\nprint(num)\\n#greatest(a,b,c)',\n",
       " '_i16': 'greatest = lambda a,b,c : a if a >= b and a >= c \\\\\\nelse ( b if b >= a and b >= c else c ) \\nnum = input().split()\\nprint(num)\\nnum = list(map(int,num))\\nprint(num)\\nr = greatest(*num)\\nprint(r)',\n",
       " 'r': 123,\n",
       " '_i17': 'greatest = lambda a,b,c : a if a >= b and a >= c \\\\\\nelse ( b if b >= a and b >= c else c ) \\n#num = input().split()\\n#print(num)\\n#num = list(map(int,num))\\n#print(num)\\nnum = list(map(int,input().split()))\\nr = greatest(*num)\\nprint(r)',\n",
       " '_i18': 'greatest = lambda a,b,c : a if a >= b and a >= c \\\\\\nelse ( b if b >= a and b >= c else c ) \\n#num = input().split()\\n#print(num)\\n#num = list(map(int,num))\\n#print(num)\\n#num = list(map(int,input().split()))\\n#r = greatest(*num)\\nr = greatest(*list(map(int,input().split())))\\nprint(r)',\n",
       " '_i19': 'greatest = lambda a,b,c : a if a >= b and a >= c \\\\\\nelse ( b if b >= a and b >= c else c ) \\n#num = input().split()\\n#print(num)\\n#num = list(map(int,num))\\n#print(num)\\n#num = list(map(int,input().split()))\\n#r = greatest(*num)\\nr = greatest(*list(map(int,input().split())))\\nprint(r)',\n",
       " '_i20': 'from math import sqrt\\ndef prime(num):\\n    sq_num = round(sqrt(num))\\n    for var in range(2,sq_num+1) : \\n        if num % var == 0 :\\n    ',\n",
       " '_i21': 'from math import sqrt\\ndef prime(num):\\n    sq_num = round(sqrt(num))\\n    for var in range(2,sq_num+1) : \\n        if num % var == 0 :\\n            return False\\n    else : \\n    ',\n",
       " '_i22': 'from math import sqrt\\ndef prime(num):\\n    sq_num = round(sqrt(num))\\n    for var in range(2,sq_num+1) : \\n        if num % var == 0 :\\n            return False\\n    else : \\n        return True\\n    ',\n",
       " 'sqrt': <function math.sqrt>,\n",
       " 'prime': <function __main__.prime(num)>,\n",
       " '_i23': 'from math import sqrt\\ndef prime(num):\\n    sq_num = round(sqrt(num))\\n    for var in range(2,sq_num+1) : \\n        if num % var == 0 :\\n            return False\\n    else : \\n        return True\\n\\nprime(121)',\n",
       " '_23': False,\n",
       " '_i24': 'from math import sqrt\\ndef prime(num):\\n    sq_num = round(sqrt(num))\\n    for var in range(2,sq_num+1) : \\n        if num % var == 0 :\\n            return False\\n    else : \\n        return True\\n\\nprime(127)',\n",
       " '_24': True,\n",
       " '_i25': 'from math import sqrt\\ndef prime(num):\\n    sq_num = round(sqrt(num))\\n    for var in range(2,sq_num+1) : \\n        if num % var == 0 :\\n            return False\\n    else : \\n        return True\\n\\nprime(15)',\n",
       " '_25': False,\n",
       " '_i26': 'from math import sqrt\\ndef prime(num):\\n    sq_num = round(sqrt(num))\\n    for var in range(2,sq_num+1) : \\n        if num % var == 0 :\\n            return False\\n    else : \\n        return True\\n\\nprime(17)',\n",
       " '_26': True,\n",
       " '_i27': 'from random import randint\\nl = [ ranint(1,10000) for var in range(100) ]\\nprint(*l)',\n",
       " 'randint': <bound method Random.randint of <random.Random object at 0x0000020E242E0F98>>,\n",
       " '_i28': 'from random import randint\\nl = [ randint(1,10000) for var in range(100) ]\\nprint(*l)',\n",
       " 'l': [5232,\n",
       "  4824,\n",
       "  5270,\n",
       "  9967,\n",
       "  6747,\n",
       "  6312,\n",
       "  1021,\n",
       "  2495,\n",
       "  7027,\n",
       "  1474,\n",
       "  6476,\n",
       "  4460,\n",
       "  969,\n",
       "  7951,\n",
       "  7312,\n",
       "  4177,\n",
       "  9604,\n",
       "  4094,\n",
       "  4511,\n",
       "  3631,\n",
       "  4297,\n",
       "  1004,\n",
       "  1681,\n",
       "  2005,\n",
       "  8097,\n",
       "  3598,\n",
       "  7148,\n",
       "  10000,\n",
       "  8189,\n",
       "  7282,\n",
       "  7706,\n",
       "  106,\n",
       "  258,\n",
       "  9956,\n",
       "  1340,\n",
       "  9580,\n",
       "  8336,\n",
       "  9323,\n",
       "  6854,\n",
       "  8480,\n",
       "  9789,\n",
       "  5368,\n",
       "  8666,\n",
       "  4286,\n",
       "  7123,\n",
       "  5858,\n",
       "  9522,\n",
       "  3972,\n",
       "  6352,\n",
       "  1135,\n",
       "  4571,\n",
       "  9177,\n",
       "  8655,\n",
       "  6022,\n",
       "  2956,\n",
       "  2730,\n",
       "  7960,\n",
       "  3861,\n",
       "  4086,\n",
       "  4030,\n",
       "  7464,\n",
       "  3926,\n",
       "  4762,\n",
       "  8948,\n",
       "  556,\n",
       "  2449,\n",
       "  6448,\n",
       "  7389,\n",
       "  927,\n",
       "  7647,\n",
       "  2429,\n",
       "  5993,\n",
       "  3242,\n",
       "  1257,\n",
       "  5580,\n",
       "  2457,\n",
       "  5879,\n",
       "  9640,\n",
       "  2506,\n",
       "  3654,\n",
       "  1664,\n",
       "  738,\n",
       "  2607,\n",
       "  5294,\n",
       "  4516,\n",
       "  2892,\n",
       "  911,\n",
       "  5076,\n",
       "  2884,\n",
       "  2032,\n",
       "  420,\n",
       "  4029,\n",
       "  6185,\n",
       "  9700,\n",
       "  6112,\n",
       "  9499,\n",
       "  2961,\n",
       "  5808,\n",
       "  1027,\n",
       "  430],\n",
       " '_i29': 'from random import randint\\nl = [ randint(1,10000) for var in range(100) ]\\nprint(*l)\\nfor var in l : \\n    if prime(var) : \\n        print(var)',\n",
       " 'var': 9687,\n",
       " '_i30': 'from random import randint\\nl = [ randint(1,10000) for var in range(100) ]\\nprint(*l)\\nprint(\"Total number = \",len(l))\\nc = 0\\nfor var in l : \\n    if prime(var) : \\n        c = c + 1\\n        print(var,end=\\'\\\\t\\')\\nprint(\"Total prime found = \",c)',\n",
       " 'c': 16,\n",
       " '_i31': 'from random import randint\\nl = [ randint(1,10000) for var in range(100) ]\\n\\nprime_list = list(map(prime,l))\\nprint(*prime_list)\\n\\n\"\"\"\\nprint(*l)\\nprint(\"Total number = \",len(l))\\nc = 0\\nfor var in l : \\n    if prime(var) : \\n        c = c + 1\\n        print(var,end=\\'\\\\t\\')\\nprint(\"Total prime found = \",c)\\n\"\"\"',\n",
       " 'prime_list': [9967, 1021, 7027, 7951, 4177, 3631, 4297, 9323, 5879, 911],\n",
       " '_31': '\\nprint(*l)\\nprint(\"Total number = \",len(l))\\nc = 0\\nfor var in l : \\n    if prime(var) : \\n        c = c + 1\\n        print(var,end=\\'\\t\\')\\nprint(\"Total prime found = \",c)\\n',\n",
       " '_i32': 'from math import sqrt\\ndef prime(num):\\n    sq_num = round(sqrt(num))\\n    for var in range(2,sq_num+1) : \\n        if num % var == 0 :\\n            return False\\n    else : \\n        return num\\n\\nprime(17)',\n",
       " '_32': 17,\n",
       " '_i33': 'from math import sqrt\\ndef prime(num):\\n    sq_num = round(sqrt(num))\\n    for var in range(2,sq_num+1) : \\n        if num % var == 0 :\\n            return 0\\n    else : \\n        return num\\n\\nprime(17)',\n",
       " '_33': 17,\n",
       " '_i34': 'from random import randint\\nl = [ randint(1,10000) for var in range(100) ]\\n\\nprime_list = list(map(prime,l))\\n#prime_list = list(filter(prime))\\nprint(*prime_list)\\n\\n\"\"\"\\nprint(*l)\\nprint(\"Total number = \",len(l))\\nc = 0\\nfor var in l : \\n    if prime(var) : \\n        c = c + 1\\n        print(var,end=\\'\\\\t\\')\\nprint(\"Total prime found = \",c)\\n\"\"\"',\n",
       " '_34': '\\nprint(*l)\\nprint(\"Total number = \",len(l))\\nc = 0\\nfor var in l : \\n    if prime(var) : \\n        c = c + 1\\n        print(var,end=\\'\\t\\')\\nprint(\"Total prime found = \",c)\\n',\n",
       " '_i35': 'from random import randint\\nl = [ randint(1,10000) for var in range(100) ]\\n\\nprime_list = list(map(prime,l))\\n#prime_list = list(filter(prime))\\nprint(*prime_list)\\n\\n\"\"\"\\nprint(*l)\\nprint(\"Total number = \",len(l))\\nc = 0\\nfor var in l : \\n    if prime(var) : \\n        c = c + 1\\n        print(var,end=\\'\\\\t\\')\\nprint(\"Total prime found = \",c)\\n\"\"\"\\n\\'\\'',\n",
       " '_35': '',\n",
       " '_i36': 'from random import randint\\nl = [ randint(1,10000) for var in range(100) ]\\n\\n#prime_list = list(map(prime,l))\\nprime_list = list(filter(prime,l))\\nprint(*prime_list)\\n\\n\"\"\"\\nprint(*l)\\nprint(\"Total number = \",len(l))\\nc = 0\\nfor var in l : \\n    if prime(var) : \\n        c = c + 1\\n        print(var,end=\\'\\\\t\\')\\nprint(\"Total prime found = \",c)\\n\"\"\"\\n\\'\\'',\n",
       " '_36': '',\n",
       " '_i37': 'round(15.6)',\n",
       " '_37': 16,\n",
       " '_i38': 'round(15.5)',\n",
       " '_38': 16,\n",
       " '_i39': 'round(15.4)',\n",
       " '_39': 15,\n",
       " '_i40': '#recursion\\ndef fact(num):\\n    if num == 1 : \\n        return 1\\n    else :\\n        return fact(num-1)\\nfact(5)',\n",
       " 'fact': <function __main__.fact(num)>,\n",
       " '_40': 1,\n",
       " '_i41': '#recursion\\ndef fact(num):\\n    if num == 1 : \\n        return 1\\n    else :\\n        return num*fact(num-1)\\nfact(5)',\n",
       " '_41': 120,\n",
       " '_i42': 'print(\"helo',\n",
       " '_i43': 'print(\"helooo world\")\\n5 = \\'hi\\'',\n",
       " '_i44': 'x = 5 + 10 - 6 * 3 / 0',\n",
       " '_i45': 'print(\"i am khan\",abracadabra)',\n",
       " '_i46': 'globals()',\n",
       " '_46': {...},\n",
       " '_i47': 'local()',\n",
       " '_i48': 'locals()'}"
      ]
     },
     "execution_count": 48,
     "metadata": {},
     "output_type": "execute_result"
    }
   ],
   "source": [
    "locals()"
   ]
  },
  {
   "cell_type": "code",
   "execution_count": null,
   "metadata": {},
   "outputs": [],
   "source": []
  }
 ],
 "metadata": {
  "kernelspec": {
   "display_name": "Python 3",
   "language": "python",
   "name": "python3"
  },
  "language_info": {
   "codemirror_mode": {
    "name": "ipython",
    "version": 3
   },
   "file_extension": ".py",
   "mimetype": "text/x-python",
   "name": "python",
   "nbconvert_exporter": "python",
   "pygments_lexer": "ipython3",
   "version": "3.6.5"
  }
 },
 "nbformat": 4,
 "nbformat_minor": 2
}
