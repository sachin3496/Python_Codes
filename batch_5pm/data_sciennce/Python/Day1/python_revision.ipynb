{
 "cells": [
  {
   "cell_type": "code",
   "execution_count": 1,
   "metadata": {},
   "outputs": [],
   "source": [
    "def fact(num):\n",
    "    if num == 1 : \n",
    "        return 1\n",
    "    return num*fact(num-1)"
   ]
  },
  {
   "cell_type": "code",
   "execution_count": 2,
   "metadata": {},
   "outputs": [
    {
     "data": {
      "text/plain": [
       "120"
      ]
     },
     "execution_count": 2,
     "metadata": {},
     "output_type": "execute_result"
    }
   ],
   "source": [
    "fact(5)"
   ]
  },
  {
   "cell_type": "code",
   "execution_count": 3,
   "metadata": {},
   "outputs": [
    {
     "name": "stdout",
     "output_type": "stream",
     "text": [
      "Hello my name is sachin yadav\n"
     ]
    }
   ],
   "source": [
    "#closure\n",
    "#global --> __main__\n",
    "def hello():\n",
    "    #local\n",
    "    name = 'sachin yadav'\n",
    "    def hi():\n",
    "        #non-local or nested functions\n",
    "        s = f\"Hello my name is {name}\"\n",
    "        print(s)\n",
    "    return hi\n",
    "\n",
    "new_fun = hello()\n",
    "\n",
    "new_fun()"
   ]
  },
  {
   "cell_type": "code",
   "execution_count": 4,
   "metadata": {},
   "outputs": [],
   "source": [
    "def outer(x): #closure function \n",
    "    def inner(y):\n",
    "        return x*x + y*y\n",
    "    return inner \n",
    "#a closure is nested funtion of python which return function when called \n"
   ]
  },
  {
   "cell_type": "code",
   "execution_count": 12,
   "metadata": {},
   "outputs": [
    {
     "name": "stdout",
     "output_type": "stream",
     "text": [
      "for random var  1\t26\n",
      "\n",
      "for random var  3\t34\n",
      "\n",
      "for random var  8\t89\n",
      "\n",
      "for random var  3\t34\n",
      "\n",
      "for random var  6\t61\n",
      "\n"
     ]
    }
   ],
   "source": [
    "squre = outer(5)\n",
    "from random import randint\n",
    "\n",
    "for var in range(5):\n",
    "    x = randint(1,10)\n",
    "    print(\"for random var \",x,end='\\t')\n",
    "    print(squre(x))\n",
    "    print()"
   ]
  },
  {
   "cell_type": "code",
   "execution_count": 8,
   "metadata": {},
   "outputs": [
    {
     "name": "stdout",
     "output_type": "stream",
     "text": [
      "Hello world\n"
     ]
    }
   ],
   "source": [
    "def hello():\n",
    "    print(\"Hello world\")\n",
    "    \n",
    "y = hello\n",
    "y()"
   ]
  },
  {
   "cell_type": "code",
   "execution_count": 9,
   "metadata": {},
   "outputs": [
    {
     "name": "stdout",
     "output_type": "stream",
     "text": [
      "5\n"
     ]
    }
   ],
   "source": [
    "x  = 5\n",
    "y = x \n",
    "print(y)"
   ]
  },
  {
   "cell_type": "code",
   "execution_count": 15,
   "metadata": {},
   "outputs": [],
   "source": [
    "#decorator \n",
    "def lets_decorate(old_func): \n",
    "    def decorate(*args) : \n",
    "        print(\"*\"*30)\n",
    "        print(\"*\"*30)\n",
    "        print()\n",
    "        old_func(*args)\n",
    "        print()\n",
    "        print(\"*\"*30)\n",
    "        print(\"*\"*30)\n",
    "    return decorate"
   ]
  },
  {
   "cell_type": "code",
   "execution_count": 16,
   "metadata": {},
   "outputs": [
    {
     "name": "stdout",
     "output_type": "stream",
     "text": [
      "Hello World  python\n"
     ]
    }
   ],
   "source": [
    "def hello(name): #old function \n",
    "    print(\"Hello World \",name)\n",
    "hello('python')"
   ]
  },
  {
   "cell_type": "code",
   "execution_count": 17,
   "metadata": {},
   "outputs": [
    {
     "name": "stdout",
     "output_type": "stream",
     "text": [
      "******************************\n",
      "******************************\n",
      "\n",
      "Hello World  python\n",
      "\n",
      "******************************\n",
      "******************************\n"
     ]
    }
   ],
   "source": [
    "hello1 = lets_decorate(hello)\n",
    "hello1('python')"
   ]
  },
  {
   "cell_type": "code",
   "execution_count": 18,
   "metadata": {},
   "outputs": [
    {
     "name": "stdout",
     "output_type": "stream",
     "text": [
      "x=4 and y=5 \n",
      "x+y=9\n"
     ]
    }
   ],
   "source": [
    "def add(x,y):\n",
    "    print(f\"x={x} and y={y} \")\n",
    "    print(f\"x+y={x+y}\")\n",
    "add(4,5)"
   ]
  },
  {
   "cell_type": "code",
   "execution_count": 19,
   "metadata": {},
   "outputs": [
    {
     "name": "stdout",
     "output_type": "stream",
     "text": [
      "******************************\n",
      "******************************\n",
      "\n",
      "x=4 and y=5 \n",
      "x+y=9\n",
      "\n",
      "******************************\n",
      "******************************\n"
     ]
    }
   ],
   "source": [
    "add1 = lets_decorate(add)\n",
    "add1(4,5)"
   ]
  },
  {
   "cell_type": "code",
   "execution_count": 20,
   "metadata": {},
   "outputs": [],
   "source": [
    "#@decorator\n",
    "@lets_decorate\n",
    "def vote(name,age,sex='male'):\n",
    "    salutation = None\n",
    "    if sex.lower().strip() == 'male' : \n",
    "        salutation = 'Mr. '\n",
    "    else : \n",
    "        salutation = 'Miss. '\n",
    "        \n",
    "    print(f\"Welcome {salutation} {name} \")\n",
    "    if age >= 18 : \n",
    "        print(\"You can vote\")\n",
    "    else : \n",
    "        print(\"You can not vote.\")"
   ]
  },
  {
   "cell_type": "code",
   "execution_count": 21,
   "metadata": {},
   "outputs": [
    {
     "name": "stdout",
     "output_type": "stream",
     "text": [
      "******************************\n",
      "******************************\n",
      "\n",
      "Welcome Mr.  sachin \n",
      "You can vote\n",
      "\n",
      "******************************\n",
      "******************************\n"
     ]
    }
   ],
   "source": [
    "vote('sachin',21)"
   ]
  },
  {
   "cell_type": "code",
   "execution_count": 24,
   "metadata": {},
   "outputs": [
    {
     "name": "stdout",
     "output_type": "stream",
     "text": [
      "x =  6\n",
      "y =  7\n",
      "6 + 7 = 13\n"
     ]
    }
   ],
   "source": [
    "def fun(fun1):\n",
    "    def new(x,y):\n",
    "        print(\"x = \",x)\n",
    "        print(\"y = \",y)\n",
    "        fun1(x,y)\n",
    "    return new\n",
    "\n",
    "def add(p,q):\n",
    "    print(\"{} + {} = {}\".format(p,q,p+q))\n",
    "new = fun(add)\n",
    "\n",
    "new(6,7)\n",
    "    "
   ]
  },
  {
   "cell_type": "code",
   "execution_count": 26,
   "metadata": {},
   "outputs": [
    {
     "name": "stdout",
     "output_type": "stream",
     "text": [
      "\n",
      "\n",
      "Enter x : 5\n",
      "Enter y : 6\n",
      "---------------------------------------------------------------------------\n",
      "---------------------------------------------------------------------------\n",
      "\n",
      "***************************************************************************\n",
      "***************************************************************************\n",
      "x = 5\n",
      "y = 6\n",
      "x + y = 11\n",
      "***************************************************************************\n",
      "***************************************************************************\n",
      "\n",
      "---------------------------------------------------------------------------\n",
      "---------------------------------------------------------------------------\n",
      "\n",
      "\n"
     ]
    }
   ],
   "source": [
    "def decorator(old_fun):\n",
    "    def makeup(*arg):\n",
    "        #l = len(arg)\n",
    "        print(\"*\"*75)\n",
    "        print(\"*\"*75)\n",
    "        #name = name.center((l*3))\n",
    "        old_fun(*arg)\n",
    "        print(\"*\"*75)\n",
    "        print(\"*\"*75)\n",
    "    return makeup\n",
    "def my(old):\n",
    "    def new(*arg):\n",
    "        print(\"-\"*75)\n",
    "        print(\"-\"*75)\n",
    "        print()\n",
    "        old(*arg)\n",
    "        print()\n",
    "        print(\"-\"*75)\n",
    "        print(\"-\"*75)\n",
    "    return new\n",
    "@my\n",
    "@decorator\n",
    "def add(x,y):\n",
    "    print(\"x = {}\".format(x))\n",
    "    print(\"y = {}\".format(y))\n",
    "    print(\"x + y = {}\".format(x+y))\n",
    "\n",
    "@decorator\n",
    "def hello(name):\n",
    "    print(name)\n",
    "\n",
    "#while input(\"Type something to repet : \") :\n",
    "print(\"\\n\")\n",
    "    #n = input(\"Please Enter your name : \")\n",
    "    #hello(n)\n",
    "x = int(input(\"Enter x : \"))\n",
    "y = int(input(\"Enter y : \"))\n",
    "add(x,y)\n",
    "print(\"\\n\")\n"
   ]
  },
  {
   "cell_type": "code",
   "execution_count": 27,
   "metadata": {},
   "outputs": [
    {
     "name": "stdout",
     "output_type": "stream",
     "text": [
      "Hello This is python\n",
      "10\n"
     ]
    }
   ],
   "source": [
    "def decorator(old):\n",
    "    def makeup(*args):\n",
    "        print(\"Hello This is python\")\n",
    "        old(*args)\n",
    "    return makeup\n",
    "@decorator\n",
    "def add(x,y):\n",
    "    print(x+y)\n",
    "    \n",
    "add(5,5)"
   ]
  },
  {
   "cell_type": "code",
   "execution_count": 30,
   "metadata": {},
   "outputs": [],
   "source": [
    "def dec(old):\n",
    "    def make(*args):\n",
    "        print(\"Jai raam ji ki \")\n",
    "        old(*args)\n",
    "        \n",
    "    return make\n",
    "\n",
    "@dec\n",
    "def hello(name):\n",
    "    print(\"Hello \",name)\n",
    "\n",
    "@dec\n",
    "def add(x,y):\n",
    "    print(x+y)"
   ]
  },
  {
   "cell_type": "code",
   "execution_count": 33,
   "metadata": {},
   "outputs": [
    {
     "name": "stdout",
     "output_type": "stream",
     "text": [
      "Jai raam ji ki \n",
      "Hello  sachin\n",
      "Jai raam ji ki \n",
      "9\n"
     ]
    }
   ],
   "source": [
    "hello('sachin')\n",
    "add(4,5)"
   ]
  },
  {
   "cell_type": "code",
   "execution_count": 34,
   "metadata": {},
   "outputs": [],
   "source": [
    "@dec\n",
    "@dec\n",
    "@dec\n",
    "def hello():\n",
    "    print(\"HI this is sachin\")"
   ]
  },
  {
   "cell_type": "code",
   "execution_count": 35,
   "metadata": {},
   "outputs": [
    {
     "name": "stdout",
     "output_type": "stream",
     "text": [
      "Jai raam ji ki \n",
      "Jai raam ji ki \n",
      "Jai raam ji ki \n",
      "HI this is sachin\n"
     ]
    }
   ],
   "source": [
    "hello()"
   ]
  },
  {
   "cell_type": "code",
   "execution_count": 37,
   "metadata": {},
   "outputs": [
    {
     "name": "stdout",
     "output_type": "stream",
     "text": [
      "Enter tags by space separted b i strong h1 html\n",
      "Enter you code : \n",
      "\n",
      "Hello World Power of Decorator\n"
     ]
    }
   ],
   "source": [
    "def dec_baap(*tags):\n",
    "    def dec(old):\n",
    "        def work(s):\n",
    "            for tag in tags :\n",
    "                s = '\\t\\n<{0}>{1}</{0}\\n>'.format(tag,s)\n",
    "            f = open('code.html','w')\n",
    "            f.write(s)\n",
    "            f.close()\n",
    "        return work\n",
    "    return dec\n",
    "\n",
    "tags = input(\"Enter tags by space separted \").split()\n",
    "@dec_baap(*tags)\n",
    "def old(s):\n",
    "    pass\n",
    "\n",
    "old(input(\"Enter you code : \\n\\n\"))"
   ]
  },
  {
   "cell_type": "code",
   "execution_count": 38,
   "metadata": {},
   "outputs": [
    {
     "name": "stdout",
     "output_type": "stream",
     "text": [
      "Hello World! welcome to python\n",
      "hello , sachin\n",
      "Hi this is decorator\n"
     ]
    }
   ],
   "source": [
    "def hello(name):\n",
    "    return \"hello , \"+name\n",
    "def dec(old_func):\n",
    "    def make_up(x):\n",
    "        s = \"Hello World! welcome to python\\n\"\n",
    "        s += old_func(x)\n",
    "        s += \"\\nHi this is decorator\"\n",
    "        return s\n",
    "    return make_up\n",
    "hello = dec(hello)\n",
    "\n",
    "k = hello('sachin')\n",
    "print(k)"
   ]
  },
  {
   "cell_type": "code",
   "execution_count": 39,
   "metadata": {},
   "outputs": [
    {
     "name": "stdout",
     "output_type": "stream",
     "text": [
      "Type something : \n",
      "\n",
      "laskjdflsjaf\n",
      "<div><p><b>laskjdflsjaf</b></p></div>\n"
     ]
    }
   ],
   "source": [
    "def addTag(*tags):\n",
    "    def dec(func):\n",
    "        def mk(s):\n",
    "            k = func(s)\n",
    "            for tag in tags:\n",
    "\n",
    "                k = \"<{0}>{1}</{0}>\".format(tag,k)\n",
    "            return k\n",
    "        return mk\n",
    "    return dec\n",
    "\n",
    "@addTag('b','p','div')\n",
    "def new(s):\n",
    "    s = s.strip()\n",
    "    return s\n",
    "\n",
    "s = input(\"Type something : \\n\\n\")\n",
    "\n",
    "r = new(s)\n",
    "print(r)"
   ]
  },
  {
   "cell_type": "code",
   "execution_count": 41,
   "metadata": {},
   "outputs": [
    {
     "name": "stdout",
     "output_type": "stream",
     "text": [
      "Entr number of para2\n",
      "Para[1] : Hello world\n",
      "Para[2] : Welcome to python\n",
      "\t\n",
      "<h1>\t\n",
      "<i>\t\n",
      "<b>Hello world</b\n",
      "></i\n",
      "></h1\n",
      ">\t\n",
      "<h1>\t\n",
      "<i>\t\n",
      "<b>Welcome to python</b\n",
      "></i\n",
      "></h1\n",
      ">\n"
     ]
    }
   ],
   "source": [
    "def dec_baap(*tags):\n",
    "    def dec(old):\n",
    "        def work(s):\n",
    "            for tag in tags :\n",
    "                s = '\\t\\n<{0}>{1}</{0}\\n>'.format(tag,s)\n",
    "            return s\n",
    "        return work\n",
    "    return dec\n",
    "\n",
    "no_of_para = int(input(\"Entr number of para\"))\n",
    "code1 = ''\n",
    "for var in range(no_of_para):\n",
    "    para = input(f\"Para[{var+1}] : \")\n",
    "    @dec_baap('b','i','h1')\n",
    "    def add_html(para):\n",
    "        pass\n",
    "    code1 += add_html(para)\n",
    "print(code1)    "
   ]
  },
  {
   "cell_type": "code",
   "execution_count": 42,
   "metadata": {},
   "outputs": [],
   "source": [
    "final_code = code + code1\n",
    "f = open('code.html','w')\n",
    "f.write(final_code)\n",
    "f.close()"
   ]
  },
  {
   "cell_type": "code",
   "execution_count": null,
   "metadata": {},
   "outputs": [],
   "source": []
  }
 ],
 "metadata": {
  "kernelspec": {
   "display_name": "Python 3",
   "language": "python",
   "name": "python3"
  },
  "language_info": {
   "codemirror_mode": {
    "name": "ipython",
    "version": 3
   },
   "file_extension": ".py",
   "mimetype": "text/x-python",
   "name": "python",
   "nbconvert_exporter": "python",
   "pygments_lexer": "ipython3",
   "version": "3.7.0"
  }
 },
 "nbformat": 4,
 "nbformat_minor": 2
}
