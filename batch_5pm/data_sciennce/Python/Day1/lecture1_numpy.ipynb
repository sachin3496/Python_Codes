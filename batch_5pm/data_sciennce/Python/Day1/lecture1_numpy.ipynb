{
 "cells": [
  {
   "cell_type": "code",
   "execution_count": 1,
   "metadata": {},
   "outputs": [],
   "source": [
    "f = open('C:/users/sachin/desktop/student.csv')\n",
    "data = f.read()\n",
    "f.close()\n",
    "#extract "
   ]
  },
  {
   "cell_type": "code",
   "execution_count": 2,
   "metadata": {},
   "outputs": [
    {
     "name": "stdout",
     "output_type": "stream",
     "text": [
      "['5.2', '5.3', '5.4', '5.4', '5.4', '5.6', '5.10', '5.11', '6', '6.1']\n"
     ]
    }
   ],
   "source": [
    "#tarnsformation\n",
    "data = data[:-1]\n",
    "data = data.split(',')\n",
    "print(repr(data))"
   ]
  },
  {
   "cell_type": "code",
   "execution_count": 3,
   "metadata": {},
   "outputs": [
    {
     "name": "stdout",
     "output_type": "stream",
     "text": [
      "[5.2, 5.3, 5.4, 5.4, 5.4, 5.6, 5.1, 5.11, 6.0, 6.1]\n"
     ]
    }
   ],
   "source": [
    "mydata = []\n",
    "for var in data : \n",
    "    mydata.append(float(var))\n",
    "    \n",
    "print(mydata)"
   ]
  },
  {
   "cell_type": "code",
   "execution_count": 4,
   "metadata": {},
   "outputs": [],
   "source": [
    "#mydata.extend([8,7.5,7])"
   ]
  },
  {
   "cell_type": "code",
   "execution_count": 5,
   "metadata": {},
   "outputs": [
    {
     "name": "stdout",
     "output_type": "stream",
     "text": [
      "Mean = 5.461\n"
     ]
    }
   ],
   "source": [
    "mean = sum(mydata)/len(mydata)\n",
    "print(f\"Mean = {mean}\")"
   ]
  },
  {
   "cell_type": "code",
   "execution_count": 6,
   "metadata": {},
   "outputs": [
    {
     "name": "stdout",
     "output_type": "stream",
     "text": [
      "5.11\n"
     ]
    }
   ],
   "source": [
    "#median = (mydata[4] + mydata[5])/2\n",
    "median= mydata[7]\n",
    "print(median)"
   ]
  },
  {
   "cell_type": "code",
   "execution_count": 7,
   "metadata": {},
   "outputs": [
    {
     "name": "stdout",
     "output_type": "stream",
     "text": [
      "5.2\t5.3\t5.4\t5.4\t5.4\t5.6\t5.1\t5.11\t6.0\t6.1\n",
      "0.07\t0.03\t0.0\t0.0\t0.0\t0.02\t0.13\t0.12\t0.29\t0.41\n"
     ]
    }
   ],
   "source": [
    "var_column = []\n",
    "x_bar = mean\n",
    "for x in mydata : \n",
    "    point = round((x-x_bar)**2,2)\n",
    "    var_column.append(point)\n",
    "print(*mydata,sep='\\t')\n",
    "print(*var_column,sep='\\t')"
   ]
  },
  {
   "cell_type": "code",
   "execution_count": 8,
   "metadata": {},
   "outputs": [
    {
     "name": "stdout",
     "output_type": "stream",
     "text": [
      "x\tvar\n",
      "5.2 \t 0.07\n",
      "5.3 \t 0.03\n",
      "5.4 \t 0.0\n",
      "5.4 \t 0.0\n",
      "5.4 \t 0.0\n",
      "5.6 \t 0.02\n",
      "5.1 \t 0.13\n",
      "5.11 \t 0.12\n",
      "6.0 \t 0.29\n",
      "6.1 \t 0.41\n"
     ]
    }
   ],
   "source": [
    "print(\"x\\tvar\")\n",
    "for d1,d2 in zip(mydata,var_column) : \n",
    "    print(d1,'\\t',d2)"
   ]
  },
  {
   "cell_type": "code",
   "execution_count": 9,
   "metadata": {},
   "outputs": [],
   "source": [
    "sum_var = sum(var_column)\n",
    "n = len(var_column)"
   ]
  },
  {
   "cell_type": "code",
   "execution_count": 10,
   "metadata": {},
   "outputs": [],
   "source": [
    "var = sum_var/n"
   ]
  },
  {
   "cell_type": "code",
   "execution_count": 11,
   "metadata": {},
   "outputs": [
    {
     "data": {
      "text/plain": [
       "0.10699999999999998"
      ]
     },
     "execution_count": 11,
     "metadata": {},
     "output_type": "execute_result"
    }
   ],
   "source": [
    "var"
   ]
  },
  {
   "cell_type": "code",
   "execution_count": 12,
   "metadata": {},
   "outputs": [
    {
     "data": {
      "text/plain": [
       "0.3271085446759225"
      ]
     },
     "execution_count": 12,
     "metadata": {},
     "output_type": "execute_result"
    }
   ],
   "source": [
    "from math import sqrt\n",
    "sd = sqrt(var)\n",
    "sd"
   ]
  },
  {
   "cell_type": "code",
   "execution_count": 13,
   "metadata": {},
   "outputs": [],
   "source": [
    "import numpy as np \n",
    "\n",
    "l1 = [ 1,2,3,4,5,6]\n",
    "l2 = [ 5,6,7,8,9,10]"
   ]
  },
  {
   "cell_type": "code",
   "execution_count": 14,
   "metadata": {},
   "outputs": [],
   "source": [
    "l3 = [ v1+v2 for v1,v2 in zip(l1,l2)]"
   ]
  },
  {
   "cell_type": "code",
   "execution_count": 15,
   "metadata": {},
   "outputs": [
    {
     "data": {
      "text/plain": [
       "[6, 8, 10, 12, 14, 16]"
      ]
     },
     "execution_count": 15,
     "metadata": {},
     "output_type": "execute_result"
    }
   ],
   "source": [
    "l3"
   ]
  },
  {
   "cell_type": "code",
   "execution_count": 16,
   "metadata": {},
   "outputs": [],
   "source": [
    "a1 = np.array(l1,dtype=np.float64)"
   ]
  },
  {
   "cell_type": "code",
   "execution_count": 17,
   "metadata": {},
   "outputs": [],
   "source": [
    "a2 = np.array(l2,dtype=np.float64)"
   ]
  },
  {
   "cell_type": "code",
   "execution_count": 18,
   "metadata": {},
   "outputs": [
    {
     "data": {
      "text/plain": [
       "array([1., 2., 3., 4., 5., 6.])"
      ]
     },
     "execution_count": 18,
     "metadata": {},
     "output_type": "execute_result"
    }
   ],
   "source": [
    "a1"
   ]
  },
  {
   "cell_type": "code",
   "execution_count": 19,
   "metadata": {},
   "outputs": [
    {
     "data": {
      "text/plain": [
       "array([ 5.,  6.,  7.,  8.,  9., 10.])"
      ]
     },
     "execution_count": 19,
     "metadata": {},
     "output_type": "execute_result"
    }
   ],
   "source": [
    "a2"
   ]
  },
  {
   "cell_type": "code",
   "execution_count": 20,
   "metadata": {},
   "outputs": [
    {
     "data": {
      "text/plain": [
       "array([ 6.,  8., 10., 12., 14., 16.])"
      ]
     },
     "execution_count": 20,
     "metadata": {},
     "output_type": "execute_result"
    }
   ],
   "source": [
    "a1 + a2"
   ]
  },
  {
   "cell_type": "code",
   "execution_count": 21,
   "metadata": {},
   "outputs": [
    {
     "data": {
      "text/plain": [
       "array([ 5., 12., 21., 32., 45., 60.])"
      ]
     },
     "execution_count": 21,
     "metadata": {},
     "output_type": "execute_result"
    }
   ],
   "source": [
    "a1 * a2"
   ]
  },
  {
   "cell_type": "code",
   "execution_count": 22,
   "metadata": {},
   "outputs": [
    {
     "data": {
      "text/plain": [
       "175.0"
      ]
     },
     "execution_count": 22,
     "metadata": {},
     "output_type": "execute_result"
    }
   ],
   "source": [
    "a1 @ a2 #matrix multiplication"
   ]
  },
  {
   "cell_type": "code",
   "execution_count": 23,
   "metadata": {},
   "outputs": [
    {
     "data": {
      "text/plain": [
       "175.0"
      ]
     },
     "execution_count": 23,
     "metadata": {},
     "output_type": "execute_result"
    }
   ],
   "source": [
    "a1.dot(a2)"
   ]
  },
  {
   "cell_type": "code",
   "execution_count": 24,
   "metadata": {},
   "outputs": [],
   "source": [
    "l1 = [ \n",
    "    [1,2,3],\n",
    "    [4,5,6],\n",
    "    [7,8,9]\n",
    "        ]"
   ]
  },
  {
   "cell_type": "code",
   "execution_count": 25,
   "metadata": {},
   "outputs": [],
   "source": [
    "l2 = [ \n",
    "    [2,3,4],\n",
    "    [4,5,6],\n",
    "    [1,2,3],\n",
    "    ]"
   ]
  },
  {
   "cell_type": "code",
   "execution_count": 28,
   "metadata": {},
   "outputs": [],
   "source": [
    "a1 = np.array(l1)\n",
    "a2 = np.array(l2)"
   ]
  },
  {
   "cell_type": "code",
   "execution_count": 29,
   "metadata": {},
   "outputs": [
    {
     "data": {
      "text/plain": [
       "array([[ 13,  19,  25],\n",
       "       [ 34,  49,  64],\n",
       "       [ 55,  79, 103]])"
      ]
     },
     "execution_count": 29,
     "metadata": {},
     "output_type": "execute_result"
    }
   ],
   "source": [
    "a1@a2"
   ]
  },
  {
   "cell_type": "code",
   "execution_count": 30,
   "metadata": {},
   "outputs": [
    {
     "data": {
      "text/plain": [
       "array([[ 2,  6, 12],\n",
       "       [16, 25, 36],\n",
       "       [ 7, 16, 27]])"
      ]
     },
     "execution_count": 30,
     "metadata": {},
     "output_type": "execute_result"
    }
   ],
   "source": [
    "a1*a2"
   ]
  },
  {
   "cell_type": "code",
   "execution_count": 32,
   "metadata": {},
   "outputs": [
    {
     "name": "stdout",
     "output_type": "stream",
     "text": [
      "<class 'numpy.ndarray'>\n",
      "[5.2  5.3  5.4  5.4  5.4  5.6  5.1  5.11 6.   6.1 ]\n"
     ]
    }
   ],
   "source": [
    "mydata = np.array(mydata)\n",
    "print(type(mydata))\n",
    "print(mydata)"
   ]
  },
  {
   "cell_type": "code",
   "execution_count": 33,
   "metadata": {},
   "outputs": [
    {
     "data": {
      "text/plain": [
       "0.10768899999999992"
      ]
     },
     "execution_count": 33,
     "metadata": {},
     "output_type": "execute_result"
    }
   ],
   "source": [
    "np.var(mydata)"
   ]
  },
  {
   "cell_type": "code",
   "execution_count": 34,
   "metadata": {},
   "outputs": [
    {
     "data": {
      "text/plain": [
       "0.10768899999999992"
      ]
     },
     "execution_count": 34,
     "metadata": {},
     "output_type": "execute_result"
    }
   ],
   "source": [
    "mydata.var()"
   ]
  },
  {
   "cell_type": "code",
   "execution_count": 35,
   "metadata": {},
   "outputs": [
    {
     "data": {
      "text/plain": [
       "0.32816002194051597"
      ]
     },
     "execution_count": 35,
     "metadata": {},
     "output_type": "execute_result"
    }
   ],
   "source": [
    "mydata.std()"
   ]
  },
  {
   "cell_type": "code",
   "execution_count": 36,
   "metadata": {},
   "outputs": [
    {
     "data": {
      "text/plain": [
       "5.461"
      ]
     },
     "execution_count": 36,
     "metadata": {},
     "output_type": "execute_result"
    }
   ],
   "source": [
    "mydata.mean()"
   ]
  },
  {
   "cell_type": "code",
   "execution_count": 37,
   "metadata": {},
   "outputs": [
    {
     "data": {
      "text/plain": [
       "6.1"
      ]
     },
     "execution_count": 37,
     "metadata": {},
     "output_type": "execute_result"
    }
   ],
   "source": [
    "mydata.max()"
   ]
  },
  {
   "cell_type": "code",
   "execution_count": 38,
   "metadata": {},
   "outputs": [
    {
     "data": {
      "text/plain": [
       "5.1"
      ]
     },
     "execution_count": 38,
     "metadata": {},
     "output_type": "execute_result"
    }
   ],
   "source": [
    "mydata.min()"
   ]
  },
  {
   "cell_type": "code",
   "execution_count": 40,
   "metadata": {},
   "outputs": [
    {
     "data": {
      "text/plain": [
       "5.461"
      ]
     },
     "execution_count": 40,
     "metadata": {},
     "output_type": "execute_result"
    }
   ],
   "source": [
    "mydata.sum()/len(mydata)"
   ]
  },
  {
   "cell_type": "code",
   "execution_count": 41,
   "metadata": {},
   "outputs": [
    {
     "data": {
      "text/plain": [
       "array([5.2 , 5.3 , 5.4 , 5.4 , 5.4 , 5.6 , 5.1 , 5.11, 6.  , 6.1 ])"
      ]
     },
     "execution_count": 41,
     "metadata": {},
     "output_type": "execute_result"
    }
   ],
   "source": [
    "mydata"
   ]
  },
  {
   "cell_type": "code",
   "execution_count": 43,
   "metadata": {},
   "outputs": [
    {
     "data": {
      "text/plain": [
       "array([10.4 , 10.6 , 10.8 , 10.8 , 10.8 , 11.2 , 10.2 , 10.22, 12.  ,\n",
       "       12.2 ])"
      ]
     },
     "execution_count": 43,
     "metadata": {},
     "output_type": "execute_result"
    }
   ],
   "source": [
    "mydata*2"
   ]
  },
  {
   "cell_type": "code",
   "execution_count": 44,
   "metadata": {},
   "outputs": [
    {
     "data": {
      "text/plain": [
       "array([2.6  , 2.65 , 2.7  , 2.7  , 2.7  , 2.8  , 2.55 , 2.555, 3.   ,\n",
       "       3.05 ])"
      ]
     },
     "execution_count": 44,
     "metadata": {},
     "output_type": "execute_result"
    }
   ],
   "source": [
    "mydata/2"
   ]
  },
  {
   "cell_type": "code",
   "execution_count": 46,
   "metadata": {},
   "outputs": [
    {
     "data": {
      "text/plain": [
       "10"
      ]
     },
     "execution_count": 46,
     "metadata": {},
     "output_type": "execute_result"
    }
   ],
   "source": [
    "mydata.size"
   ]
  },
  {
   "cell_type": "code",
   "execution_count": 47,
   "metadata": {},
   "outputs": [
    {
     "data": {
      "text/plain": [
       "8"
      ]
     },
     "execution_count": 47,
     "metadata": {},
     "output_type": "execute_result"
    }
   ],
   "source": [
    "mydata.itemsize"
   ]
  },
  {
   "cell_type": "code",
   "execution_count": 48,
   "metadata": {},
   "outputs": [
    {
     "data": {
      "text/plain": [
       "array([5.2 , 5.3 , 5.4 , 5.4 , 5.4 , 5.6 , 5.1 , 5.11, 6.  , 6.1 ])"
      ]
     },
     "execution_count": 48,
     "metadata": {},
     "output_type": "execute_result"
    }
   ],
   "source": [
    "mydata"
   ]
  },
  {
   "cell_type": "code",
   "execution_count": 49,
   "metadata": {},
   "outputs": [
    {
     "data": {
      "text/plain": [
       "dtype('float64')"
      ]
     },
     "execution_count": 49,
     "metadata": {},
     "output_type": "execute_result"
    }
   ],
   "source": [
    "mydata.dtype"
   ]
  },
  {
   "cell_type": "code",
   "execution_count": 53,
   "metadata": {},
   "outputs": [],
   "source": [
    "mydata.dtype = float"
   ]
  },
  {
   "cell_type": "code",
   "execution_count": 54,
   "metadata": {},
   "outputs": [
    {
     "data": {
      "text/plain": [
       "dtype('float64')"
      ]
     },
     "execution_count": 54,
     "metadata": {},
     "output_type": "execute_result"
    }
   ],
   "source": [
    "mydata.dtype"
   ]
  },
  {
   "cell_type": "code",
   "execution_count": 55,
   "metadata": {},
   "outputs": [
    {
     "data": {
      "text/plain": [
       "array([5.2 , 5.3 , 5.4 , 5.4 , 5.4 , 5.6 , 5.1 , 5.11, 6.  , 6.1 ])"
      ]
     },
     "execution_count": 55,
     "metadata": {},
     "output_type": "execute_result"
    }
   ],
   "source": [
    "mydata"
   ]
  },
  {
   "cell_type": "code",
   "execution_count": 56,
   "metadata": {},
   "outputs": [],
   "source": [
    "#default method to create an array using numpy \n",
    "\n",
    "import numpy as np \n",
    "\n",
    "zeros = np.zeros(10)"
   ]
  },
  {
   "cell_type": "code",
   "execution_count": 57,
   "metadata": {},
   "outputs": [
    {
     "data": {
      "text/plain": [
       "array([0., 0., 0., 0., 0., 0., 0., 0., 0., 0.])"
      ]
     },
     "execution_count": 57,
     "metadata": {},
     "output_type": "execute_result"
    }
   ],
   "source": [
    "zeros"
   ]
  },
  {
   "cell_type": "code",
   "execution_count": 59,
   "metadata": {},
   "outputs": [
    {
     "data": {
      "text/plain": [
       "array([[0, 0, 0],\n",
       "       [0, 0, 0],\n",
       "       [0, 0, 0],\n",
       "       [0, 0, 0],\n",
       "       [0, 0, 0],\n",
       "       [0, 0, 0]])"
      ]
     },
     "execution_count": 59,
     "metadata": {},
     "output_type": "execute_result"
    }
   ],
   "source": [
    "zeros = np.zeros((6,3),dtype=int)\n",
    "zeros"
   ]
  },
  {
   "cell_type": "code",
   "execution_count": 60,
   "metadata": {},
   "outputs": [
    {
     "data": {
      "text/plain": [
       "array([[[0., 0., 0.],\n",
       "        [0., 0., 0.],\n",
       "        [0., 0., 0.]],\n",
       "\n",
       "       [[0., 0., 0.],\n",
       "        [0., 0., 0.],\n",
       "        [0., 0., 0.]],\n",
       "\n",
       "       [[0., 0., 0.],\n",
       "        [0., 0., 0.],\n",
       "        [0., 0., 0.]]])"
      ]
     },
     "execution_count": 60,
     "metadata": {},
     "output_type": "execute_result"
    }
   ],
   "source": [
    "zeros = np.zeros((3,3,3))\n",
    "#3d array\n",
    "zeros"
   ]
  },
  {
   "cell_type": "code",
   "execution_count": 61,
   "metadata": {},
   "outputs": [
    {
     "data": {
      "text/plain": [
       "dtype('float64')"
      ]
     },
     "execution_count": 61,
     "metadata": {},
     "output_type": "execute_result"
    }
   ],
   "source": [
    "zeros.dtype"
   ]
  },
  {
   "cell_type": "code",
   "execution_count": 62,
   "metadata": {},
   "outputs": [],
   "source": [
    "eye = np.eye(5,4)"
   ]
  },
  {
   "cell_type": "code",
   "execution_count": 63,
   "metadata": {},
   "outputs": [
    {
     "data": {
      "text/plain": [
       "array([[1., 0., 0., 0.],\n",
       "       [0., 1., 0., 0.],\n",
       "       [0., 0., 1., 0.],\n",
       "       [0., 0., 0., 1.],\n",
       "       [0., 0., 0., 0.]])"
      ]
     },
     "execution_count": 63,
     "metadata": {},
     "output_type": "execute_result"
    }
   ],
   "source": [
    "eye"
   ]
  },
  {
   "cell_type": "code",
   "execution_count": 72,
   "metadata": {},
   "outputs": [],
   "source": [
    "a = np.arange(0,5,.2)"
   ]
  },
  {
   "cell_type": "code",
   "execution_count": 73,
   "metadata": {},
   "outputs": [
    {
     "data": {
      "text/plain": [
       "array([0. , 0.2, 0.4, 0.6, 0.8, 1. , 1.2, 1.4, 1.6, 1.8, 2. , 2.2, 2.4,\n",
       "       2.6, 2.8, 3. , 3.2, 3.4, 3.6, 3.8, 4. , 4.2, 4.4, 4.6, 4.8])"
      ]
     },
     "execution_count": 73,
     "metadata": {},
     "output_type": "execute_result"
    }
   ],
   "source": [
    "a"
   ]
  },
  {
   "cell_type": "code",
   "execution_count": 74,
   "metadata": {},
   "outputs": [
    {
     "data": {
      "text/plain": [
       "25"
      ]
     },
     "execution_count": 74,
     "metadata": {},
     "output_type": "execute_result"
    }
   ],
   "source": [
    "len(a)"
   ]
  },
  {
   "cell_type": "code",
   "execution_count": 77,
   "metadata": {},
   "outputs": [
    {
     "data": {
      "text/plain": [
       "(25,)"
      ]
     },
     "execution_count": 77,
     "metadata": {},
     "output_type": "execute_result"
    }
   ],
   "source": [
    "a.shape"
   ]
  },
  {
   "cell_type": "code",
   "execution_count": 80,
   "metadata": {},
   "outputs": [],
   "source": [
    "a = a.reshape(5,5)"
   ]
  },
  {
   "cell_type": "code",
   "execution_count": 81,
   "metadata": {},
   "outputs": [
    {
     "data": {
      "text/plain": [
       "array([[0. , 0.2, 0.4, 0.6, 0.8],\n",
       "       [1. , 1.2, 1.4, 1.6, 1.8],\n",
       "       [2. , 2.2, 2.4, 2.6, 2.8],\n",
       "       [3. , 3.2, 3.4, 3.6, 3.8],\n",
       "       [4. , 4.2, 4.4, 4.6, 4.8]])"
      ]
     },
     "execution_count": 81,
     "metadata": {},
     "output_type": "execute_result"
    }
   ],
   "source": [
    "a"
   ]
  },
  {
   "cell_type": "code",
   "execution_count": 82,
   "metadata": {},
   "outputs": [],
   "source": [
    "import matplotlib.pyplot as plt "
   ]
  },
  {
   "cell_type": "code",
   "execution_count": 83,
   "metadata": {},
   "outputs": [
    {
     "data": {
      "image/png": "[encoded data removed]",
      "text/plain": [
       "<Figure size 432x288 with 1 Axes>"
      ]
     },
     "metadata": {
      "needs_background": "light"
     },
     "output_type": "display_data"
    }
   ],
   "source": [
    "plt.plot(a)\n",
    "plt.show()"
   ]
  },
  {
   "cell_type": "code",
   "execution_count": 88,
   "metadata": {},
   "outputs": [],
   "source": [
    "a = np.random.random(25)"
   ]
  },
  {
   "cell_type": "code",
   "execution_count": 89,
   "metadata": {},
   "outputs": [
    {
     "name": "stdout",
     "output_type": "stream",
     "text": [
      "[[0.68226362 0.29532591 0.52708233 0.07177572 0.51929723]\n",
      " [0.35031384 0.33901967 0.74620411 0.05090886 0.04600274]\n",
      " [0.78729465 0.0297836  0.1704605  0.6931418  0.28915657]\n",
      " [0.05510519 0.96002003 0.31936726 0.34590929 0.18797696]\n",
      " [0.61884737 0.67901984 0.22884759 0.7994962  0.89997252]]\n"
     ]
    }
   ],
   "source": [
    "a = a.reshape(5,5)\n",
    "print(a)"
   ]
  },
  {
   "cell_type": "code",
   "execution_count": 90,
   "metadata": {},
   "outputs": [
    {
     "data": {
      "image/png": "[encoded data removed]",
      "text/plain": [
       "<Figure size 432x288 with 1 Axes>"
      ]
     },
     "metadata": {
      "needs_background": "light"
     },
     "output_type": "display_data"
    }
   ],
   "source": [
    "plt.plot(a)\n",
    "plt.show()"
   ]
  },
  {
   "cell_type": "code",
   "execution_count": 127,
   "metadata": {},
   "outputs": [],
   "source": [
    "norm = np.random.normal(25,.5,1000)"
   ]
  },
  {
   "cell_type": "code",
   "execution_count": 128,
   "metadata": {},
   "outputs": [
    {
     "data": {
      "text/plain": [
       "array([24.58809435, 25.37051448, 25.48674218, 25.06128311, 26.22867789,\n",
       "       24.94214362, 24.6324196 , 24.87830483, 24.24088754, 24.98282229,\n",
       "       25.50117003, 25.26647529, 25.19679452, 24.99320483, 25.29205766,\n",
       "       24.31878779, 23.9930961 , 25.40481847, 25.14519372, 25.73087705,\n",
       "       24.36902335, 24.55036769, 24.74646981, 24.51029915, 25.30837989,\n",
       "       24.61333228, 25.56532428, 24.39379257, 25.06185395, 24.96973047,\n",
       "       25.11875002, 25.13767807, 23.93862768, 24.54729957, 24.06544296,\n",
       "       24.81464753, 24.90278717, 24.58090522, 25.40620952, 24.77973603,\n",
       "       25.02587789, 24.76726906, 25.24707316, 25.56889814, 25.05620767,\n",
       "       25.26293537, 24.18970866, 24.90926878, 25.45374256, 25.65097009,\n",
       "       25.52848913, 25.37192091, 24.74317186, 23.68061364, 25.26464647,\n",
       "       26.5504129 , 24.45104105, 24.92831302, 25.41114592, 24.3872102 ,\n",
       "       25.70257123, 24.53304654, 26.37909131, 25.23823267, 24.91844388,\n",
       "       25.71763626, 25.70086478, 24.95095415, 26.15810613, 24.70414298,\n",
       "       24.97254491, 25.148108  , 25.18932302, 24.13999427, 24.99052871,\n",
       "       24.93254892, 25.01177971, 24.8172374 , 25.43415264, 25.10671526,\n",
       "       25.52325967, 24.560188  , 25.42700587, 25.56035082, 25.78247086,\n",
       "       24.74849369, 24.988863  , 24.84209838, 24.08137079, 24.93126678,\n",
       "       24.97610396, 25.05644974, 24.80522434, 25.1515413 , 25.80107744,\n",
       "       24.44861415, 24.71831591, 25.35592684, 24.85037434, 25.27902487,\n",
       "       25.2954821 , 24.48501864, 25.5208469 , 25.75408582, 24.75060598,\n",
       "       24.39917055, 25.76886592, 25.19537392, 26.25251192, 24.93470903,\n",
       "       25.52099806, 25.09055001, 25.18893945, 25.06790355, 25.15543602,\n",
       "       24.80681404, 24.88694102, 25.59706172, 25.05417216, 24.68720563,\n",
       "       25.05871783, 25.12220968, 24.68481218, 25.61298573, 25.03360515,\n",
       "       24.73102131, 24.95733459, 25.47471964, 24.87206687, 25.56159336,\n",
       "       24.38069744, 25.80818028, 24.89236003, 24.81994555, 25.26480083,\n",
       "       24.7285787 , 24.97861351, 26.1865808 , 25.54776037, 24.81308512,\n",
       "       25.14800196, 24.0702547 , 25.22324708, 24.99897017, 25.02412753,\n",
       "       25.05305999, 24.94893779, 25.5138178 , 25.26384767, 24.90841137,\n",
       "       25.06218083, 25.27956968, 24.97652639, 25.55208744, 25.4798966 ,\n",
       "       25.67291684, 25.31591712, 24.46486127, 24.84954049, 25.47994824,\n",
       "       25.14211207, 23.83375011, 24.70685394, 25.09711852, 25.05505926,\n",
       "       24.36096518, 25.82492172, 24.82142055, 24.25208194, 24.63402709,\n",
       "       24.57315295, 24.41913483, 25.31579098, 24.77824903, 25.41305173,\n",
       "       24.51196929, 25.79767705, 25.75689317, 24.65848752, 24.12935287,\n",
       "       25.2706604 , 24.55316115, 24.41768222, 25.61407317, 24.59994362,\n",
       "       25.26956137, 24.58946756, 25.16166459, 24.96700575, 24.93815528,\n",
       "       25.36788824, 24.83966362, 24.27433681, 24.98922768, 24.37271692,\n",
       "       25.0969933 , 24.7820941 , 26.69704996, 24.58104324, 24.94420803,\n",
       "       24.64575517, 25.62875417, 25.55464541, 25.09623248, 24.75374336,\n",
       "       25.55772533, 25.17115469, 25.3250208 , 24.57289342, 25.28789632,\n",
       "       26.42410333, 24.22571561, 24.73462775, 25.35394126, 24.05611775,\n",
       "       25.00939343, 25.88788835, 24.77724646, 25.7825972 , 25.46574043,\n",
       "       25.34894737, 24.60985651, 25.63048817, 24.46470051, 24.75437784,\n",
       "       24.68572627, 24.92696683, 25.05433462, 24.97660944, 25.05127583,\n",
       "       24.89763316, 24.58851673, 25.25190834, 24.96856286, 25.14425848,\n",
       "       24.5580006 , 25.77146787, 25.1237527 , 25.48434578, 24.80778676,\n",
       "       25.37269545, 25.23309818, 25.37823362, 24.48158456, 24.30233722,\n",
       "       25.36188189, 25.23419978, 25.0062593 , 24.78831462, 24.73287361,\n",
       "       25.30342575, 25.36508015, 24.88392734, 25.05031583, 24.92183211,\n",
       "       24.19455591, 24.82351023, 25.47231444, 24.39864074, 25.17756034,\n",
       "       24.7583814 , 25.1167101 , 24.89195952, 24.87534496, 24.7794888 ,\n",
       "       26.1253513 , 25.14572406, 24.38593425, 24.7549741 , 24.7251601 ,\n",
       "       25.7936756 , 25.21955289, 24.94351559, 24.90269018, 25.0016453 ,\n",
       "       25.36321226, 24.55397057, 25.41363257, 24.4180991 , 24.3050683 ,\n",
       "       24.18253205, 25.19222922, 25.02949004, 25.31201846, 24.23235195,\n",
       "       24.9803437 , 24.48404178, 24.98544253, 25.27715428, 25.13283872,\n",
       "       24.89987007, 25.56516654, 25.22986297, 25.03857416, 25.1475269 ,\n",
       "       25.25396671, 24.55148946, 24.80489467, 24.54745805, 24.65448977,\n",
       "       25.29850528, 25.30328249, 24.75403093, 24.61669969, 24.97577183,\n",
       "       25.80180857, 25.50500468, 25.16506675, 24.7381504 , 24.67051365,\n",
       "       25.07500626, 25.31974515, 25.58174532, 24.84473584, 25.01403527,\n",
       "       25.16842144, 24.4808531 , 26.03104467, 25.3441005 , 25.38377783,\n",
       "       24.86353723, 24.95626306, 24.29563122, 24.45793005, 25.60461532,\n",
       "       23.8926746 , 24.71427026, 23.69055692, 24.99659004, 24.72077427,\n",
       "       25.48795619, 25.07010591, 24.44287447, 24.73189535, 25.52937075,\n",
       "       25.03195156, 24.62519376, 24.51494937, 25.08830612, 25.22341959,\n",
       "       24.42743801, 25.05617208, 25.17858651, 25.03257916, 24.71138663,\n",
       "       24.78167336, 24.16564629, 25.05665714, 25.69695091, 25.53628182,\n",
       "       25.3084898 , 24.23448368, 24.84476661, 25.86086039, 24.96237146,\n",
       "       23.85935676, 24.7381424 , 25.31318213, 25.49139707, 25.54151803,\n",
       "       24.2049281 , 25.68813985, 24.58458097, 24.3747662 , 24.42516741,\n",
       "       24.80406829, 24.16486312, 24.9678587 , 25.81605528, 24.6715303 ,\n",
       "       25.12642303, 24.7036176 , 25.13098438, 24.70019079, 23.99294692,\n",
       "       24.46758058, 25.06150827, 24.95564061, 23.9431214 , 24.94044764,\n",
       "       25.91571772, 24.52157298, 24.72480688, 25.22164931, 24.33719165,\n",
       "       24.87353433, 25.20677981, 25.89818016, 25.44907129, 25.20160678,\n",
       "       24.7876845 , 25.4607463 , 25.18061081, 25.25922243, 24.9422526 ,\n",
       "       25.00803687, 25.71353076, 24.72566006, 25.63402101, 24.62618171,\n",
       "       25.03878448, 25.21115195, 26.16177159, 24.99190331, 25.04195045,\n",
       "       25.33828254, 24.74442956, 24.30258993, 24.72319137, 24.90738416,\n",
       "       25.21105426, 23.95326911, 25.34759986, 25.20883353, 24.88183475,\n",
       "       25.29905944, 24.82314097, 25.30183341, 26.21254582, 24.99783386,\n",
       "       25.56321215, 25.48964705, 25.35100304, 25.57692367, 25.24151538,\n",
       "       24.30724043, 25.02631139, 24.36397367, 25.35515739, 24.80816743,\n",
       "       24.77231113, 24.94334653, 25.71790234, 24.91747392, 25.31607939,\n",
       "       24.18992157, 25.406337  , 25.0896125 , 25.68364751, 24.97284088,\n",
       "       24.58165771, 24.19847483, 26.05594908, 24.56095682, 25.58854251,\n",
       "       24.18465249, 25.59608553, 25.22439687, 25.29543215, 24.33316042,\n",
       "       24.75558712, 24.41484368, 24.69346524, 25.21610966, 25.02541652,\n",
       "       25.65247818, 25.23013328, 25.2952273 , 24.66725296, 25.33051601,\n",
       "       24.80878069, 24.677985  , 24.60017238, 25.43773927, 24.2479965 ,\n",
       "       25.09476785, 24.89242362, 24.86862539, 25.27838433, 24.589049  ,\n",
       "       25.39697396, 24.28722759, 24.71747941, 24.51583062, 25.3596858 ,\n",
       "       24.67853116, 24.25869096, 24.26262381, 25.21010835, 25.07102213,\n",
       "       25.37702634, 25.13077786, 24.40963576, 26.05398996, 24.15811803,\n",
       "       25.2713171 , 25.22953072, 25.21929069, 24.95357774, 24.94003461,\n",
       "       24.55430935, 24.59136786, 25.05098234, 24.63169173, 24.39056264,\n",
       "       24.86868451, 24.39986592, 24.51686703, 24.58507014, 24.84601554,\n",
       "       25.44902726, 24.82083971, 24.99707919, 24.57205534, 25.85765111,\n",
       "       25.17271658, 25.16644632, 24.78795683, 24.89419091, 24.08831955,\n",
       "       25.91956889, 25.65786497, 25.42076002, 25.05720192, 25.17034573,\n",
       "       24.21107169, 25.9485715 , 24.88729998, 25.09690715, 24.39282215,\n",
       "       24.98845132, 25.05194275, 25.17550084, 24.62680054, 25.11181552,\n",
       "       25.53272822, 25.60852123, 24.84045547, 25.93595051, 26.19406392,\n",
       "       24.85413507, 24.7269737 , 24.56497259, 24.9798689 , 25.65070642,\n",
       "       25.04776086, 25.29703178, 24.6671574 , 25.9313439 , 24.4743821 ,\n",
       "       25.09915096, 24.01487557, 24.74196542, 24.9387901 , 25.66412444,\n",
       "       25.20309838, 25.03473916, 24.14736146, 24.66337032, 25.24553742,\n",
       "       24.84004575, 25.03405751, 25.17217567, 25.51142897, 24.75806712,\n",
       "       24.5087534 , 25.84996109, 24.16752869, 24.93533165, 23.4820523 ,\n",
       "       24.67578644, 25.37085993, 25.55064195, 24.93105158, 24.59300908,\n",
       "       25.74655073, 25.40189907, 24.12997315, 25.73569744, 25.48596026,\n",
       "       26.06480963, 24.41253093, 24.95178438, 25.32229585, 24.32339215,\n",
       "       24.96574746, 24.91352113, 24.74012145, 25.24629545, 25.08761907,\n",
       "       24.63549355, 25.14982239, 24.7904873 , 25.79775586, 25.34250294,\n",
       "       25.65377717, 24.85637594, 24.62399383, 25.17706289, 25.03501768,\n",
       "       24.95306811, 24.39514308, 25.53806057, 24.80243427, 25.18257915,\n",
       "       24.71909058, 25.32567387, 24.73974408, 25.0194389 , 23.73349675,\n",
       "       24.59848461, 24.7549603 , 23.80317304, 25.19930245, 25.78061295,\n",
       "       25.12227451, 26.41470991, 24.28161852, 25.00716045, 25.20848481,\n",
       "       25.61300549, 25.34597819, 25.28534166, 25.21811433, 24.18384637,\n",
       "       24.60703022, 25.28108395, 25.03512951, 24.70596555, 24.75137929,\n",
       "       25.2255323 , 25.08223773, 24.86917517, 25.16004171, 24.06435884,\n",
       "       24.93722539, 25.07890421, 24.63597607, 25.94519283, 23.82042575,\n",
       "       24.61438307, 25.12183321, 25.68875452, 23.75767431, 25.6214618 ,\n",
       "       25.66466967, 25.17880675, 24.91063327, 25.07853942, 24.71464925,\n",
       "       24.45818058, 25.15857973, 25.05613567, 24.99870591, 24.43489542,\n",
       "       25.66073356, 24.17719085, 24.88282786, 24.60690689, 24.33289968,\n",
       "       24.97972405, 24.81494879, 25.7007402 , 25.04461513, 25.22060238,\n",
       "       24.51245369, 24.71083036, 24.18561887, 25.5652745 , 24.6505793 ,\n",
       "       25.14062721, 25.26125859, 24.42076348, 25.35990808, 24.51422724,\n",
       "       25.31070191, 25.00956144, 24.72376631, 24.9231455 , 24.30555899,\n",
       "       25.08874929, 24.19483149, 25.16437183, 25.7276896 , 25.43409166,\n",
       "       25.31719125, 25.45761478, 24.76517243, 24.99012205, 25.57109396,\n",
       "       25.60019671, 24.92762698, 24.03698016, 24.35413064, 24.89300622,\n",
       "       25.09804588, 24.92620059, 25.67863089, 24.72596645, 25.04918931,\n",
       "       25.00118487, 25.27882295, 24.96505399, 24.40489055, 26.24108565,\n",
       "       23.89306809, 24.1075922 , 24.76823676, 25.28400029, 25.78419117,\n",
       "       24.38547048, 25.87113932, 25.03885154, 25.21330045, 25.24967701,\n",
       "       25.87008609, 24.97145708, 24.98363752, 24.51779395, 24.76409184,\n",
       "       25.38151505, 25.28086957, 25.08731129, 25.39853501, 25.75414753,\n",
       "       25.95294322, 24.38305602, 24.8846388 , 25.97970934, 25.08425209,\n",
       "       24.92291204, 24.95341216, 25.07564318, 24.32794763, 25.06597203,\n",
       "       25.68022575, 24.08532557, 24.48267548, 24.89067104, 24.36056156,\n",
       "       24.89750711, 24.26175269, 25.56175229, 25.26538249, 25.39654699,\n",
       "       25.36624088, 24.32770522, 24.8843615 , 25.73856381, 25.54929542,\n",
       "       25.19091166, 25.71522895, 24.48035518, 24.86447959, 25.44194897,\n",
       "       25.35234332, 25.33151294, 24.10225531, 25.12064202, 25.49879689,\n",
       "       25.13950574, 25.06548368, 24.90411464, 25.09557149, 25.064907  ,\n",
       "       25.23867684, 25.78981518, 24.7506082 , 24.07094078, 24.93065053,\n",
       "       24.23475247, 24.26950687, 24.49187469, 24.86014093, 25.39266621,\n",
       "       25.13964339, 24.47769093, 24.22531215, 25.11473323, 24.53617092,\n",
       "       23.70095595, 25.75464248, 24.81166522, 24.50081667, 25.46704875,\n",
       "       24.50768421, 24.48967764, 25.00244171, 24.35644615, 24.56836469,\n",
       "       25.16981447, 24.9550322 , 24.64710904, 24.85085553, 24.77082736,\n",
       "       24.85690811, 24.98104257, 25.91172051, 24.12605186, 25.39639404,\n",
       "       25.13248499, 25.3354064 , 25.50859252, 24.5213043 , 25.17984542,\n",
       "       25.07757404, 24.24646179, 25.48058871, 25.19686512, 25.65811946,\n",
       "       24.48453357, 24.91340804, 25.3996674 , 24.47907686, 24.89081807,\n",
       "       25.2711481 , 25.00465421, 25.75229322, 24.87010219, 24.74942609,\n",
       "       24.09480701, 25.02764091, 25.57923741, 25.27182463, 24.96259178,\n",
       "       25.55219412, 24.68684959, 25.18240855, 24.82004311, 25.13190901,\n",
       "       25.23242336, 24.4418937 , 25.35487495, 24.7491341 , 25.34296111,\n",
       "       25.00708952, 23.76530319, 25.79559932, 25.42881143, 24.28504577,\n",
       "       24.11418844, 25.85134284, 25.15662724, 25.31837873, 23.82975816,\n",
       "       25.34819428, 24.92212374, 25.32956351, 24.66209976, 24.98463152,\n",
       "       25.60535135, 24.19473381, 25.36742697, 25.03141455, 24.92162952,\n",
       "       24.77591322, 25.69246344, 25.09068561, 24.75456167, 25.46309243,\n",
       "       25.06072103, 26.29286892, 25.31006285, 25.22153573, 25.15714333,\n",
       "       25.29459206, 25.15665298, 25.77078864, 25.57142414, 24.33455879,\n",
       "       25.51428069, 24.00881272, 25.12160994, 24.52468979, 25.71230495,\n",
       "       23.66664093, 23.44631336, 25.19809115, 25.46694841, 25.33743509,\n",
       "       24.9817008 , 24.81436815, 25.55026605, 24.72856014, 24.85343802,\n",
       "       23.99061791, 24.89068152, 25.2217205 , 24.79323288, 25.47846833,\n",
       "       24.45495123, 25.32710948, 25.17206175, 26.27039085, 25.70552378,\n",
       "       25.08817858, 25.31550585, 24.51653563, 25.15601247, 25.27907755,\n",
       "       25.79399519, 25.01644215, 25.27695682, 25.2372751 , 24.67110223,\n",
       "       25.20247092, 26.62044424, 25.40918193, 24.72962189, 24.70096605,\n",
       "       25.03339711, 24.93369745, 24.78056524, 25.39487078, 25.06230399,\n",
       "       25.64716734, 25.13101763, 24.5943119 , 25.56393347, 25.47053961,\n",
       "       24.50709599, 24.8489804 , 24.53109096, 25.65656175, 25.36433064,\n",
       "       25.24642547, 24.55625716, 24.5780498 , 24.8057822 , 25.43978106,\n",
       "       25.13594772, 24.79148476, 24.87187463, 24.98851195, 24.91542422,\n",
       "       24.95590289, 25.36732437, 24.44664378, 25.26605587, 25.72218896,\n",
       "       25.60487073, 25.23034834, 24.74972364, 25.37283891, 25.06345827,\n",
       "       25.08187922, 24.27684092, 25.14824966, 24.52176565, 24.58659582,\n",
       "       24.83201448, 24.84713952, 24.95018286, 25.25985395, 24.90921362,\n",
       "       25.21049983, 24.64470827, 24.62218377, 24.98106621, 25.33172482,\n",
       "       25.82152571, 25.40864521, 25.68688568, 25.25549773, 25.18256287,\n",
       "       24.78778145, 24.8929561 , 24.60657193, 25.6735049 , 25.38658309,\n",
       "       24.4110653 , 25.25426087, 24.15436129, 24.8192322 , 24.8656084 ,\n",
       "       24.30887868, 25.3363571 , 24.22003615, 25.04819886, 24.37978495,\n",
       "       25.24697119, 25.20675694, 25.39390144, 25.2012816 , 26.4296601 ,\n",
       "       25.0221069 , 25.81089989, 24.70201792, 24.79122942, 25.1721655 ,\n",
       "       24.18214003, 25.78471155, 24.06029435, 24.61721047, 24.78103837,\n",
       "       25.08362511, 25.38946311, 25.46715929, 25.02881762, 25.05143385,\n",
       "       24.99819522, 25.07478848, 25.62673072, 24.19504325, 23.85825811,\n",
       "       24.33850559, 24.68885478, 24.47191346, 24.81353404, 24.60103544])"
      ]
     },
     "execution_count": 128,
     "metadata": {},
     "output_type": "execute_result"
    }
   ],
   "source": [
    "norm"
   ]
  },
  {
   "cell_type": "code",
   "execution_count": 129,
   "metadata": {},
   "outputs": [
    {
     "data": {
      "text/plain": [
       "25.004731407726503"
      ]
     },
     "execution_count": 129,
     "metadata": {},
     "output_type": "execute_result"
    }
   ],
   "source": [
    "norm.mean()"
   ]
  },
  {
   "cell_type": "code",
   "execution_count": 130,
   "metadata": {},
   "outputs": [
    {
     "data": {
      "text/plain": [
       "0.4986734155843471"
      ]
     },
     "execution_count": 130,
     "metadata": {},
     "output_type": "execute_result"
    }
   ],
   "source": [
    "norm.std()"
   ]
  },
  {
   "cell_type": "code",
   "execution_count": 131,
   "metadata": {},
   "outputs": [],
   "source": [
    "a = np.arange(1,1001)"
   ]
  },
  {
   "cell_type": "code",
   "execution_count": 132,
   "metadata": {},
   "outputs": [
    {
     "data": {
      "text/plain": [
       "1000"
      ]
     },
     "execution_count": 132,
     "metadata": {},
     "output_type": "execute_result"
    }
   ],
   "source": [
    "len(a)"
   ]
  },
  {
   "cell_type": "code",
   "execution_count": 133,
   "metadata": {},
   "outputs": [
    {
     "data": {
      "text/plain": [
       "1000"
      ]
     },
     "execution_count": 133,
     "metadata": {},
     "output_type": "execute_result"
    }
   ],
   "source": [
    "len(norm)"
   ]
  },
  {
   "cell_type": "code",
   "execution_count": 134,
   "metadata": {},
   "outputs": [
    {
     "data": {
      "text/plain": [
       "[<matplotlib.lines.Line2D at 0x1bbbd035d30>]"
      ]
     },
     "execution_count": 134,
     "metadata": {},
     "output_type": "execute_result"
    },
    {
     "data": {
      "image/png": "[encoded data removed]",
      "text/plain": [
       "<Figure size 432x288 with 1 Axes>"
      ]
     },
     "metadata": {
      "needs_background": "light"
     },
     "output_type": "display_data"
    }
   ],
   "source": [
    "plt.plot(a,norm)"
   ]
  },
  {
   "cell_type": "code",
   "execution_count": 135,
   "metadata": {},
   "outputs": [
    {
     "data": {
      "image/png": "[encoded data removed]",
      "text/plain": [
       "<Figure size 432x288 with 1 Axes>"
      ]
     },
     "metadata": {
      "needs_background": "light"
     },
     "output_type": "display_data"
    }
   ],
   "source": [
    "plt.hist(norm,50)\n",
    "plt.show()"
   ]
  },
  {
   "cell_type": "code",
   "execution_count": null,
   "metadata": {},
   "outputs": [],
   "source": []
  },
  {
   "cell_type": "code",
   "execution_count": null,
   "metadata": {},
   "outputs": [],
   "source": []
  }
 ],
 "metadata": {
  "kernelspec": {
   "display_name": "Python 3",
   "language": "python",
   "name": "python3"
  },
  "language_info": {
   "codemirror_mode": {
    "name": "ipython",
    "version": 3
   },
   "file_extension": ".py",
   "mimetype": "text/x-python",
   "name": "python",
   "nbconvert_exporter": "python",
   "pygments_lexer": "ipython3",
   "version": "3.7.0"
  }
 },
 "nbformat": 4,
 "nbformat_minor": 2
}
