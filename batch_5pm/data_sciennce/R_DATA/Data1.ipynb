{
 "cells": [
  {
   "cell_type": "code",
   "execution_count": 1,
   "metadata": {
    "collapsed": true
   },
   "outputs": [],
   "source": [
    "%matplotlib inline\n",
    "import numpy as np\n",
    "import pandas as pd"
   ]
  },
  {
   "cell_type": "code",
   "execution_count": 2,
   "metadata": {
    "collapsed": true
   },
   "outputs": [],
   "source": [
    "df = pd.read_csv('baseball.csv')"
   ]
  },
  {
   "cell_type": "code",
   "execution_count": 4,
   "metadata": {},
   "outputs": [
    {
     "data": {
      "text/html": [
       "<div>\n",
       "<style scoped>\n",
       "    .dataframe tbody tr th:only-of-type {\n",
       "        vertical-align: middle;\n",
       "    }\n",
       "\n",
       "    .dataframe tbody tr th {\n",
       "        vertical-align: top;\n",
       "    }\n",
       "\n",
       "    .dataframe thead th {\n",
       "        text-align: right;\n",
       "    }\n",
       "</style>\n",
       "<table border=\"1\" class=\"dataframe\">\n",
       "  <thead>\n",
       "    <tr style=\"text-align: right;\">\n",
       "      <th></th>\n",
       "      <th>Name</th>\n",
       "      <th>Team</th>\n",
       "      <th>Position</th>\n",
       "      <th>Height</th>\n",
       "      <th>Weight</th>\n",
       "      <th>Age</th>\n",
       "      <th>PosCategory</th>\n",
       "    </tr>\n",
       "  </thead>\n",
       "  <tbody>\n",
       "    <tr>\n",
       "      <th>0</th>\n",
       "      <td>Adam_Donachie</td>\n",
       "      <td>BAL</td>\n",
       "      <td>Catcher</td>\n",
       "      <td>74</td>\n",
       "      <td>180</td>\n",
       "      <td>22.99</td>\n",
       "      <td>Catcher</td>\n",
       "    </tr>\n",
       "    <tr>\n",
       "      <th>1</th>\n",
       "      <td>Paul_Bako</td>\n",
       "      <td>BAL</td>\n",
       "      <td>Catcher</td>\n",
       "      <td>74</td>\n",
       "      <td>215</td>\n",
       "      <td>34.69</td>\n",
       "      <td>Catcher</td>\n",
       "    </tr>\n",
       "    <tr>\n",
       "      <th>2</th>\n",
       "      <td>Ramon_Hernandez</td>\n",
       "      <td>BAL</td>\n",
       "      <td>Catcher</td>\n",
       "      <td>72</td>\n",
       "      <td>210</td>\n",
       "      <td>30.78</td>\n",
       "      <td>Catcher</td>\n",
       "    </tr>\n",
       "    <tr>\n",
       "      <th>3</th>\n",
       "      <td>Kevin_Millar</td>\n",
       "      <td>BAL</td>\n",
       "      <td>First_Baseman</td>\n",
       "      <td>72</td>\n",
       "      <td>210</td>\n",
       "      <td>35.43</td>\n",
       "      <td>Infielder</td>\n",
       "    </tr>\n",
       "    <tr>\n",
       "      <th>4</th>\n",
       "      <td>Chris_Gomez</td>\n",
       "      <td>BAL</td>\n",
       "      <td>First_Baseman</td>\n",
       "      <td>73</td>\n",
       "      <td>188</td>\n",
       "      <td>35.71</td>\n",
       "      <td>Infielder</td>\n",
       "    </tr>\n",
       "    <tr>\n",
       "      <th>5</th>\n",
       "      <td>Brian_Roberts</td>\n",
       "      <td>BAL</td>\n",
       "      <td>Second_Baseman</td>\n",
       "      <td>69</td>\n",
       "      <td>176</td>\n",
       "      <td>29.39</td>\n",
       "      <td>Infielder</td>\n",
       "    </tr>\n",
       "    <tr>\n",
       "      <th>6</th>\n",
       "      <td>Miguel_Tejada</td>\n",
       "      <td>BAL</td>\n",
       "      <td>Shortstop</td>\n",
       "      <td>69</td>\n",
       "      <td>209</td>\n",
       "      <td>30.77</td>\n",
       "      <td>Infielder</td>\n",
       "    </tr>\n",
       "    <tr>\n",
       "      <th>7</th>\n",
       "      <td>Melvin_Mora</td>\n",
       "      <td>BAL</td>\n",
       "      <td>Third_Baseman</td>\n",
       "      <td>71</td>\n",
       "      <td>200</td>\n",
       "      <td>35.07</td>\n",
       "      <td>Infielder</td>\n",
       "    </tr>\n",
       "    <tr>\n",
       "      <th>8</th>\n",
       "      <td>Aubrey_Huff</td>\n",
       "      <td>BAL</td>\n",
       "      <td>Third_Baseman</td>\n",
       "      <td>76</td>\n",
       "      <td>231</td>\n",
       "      <td>30.19</td>\n",
       "      <td>Infielder</td>\n",
       "    </tr>\n",
       "    <tr>\n",
       "      <th>9</th>\n",
       "      <td>Adam_Stern</td>\n",
       "      <td>BAL</td>\n",
       "      <td>Outfielder</td>\n",
       "      <td>71</td>\n",
       "      <td>180</td>\n",
       "      <td>27.05</td>\n",
       "      <td>Outfielder</td>\n",
       "    </tr>\n",
       "  </tbody>\n",
       "</table>\n",
       "</div>"
      ],
      "text/plain": [
       "              Name Team        Position  Height  Weight    Age PosCategory\n",
       "0    Adam_Donachie  BAL         Catcher      74     180  22.99     Catcher\n",
       "1        Paul_Bako  BAL         Catcher      74     215  34.69     Catcher\n",
       "2  Ramon_Hernandez  BAL         Catcher      72     210  30.78     Catcher\n",
       "3     Kevin_Millar  BAL   First_Baseman      72     210  35.43   Infielder\n",
       "4      Chris_Gomez  BAL   First_Baseman      73     188  35.71   Infielder\n",
       "5    Brian_Roberts  BAL  Second_Baseman      69     176  29.39   Infielder\n",
       "6    Miguel_Tejada  BAL       Shortstop      69     209  30.77   Infielder\n",
       "7      Melvin_Mora  BAL   Third_Baseman      71     200  35.07   Infielder\n",
       "8      Aubrey_Huff  BAL   Third_Baseman      76     231  30.19   Infielder\n",
       "9       Adam_Stern  BAL      Outfielder      71     180  27.05  Outfielder"
      ]
     },
     "execution_count": 4,
     "metadata": {},
     "output_type": "execute_result"
    }
   ],
   "source": [
    "df.head(10)"
   ]
  },
  {
   "cell_type": "code",
   "execution_count": 5,
   "metadata": {},
   "outputs": [
    {
     "data": {
      "text/html": [
       "<div>\n",
       "<style scoped>\n",
       "    .dataframe tbody tr th:only-of-type {\n",
       "        vertical-align: middle;\n",
       "    }\n",
       "\n",
       "    .dataframe tbody tr th {\n",
       "        vertical-align: top;\n",
       "    }\n",
       "\n",
       "    .dataframe thead th {\n",
       "        text-align: right;\n",
       "    }\n",
       "</style>\n",
       "<table border=\"1\" class=\"dataframe\">\n",
       "  <thead>\n",
       "    <tr style=\"text-align: right;\">\n",
       "      <th></th>\n",
       "      <th>Name</th>\n",
       "      <th>Team</th>\n",
       "      <th>Position</th>\n",
       "      <th>Height</th>\n",
       "      <th>Weight</th>\n",
       "      <th>Age</th>\n",
       "      <th>PosCategory</th>\n",
       "    </tr>\n",
       "  </thead>\n",
       "  <tbody>\n",
       "    <tr>\n",
       "      <th>1011</th>\n",
       "      <td>Tyler_Johnson</td>\n",
       "      <td>STL</td>\n",
       "      <td>Relief_Pitcher</td>\n",
       "      <td>74</td>\n",
       "      <td>180</td>\n",
       "      <td>25.73</td>\n",
       "      <td>Pitcher</td>\n",
       "    </tr>\n",
       "    <tr>\n",
       "      <th>1012</th>\n",
       "      <td>Chris_Narveson</td>\n",
       "      <td>STL</td>\n",
       "      <td>Relief_Pitcher</td>\n",
       "      <td>75</td>\n",
       "      <td>205</td>\n",
       "      <td>25.19</td>\n",
       "      <td>Pitcher</td>\n",
       "    </tr>\n",
       "    <tr>\n",
       "      <th>1013</th>\n",
       "      <td>Randy_Keisler</td>\n",
       "      <td>STL</td>\n",
       "      <td>Relief_Pitcher</td>\n",
       "      <td>75</td>\n",
       "      <td>190</td>\n",
       "      <td>31.01</td>\n",
       "      <td>Pitcher</td>\n",
       "    </tr>\n",
       "    <tr>\n",
       "      <th>1014</th>\n",
       "      <td>Josh_Kinney</td>\n",
       "      <td>STL</td>\n",
       "      <td>Relief_Pitcher</td>\n",
       "      <td>73</td>\n",
       "      <td>195</td>\n",
       "      <td>27.92</td>\n",
       "      <td>Pitcher</td>\n",
       "    </tr>\n",
       "  </tbody>\n",
       "</table>\n",
       "</div>"
      ],
      "text/plain": [
       "                Name Team        Position  Height  Weight    Age PosCategory\n",
       "1011   Tyler_Johnson  STL  Relief_Pitcher      74     180  25.73     Pitcher\n",
       "1012  Chris_Narveson  STL  Relief_Pitcher      75     205  25.19     Pitcher\n",
       "1013   Randy_Keisler  STL  Relief_Pitcher      75     190  31.01     Pitcher\n",
       "1014     Josh_Kinney  STL  Relief_Pitcher      73     195  27.92     Pitcher"
      ]
     },
     "execution_count": 5,
     "metadata": {},
     "output_type": "execute_result"
    }
   ],
   "source": [
    "df.tail(4)"
   ]
  },
  {
   "cell_type": "code",
   "execution_count": 7,
   "metadata": {},
   "outputs": [
    {
     "data": {
      "text/plain": [
       "(1015, 7)"
      ]
     },
     "execution_count": 7,
     "metadata": {},
     "output_type": "execute_result"
    }
   ],
   "source": [
    "df.shape"
   ]
  },
  {
   "cell_type": "code",
   "execution_count": 8,
   "metadata": {},
   "outputs": [
    {
     "data": {
      "text/plain": [
       "7105"
      ]
     },
     "execution_count": 8,
     "metadata": {},
     "output_type": "execute_result"
    }
   ],
   "source": [
    "df.size"
   ]
  },
  {
   "cell_type": "code",
   "execution_count": 9,
   "metadata": {},
   "outputs": [
    {
     "data": {
      "text/plain": [
       "1015"
      ]
     },
     "execution_count": 9,
     "metadata": {},
     "output_type": "execute_result"
    }
   ],
   "source": [
    "len(df)"
   ]
  },
  {
   "cell_type": "code",
   "execution_count": 11,
   "metadata": {},
   "outputs": [
    {
     "data": {
      "text/plain": [
       "Index(['Name', 'Team', 'Position', 'Height', 'Weight', 'Age', 'PosCategory'], dtype='object')"
      ]
     },
     "execution_count": 11,
     "metadata": {},
     "output_type": "execute_result"
    }
   ],
   "source": [
    "df.columns"
   ]
  },
  {
   "cell_type": "code",
   "execution_count": 13,
   "metadata": {},
   "outputs": [
    {
     "data": {
      "text/plain": [
       "0    BAL\n",
       "1    BAL\n",
       "2    BAL\n",
       "3    BAL\n",
       "4    BAL\n",
       "Name: Team, dtype: object"
      ]
     },
     "execution_count": 13,
     "metadata": {},
     "output_type": "execute_result"
    }
   ],
   "source": [
    "df['Team'].head()"
   ]
  },
  {
   "cell_type": "code",
   "execution_count": 15,
   "metadata": {},
   "outputs": [
    {
     "data": {
      "text/plain": [
       "1    BAL\n",
       "2    BAL\n",
       "3    BAL\n",
       "4    BAL\n",
       "Name: Team, dtype: object"
      ]
     },
     "execution_count": 15,
     "metadata": {},
     "output_type": "execute_result"
    }
   ],
   "source": [
    "df['Team'][1:5]"
   ]
  },
  {
   "cell_type": "code",
   "execution_count": 19,
   "metadata": {},
   "outputs": [
    {
     "data": {
      "text/plain": [
       "1          Paul_Bako\n",
       "2    Ramon_Hernandez\n",
       "3       Kevin_Millar\n",
       "4        Chris_Gomez\n",
       "Name: Name, dtype: object"
      ]
     },
     "execution_count": 19,
     "metadata": {},
     "output_type": "execute_result"
    }
   ],
   "source": [
    "df['Name'][1:5]"
   ]
  },
  {
   "cell_type": "code",
   "execution_count": 23,
   "metadata": {},
   "outputs": [
    {
     "data": {
      "text/html": [
       "<div>\n",
       "<style scoped>\n",
       "    .dataframe tbody tr th:only-of-type {\n",
       "        vertical-align: middle;\n",
       "    }\n",
       "\n",
       "    .dataframe tbody tr th {\n",
       "        vertical-align: top;\n",
       "    }\n",
       "\n",
       "    .dataframe thead th {\n",
       "        text-align: right;\n",
       "    }\n",
       "</style>\n",
       "<table border=\"1\" class=\"dataframe\">\n",
       "  <thead>\n",
       "    <tr style=\"text-align: right;\">\n",
       "      <th></th>\n",
       "      <th>Name</th>\n",
       "      <th>Team</th>\n",
       "      <th>Age</th>\n",
       "    </tr>\n",
       "  </thead>\n",
       "  <tbody>\n",
       "    <tr>\n",
       "      <th>1</th>\n",
       "      <td>Paul_Bako</td>\n",
       "      <td>BAL</td>\n",
       "      <td>34.69</td>\n",
       "    </tr>\n",
       "    <tr>\n",
       "      <th>2</th>\n",
       "      <td>Ramon_Hernandez</td>\n",
       "      <td>BAL</td>\n",
       "      <td>30.78</td>\n",
       "    </tr>\n",
       "    <tr>\n",
       "      <th>3</th>\n",
       "      <td>Kevin_Millar</td>\n",
       "      <td>BAL</td>\n",
       "      <td>35.43</td>\n",
       "    </tr>\n",
       "    <tr>\n",
       "      <th>4</th>\n",
       "      <td>Chris_Gomez</td>\n",
       "      <td>BAL</td>\n",
       "      <td>35.71</td>\n",
       "    </tr>\n",
       "  </tbody>\n",
       "</table>\n",
       "</div>"
      ],
      "text/plain": [
       "              Name Team    Age\n",
       "1        Paul_Bako  BAL  34.69\n",
       "2  Ramon_Hernandez  BAL  30.78\n",
       "3     Kevin_Millar  BAL  35.43\n",
       "4      Chris_Gomez  BAL  35.71"
      ]
     },
     "execution_count": 23,
     "metadata": {},
     "output_type": "execute_result"
    }
   ],
   "source": [
    "df[['Name','Team','Age']][1:5]"
   ]
  },
  {
   "cell_type": "code",
   "execution_count": 24,
   "metadata": {},
   "outputs": [
    {
     "data": {
      "text/html": [
       "<div>\n",
       "<style scoped>\n",
       "    .dataframe tbody tr th:only-of-type {\n",
       "        vertical-align: middle;\n",
       "    }\n",
       "\n",
       "    .dataframe tbody tr th {\n",
       "        vertical-align: top;\n",
       "    }\n",
       "\n",
       "    .dataframe thead th {\n",
       "        text-align: right;\n",
       "    }\n",
       "</style>\n",
       "<table border=\"1\" class=\"dataframe\">\n",
       "  <thead>\n",
       "    <tr style=\"text-align: right;\">\n",
       "      <th></th>\n",
       "      <th>Name</th>\n",
       "      <th>Team</th>\n",
       "      <th>Age</th>\n",
       "    </tr>\n",
       "  </thead>\n",
       "  <tbody>\n",
       "    <tr>\n",
       "      <th>1014</th>\n",
       "      <td>Josh_Kinney</td>\n",
       "      <td>STL</td>\n",
       "      <td>27.92</td>\n",
       "    </tr>\n",
       "    <tr>\n",
       "      <th>1013</th>\n",
       "      <td>Randy_Keisler</td>\n",
       "      <td>STL</td>\n",
       "      <td>31.01</td>\n",
       "    </tr>\n",
       "    <tr>\n",
       "      <th>1012</th>\n",
       "      <td>Chris_Narveson</td>\n",
       "      <td>STL</td>\n",
       "      <td>25.19</td>\n",
       "    </tr>\n",
       "    <tr>\n",
       "      <th>1011</th>\n",
       "      <td>Tyler_Johnson</td>\n",
       "      <td>STL</td>\n",
       "      <td>25.73</td>\n",
       "    </tr>\n",
       "    <tr>\n",
       "      <th>1010</th>\n",
       "      <td>Brad_Thompson</td>\n",
       "      <td>STL</td>\n",
       "      <td>25.08</td>\n",
       "    </tr>\n",
       "    <tr>\n",
       "      <th>1009</th>\n",
       "      <td>Josh_Hancock</td>\n",
       "      <td>STL</td>\n",
       "      <td>28.89</td>\n",
       "    </tr>\n",
       "    <tr>\n",
       "      <th>1008</th>\n",
       "      <td>Randy_Flores</td>\n",
       "      <td>STL</td>\n",
       "      <td>31.58</td>\n",
       "    </tr>\n",
       "  </tbody>\n",
       "</table>\n",
       "</div>"
      ],
      "text/plain": [
       "                Name Team    Age\n",
       "1014     Josh_Kinney  STL  27.92\n",
       "1013   Randy_Keisler  STL  31.01\n",
       "1012  Chris_Narveson  STL  25.19\n",
       "1011   Tyler_Johnson  STL  25.73\n",
       "1010   Brad_Thompson  STL  25.08\n",
       "1009    Josh_Hancock  STL  28.89\n",
       "1008    Randy_Flores  STL  31.58"
      ]
     },
     "execution_count": 24,
     "metadata": {},
     "output_type": "execute_result"
    }
   ],
   "source": [
    "df[['Name','Team','Age']][-1:-8:-1]"
   ]
  },
  {
   "cell_type": "code",
   "execution_count": 27,
   "metadata": {},
   "outputs": [
    {
     "data": {
      "text/html": [
       "<div>\n",
       "<style scoped>\n",
       "    .dataframe tbody tr th:only-of-type {\n",
       "        vertical-align: middle;\n",
       "    }\n",
       "\n",
       "    .dataframe tbody tr th {\n",
       "        vertical-align: top;\n",
       "    }\n",
       "\n",
       "    .dataframe thead th {\n",
       "        text-align: right;\n",
       "    }\n",
       "</style>\n",
       "<table border=\"1\" class=\"dataframe\">\n",
       "  <thead>\n",
       "    <tr style=\"text-align: right;\">\n",
       "      <th></th>\n",
       "      <th>Name</th>\n",
       "      <th>Team</th>\n",
       "      <th>Position</th>\n",
       "      <th>Height</th>\n",
       "      <th>Weight</th>\n",
       "      <th>Age</th>\n",
       "      <th>PosCategory</th>\n",
       "    </tr>\n",
       "  </thead>\n",
       "  <tbody>\n",
       "    <tr>\n",
       "      <th>288</th>\n",
       "      <td>Felix_Hernandez</td>\n",
       "      <td>SEA</td>\n",
       "      <td>Starting_Pitcher</td>\n",
       "      <td>75</td>\n",
       "      <td>225</td>\n",
       "      <td>20.90</td>\n",
       "      <td>Pitcher</td>\n",
       "    </tr>\n",
       "    <tr>\n",
       "      <th>318</th>\n",
       "      <td>Delmon_Young</td>\n",
       "      <td>TB</td>\n",
       "      <td>Outfielder</td>\n",
       "      <td>75</td>\n",
       "      <td>205</td>\n",
       "      <td>21.46</td>\n",
       "      <td>Outfielder</td>\n",
       "    </tr>\n",
       "    <tr>\n",
       "      <th>289</th>\n",
       "      <td>Ryan_Feierabend</td>\n",
       "      <td>SEA</td>\n",
       "      <td>Starting_Pitcher</td>\n",
       "      <td>75</td>\n",
       "      <td>190</td>\n",
       "      <td>21.52</td>\n",
       "      <td>Pitcher</td>\n",
       "    </tr>\n",
       "    <tr>\n",
       "      <th>285</th>\n",
       "      <td>Adam_Jones</td>\n",
       "      <td>SEA</td>\n",
       "      <td>Outfielder</td>\n",
       "      <td>74</td>\n",
       "      <td>200</td>\n",
       "      <td>21.58</td>\n",
       "      <td>Outfielder</td>\n",
       "    </tr>\n",
       "    <tr>\n",
       "      <th>267</th>\n",
       "      <td>Andrew_Miller</td>\n",
       "      <td>DET</td>\n",
       "      <td>Relief_Pitcher</td>\n",
       "      <td>78</td>\n",
       "      <td>210</td>\n",
       "      <td>21.78</td>\n",
       "      <td>Pitcher</td>\n",
       "    </tr>\n",
       "  </tbody>\n",
       "</table>\n",
       "</div>"
      ],
      "text/plain": [
       "                Name Team          Position  Height  Weight    Age PosCategory\n",
       "288  Felix_Hernandez  SEA  Starting_Pitcher      75     225  20.90     Pitcher\n",
       "318     Delmon_Young   TB        Outfielder      75     205  21.46  Outfielder\n",
       "289  Ryan_Feierabend  SEA  Starting_Pitcher      75     190  21.52     Pitcher\n",
       "285       Adam_Jones  SEA        Outfielder      74     200  21.58  Outfielder\n",
       "267    Andrew_Miller  DET    Relief_Pitcher      78     210  21.78     Pitcher"
      ]
     },
     "execution_count": 27,
     "metadata": {},
     "output_type": "execute_result"
    }
   ],
   "source": [
    "df.sort_values(['Age'])[:5]"
   ]
  },
  {
   "cell_type": "code",
   "execution_count": 30,
   "metadata": {},
   "outputs": [
    {
     "data": {
      "text/plain": [
       "24.94    7\n",
       "24.63    5\n",
       "27.12    5\n",
       "26.77    4\n",
       "29.95    4\n",
       "Name: Age, dtype: int64"
      ]
     },
     "execution_count": 30,
     "metadata": {},
     "output_type": "execute_result"
    }
   ],
   "source": [
    "df['Age'].value_counts().head()"
   ]
  },
  {
   "cell_type": "code",
   "execution_count": 39,
   "metadata": {
    "collapsed": true
   },
   "outputs": [],
   "source": [
    "x = df['Age'].value_counts().head(10)"
   ]
  },
  {
   "cell_type": "code",
   "execution_count": 40,
   "metadata": {},
   "outputs": [
    {
     "data": {
      "text/plain": [
       "<matplotlib.axes._subplots.AxesSubplot at 0x270015d19e8>"
      ]
     },
     "execution_count": 40,
     "metadata": {},
     "output_type": "execute_result"
    },
    {
     "data": {
      "image/png": "[encoded data removed]",
      "text/plain": [
       "<Figure size 432x288 with 1 Axes>"
      ]
     },
     "metadata": {},
     "output_type": "display_data"
    }
   ],
   "source": [
    "x.plot(kind='bar')"
   ]
  },
  {
   "cell_type": "code",
   "execution_count": null,
   "metadata": {
    "collapsed": true
   },
   "outputs": [],
   "source": []
  }
 ],
 "metadata": {
  "kernelspec": {
   "display_name": "Python 3",
   "language": "python",
   "name": "python3"
  },
  "language_info": {
   "codemirror_mode": {
    "name": "ipython",
    "version": 3
   },
   "file_extension": ".py",
   "mimetype": "text/x-python",
   "name": "python",
   "nbconvert_exporter": "python",
   "pygments_lexer": "ipython3",
   "version": "3.6.3"
  }
 },
 "nbformat": 4,
 "nbformat_minor": 2
}
