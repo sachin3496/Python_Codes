{
 "cells": [
  {
   "cell_type": "code",
   "execution_count": 3,
   "metadata": {},
   "outputs": [],
   "source": [
    "import csv\n",
    "f = open('input/11.csv')\n",
    "d  = csv.reader(f)\n",
    "k = []\n",
    "for var in d:\n",
    "    k.append(var)\n",
    "f.close()"
   ]
  },
  {
   "cell_type": "code",
   "execution_count": 7,
   "metadata": {},
   "outputs": [
    {
     "name": "stdout",
     "output_type": "stream",
     "text": [
      "[['Drug IDs', 'GenBank Protein ID', 'Gene Name', 'Function', 'GenBank Gene ID', 'UniProt ID', 'Uniprot Title', 'PDB ID', 'GeneCard ID', 'GenAtlas ID', 'HGNC ID', 'HPRD ID', 'Species'], ['DB00907', '184039', 'SCN5A', 'Sodium channel protein type 5 subunit alpha', 'M77235', 'Q14524', 'SCN5A_HUMAN', '', 'SCN5A', 'SCN5A', 'HGNC:10593', '2543', 'Homo sapiens'], ['DB01031', '29600', 'CA1', 'Carbonic anhydrase 1', 'X05014', 'P00915', 'CAH1_HUMAN', '1CZM', 'CA1', 'CA1', 'HGNC:1368', '265', 'Homo sapiens']]\n",
      "13\n",
      "13\n"
     ]
    }
   ],
   "source": [
    "print(k[:3])\n",
    "m = len(k[1:])\n",
    "n = len(k[1])\n",
    "print(m)\n",
    "print(n)"
   ]
  },
  {
   "cell_type": "code",
   "execution_count": 11,
   "metadata": {},
   "outputs": [
    {
     "name": "stdout",
     "output_type": "stream",
     "text": [
      "29600\n",
      "265\n"
     ]
    }
   ],
   "source": [
    "print(k[2][1])\n",
    "print(k[2][11])"
   ]
  },
  {
   "cell_type": "code",
   "execution_count": 12,
   "metadata": {},
   "outputs": [],
   "source": [
    "n = []\n",
    "for var in k[1:] :\n",
    "    one = int(var[1])\n",
    "    two = int(var[11])\n",
    "    d  = [ one,two]\n",
    "    n.append(d)"
   ]
  },
  {
   "cell_type": "code",
   "execution_count": 13,
   "metadata": {},
   "outputs": [
    {
     "name": "stdout",
     "output_type": "stream",
     "text": [
      "[[184039, 2543], [29600, 265], [179780, 2023], [178194, 85], [190362, 1457], [475198, 3077], [1899202, 697], [1196449, 699], [3025446, 9444], [178198, 86], [558749, 698], [609306, 4006], [1162924, 3066]]\n"
     ]
    }
   ],
   "source": [
    "print(n)"
   ]
  },
  {
   "cell_type": "code",
   "execution_count": 14,
   "metadata": {
    "collapsed": true
   },
   "outputs": [],
   "source": [
    "import matplotlib.pyplot as plt\n",
    "import numpy as np\n"
   ]
  },
  {
   "cell_type": "code",
   "execution_count": 15,
   "metadata": {},
   "outputs": [
    {
     "name": "stdout",
     "output_type": "stream",
     "text": [
      "[[ 184039    2543]\n",
      " [  29600     265]\n",
      " [ 179780    2023]\n",
      " [ 178194      85]\n",
      " [ 190362    1457]\n",
      " [ 475198    3077]\n",
      " [1899202     697]\n",
      " [1196449     699]\n",
      " [3025446    9444]\n",
      " [ 178198      86]\n",
      " [ 558749     698]\n",
      " [ 609306    4006]\n",
      " [1162924    3066]]\n"
     ]
    }
   ],
   "source": [
    "k = np.array(n)\n",
    "print(k)"
   ]
  },
  {
   "cell_type": "code",
   "execution_count": 16,
   "metadata": {},
   "outputs": [
    {
     "data": {
      "image/png": "[encoded data removed]",
      "text/plain": [
       "<Figure size 432x288 with 1 Axes>"
      ]
     },
     "metadata": {},
     "output_type": "display_data"
    }
   ],
   "source": [
    "plt.plot(k)\n",
    "plt.show()"
   ]
  },
  {
   "cell_type": "code",
   "execution_count": null,
   "metadata": {
    "collapsed": true
   },
   "outputs": [],
   "source": []
  }
 ],
 "metadata": {
  "kernelspec": {
   "display_name": "Python 3",
   "language": "python",
   "name": "python3"
  },
  "language_info": {
   "codemirror_mode": {
    "name": "ipython",
    "version": 3
   },
   "file_extension": ".py",
   "mimetype": "text/x-python",
   "name": "python",
   "nbconvert_exporter": "python",
   "pygments_lexer": "ipython3",
   "version": "3.6.3"
  }
 },
 "nbformat": 4,
 "nbformat_minor": 2
}
