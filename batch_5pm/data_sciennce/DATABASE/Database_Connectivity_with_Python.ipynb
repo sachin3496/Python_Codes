{
 "cells": [
  {
   "cell_type": "code",
   "execution_count": 1,
   "metadata": {},
   "outputs": [],
   "source": [
    "import sqlite3 as sql \n"
   ]
  },
  {
   "cell_type": "code",
   "execution_count": 2,
   "metadata": {},
   "outputs": [],
   "source": [
    "con = sql.connect('mydatabase.db')"
   ]
  },
  {
   "cell_type": "code",
   "execution_count": 3,
   "metadata": {},
   "outputs": [
    {
     "name": "stdout",
     "output_type": "stream",
     "text": [
      " Volume in drive C has no label.\n",
      " Volume Serial Number is F835-3256\n",
      "\n",
      " Directory of C:\\Users\\sachin\\Documents\\GitHub\\Python_Codes\\batch_5pm\\data_sciennce\\DATABASE\n",
      "\n",
      "11/29/2018  06:10 PM    <DIR>          .\n",
      "11/29/2018  06:10 PM    <DIR>          ..\n",
      "11/29/2018  06:08 PM    <DIR>          .ipynb_checkpoints\n",
      "06/13/2018  07:44 AM               989 Changelog\n",
      "11/23/2018  06:07 PM            35,893 DABASE.png\n",
      "11/29/2018  06:10 PM               746 Database_Connectivity_with_Python.ipynb\n",
      "11/23/2018  07:25 PM            41,815 DATABASE1.png\n",
      "06/13/2018  07:44 AM             4,320 employees.sql\n",
      "06/13/2018  07:44 AM             6,453 employees_partitioned.sql\n",
      "06/13/2018  07:44 AM             8,147 employees_partitioned_5.1.sql\n",
      "11/23/2018  06:14 PM    <DIR>          images\n",
      "06/13/2018  07:44 AM               260 load_departments.dump\n",
      "06/13/2018  07:44 AM        14,491,483 load_dept_emp.dump\n",
      "06/13/2018  07:44 AM             1,138 load_dept_manager.dump\n",
      "06/13/2018  07:44 AM        18,022,856 load_employees.dump\n",
      "06/13/2018  07:44 AM        40,773,364 load_salaries1.dump\n",
      "06/13/2018  07:44 AM        40,752,967 load_salaries2.dump\n",
      "06/13/2018  07:44 AM        40,010,648 load_salaries3.dump\n",
      "06/13/2018  07:44 AM        22,152,044 load_titles.dump\n",
      "11/29/2018  06:10 PM                 0 mydatabase.db\n",
      "06/13/2018  07:44 AM             4,793 objects.sql\n",
      "06/13/2018  07:44 AM             4,114 README.md\n",
      "11/23/2018  06:14 PM    <DIR>          Sakila\n",
      "06/13/2018  07:44 AM               277 show_elapsed.sql\n",
      "06/13/2018  07:44 AM             1,872 sql_test.sh\n",
      "06/13/2018  07:44 AM             5,002 test_employees_md5.sql\n",
      "06/13/2018  07:44 AM             5,004 test_employees_sha.sql\n",
      "11/23/2018  09:30 AM    <DIR>          World\n",
      "              22 File(s)    176,324,185 bytes\n",
      "               6 Dir(s)  100,696,248,320 bytes free\n"
     ]
    }
   ],
   "source": [
    "ls"
   ]
  },
  {
   "cell_type": "code",
   "execution_count": 4,
   "metadata": {},
   "outputs": [
    {
     "data": {
      "text/plain": [
       "'C:\\\\Users\\\\sachin\\\\Documents\\\\GitHub\\\\Python_Codes\\\\batch_5pm\\\\data_sciennce\\\\DATABASE'"
      ]
     },
     "execution_count": 4,
     "metadata": {},
     "output_type": "execute_result"
    }
   ],
   "source": [
    "pwd"
   ]
  },
  {
   "cell_type": "code",
   "execution_count": 5,
   "metadata": {},
   "outputs": [
    {
     "name": "stdout",
     "output_type": "stream",
     "text": [
      "C:\\Users\\sachin\\Documents\\GitHub\\Python_Codes\\batch_5pm\\data_sciennce\n"
     ]
    }
   ],
   "source": [
    "cd .."
   ]
  },
  {
   "cell_type": "code",
   "execution_count": 6,
   "metadata": {},
   "outputs": [
    {
     "name": "stdout",
     "output_type": "stream",
     "text": [
      "C:\\Users\\sachin\\Documents\\GitHub\\Python_Codes\\batch_5pm\\data_sciennce\\DATABASE\n"
     ]
    }
   ],
   "source": [
    "cd DATABASE"
   ]
  },
  {
   "cell_type": "code",
   "execution_count": 9,
   "metadata": {},
   "outputs": [
    {
     "name": "stdout",
     "output_type": "stream",
     "text": [
      "Writing hello_sachin.py\n"
     ]
    }
   ],
   "source": [
    "%%writefile hello_sachin.py\n",
    "def hello(name):\n",
    "    print(f\"Hello {name}\")\n",
    "    \n",
    "hello('sachin')"
   ]
  },
  {
   "cell_type": "code",
   "execution_count": 10,
   "metadata": {},
   "outputs": [
    {
     "name": "stdout",
     "output_type": "stream",
     "text": [
      " Volume in drive C has no label.\n",
      " Volume Serial Number is F835-3256\n",
      "\n",
      " Directory of C:\\Users\\sachin\\Documents\\GitHub\\Python_Codes\\batch_5pm\\data_sciennce\\DATABASE\n",
      "\n",
      "11/29/2018  06:14 PM    <DIR>          .\n",
      "11/29/2018  06:14 PM    <DIR>          ..\n",
      "11/29/2018  06:08 PM    <DIR>          .ipynb_checkpoints\n",
      "06/13/2018  07:44 AM               989 Changelog\n",
      "11/23/2018  06:07 PM            35,893 DABASE.png\n",
      "11/29/2018  06:14 PM             4,648 Database_Connectivity_with_Python.ipynb\n",
      "11/23/2018  07:25 PM            41,815 DATABASE1.png\n",
      "06/13/2018  07:44 AM             4,320 employees.sql\n",
      "06/13/2018  07:44 AM             6,453 employees_partitioned.sql\n",
      "06/13/2018  07:44 AM             8,147 employees_partitioned_5.1.sql\n",
      "11/29/2018  06:14 PM                67 hello_sachin.py\n",
      "11/23/2018  06:14 PM    <DIR>          images\n",
      "06/13/2018  07:44 AM               260 load_departments.dump\n",
      "06/13/2018  07:44 AM        14,491,483 load_dept_emp.dump\n",
      "06/13/2018  07:44 AM             1,138 load_dept_manager.dump\n",
      "06/13/2018  07:44 AM        18,022,856 load_employees.dump\n",
      "06/13/2018  07:44 AM        40,773,364 load_salaries1.dump\n",
      "06/13/2018  07:44 AM        40,752,967 load_salaries2.dump\n",
      "06/13/2018  07:44 AM        40,010,648 load_salaries3.dump\n",
      "06/13/2018  07:44 AM        22,152,044 load_titles.dump\n",
      "11/29/2018  06:10 PM                 0 mydatabase.db\n",
      "06/13/2018  07:44 AM             4,793 objects.sql\n",
      "06/13/2018  07:44 AM             4,114 README.md\n",
      "11/23/2018  06:14 PM    <DIR>          Sakila\n",
      "06/13/2018  07:44 AM               277 show_elapsed.sql\n",
      "06/13/2018  07:44 AM             1,872 sql_test.sh\n",
      "06/13/2018  07:44 AM             5,002 test_employees_md5.sql\n",
      "06/13/2018  07:44 AM             5,004 test_employees_sha.sql\n",
      "11/23/2018  09:30 AM    <DIR>          World\n",
      "              23 File(s)    176,328,154 bytes\n",
      "               6 Dir(s)  100,715,630,592 bytes free\n"
     ]
    }
   ],
   "source": [
    "ls"
   ]
  },
  {
   "cell_type": "code",
   "execution_count": 2,
   "metadata": {},
   "outputs": [
    {
     "name": "stdout",
     "output_type": "stream",
     "text": [
      "Hello sachin\n"
     ]
    }
   ],
   "source": [
    "!python hello_sachin.py"
   ]
  },
  {
   "cell_type": "code",
   "execution_count": null,
   "metadata": {},
   "outputs": [],
   "source": [
    "!python C:/Users/sachin/Documents/GitHub/Python_Codes/batch_5pm/basic_python/prime.py\n",
    "    "
   ]
  },
  {
   "cell_type": "code",
   "execution_count": 1,
   "metadata": {},
   "outputs": [],
   "source": [
    "def abracadabra():\n",
    "    print(\"Time pass\")"
   ]
  },
  {
   "cell_type": "code",
   "execution_count": 2,
   "metadata": {},
   "outputs": [
    {
     "name": "stdout",
     "output_type": "stream",
     "text": [
      "Time pass\n"
     ]
    }
   ],
   "source": [
    "abracadabra()"
   ]
  },
  {
   "cell_type": "code",
   "execution_count": 4,
   "metadata": {},
   "outputs": [
    {
     "name": "stdout",
     "output_type": "stream",
     "text": [
      "361 ms ± 8.13 ms per loop (mean ± std. dev. of 7 runs, 1 loop each)\n"
     ]
    }
   ],
   "source": [
    "%%timeit \n",
    "l = []\n",
    "for var in range(1234567) : \n",
    "    l.append(var*var)"
   ]
  },
  {
   "cell_type": "code",
   "execution_count": null,
   "metadata": {},
   "outputs": [],
   "source": [
    "%%time \n",
    "l = [ var for var in range(99) ]"
   ]
  },
  {
   "cell_type": "code",
   "execution_count": null,
   "metadata": {},
   "outputs": [],
   "source": [
    "print(\"Hello World\")"
   ]
  },
  {
   "cell_type": "code",
   "execution_count": null,
   "metadata": {},
   "outputs": [],
   "source": []
  }
 ],
 "metadata": {
  "kernelspec": {
   "display_name": "Python 3",
   "language": "python",
   "name": "python3"
  },
  "language_info": {
   "codemirror_mode": {
    "name": "ipython",
    "version": 3
   },
   "file_extension": ".py",
   "mimetype": "text/x-python",
   "name": "python",
   "nbconvert_exporter": "python",
   "pygments_lexer": "ipython3",
   "version": "3.7.0"
  }
 },
 "nbformat": 4,
 "nbformat_minor": 2
}
