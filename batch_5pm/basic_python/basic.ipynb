{
 "cells": [
  {
   "cell_type": "code",
   "execution_count": 6,
   "metadata": {},
   "outputs": [
    {
     "name": "stdout",
     "output_type": "stream",
     "text": [
      "Type of x variable is =  <class 'dict'>\n"
     ]
    }
   ],
   "source": [
    "x = { 'hello':'hi',1:2,}\n",
    "print(\"Type of x variable is = \",type(x))"
   ]
  },
  {
   "cell_type": "markdown",
   "metadata": {},
   "source": [
    "# Welcome to python\n",
    "<h1 style='color:#123456'>Type of variables</h1>\n",
    "<ol style='color:#123456'>\n",
    "    <li>Numbers --> int,float,complex</li>\n",
    "    <li>String --> \"Hello\",'hi'</li>\n",
    "    <li>List --> [ 'item1','item2','item3' ]</li>\n",
    "    <li>Tuple --> ('same','as','list','but','immutable')</li>\n",
    "    <li>Dictionary --> { 'key1':'value1','key2':'value2' }</li>\n",
    "    <li>Sets --> { 'item1','item2','item3' } </li>\n",
    "</ol>"
   ]
  },
  {
   "cell_type": "markdown",
   "metadata": {},
   "source": [
    "<h1 style='color:red'>Numbers</h1>"
   ]
  },
  {
   "cell_type": "code",
   "execution_count": 9,
   "metadata": {},
   "outputs": [
    {
     "name": "stdout",
     "output_type": "stream",
     "text": [
      "11\n",
      "<class 'int'>\n"
     ]
    }
   ],
   "source": [
    "#int\n",
    "x  = 5\n",
    "y = 6\n",
    "print(x+y)\n",
    "print(type(x))"
   ]
  },
  {
   "cell_type": "code",
   "execution_count": 12,
   "metadata": {},
   "outputs": [
    {
     "name": "stdout",
     "output_type": "stream",
     "text": [
      "X = 10\n",
      "Y = 6\n",
      "x =  10\n",
      "type of x  <class 'int'>\n",
      "y =  6\n",
      "type of y  <class 'int'>\n",
      "x + y =  16\n",
      "type of x+y  <class 'int'>\n"
     ]
    }
   ],
   "source": [
    "x = int(input(\"X = \")) ; y = int(input(\"Y = \"))\n",
    "print(\"x = \",x);print(\"type of x \",type(x))\n",
    "print(\"y = \",y);print(\"type of y \",type(y))\n",
    "print(\"x + y = \",x+y);print(\"type of x+y \",type(x+y))"
   ]
  },
  {
   "cell_type": "code",
   "execution_count": 13,
   "metadata": {},
   "outputs": [
    {
     "name": "stdout",
     "output_type": "stream",
     "text": [
      "Type of x =  <class 'float'>\n",
      "Type of y =  <class 'float'>\n",
      "X + Y =  7.640000000000001\n"
     ]
    }
   ],
   "source": [
    "#float\n",
    "\n",
    "x = 4.5\n",
    "print(\"Type of x = \",type(x))\n",
    "y = 3.14\n",
    "print(\"Type of y = \",type(y))\n",
    "print(\"X + Y = \",x+y)"
   ]
  },
  {
   "cell_type": "code",
   "execution_count": 14,
   "metadata": {},
   "outputs": [
    {
     "name": "stdout",
     "output_type": "stream",
     "text": [
      "<class 'complex'>\n",
      "(3+4j)\n"
     ]
    }
   ],
   "source": [
    "x = 3+4j\n",
    "print(type(x))\n",
    "print(x)"
   ]
  },
  {
   "cell_type": "code",
   "execution_count": 15,
   "metadata": {},
   "outputs": [
    {
     "name": "stdout",
     "output_type": "stream",
     "text": [
      "Type of x =  <class 'int'>\n",
      "Type of y =  <class 'float'>\n",
      "Type of z =  <class 'complex'>\n",
      "X + Y + Z =  (179.67000000000002+67j)\n"
     ]
    }
   ],
   "source": [
    "x = 56\n",
    "y = 67.67\n",
    "z = 56+67j\n",
    "print(\"Type of x = \",type(x))\n",
    "print(\"Type of y = \",type(y))\n",
    "print(\"Type of z = \",type(z))\n",
    "print(\"X + Y + Z = \",x+y+z)"
   ]
  },
  {
   "cell_type": "code",
   "execution_count": 16,
   "metadata": {},
   "outputs": [
    {
     "name": "stdout",
     "output_type": "stream",
     "text": [
      "Type of s =  <class 'str'>\n",
      "Hello World\n",
      "Type of s1 =  <class 'str'>\n",
      "hey i am also a string\n",
      "Type of s2 =  <class 'str'>\n",
      "he said, \"Python is Awesome\"\n"
     ]
    }
   ],
   "source": [
    "s = \"Hello World\"\n",
    "s1 = 'hey i am also a string'\n",
    "s2 = 'he said, \"Python is Awesome\"'\n",
    "print(\"Type of s = \",type(s))\n",
    "print(s)\n",
    "print(\"Type of s1 = \",type(s1))\n",
    "print(s1)\n",
    "print(\"Type of s2 = \",type(s2))\n",
    "print(s2)"
   ]
  },
  {
   "cell_type": "code",
   "execution_count": 18,
   "metadata": {},
   "outputs": [
    {
     "name": "stdout",
     "output_type": "stream",
     "text": [
      "<class 'str'>\n",
      "Hello jaipur,\n",
      "        it's good to hear about python.\n",
      "it is awesome as it support built in\n",
      "    paragraph\n",
      "\n"
     ]
    }
   ],
   "source": [
    "para = \"\"\"Hello jaipur,\n",
    "        it's good to hear about python.\n",
    "it is awesome as it support built in\n",
    "    paragraph\n",
    "\"\"\"\n",
    "print(type(para))\n",
    "print(para)"
   ]
  },
  {
   "cell_type": "code",
   "execution_count": 19,
   "metadata": {},
   "outputs": [
    {
     "name": "stdout",
     "output_type": "stream",
     "text": [
      "Hello World\n",
      "W\n",
      "W\n"
     ]
    }
   ],
   "source": [
    "s = \"Hello World\" #orderd sequtiential data type\n",
    "print(s)\n",
    "print(s[6])\n",
    "print(s[-5])"
   ]
  },
  {
   "cell_type": "code",
   "execution_count": 20,
   "metadata": {},
   "outputs": [
    {
     "name": "stdout",
     "output_type": "stream",
     "text": [
      "r\n",
      "l\n",
      "l\n"
     ]
    }
   ],
   "source": [
    "s = \"Hello World\"\n",
    "print(s[-3])\n",
    "print(s[2])\n",
    "print(s[3])"
   ]
  },
  {
   "cell_type": "code",
   "execution_count": 22,
   "metadata": {},
   "outputs": [
    {
     "data": {
      "text/plain": [
       "'HloWrd'"
      ]
     },
     "execution_count": 22,
     "metadata": {},
     "output_type": "execute_result"
    }
   ],
   "source": [
    "s = \"Hello World\"\n",
    "s[0:11:2]"
   ]
  },
  {
   "cell_type": "code",
   "execution_count": 24,
   "metadata": {},
   "outputs": [
    {
     "name": "stdout",
     "output_type": "stream",
     "text": [
      "Hello World\n"
     ]
    },
    {
     "data": {
      "text/plain": [
       "'World'"
      ]
     },
     "execution_count": 24,
     "metadata": {},
     "output_type": "execute_result"
    }
   ],
   "source": [
    "s = \"Hello World\"\n",
    "print(s[::])\n",
    "s[6:11]"
   ]
  },
  {
   "cell_type": "code",
   "execution_count": 25,
   "metadata": {},
   "outputs": [
    {
     "name": "stdout",
     "output_type": "stream",
     "text": [
      "Hello world\n",
      "Hello\n"
     ]
    }
   ],
   "source": [
    "s = \"Hello world\"\n",
    "s1 = s[:5]\n",
    "print(s)\n",
    "print(s1)"
   ]
  },
  {
   "cell_type": "code",
   "execution_count": 27,
   "metadata": {},
   "outputs": [
    {
     "data": {
      "text/plain": [
       "'dlrow olle'"
      ]
     },
     "execution_count": 27,
     "metadata": {},
     "output_type": "execute_result"
    }
   ],
   "source": [
    "s[-1:-11:-1]"
   ]
  },
  {
   "cell_type": "code",
   "execution_count": 30,
   "metadata": {},
   "outputs": [
    {
     "data": {
      "text/plain": [
       "'Hello world'"
      ]
     },
     "execution_count": 30,
     "metadata": {},
     "output_type": "execute_result"
    }
   ],
   "source": [
    "s[-11::1]"
   ]
  },
  {
   "cell_type": "code",
   "execution_count": 33,
   "metadata": {},
   "outputs": [
    {
     "data": {
      "text/plain": [
       "'Hello'"
      ]
     },
     "execution_count": 33,
     "metadata": {},
     "output_type": "execute_result"
    }
   ],
   "source": [
    "s[:-6:1]"
   ]
  },
  {
   "cell_type": "code",
   "execution_count": 35,
   "metadata": {},
   "outputs": [
    {
     "data": {
      "text/plain": [
       "'dlro'"
      ]
     },
     "execution_count": 35,
     "metadata": {},
     "output_type": "execute_result"
    }
   ],
   "source": [
    "s[:-5:-1]"
   ]
  },
  {
   "cell_type": "code",
   "execution_count": 36,
   "metadata": {},
   "outputs": [],
   "source": [
    "#list\n",
    "language = [ 'python','java','c','c++','ruby','php','.net','perl','go','swift']"
   ]
  },
  {
   "cell_type": "code",
   "execution_count": 37,
   "metadata": {},
   "outputs": [
    {
     "data": {
      "text/plain": [
       "['python', 'c', 'ruby', '.net', 'go']"
      ]
     },
     "execution_count": 37,
     "metadata": {},
     "output_type": "execute_result"
    }
   ],
   "source": [
    "language[::2]"
   ]
  },
  {
   "cell_type": "code",
   "execution_count": 38,
   "metadata": {},
   "outputs": [],
   "source": [
    "mylist = [ 1,2,3,3.14,5+6j,'hello','hi',['hey how are you'],{ 'h':'i','i':'l'}]"
   ]
  },
  {
   "cell_type": "code",
   "execution_count": 44,
   "metadata": {},
   "outputs": [
    {
     "data": {
      "text/plain": [
       "[{'h': 'i', 'i': 'l'},\n",
       " ['hey how are you'],\n",
       " 'hi',\n",
       " 'hello',\n",
       " (5+6j),\n",
       " 3.14,\n",
       " 3,\n",
       " 2,\n",
       " 1]"
      ]
     },
     "execution_count": 44,
     "metadata": {},
     "output_type": "execute_result"
    }
   ],
   "source": [
    "mylist[::-1]"
   ]
  },
  {
   "cell_type": "code",
   "execution_count": 46,
   "metadata": {},
   "outputs": [],
   "source": [
    "info = { \n",
    "    'name' : 'sachin',\n",
    "    'country': 'india',\n",
    "    'email' : \"sachin@grras.com\",\n",
    "    'language' : 'hindi',\n",
    "    'graduation' : \"b.tech\"\n",
    "    }"
   ]
  },
  {
   "cell_type": "code",
   "execution_count": 54,
   "metadata": {},
   "outputs": [
    {
     "name": "stdout",
     "output_type": "stream",
     "text": [
      "['__class__', '__contains__', '__delattr__', '__delitem__', '__dir__', '__doc__', '__eq__', '__format__', '__ge__', '__getattribute__', '__getitem__', '__gt__', '__hash__', '__init__', '__init_subclass__', '__iter__', '__le__', '__len__', '__lt__', '__ne__', '__new__', '__reduce__', '__reduce_ex__', '__repr__', '__setattr__', '__setitem__', '__sizeof__', '__str__', '__subclasshook__', 'clear', 'copy', 'fromkeys', 'get', 'items', 'keys', 'pop', 'popitem', 'setdefault', 'update', 'values']\n"
     ]
    }
   ],
   "source": [
    "print(dir(info))"
   ]
  },
  {
   "cell_type": "code",
   "execution_count": 58,
   "metadata": {},
   "outputs": [
    {
     "name": "stdout",
     "output_type": "stream",
     "text": [
      "{'country': 'india',\n",
      " 'email': 'sachin@grras.com',\n",
      " 'graduation': 'b.tech',\n",
      " 'language': 'hindi',\n",
      " 'name': 'sachin'}\n",
      "{'country': 'india',\n",
      " 'email': 'sachin@grras.com',\n",
      " 'graduation': 'b.tech',\n",
      " 'language': 'hindi',\n",
      " 'name': 'sachin'}\n"
     ]
    }
   ],
   "source": [
    "from pprint import pprint\n",
    "info_copy = info.copy()\n",
    "pprint(info)\n",
    "pprint(info_copy)"
   ]
  },
  {
   "cell_type": "code",
   "execution_count": 59,
   "metadata": {},
   "outputs": [],
   "source": [
    "info.clear()"
   ]
  },
  {
   "cell_type": "code",
   "execution_count": 60,
   "metadata": {},
   "outputs": [
    {
     "name": "stdout",
     "output_type": "stream",
     "text": [
      "{}\n"
     ]
    }
   ],
   "source": [
    "pprint(info)"
   ]
  },
  {
   "cell_type": "code",
   "execution_count": 61,
   "metadata": {},
   "outputs": [
    {
     "name": "stdout",
     "output_type": "stream",
     "text": [
      "{'country': 'india',\n",
      " 'email': 'sachin@grras.com',\n",
      " 'graduation': 'b.tech',\n",
      " 'language': 'hindi',\n",
      " 'name': 'sachin'}\n"
     ]
    }
   ],
   "source": [
    "pprint(info_copy)"
   ]
  },
  {
   "cell_type": "code",
   "execution_count": 62,
   "metadata": {},
   "outputs": [
    {
     "name": "stdout",
     "output_type": "stream",
     "text": [
      "['__class__', '__contains__', '__delattr__', '__delitem__', '__dir__', '__doc__', '__eq__', '__format__', '__ge__', '__getattribute__', '__getitem__', '__gt__', '__hash__', '__init__', '__init_subclass__', '__iter__', '__le__', '__len__', '__lt__', '__ne__', '__new__', '__reduce__', '__reduce_ex__', '__repr__', '__setattr__', '__setitem__', '__sizeof__', '__str__', '__subclasshook__', 'clear', 'copy', 'fromkeys', 'get', 'items', 'keys', 'pop', 'popitem', 'setdefault', 'update', 'values']\n"
     ]
    }
   ],
   "source": [
    "print(dir(info_copy))"
   ]
  },
  {
   "cell_type": "code",
   "execution_count": 66,
   "metadata": {},
   "outputs": [
    {
     "name": "stdout",
     "output_type": "stream",
     "text": [
      "Help on built-in function fromkeys:\n",
      "\n",
      "fromkeys(iterable, value=None, /) method of builtins.type instance\n",
      "    Returns a new dict with keys from iterable and values equal to value.\n",
      "\n",
      "None\n"
     ]
    }
   ],
   "source": [
    "print(help(info_copy.fromkeys))\n",
    "\n",
    "info = info_copy.fromkeys(info_copy,'default')"
   ]
  },
  {
   "cell_type": "code",
   "execution_count": 64,
   "metadata": {},
   "outputs": [
    {
     "name": "stdout",
     "output_type": "stream",
     "text": [
      "{'age': 'default', 'bye': 'default', 'country': 'default', 'hello': 'default'}\n"
     ]
    }
   ],
   "source": [
    "pprint(info)"
   ]
  },
  {
   "cell_type": "code",
   "execution_count": 70,
   "metadata": {},
   "outputs": [
    {
     "data": {
      "text/plain": [
       "'sachin'"
      ]
     },
     "execution_count": 70,
     "metadata": {},
     "output_type": "execute_result"
    }
   ],
   "source": [
    "info_copy.get('name',False)"
   ]
  },
  {
   "cell_type": "code",
   "execution_count": 71,
   "metadata": {},
   "outputs": [
    {
     "data": {
      "text/plain": [
       "dict_items([('name', 'sachin'), ('country', 'india'), ('email', 'sachin@grras.com'), ('language', 'hindi'), ('graduation', 'b.tech')])"
      ]
     },
     "execution_count": 71,
     "metadata": {},
     "output_type": "execute_result"
    }
   ],
   "source": [
    "info_copy.items()"
   ]
  },
  {
   "cell_type": "code",
   "execution_count": 73,
   "metadata": {},
   "outputs": [
    {
     "data": {
      "text/plain": [
       "dict_keys(['name', 'country', 'email', 'language', 'graduation'])"
      ]
     },
     "execution_count": 73,
     "metadata": {},
     "output_type": "execute_result"
    }
   ],
   "source": [
    "info_copy.keys()"
   ]
  },
  {
   "cell_type": "code",
   "execution_count": 74,
   "metadata": {},
   "outputs": [
    {
     "data": {
      "text/plain": [
       "dict_values(['sachin', 'india', 'sachin@grras.com', 'hindi', 'b.tech'])"
      ]
     },
     "execution_count": 74,
     "metadata": {},
     "output_type": "execute_result"
    }
   ],
   "source": [
    "info_copy.values()"
   ]
  },
  {
   "cell_type": "code",
   "execution_count": 75,
   "metadata": {},
   "outputs": [
    {
     "data": {
      "text/plain": [
       "{'name': 'sachin',\n",
       " 'country': 'india',\n",
       " 'email': 'sachin@grras.com',\n",
       " 'language': 'hindi',\n",
       " 'graduation': 'b.tech'}"
      ]
     },
     "execution_count": 75,
     "metadata": {},
     "output_type": "execute_result"
    }
   ],
   "source": [
    "info_copy"
   ]
  },
  {
   "cell_type": "code",
   "execution_count": 78,
   "metadata": {},
   "outputs": [
    {
     "data": {
      "text/plain": [
       "'hindi'"
      ]
     },
     "execution_count": 78,
     "metadata": {},
     "output_type": "execute_result"
    }
   ],
   "source": [
    "info_copy.pop('language')"
   ]
  },
  {
   "cell_type": "code",
   "execution_count": 79,
   "metadata": {},
   "outputs": [
    {
     "data": {
      "text/plain": [
       "{'name': 'sachin',\n",
       " 'country': 'india',\n",
       " 'email': 'sachin@grras.com',\n",
       " 'graduation': 'b.tech'}"
      ]
     },
     "execution_count": 79,
     "metadata": {},
     "output_type": "execute_result"
    }
   ],
   "source": [
    "info_copy"
   ]
  },
  {
   "cell_type": "code",
   "execution_count": 80,
   "metadata": {},
   "outputs": [
    {
     "name": "stdout",
     "output_type": "stream",
     "text": [
      "This  ('graduation', 'b.tech') Item is deleted\n"
     ]
    },
    {
     "data": {
      "text/plain": [
       "{'name': 'sachin', 'country': 'india', 'email': 'sachin@grras.com'}"
      ]
     },
     "execution_count": 80,
     "metadata": {},
     "output_type": "execute_result"
    }
   ],
   "source": [
    "print(\"This \",info_copy.popitem(),\"Item is deleted\")\n",
    "info_copy"
   ]
  },
  {
   "cell_type": "code",
   "execution_count": 81,
   "metadata": {},
   "outputs": [
    {
     "data": {
      "text/plain": [
       "{'name': 'sachin', 'country': 'india', 'email': 'sachin@grras.com'}"
      ]
     },
     "execution_count": 81,
     "metadata": {},
     "output_type": "execute_result"
    }
   ],
   "source": [
    "info_copy"
   ]
  },
  {
   "cell_type": "code",
   "execution_count": 96,
   "metadata": {},
   "outputs": [
    {
     "data": {
      "text/plain": [
       "'sachin yadav'"
      ]
     },
     "execution_count": 96,
     "metadata": {},
     "output_type": "execute_result"
    }
   ],
   "source": [
    "info_copy.setdefault('name','hello world')"
   ]
  },
  {
   "cell_type": "code",
   "execution_count": 95,
   "metadata": {},
   "outputs": [
    {
     "data": {
      "text/plain": [
       "{'name': 'sachin yadav',\n",
       " 'country': 'india',\n",
       " 'email': 'sachin@gmail.com',\n",
       " 'graduation': 'default',\n",
       " 'langauage': 'english',\n",
       " 'height': 5.11,\n",
       " 'blood_group': 'B+ive',\n",
       " 'thisisfun': 'hello world'}"
      ]
     },
     "execution_count": 95,
     "metadata": {},
     "output_type": "execute_result"
    }
   ],
   "source": [
    "info_copy"
   ]
  },
  {
   "cell_type": "code",
   "execution_count": 89,
   "metadata": {},
   "outputs": [],
   "source": [
    "info_copy.update([ ('name','sachin yadav'),('langauage','english'),('email','sachin@gmail.com')])"
   ]
  },
  {
   "cell_type": "code",
   "execution_count": 90,
   "metadata": {},
   "outputs": [
    {
     "data": {
      "text/plain": [
       "{'name': 'sachin yadav',\n",
       " 'country': 'india',\n",
       " 'email': 'sachin@gmail.com',\n",
       " 'graduation': 'default',\n",
       " 'langauage': 'english'}"
      ]
     },
     "execution_count": 90,
     "metadata": {},
     "output_type": "execute_result"
    }
   ],
   "source": [
    "info_copy"
   ]
  },
  {
   "cell_type": "code",
   "execution_count": 92,
   "metadata": {},
   "outputs": [
    {
     "data": {
      "text/plain": [
       "{'name': 'sachin yadav',\n",
       " 'country': 'india',\n",
       " 'email': 'sachin@gmail.com',\n",
       " 'graduation': 'default',\n",
       " 'langauage': 'english',\n",
       " 'height': 5.11,\n",
       " 'blood_group': 'B+ive'}"
      ]
     },
     "execution_count": 92,
     "metadata": {},
     "output_type": "execute_result"
    }
   ],
   "source": [
    "data =  [ ('height',5.11), ('blood_group','B+ive') ]\n",
    "info_copy.update(data)\n",
    "info_copy"
   ]
  },
  {
   "cell_type": "code",
   "execution_count": null,
   "metadata": {},
   "outputs": [],
   "source": []
  }
 ],
 "metadata": {
  "kernelspec": {
   "display_name": "Python 3",
   "language": "python",
   "name": "python3"
  },
  "language_info": {
   "codemirror_mode": {
    "name": "ipython",
    "version": 3
   },
   "file_extension": ".py",
   "mimetype": "text/x-python",
   "name": "python",
   "nbconvert_exporter": "python",
   "pygments_lexer": "ipython3",
   "version": "3.6.5"
  }
 },
 "nbformat": 4,
 "nbformat_minor": 2
}
