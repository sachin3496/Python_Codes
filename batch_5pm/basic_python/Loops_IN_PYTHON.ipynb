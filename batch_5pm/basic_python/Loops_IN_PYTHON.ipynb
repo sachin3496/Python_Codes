{
 "cells": [
  {
   "cell_type": "code",
   "execution_count": 1,
   "metadata": {},
   "outputs": [
    {
     "name": "stdout",
     "output_type": "stream",
     "text": [
      "Hello world!This is python class. and today we learning about loops      is that right for you, or this syntax is right or not\n"
     ]
    }
   ],
   "source": [
    "print(\"Hello world!This is python class. and today we learning about loops\\\n",
    "      is that right for you, or this syntax is right or not\")"
   ]
  },
  {
   "cell_type": "code",
   "execution_count": 2,
   "metadata": {},
   "outputs": [
    {
     "name": "stdout",
     "output_type": "stream",
     "text": [
      "The Zen of Python, by Tim Peters\n",
      "\n",
      "Beautiful is better than ugly.\n",
      "Explicit is better than implicit.\n",
      "Simple is better than complex.\n",
      "Complex is better than complicated.\n",
      "Flat is better than nested.\n",
      "Sparse is better than dense.\n",
      "Readability counts.\n",
      "Special cases aren't special enough to break the rules.\n",
      "Although practicality beats purity.\n",
      "Errors should never pass silently.\n",
      "Unless explicitly silenced.\n",
      "In the face of ambiguity, refuse the temptation to guess.\n",
      "There should be one-- and preferably only one --obvious way to do it.\n",
      "Although that way may not be obvious at first unless you're Dutch.\n",
      "Now is better than never.\n",
      "Although never is often better than *right* now.\n",
      "If the implementation is hard to explain, it's a bad idea.\n",
      "If the implementation is easy to explain, it may be a good idea.\n",
      "Namespaces are one honking great idea -- let's do more of those!\n"
     ]
    }
   ],
   "source": [
    "import this"
   ]
  },
  {
   "cell_type": "code",
   "execution_count": 4,
   "metadata": {},
   "outputs": [
    {
     "name": "stdout",
     "output_type": "stream",
     "text": [
      "Hello World\n",
      "Hello World\n",
      "Hello World\n",
      "Hello World\n",
      "Hello World\n",
      "Hello World\n",
      "Hello World\n",
      "Hello World\n",
      "Hello World\n",
      "Hello World\n"
     ]
    }
   ],
   "source": [
    "c = 1\n",
    "while c <= 10 : \n",
    "    print(\"Hello World\")\n",
    "    c = c + 1\n",
    "    "
   ]
  },
  {
   "cell_type": "code",
   "execution_count": 5,
   "metadata": {},
   "outputs": [
    {
     "name": "stdout",
     "output_type": "stream",
     "text": [
      "Hello World Times 1.\n",
      "Hello World Times 2.\n",
      "Hello World Times 3.\n",
      "Hello World Times 4.\n",
      "Hello World Times 5.\n",
      "Hello World Times 6.\n",
      "Hello World Times 7.\n",
      "Hello World Times 8.\n",
      "Hello World Times 9.\n",
      "Hello World Times 10.\n"
     ]
    }
   ],
   "source": [
    "c = 1\n",
    "while c <= 10 : \n",
    "    print(\"Hello World Times {}.\".format(c))\n",
    "    c = c + 1\n",
    "    "
   ]
  },
  {
   "cell_type": "code",
   "execution_count": 8,
   "metadata": {},
   "outputs": [
    {
     "name": "stdout",
     "output_type": "stream",
     "text": [
      "Hello World Times 21.\n",
      "Hello World Times 42.\n",
      "Hello World Times 63.\n",
      "Hello World Times 84.\n"
     ]
    }
   ],
   "source": [
    "c = 1\n",
    "while c <= 100 :\n",
    "    if (c % 3 == 0) and (c % 7 == 0) : \n",
    "        print(\"Hello World Times {}.\".format(c))\n",
    "    c = c + 1"
   ]
  },
  {
   "cell_type": "code",
   "execution_count": 10,
   "metadata": {},
   "outputs": [
    {
     "name": "stdout",
     "output_type": "stream",
     "text": [
      "Enter a number : 13\n",
      "Table of 13 is - \n",
      "13x1=13\n",
      "13x2=26\n",
      "13x3=39\n",
      "13x4=52\n",
      "13x5=65\n",
      "13x6=78\n",
      "13x7=91\n",
      "13x8=104\n",
      "13x9=117\n",
      "13x10=130\n"
     ]
    }
   ],
   "source": [
    "num = int(input(\"Enter a number : \"))\n",
    "print(\"Table of {} is - \".format(num))\n",
    "\n",
    "c = 1\n",
    "while c <= 10 : \n",
    "    print(\"{}x{}={}\".format(num,c,num*c))\n",
    "    c = c + 1"
   ]
  },
  {
   "cell_type": "code",
   "execution_count": 11,
   "metadata": {},
   "outputs": [
    {
     "name": "stdout",
     "output_type": "stream",
     "text": [
      "Enter a number : 12\n",
      "12x1=12\n",
      "12x2=24\n",
      "12x3=36\n",
      "12x4=48\n",
      "12x5=60\n",
      "12x6=72\n",
      "12x7=84\n",
      "12x8=96\n",
      "12x9=108\n",
      "12x10=120\n"
     ]
    }
   ],
   "source": [
    "num = int(input(\"Enter a number : \"))\n",
    "c = 1\n",
    "s = 0\n",
    "while c <= 10 :\n",
    "    s = s + num\n",
    "    print(\"{}x{}={}\".format(num,c,s))\n",
    "    c = c + 1\n",
    "    "
   ]
  },
  {
   "cell_type": "code",
   "execution_count": 20,
   "metadata": {},
   "outputs": [
    {
     "data": {
      "text/plain": [
       "18"
      ]
     },
     "execution_count": 20,
     "metadata": {},
     "output_type": "execute_result"
    }
   ],
   "source": [
    "from random import randint\n",
    "randint(1,50) #will generate a random number in range 1 - 50 "
   ]
  },
  {
   "cell_type": "code",
   "execution_count": 36,
   "metadata": {},
   "outputs": [
    {
     "name": "stdout",
     "output_type": "stream",
     "text": [
      "\n",
      "\n",
      "Press any key to continue again : k\n",
      "\n",
      "\n",
      "\n",
      "Your Guess (1,50) : 25\n",
      "Be Big Think Big\n",
      "\n",
      "\n",
      "\n",
      "Your Guess (1,50) : 13\n",
      "Be Big Think Big\n",
      "\n",
      "\n",
      "\n",
      "Your Guess (1,50) : 7\n",
      "Be Big Think Big\n",
      "\n",
      "\n",
      "\n",
      "Your Guess (1,50) : 3\n",
      "Be Big Think Big\n",
      "\n",
      "\n",
      "\n",
      "Your Guess (1,50) : 2\n",
      "Be Big Think Big\n",
      "You have loose this game\n",
      "\n",
      "\n",
      "\n",
      "\n",
      "\n",
      "Press any key to continue again : k\n",
      "\n",
      "\n",
      "\n",
      "\n",
      "\n",
      "Press any key to continue again : \n"
     ]
    }
   ],
   "source": [
    "from random import randint\n",
    "comGuess = randint(1,50)\n",
    "chances = 5\n",
    "while input(\"\\n\\nPress any key to continue again : \") :\n",
    "    print(\"\\n\\n\")\n",
    "    while chances :\n",
    "        userGuess = int(input(\"Your Guess (1,50) : \"))\n",
    "        if userGuess < comGuess : \n",
    "            print(\"Be Big Think Big\")\n",
    "        elif userGuess > comGuess :  \n",
    "            print(\"Be in Limits Think Lower\")\n",
    "        else :\n",
    "            print(\"Whola!!! You have Win This Game\")\n",
    "            break\n",
    "\n",
    "        if chances == 1 : \n",
    "            print(\"You have loose this game\")\n",
    "        chances -= 1\n",
    "        print(\"\\n\\n\")"
   ]
  },
  {
   "cell_type": "code",
   "execution_count": 25,
   "metadata": {},
   "outputs": [
    {
     "name": "stdout",
     "output_type": "stream",
     "text": [
      "Hello World\n",
      "Hello World\n"
     ]
    }
   ],
   "source": [
    "c = 1 \n",
    "while c <= 5 : \n",
    "    if c == 3 : \n",
    "        break\n",
    "    print(\"Hello World\")\n",
    "    c = c + 1"
   ]
  },
  {
   "cell_type": "code",
   "execution_count": 27,
   "metadata": {},
   "outputs": [
    {
     "name": "stdout",
     "output_type": "stream",
     "text": [
      "Hello World\n",
      "Hello World\n",
      "bye\n",
      "Hello World\n",
      "Hello World\n",
      "Hello World\n",
      "Your sucessfully done it's work\n"
     ]
    }
   ],
   "source": [
    "c = 1 \n",
    "while c <= 5 : \n",
    "    if c == 3 : \n",
    "        #break\n",
    "        print(\"bye\")\n",
    "    print(\"Hello World\")\n",
    "    c = c + 1\n",
    "else : \n",
    "    print(\"Your sucessfully done it's work\")"
   ]
  },
  {
   "cell_type": "code",
   "execution_count": 31,
   "metadata": {},
   "outputs": [
    {
     "name": "stdout",
     "output_type": "stream",
     "text": [
      "Enter starting Point : 1\n",
      "Enter ending Point : 10000\n",
      "55, 110, 165, 220, 275, 330, 385, 440, 495, 550, 605, 660, 715, 770, 825, 880, 935, 990, 1045, 1100, 1155, 1210, 1265, 1320, 1375, 1430, 1485, 1540, 1595, 1650, 1705, 1760, 1815, 1870, 1925, 1980, 2035, 2090, 2145, 2200, 2255, 2310, 2365, 2420, 2475, 2530, 2585, 2640, 2695, 2750, 2805, 2860, 2915, 2970, 3025, 3080, 3135, 3190, 3245, 3300, 3355, 3410, 3465, 3520, 3575, 3630, 3685, 3740, 3795, 3850, 3905, 3960, 4015, 4070, 4125, 4180, 4235, 4290, 4345, 4400, 4455, 4510, 4565, 4620, 4675, 4730, 4785, 4840, 4895, 4950, 5005, 5060, 5115, 5170, 5225, 5280, 5335, 5390, 5445, 5500, 5555, 5610, 5665, 5720, 5775, 5830, 5885, 5940, 5995, 6050, 6105, 6160, 6215, 6270, 6325, 6380, 6435, 6490, 6545, 6600, 6655, 6710, 6765, 6820, 6875, 6930, 6985, 7040, 7095, 7150, 7205, 7260, 7315, 7370, 7425, 7480, 7535, 7590, 7645, 7700, 7755, 7810, 7865, 7920, 7975, 8030, 8085, 8140, 8195, 8250, 8305, 8360, 8415, 8470, 8525, 8580, 8635, 8690, 8745, 8800, 8855, 8910, 8965, 9020, 9075, 9130, 9185, 9240, 9295, 9350, 9405, 9460, 9515, 9570, 9625, 9680, 9735, 9790, 9845, 9900, 9955, "
     ]
    }
   ],
   "source": [
    "s = int(input(\"Enter starting Point : \"))\n",
    "e = int(input(\"Enter ending Point : \"))\n",
    "\n",
    "while s <= e : \n",
    "    \n",
    "    if s % 5 == 0 and s % 11 == 0 : \n",
    "        print(s,end=', ')\n",
    "    s = s + 1"
   ]
  },
  {
   "cell_type": "code",
   "execution_count": 3,
   "metadata": {},
   "outputs": [
    {
     "name": "stdout",
     "output_type": "stream",
     "text": [
      "Enter a number : 6\n",
      "Factorial of 6 is 720.\n"
     ]
    }
   ],
   "source": [
    "#factorial of a number\n",
    "num = int(input(\"Enter a number : \"))\n",
    "copy_num = num\n",
    "fact = 1\n",
    "while num :\n",
    "    fact = fact * num\n",
    "    num = num - 1\n",
    "\n",
    "print(\"Factorial of {} is {}.\".format(copy_num,fact))\n",
    "    \n"
   ]
  },
  {
   "cell_type": "code",
   "execution_count": 9,
   "metadata": {},
   "outputs": [
    {
     "name": "stdout",
     "output_type": "stream",
     "text": [
      "Enter a number : 127\n",
      "Given number 127 is a Prime Number.\n"
     ]
    }
   ],
   "source": [
    "#prime number\n",
    "num = int(input(\"Enter a number : \"))\n",
    "\n",
    "check_value = 2\n",
    "while check_value <= num -1 :   \n",
    "    if num % check_value == 0 : \n",
    "        print(\"Given number {} is not a Prime Number.\".format(num))\n",
    "        break\n",
    "    check_value += 1\n",
    "else : \n",
    "    print(\"Given number {} is a Prime Number.\".format(num))"
   ]
  },
  {
   "cell_type": "code",
   "execution_count": 11,
   "metadata": {},
   "outputs": [
    {
     "name": "stdout",
     "output_type": "stream",
     "text": [
      "Enter a number : 1234\n",
      "Given number 1234 is not a Palindrome number.\n"
     ]
    }
   ],
   "source": [
    "#palindrome number\n",
    "#short-cut method\n",
    "num = input(\"Enter a number : \") # you know input is a string\n",
    "\n",
    "if num == num[::-1] : #get it ? \n",
    "    print(\"Given number {} is Palindrome.\".format(num))\n",
    "else : \n",
    "    print(\"Given number {} is not a Palindrome number.\".format(num))\n"
   ]
  },
  {
   "cell_type": "code",
   "execution_count": 13,
   "metadata": {},
   "outputs": [
    {
     "name": "stdout",
     "output_type": "stream",
     "text": [
      "Enter a number : 1234\n",
      "Given number 1234 is not Palindrome number.\n"
     ]
    }
   ],
   "source": [
    "#maths way or the hard way\n",
    "#palindrome number \n",
    "num = int(input(\"Enter a number : \"))\n",
    "copy = num #for later use to check \n",
    "rev_num = 0\n",
    "while num : \n",
    "    last_digit = num % 10  #taking out the last digit\n",
    "    rev_num = rev_num * 10 + last_digit #making new number\n",
    "    num = num // 10 #update number\n",
    "if rev_num == copy : \n",
    "    print(\"Given number {} is Palindrome number.\".format(copy))\n",
    "else : \n",
    "    print(\"Given number {} is not Palindrome number.\".format(copy))\n"
   ]
  },
  {
   "cell_type": "code",
   "execution_count": 17,
   "metadata": {},
   "outputs": [
    {
     "name": "stdout",
     "output_type": "stream",
     "text": [
      "Enter a number : 12345\n",
      "Given Number is not an armstrong number\n"
     ]
    }
   ],
   "source": [
    "#armstrong number\n",
    "#easy method \n",
    "#python way\n",
    "num = input(\"Enter a number : \")\n",
    "end = len(num)\n",
    "power = len(num)\n",
    "start = 0\n",
    "armstrong = 0\n",
    "while start < end : \n",
    "    armstrong = armstrong + int(num[start])**power\n",
    "    start = start + 1\n",
    "\n",
    "if armstrong == int(num) : \n",
    "    print(\"Given Number is an armstrong number \")\n",
    "else : \n",
    "    print(\"Given Number is not an armstrong number\")\n"
   ]
  },
  {
   "cell_type": "code",
   "execution_count": 20,
   "metadata": {},
   "outputs": [
    {
     "name": "stdout",
     "output_type": "stream",
     "text": [
      "Enter a number : 1234\n",
      "Given number 1234 is not an armstrong number.\n"
     ]
    }
   ],
   "source": [
    "#real way\n",
    "#the hard way (maths way)\n",
    "#armstrong num\n",
    "num = int(input(\"Enter a number : \")) \n",
    "copy = num #making copy of a number\n",
    "power = 0 \n",
    "while num : \n",
    "    num = num // 10 \n",
    "    power = power + 1\n",
    "num = copy #reterving the real number again\n",
    "armstrong = 0\n",
    "while num : \n",
    "    last_digit = num % 10 \n",
    "    armstrong = armstrong + last_digit ** power\n",
    "    num = num // 10 \n",
    "\n",
    "if armstrong == copy : \n",
    "    print(\"Given number {} is an armstrong number.\".format(copy))\n",
    "else : \n",
    "    print(\"Given number {} is not an armstrong number.\".format(copy))\n"
   ]
  },
  {
   "cell_type": "code",
   "execution_count": 28,
   "metadata": {},
   "outputs": [
    {
     "name": "stdout",
     "output_type": "stream",
     "text": [
      "hello\n",
      "1\n",
      "2\n",
      "3\n",
      "hi\n",
      "bye bye\n",
      "good to go\n",
      "let'do it\n",
      "7\n",
      "34\n",
      "\n",
      "\n",
      "\n",
      "\n",
      "34\n",
      "7\n",
      "let'do it\n",
      "good to go\n",
      "bye bye\n",
      "hi\n",
      "3\n",
      "2\n",
      "1\n",
      "hello\n"
     ]
    }
   ],
   "source": [
    "l = [ 'hello',1,2,3,'hi','bye bye','good to go','let\\'do it',7,34,]\n",
    "index = 0\n",
    "while index < len(l) : \n",
    "    print(l[index])\n",
    "    index = index  + 1\n",
    "print(\"\\n\\n\\n\")\n",
    "index = len(l)-1\n",
    "while index >= 0 : \n",
    "    print(l[index])\n",
    "    index -= 1"
   ]
  },
  {
   "cell_type": "code",
   "execution_count": 30,
   "metadata": {},
   "outputs": [
    {
     "name": "stdout",
     "output_type": "stream",
     "text": [
      "*\n",
      "**\n",
      "***\n",
      "****\n",
      "*****\n",
      "******\n",
      "*******\n",
      "********\n",
      "*********\n",
      "**********\n",
      "***********\n"
     ]
    }
   ],
   "source": [
    "row = 0\n",
    "while row <= 10 : \n",
    "    column = 0\n",
    "    while column <= row :\n",
    "        print(\"*\",end='')\n",
    "        column += 1\n",
    "    print()\n",
    "    row += 1"
   ]
  },
  {
   "cell_type": "code",
   "execution_count": 35,
   "metadata": {},
   "outputs": [
    {
     "name": "stdout",
     "output_type": "stream",
     "text": [
      "Enter something : dkf\n",
      "Hey, Hello to python Programing\n",
      "Enter something : \n",
      "Thanks for using our program\n"
     ]
    }
   ],
   "source": [
    "while input(\"Enter something : \") : \n",
    "    print(\"Hey, Hello to python Programing\")\n",
    "\n",
    "else : \n",
    "    print(\"Thanks for using our program\")"
   ]
  },
  {
   "cell_type": "code",
   "execution_count": 7,
   "metadata": {},
   "outputs": [
    {
     "name": "stdout",
     "output_type": "stream",
     "text": [
      "9765, 9450, 9135, 8820, 8505, 8190, 7875, 7560, 7245, 6930, 6615, 6300, 5985, 5670, 5355, 5040, 4725, 4410, 4095, 3780, 3465, 3150, 2835, 2520, 2205, 1890, 1575, 1260, 945, 630, 315, \n",
      "Total Numbers are =  31\n"
     ]
    }
   ],
   "source": [
    "counter = 10000\n",
    "num_counter = 0\n",
    "while counter >= 1 : \n",
    "    if counter % 5 == 0 and counter % 3 == 0 and counter % 7 == 0 \\\n",
    "    and counter % 9 == 0 :\n",
    "        print(counter,end=', ')\n",
    "        num_counter += 1\n",
    "    counter -= 1\n",
    "\n",
    "print(\"\\nTotal Numbers are = \",num_counter)"
   ]
  },
  {
   "cell_type": "code",
   "execution_count": 8,
   "metadata": {},
   "outputs": [
    {
     "name": "stdout",
     "output_type": "stream",
     "text": [
      "\n",
      "\n",
      "Do you want to run this ? press any key to run \n",
      "\n",
      "k\n",
      "Enter a number : 121\n",
      "Not prime \n",
      "\n",
      "\n",
      "Do you want to run this ? press any key to run \n",
      "\n",
      "y\n",
      "Enter a number : 127\n",
      "Number is prime\n",
      "\n",
      "\n",
      "Do you want to run this ? press any key to run \n",
      "\n",
      "\n"
     ]
    }
   ],
   "source": [
    "from math import sqrt\n",
    "while input(\"\\n\\nDo you want to run this ? press any key to run \\n\\n\"):\n",
    "        num = int(input(\"Enter a number : \"))\n",
    "        c = 2\n",
    "        while c <= round(sqrt(num))+1 : \n",
    "            if num % c == 0 : \n",
    "                print(\"Not prime \")\n",
    "                break\n",
    "            c = c + 1\n",
    "        else : \n",
    "            print(\"Number is prime\")"
   ]
  },
  {
   "cell_type": "code",
   "execution_count": 14,
   "metadata": {},
   "outputs": [
    {
     "name": "stdout",
     "output_type": "stream",
     "text": [
      "Enter starting point : 2\n",
      "Ennter Ending Point : 100\n",
      "5, 7, 11, 13, 17, 19, 23, 29, 31, 37, 41, 43, 47, 53, 59, 61, 67, 71, 73, 79, 83, 89, 97, \n",
      "Total Prime in range(2,100) are 23\n"
     ]
    }
   ],
   "source": [
    "\n",
    "s = int(input(\"Enter starting point : \"))\n",
    "e = int(input(\"Ennter Ending Point : \"))\n",
    "from math import sqrt\n",
    "count = 0\n",
    "st = s\n",
    "while s <= e : \n",
    "        num = s\n",
    "        c = 2\n",
    "        while c <= round(sqrt(num))+1 : \n",
    "            if num % c == 0 : \n",
    "                break\n",
    "            c = c + 1\n",
    "        else : \n",
    "            print(num,end=', ')\n",
    "            count = count + 1\n",
    "        \n",
    "        s = s + 1\n",
    "print(\"\\nTotal Prime in range({},{}) are {}\".format(st,e,count))"
   ]
  },
  {
   "cell_type": "code",
   "execution_count": 17,
   "metadata": {},
   "outputs": [
    {
     "name": "stdout",
     "output_type": "stream",
     "text": [
      "Enter a number : 121\n",
      "Number is not prime\n"
     ]
    }
   ],
   "source": [
    "num = int(input(\"Enter a number : \"))\n",
    "flag = True \n",
    "c  = 2\n",
    "from math import sqrt\n",
    "\n",
    "while c <= round(sqrt(num))+1 : \n",
    "    \n",
    "    if num % c == 0  : \n",
    "        flag = False\n",
    "        break\n",
    "    c = c + 1\n",
    "if flag : \n",
    "    print(\"Number is prime\")\n",
    "else : \n",
    "    print(\"Number is not prime\")"
   ]
  },
  {
   "cell_type": "code",
   "execution_count": 19,
   "metadata": {},
   "outputs": [
    {
     "name": "stdout",
     "output_type": "stream",
     "text": [
      "3, 2, 9, 4, 6, 1, 6, 6, 2, 5, "
     ]
    }
   ],
   "source": [
    "#print 10 random num \n",
    "from random import randint\n",
    "\n",
    "c = 1\n",
    "while c <= 10 : \n",
    "    num = randint(1,10)\n",
    "    print(num,end=', ')\n",
    "    c = c + 1"
   ]
  },
  {
   "cell_type": "code",
   "execution_count": 20,
   "metadata": {},
   "outputs": [],
   "source": [
    "l = [ randint(30000,45000) for var in range(200)]"
   ]
  },
  {
   "cell_type": "code",
   "execution_count": 21,
   "metadata": {},
   "outputs": [
    {
     "name": "stdout",
     "output_type": "stream",
     "text": [
      "[41193, 39374, 43106, 41824, 31318, 39212, 41304, 40632, 37166, 42096, 30932, 32323, 33444, 38238, 31852, 38546, 34384, 33862, 40811, 31496, 37377, 32773, 30614, 43451, 42271, 36979, 42248, 40217, 33020, 38242, 39624, 31553, 37773, 34325, 31390, 42426, 31316, 41811, 35087, 44953, 44073, 39070, 33409, 39541, 39082, 43658, 30160, 43492, 35989, 31752, 39842, 33295, 30083, 35340, 44099, 37047, 30358, 33602, 31654, 32588, 41619, 37937, 33437, 31346, 37973, 33932, 32957, 41831, 41684, 39933, 42993, 36295, 31604, 33341, 35559, 38012, 36154, 42409, 33370, 38461, 37547, 30869, 43692, 43034, 39622, 34962, 38139, 35781, 33053, 33749, 41176, 39876, 41190, 31256, 37883, 32302, 44456, 44347, 32228, 30884, 34350, 38154, 42181, 36787, 41206, 31527, 40965, 44581, 31871, 42191, 35116, 35305, 34747, 35833, 39202, 35559, 32373, 42240, 40880, 41908, 39739, 31197, 43065, 40620, 38301, 31043, 35043, 35653, 38543, 38858, 34916, 31655, 38743, 34498, 37349, 39115, 33470, 32510, 41016, 33874, 30952, 41110, 31499, 30800, 43027, 35995, 41589, 41088, 39608, 44366, 40087, 31628, 32233, 34858, 31062, 31993, 43845, 32548, 38098, 41013, 44639, 43368, 32359, 42122, 31449, 33188, 41529, 36835, 33036, 39191, 42806, 38443, 30661, 31678, 44842, 33421, 42945, 44901, 39109, 32061, 31177, 33543, 32158, 32422, 33908, 36503, 34076, 36688, 36608, 37744, 32846, 38674, 35982, 43828, 32973, 32270, 34181, 43572, 32508, 38745]\n"
     ]
    }
   ],
   "source": [
    "print(l)"
   ]
  },
  {
   "cell_type": "code",
   "execution_count": 24,
   "metadata": {},
   "outputs": [
    {
     "name": "stdout",
     "output_type": "stream",
     "text": [
      "How many Playes : 5\n",
      "Enter Name of  Player[1]: yahoo\n",
      "Enter Name of  Player[2]: google\n",
      "Enter Name of  Player[3]: facbook\n",
      "Enter Name of  Player[4]: insta\n",
      "Enter Name of  Player[5]: whatsapp\n",
      "Here is your gang : - \n",
      "yahoo google facbook insta whatsapp\n",
      "Press Any key to Spin the wheel ... k\n",
      "Finding a bakara ...\n",
      "Bari number 6 and bakra is = insta\n",
      "Press Any key to Spin the wheel ... k\n",
      "Finding a bakara ...\n",
      "Bari number 6 and bakra is = google\n",
      "Press Any key to Spin the wheel ... \n"
     ]
    }
   ],
   "source": [
    "from random import choice\n",
    "from time import sleep\n",
    "n = int(input(\"How many Playes : \"))\n",
    "names = []\n",
    "c = 1\n",
    "while c <= n : \n",
    "    name = input(\"Enter Name of  Player[{}]: \".format(c))\n",
    "    names.append(name)\n",
    "    c = c + 1\n",
    "    \n",
    "print(\"Here is your gang : - \")\n",
    "print(*names)\n",
    "\n",
    "while input(\"Press Any key to Spin the wheel ... \"): \n",
    "    banda = choice(names)\n",
    "    print(\"Finding a bakara ...\")\n",
    "    sleep(3)\n",
    "    print(\"Bari number {} and bakra is = {}\".format(c,banda))"
   ]
  },
  {
   "cell_type": "code",
   "execution_count": 3,
   "metadata": {},
   "outputs": [
    {
     "name": "stdout",
     "output_type": "stream",
     "text": [
      "Player 1 choice : (r,p,s) s \n",
      "Player 2 choice : (r,p,s) k \n",
      "Player2 is the winner\n"
     ]
    }
   ],
   "source": [
    "p1 = input(\"Player 1 choice : (r,p,s) \")\n",
    "p2 = input(\"Player 2 choice : (r,p,s) \")\n",
    "\n",
    "if p1 == p2 : \n",
    "    print(\"Match Tie\")\n",
    "elif ( p1 == 'r' and p2 == 's') or ( p1 == 's' and p2 == 'p' ) or ( p1 == 'p' and p2 == 'r') :\n",
    "    print(\"Player1 is the winner\")\n",
    "else : \n",
    "    print(\"Player2 is the winner\")\n",
    "    "
   ]
  },
  {
   "cell_type": "code",
   "execution_count": 6,
   "metadata": {},
   "outputs": [
    {
     "name": "stdout",
     "output_type": "stream",
     "text": [
      "Player 1 : p\n",
      "Your choice =  p\n",
      "Computer Choice =  r\n",
      "You Have Won the Game\n"
     ]
    }
   ],
   "source": [
    "ch = [ 'r','p','s']\n",
    "from random import choice\n",
    "p1_win = [ ('r','s'),('p','r'),('s','p')]\n",
    "p1 = input(\"Player 1 : \").strip().lower()\n",
    "p2 = choice(ch)\n",
    "check = (p1,p2)\n",
    "print(\"Your choice = \",p1)\n",
    "print(\"Computer Choice = \",p2)\n",
    "if check in p1_win : \n",
    "    print(\"You Have Won the Game\")\n",
    "elif p1 == p2 : \n",
    "    print(\"Math is Tie Bad Luck\")\n",
    "else :\n",
    "    print(\"You such a looser\")"
   ]
  },
  {
   "cell_type": "code",
   "execution_count": null,
   "metadata": {},
   "outputs": [],
   "source": []
  }
 ],
 "metadata": {
  "kernelspec": {
   "display_name": "Python 3",
   "language": "python",
   "name": "python3"
  },
  "language_info": {
   "codemirror_mode": {
    "name": "ipython",
    "version": 3
   },
   "file_extension": ".py",
   "mimetype": "text/x-python",
   "name": "python",
   "nbconvert_exporter": "python",
   "pygments_lexer": "ipython3",
   "version": "3.6.5"
  }
 },
 "nbformat": 4,
 "nbformat_minor": 2
}
