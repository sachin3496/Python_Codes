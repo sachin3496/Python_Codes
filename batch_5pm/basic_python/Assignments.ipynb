{
 "cells": [
  {
   "cell_type": "markdown",
   "metadata": {},
   "source": [
    "<h1 style='color:blue'>Assignment 5 </h1>"
   ]
  },
  {
   "cell_type": "code",
   "execution_count": 5,
   "metadata": {},
   "outputs": [
    {
     "name": "stdout",
     "output_type": "stream",
     "text": [
      "Enter a number : 0\n",
      "Given umber is zero 0\n"
     ]
    }
   ],
   "source": [
    "#Write a Python program to check whether a number is negative, positive or zero.\n",
    "\n",
    "x = int(input(\"Enter a number : \"))\n",
    "if x > 0 : \n",
    "    print(\"Given number is positive. \",x)\n",
    "elif x < 0 :\n",
    "    print(\"Given number is Negative.\",x)\n",
    "else : \n",
    "    print(\"Given umber is zero\",x)"
   ]
  },
  {
   "cell_type": "code",
   "execution_count": 7,
   "metadata": {},
   "outputs": [
    {
     "name": "stdout",
     "output_type": "stream",
     "text": [
      "Enter a number : 55\n",
      "Given is Correct\n",
      "It is divided by 5 and 11 both\n"
     ]
    }
   ],
   "source": [
    "#Write a Python program to check whether a number is divisible by 5 and 11 or not.\n",
    "\n",
    "num = int(input(\"Enter a number : \"))\n",
    "if ( num % 5 == 0 ) and ( num % 11 == 0 ) :\n",
    "    print(\"Given is Correct\")\n",
    "    print(\"It is divided by 5 and 11 both\")\n",
    "else : \n",
    "    print(\"Given number is incorrect.\")"
   ]
  },
  {
   "cell_type": "code",
   "execution_count": 12,
   "metadata": {},
   "outputs": [
    {
     "name": "stdout",
     "output_type": "stream",
     "text": [
      "Enter a year : 2018\n",
      "Given Year is not a Leap Year.\n"
     ]
    }
   ],
   "source": [
    "#Write a Python program to check whether a year is leap year or not.\n",
    "year = int(input(\"Enter a year : \"))\n",
    "\n",
    "if year % 4 == 0 :\n",
    "    if year % 100 == 0 :\n",
    "        if year % 400 == 0 : \n",
    "            print(\"Leap year\")\n",
    "        else : \n",
    "            print(\"Not a Leap Year\")\n",
    "    else :\n",
    "        print(\"Given Year is Leap Year.\")\n",
    "else : \n",
    "    print(\"Given Year is not a Leap Year.\")"
   ]
  },
  {
   "cell_type": "code",
   "execution_count": 20,
   "metadata": {},
   "outputs": [
    {
     "name": "stdout",
     "output_type": "stream",
     "text": [
      "Enter a year : 2017\n",
      "Not a Leap Year\n"
     ]
    }
   ],
   "source": [
    "year = int(input(\"Enter a year : \"))\n",
    "if ( year % 4 == 0 ) and  ( year % 100 or year % 400 == 0 ) : \n",
    "    print(\"Leap Year\")\n",
    "else :\n",
    "    print(\"Not a Leap Year\")"
   ]
  },
  {
   "cell_type": "code",
   "execution_count": 26,
   "metadata": {},
   "outputs": [
    {
     "data": {
      "text/plain": [
       "False"
      ]
     },
     "execution_count": 26,
     "metadata": {},
     "output_type": "execute_result"
    }
   ],
   "source": [
    "#Write a Python program to check whether a character is alphabet or not.\n",
    "s = \"hello1\"\n",
    "#print(dir(s))\n",
    "s.isalpha()"
   ]
  },
  {
   "cell_type": "code",
   "execution_count": 28,
   "metadata": {},
   "outputs": [
    {
     "data": {
      "text/plain": [
       "True"
      ]
     },
     "execution_count": 28,
     "metadata": {},
     "output_type": "execute_result"
    }
   ],
   "source": [
    "s = \"Hello123\"\n",
    "s.isalnum()"
   ]
  },
  {
   "cell_type": "code",
   "execution_count": 30,
   "metadata": {},
   "outputs": [
    {
     "name": "stdout",
     "output_type": "stream",
     "text": [
      "Enter anything : hello123\n",
      "String has some chars that are not alphabates\n"
     ]
    }
   ],
   "source": [
    "s = input(\"Enter anything : \")\n",
    "\n",
    "if s.isalpha() : \n",
    "    print(\"String is Correct, as it all alphabates in it\")\n",
    "else : \n",
    "    print(\"String has some chars that are not alphabates\")"
   ]
  },
  {
   "cell_type": "code",
   "execution_count": 31,
   "metadata": {},
   "outputs": [
    {
     "name": "stdout",
     "output_type": "stream",
     "text": [
      "Hello World\n",
      "I am Awesome\n"
     ]
    }
   ],
   "source": [
    "if print(\"Hello World\") : \n",
    "    print(\"I am good\")\n",
    "else : \n",
    "    print(\"I am Awesome\")"
   ]
  },
  {
   "cell_type": "code",
   "execution_count": 35,
   "metadata": {},
   "outputs": [
    {
     "name": "stdout",
     "output_type": "stream",
     "text": [
      "Enter something : \n",
      "I am a Genius.\n"
     ]
    }
   ],
   "source": [
    "if input(\"Enter something : \"):\n",
    "    print(\"It's too easy.\")\n",
    "else :\n",
    "    print(\"I am a Genius.\")"
   ]
  },
  {
   "cell_type": "code",
   "execution_count": 1,
   "metadata": {},
   "outputs": [
    {
     "name": "stdout",
     "output_type": "stream",
     "text": [
      "Enter something : 6\n",
      "Enter something more : 9\n",
      "Your input is successfully taken.\n",
      "Result =  15\n"
     ]
    }
   ],
   "source": [
    "data1 = input(\"Enter something : \")\n",
    "data2 = input(\"Enter something more : \")\n",
    "if data1 and data2 : \n",
    "    print(\"Your input is successfully taken.\")\n",
    "else : \n",
    "    print(\"Don't be over smart give an input you idiot. \")\n",
    "    exit(0)\n",
    "\n",
    "print(\"Result = \",int(data1) + int(data2))"
   ]
  },
  {
   "cell_type": "code",
   "execution_count": 6,
   "metadata": {},
   "outputs": [
    {
     "name": "stdout",
     "output_type": "stream",
     "text": [
      "Enter a single Char : a\n",
      "Vowel\n"
     ]
    }
   ],
   "source": [
    "#Write a Python program to input any alphabet and check whether it is vowel or consonant.\n",
    "char = input(\"Enter a single Char : \").lower().strip()\n",
    "\n",
    "if ( 'a' == char ) or ( 'e' == char ) or ( 'i' == char ) or ( 'o' == char) or ( 'u' == char ) :\n",
    "    print(\"Vowel\")\n",
    "else :\n",
    "    print(\"Consonent\")"
   ]
  },
  {
   "cell_type": "code",
   "execution_count": 10,
   "metadata": {},
   "outputs": [
    {
     "name": "stdout",
     "output_type": "stream",
     "text": [
      "Enter a charcter  : a;slkdjf\n",
      "We ask only for char not for word!! Get it!!\n"
     ]
    }
   ],
   "source": [
    "l = [ 'a','e','i','o','u','A','E','I','O','U']\n",
    "char = input(\"Enter a charcter  : \").strip()\n",
    "\n",
    "if len(char) == 1 : \n",
    "    if char in l : \n",
    "        print(\"Vowel\")\n",
    "    else : \n",
    "        print(\"Consonent\")\n",
    "else : \n",
    "    print(\"We ask only for char not for word!! Get it!!\")"
   ]
  },
  {
   "cell_type": "code",
   "execution_count": 13,
   "metadata": {},
   "outputs": [
    {
     "data": {
      "text/plain": [
       "False"
      ]
     },
     "execution_count": 13,
     "metadata": {},
     "output_type": "execute_result"
    }
   ],
   "source": [
    "#Write a Python program to input any character \n",
    "#and check whether it is alphabet, digit or special character.\n",
    "s = \"123\"\n",
    "s.isalpha()"
   ]
  },
  {
   "cell_type": "code",
   "execution_count": 14,
   "metadata": {},
   "outputs": [
    {
     "name": "stdout",
     "output_type": "stream",
     "text": [
      "['__add__', '__class__', '__contains__', '__delattr__', '__dir__', '__doc__', '__eq__', '__format__', '__ge__', '__getattribute__', '__getitem__', '__getnewargs__', '__gt__', '__hash__', '__init__', '__init_subclass__', '__iter__', '__le__', '__len__', '__lt__', '__mod__', '__mul__', '__ne__', '__new__', '__reduce__', '__reduce_ex__', '__repr__', '__rmod__', '__rmul__', '__setattr__', '__sizeof__', '__str__', '__subclasshook__', 'capitalize', 'casefold', 'center', 'count', 'encode', 'endswith', 'expandtabs', 'find', 'format', 'format_map', 'index', 'isalnum', 'isalpha', 'isdecimal', 'isdigit', 'isidentifier', 'islower', 'isnumeric', 'isprintable', 'isspace', 'istitle', 'isupper', 'join', 'ljust', 'lower', 'lstrip', 'maketrans', 'partition', 'replace', 'rfind', 'rindex', 'rjust', 'rpartition', 'rsplit', 'rstrip', 'split', 'splitlines', 'startswith', 'strip', 'swapcase', 'title', 'translate', 'upper', 'zfill']\n"
     ]
    }
   ],
   "source": [
    "print(dir(s))"
   ]
  },
  {
   "cell_type": "code",
   "execution_count": 21,
   "metadata": {},
   "outputs": [
    {
     "name": "stdout",
     "output_type": "stream",
     "text": [
      "Enter a String : hello123\n",
      "You doesn't belong to this earth from where you have come.\n"
     ]
    }
   ],
   "source": [
    "char = input(\"Enter a String : \").strip()\n",
    "\n",
    "if char.isalpha() : \n",
    "    print(\"Given Char is Alphabate.\")\n",
    "elif char.isdigit() : \n",
    "    print(\"Given Char is digit.\")\n",
    "elif not ( char.isidentifier() )  : \n",
    "    print(\"Given char is Special Charcter\")\n",
    "else : \n",
    "    print(\"You doesn't belong to this earth from where you have come.\")"
   ]
  },
  {
   "cell_type": "code",
   "execution_count": 26,
   "metadata": {},
   "outputs": [
    {
     "name": "stdout",
     "output_type": "stream",
     "text": [
      "Enter week day number (0-7) : 5\n",
      "The day on 5 is Fri.\n"
     ]
    }
   ],
   "source": [
    "week = {\n",
    "    0:'Sun',\n",
    "    1:'Mon',\n",
    "    2:'Tue',\n",
    "    3:'Wed',\n",
    "    4:'Thu',\n",
    "    5:'Fri',\n",
    "    6:'Sat',\n",
    "    7:'Sun'\n",
    "}\n",
    "\n",
    "week_day = int(input(\"Enter week day number (0-7) : \"))\n",
    "\n",
    "data = week.get(week_day,None)\n",
    "if data : \n",
    "    print(\"The day on {} is {}.\".format(week_day,data))\n",
    "else : \n",
    "    print(\"Literaly, What do think about your self, should you exist in this earth ? \")"
   ]
  },
  {
   "cell_type": "code",
   "execution_count": null,
   "metadata": {},
   "outputs": [],
   "source": [
    "#3 numbers find maximan num\n",
    "\n",
    "x = int(input(\"First Number X : \"))\n",
    "y = int(input(\"Second Number Y : \"))\n",
    "z = int(input(\"Third Number Z : \"))\n",
    "print(\"X = {}   Y = {}    Z = {} \".format(x,y,z))\n",
    "\n",
    "if x >= y : \n",
    "    if x >= z : \n",
    "        print(\"{}  X is Greatest among Three.\".format(x))\n",
    "    else : \n",
    "        print(\"{} Z is Greatest among Three.\".format(z))\n",
    "elif y >= z : \n",
    "    print(\"{} Y is Greatest among Three.\".format(y))\n",
    "else : \n",
    "    print(\"{} Z is Greatest amon Three.\".format(z))"
   ]
  }
 ],
 "metadata": {
  "kernelspec": {
   "display_name": "Python 3",
   "language": "python",
   "name": "python3"
  },
  "language_info": {
   "codemirror_mode": {
    "name": "ipython",
    "version": 3
   },
   "file_extension": ".py",
   "mimetype": "text/x-python",
   "name": "python",
   "nbconvert_exporter": "python",
   "pygments_lexer": "ipython3",
   "version": "3.6.5"
  }
 },
 "nbformat": 4,
 "nbformat_minor": 2
}
