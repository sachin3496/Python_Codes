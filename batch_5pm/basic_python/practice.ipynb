{
 "cells": [
  {
   "cell_type": "code",
   "execution_count": 7,
   "metadata": {},
   "outputs": [
    {
     "name": "stdout",
     "output_type": "stream",
     "text": [
      "Enter number of rows : 2\n",
      "Enter number of columns : 2\n",
      "Enter Matrix[0][0] : 1\n",
      "Enter Matrix[0][1] : 2\n",
      "\n",
      "Enter Matrix[1][0] : 3\n",
      "Enter Matrix[1][1] : 4\n",
      "\n",
      "\n",
      "\n",
      "\n",
      "\t\t\t1\t2\n",
      "\n",
      "\n",
      "\n",
      "\t\t\t3\t4\n"
     ]
    }
   ],
   "source": [
    "#matrix input mxn\n",
    "m = int(input(\"Enter number of rows : \"))\n",
    "n = int(input(\"Enter number of columns : \"))\n",
    "matrix = []\n",
    "for row in range(m): \n",
    "    columns = []\n",
    "    for col in range(n): \n",
    "        data = int(input(\"Enter Matrix[{}][{}] : \".format(row,col)))\n",
    "        columns.append(data)\n",
    "    print()\n",
    "    matrix.append(columns)\n",
    "\n",
    "for var in matrix : \n",
    "    print(\"\\n\\n\")\n",
    "    print(\"\\t\\t\",*var,sep='\\t',end='\\n')"
   ]
  },
  {
   "cell_type": "code",
   "execution_count": null,
   "metadata": {},
   "outputs": [],
   "source": [
    "#matrix input mxn\n",
    "m = int(input(\"Enter number of rows : \"))\n",
    "n = int(input(\"Enter number of columns : \"))\n",
    "matrix = [\n",
    "    [] for var in range(m)\n",
    "]\n",
    "\n",
    "for var in matrix : \n",
    "    print(\"\\n\\n\")\n",
    "    print(\"\\t\\t\",*var,sep='\\t',end='\\n')"
   ]
  },
  {
   "cell_type": "code",
   "execution_count": 16,
   "metadata": {},
   "outputs": [
    {
     "name": "stdout",
     "output_type": "stream",
     "text": [
      "Enter number of rows3\n",
      "Enter no of columns : 4\n",
      "matrix[0][0]1\n",
      "matrix[0][1]2\n",
      "matrix[0][2]3\n",
      "matrix[0][3]4\n",
      "matrix[1][0]5\n",
      "matrix[1][1]6\n",
      "matrix[1][2]7\n",
      "matrix[1][3]8\n",
      "matrix[2][0]1\n",
      "matrix[2][1]2\n",
      "matrix[2][2]3\n",
      "matrix[2][3]4\n",
      "[1, 2, 3, 4] [5, 6, 7, 8] [1, 2, 3, 4]\n"
     ]
    }
   ],
   "source": [
    "m = int(input(\"Enter number of rows\"))\n",
    "n = int(input(\"Enter no of columns : \"))\n",
    "matrix = [ [ int(input(\"matrix[{}][{}]\".format(row,col))) for col in \\\n",
    "       range(n) ]\\\n",
    "     for row in range(m)]\n",
    "print(*matrix)"
   ]
  },
  {
   "cell_type": "code",
   "execution_count": 20,
   "metadata": {},
   "outputs": [
    {
     "name": "stdout",
     "output_type": "stream",
     "text": [
      "Enter number of rows : 3\n",
      "Enter row[0] : 1 2 3 4\n",
      "Enter row[1] : 5 6 7 8\n",
      "Enter row[2] : 9 10 11 12\n"
     ]
    }
   ],
   "source": [
    "m = int(input(\"Enter number of rows : \"))\n",
    "matrix = [\n",
    "    \n",
    "    list(map(int,input(\"Enter row[{}] : \".format(row)).split())) for row in range(m)\n",
    "] "
   ]
  },
  {
   "cell_type": "code",
   "execution_count": 24,
   "metadata": {},
   "outputs": [
    {
     "name": "stdout",
     "output_type": "stream",
     "text": [
      "\t\t\t1\t2\t3\t4\n",
      "\t\t\t5\t6\t7\t8\n",
      "\t\t\t9\t10\t11\t12\n"
     ]
    }
   ],
   "source": [
    "for rows in matrix : \n",
    "    print(\"\\t\\t\",*rows,sep='\\t')"
   ]
  },
  {
   "cell_type": "code",
   "execution_count": null,
   "metadata": {},
   "outputs": [],
   "source": []
  }
 ],
 "metadata": {
  "kernelspec": {
   "display_name": "Python 3",
   "language": "python",
   "name": "python3"
  },
  "language_info": {
   "codemirror_mode": {
    "name": "ipython",
    "version": 3
   },
   "file_extension": ".py",
   "mimetype": "text/x-python",
   "name": "python",
   "nbconvert_exporter": "python",
   "pygments_lexer": "ipython3",
   "version": "3.6.5"
  }
 },
 "nbformat": 4,
 "nbformat_minor": 2
}
