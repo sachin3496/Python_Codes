{
 "cells": [
  {
   "cell_type": "raw",
   "metadata": {},
   "source": [
    "if condition : \n",
    "    st1\n",
    "    st2\n",
    "    ...\n",
    "    stn\n",
    "else :\n",
    "    st11\n",
    "    st12\n",
    "    st13\n",
    "    ...\n",
    "    stn"
   ]
  },
  {
   "cell_type": "code",
   "execution_count": 4,
   "metadata": {},
   "outputs": [
    {
     "name": "stdout",
     "output_type": "stream",
     "text": [
      "X : 13\n",
      "Y : 11\n",
      "Z : 10\n",
      "X is Greatest\n"
     ]
    }
   ],
   "source": [
    "#greates among three numbers\n",
    "x = int(input(\"X : \"))\n",
    "y  = int(input(\"Y : \"))\n",
    "z = int(input(\"Z : \"))\n",
    "if ( x >= y ) and ( x >= z ) : \n",
    "    print(\"X is Greatest\")\n",
    "elif ( y >= x ) and ( y >= z ) :\n",
    "    print(\"Y is Greatest\")\n",
    "else :\n",
    "    print(\"Z is Greatest\")\n"
   ]
  },
  {
   "cell_type": "code",
   "execution_count": 7,
   "metadata": {},
   "outputs": [
    {
     "name": "stdout",
     "output_type": "stream",
     "text": [
      "X : 1\n",
      "Y : 2\n",
      "Z : 3\n",
      "Z is Greatest  3\n"
     ]
    }
   ],
   "source": [
    "x = int(input(\"X : \"))\n",
    "y  = int(input(\"Y : \"))\n",
    "z = int(input(\"Z : \"))\n",
    "\n",
    "if x >= y : \n",
    "    if x >= z : #nested if-else\n",
    "        print(\"X is Greatest \",x)\n",
    "    else :\n",
    "        print(\"Z is Greatest \",y)\n",
    "elif y >= z : \n",
    "    print(\"Y is Greatest \",y)\n",
    "else :\n",
    "    print(\"Z is Greatest \",z)"
   ]
  },
  {
   "cell_type": "code",
   "execution_count": 18,
   "metadata": {},
   "outputs": [
    {
     "name": "stdout",
     "output_type": "stream",
     "text": [
      "Enter somethig :     f     O     o              \n",
      "bar\n"
     ]
    }
   ],
   "source": [
    "#if user input foo than print bar in output, or if user gives\n",
    "#input as bar than print foo in output, else print use foo|bar\n",
    "var = input(\"Enter somethig : \").strip().lower()\n",
    "var = ''.join(var.split())\n",
    "if var == 'foo' :\n",
    "    print(\"bar\")\n",
    "elif var == 'bar' : \n",
    "    print(\"foo\")\n",
    "else : \n",
    "    print(\"foo|bar\")\n",
    "    "
   ]
  },
  {
   "cell_type": "code",
   "execution_count": 22,
   "metadata": {},
   "outputs": [
    {
     "name": "stdout",
     "output_type": "stream",
     "text": [
      "Enter your age : 19\n",
      "Income Sources : \n",
      "1. Private\n",
      "2. Government \n",
      "Enter your income source : 786\n",
      "Don't be over smart get lost\n"
     ]
    }
   ],
   "source": [
    "age = int(input(\"Enter your age : \"))\n",
    "\n",
    "if age <= 18 : \n",
    "    print(\"You are not able to take loan from our bank.\")\n",
    "    print(\"Your should be more than 18.\")\n",
    "else : \n",
    "    print(\"Income Sources : \\n1. Private\\n2. Government \")\n",
    "    income = int(input(\"Enter your income source : \"))\n",
    "    if income == 1 : \n",
    "        print(\"You have lower chances\")\n",
    "        pass # do all according to private sector\n",
    "    elif income == 2  : \n",
    "        print(\"You have higher chance\")\n",
    "    else : \n",
    "        print(\"Don't be over smart get lost\")"
   ]
  },
  {
   "cell_type": "code",
   "execution_count": null,
   "metadata": {},
   "outputs": [],
   "source": [
    " "
   ]
  }
 ],
 "metadata": {
  "kernelspec": {
   "display_name": "Python 3",
   "language": "python",
   "name": "python3"
  },
  "language_info": {
   "codemirror_mode": {
    "name": "ipython",
    "version": 3
   },
   "file_extension": ".py",
   "mimetype": "text/x-python",
   "name": "python",
   "nbconvert_exporter": "python",
   "pygments_lexer": "ipython3",
   "version": "3.6.5"
  }
 },
 "nbformat": 4,
 "nbformat_minor": 2
}
