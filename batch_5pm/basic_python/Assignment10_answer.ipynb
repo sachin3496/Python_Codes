{
 "cells": [
  {
   "cell_type": "raw",
   "metadata": {},
   "source": [
    "Pascal Triangle\n",
    "1\n",
    "1 1\n",
    "1 2 1\n",
    "1 3 3 1\n",
    "1 4 5 4 1\n",
    "1 5 10 10 5 1\n",
    "1 6 15 20 15 6 1"
   ]
  },
  {
   "cell_type": "code",
   "execution_count": 2,
   "metadata": {},
   "outputs": [
    {
     "name": "stdout",
     "output_type": "stream",
     "text": [
      "Enter no of rows : 10\n",
      "    1\n",
      "    1    1\n",
      "    1    2    1\n",
      "    1    3    3    1\n",
      "    1    4    6    4    1\n",
      "    1    5   10   10    5    1\n",
      "    1    6   15   20   15    6    1\n",
      "    1    7   21   35   35   21    7    1\n",
      "    1    8   28   56   70   56   28    8    1\n",
      "    1    9   36   84  126  126   84   36    9    1\n",
      "    1   10   45  120  210  252  210  120   45   10    1\n"
     ]
    }
   ],
   "source": [
    "def fact(n):\n",
    "    if n == 0 : \n",
    "        return 1\n",
    "    else :\n",
    "        return n*fact(n-1)\n",
    "def comb(n,r):\n",
    "    c = fact(n) // (fact(r)*fact(n-r))\n",
    "    return c\n",
    "\n",
    "num = int(input(\"Enter no of rows : \"))\n",
    "for i in range(num+1):\n",
    "    for j in range(i+1):\n",
    "        print(\"{:>5}\".format(comb(i,j)),end='')\n",
    "    print()"
   ]
  },
  {
   "cell_type": "code",
   "execution_count": null,
   "metadata": {},
   "outputs": [],
   "source": []
  },
  {
   "cell_type": "code",
   "execution_count": null,
   "metadata": {},
   "outputs": [],
   "source": []
  },
  {
   "cell_type": "code",
   "execution_count": null,
   "metadata": {},
   "outputs": [],
   "source": []
  }
 ],
 "metadata": {
  "kernelspec": {
   "display_name": "Python 3",
   "language": "python",
   "name": "python3"
  },
  "language_info": {
   "codemirror_mode": {
    "name": "ipython",
    "version": 3
   },
   "file_extension": ".py",
   "mimetype": "text/x-python",
   "name": "python",
   "nbconvert_exporter": "python",
   "pygments_lexer": "ipython3",
   "version": "3.6.5"
  }
 },
 "nbformat": 4,
 "nbformat_minor": 2
}
