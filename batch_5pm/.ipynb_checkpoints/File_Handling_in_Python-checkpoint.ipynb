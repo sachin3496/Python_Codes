{
 "cells": [
  {
   "cell_type": "markdown",
   "metadata": {},
   "source": [
    "<h1 style='color:red'>File Handling</h1>\n",
    "<h2 style='color:#123456'>There are two types of files <ol>\n",
    "    <li>Regular text file --> Directly we can read, write data in particular format such as utf-8, ascii or ansi encoded file</li>\n",
    "    <li>Binary Files --> these files in which we have byte stream data, they need to be processed by specials tools accordingly</li>\n",
    "    </ol>\n",
    "    </h2>"
   ]
  },
  {
   "cell_type": "code",
   "execution_count": 1,
   "metadata": {},
   "outputs": [],
   "source": [
    "fp = open('C:\\\\users\\\\sachin\\\\Desktop\\\\hello.py')"
   ]
  },
  {
   "cell_type": "code",
   "execution_count": 2,
   "metadata": {},
   "outputs": [
    {
     "name": "stdout",
     "output_type": "stream",
     "text": [
      "['_CHUNK_SIZE', '__class__', '__del__', '__delattr__', '__dict__', '__dir__', '__doc__', '__enter__', '__eq__', '__exit__', '__format__', '__ge__', '__getattribute__', '__getstate__', '__gt__', '__hash__', '__init__', '__init_subclass__', '__iter__', '__le__', '__lt__', '__ne__', '__new__', '__next__', '__reduce__', '__reduce_ex__', '__repr__', '__setattr__', '__sizeof__', '__str__', '__subclasshook__', '_checkClosed', '_checkReadable', '_checkSeekable', '_checkWritable', '_finalizing', 'buffer', 'close', 'closed', 'detach', 'encoding', 'errors', 'fileno', 'flush', 'isatty', 'line_buffering', 'mode', 'name', 'newlines', 'read', 'readable', 'readline', 'readlines', 'seek', 'seekable', 'tell', 'truncate', 'writable', 'write', 'writelines']\n"
     ]
    }
   ],
   "source": [
    "print(dir(fp))\n",
    "data = fp.read()"
   ]
  },
  {
   "cell_type": "code",
   "execution_count": 3,
   "metadata": {},
   "outputs": [
    {
     "name": "stdout",
     "output_type": "stream",
     "text": [
      "print(\"Hello World\")\n",
      "\n"
     ]
    }
   ],
   "source": [
    "print(data)"
   ]
  },
  {
   "cell_type": "code",
   "execution_count": 4,
   "metadata": {},
   "outputs": [],
   "source": [
    "fp.close()"
   ]
  },
  {
   "cell_type": "code",
   "execution_count": 5,
   "metadata": {},
   "outputs": [
    {
     "name": "stdout",
     "output_type": "stream",
     "text": [
      "Here is our data\n",
      "sachin\t67\t76\t67\n",
      "rajat\t56\t88\t56\n",
      "kushal\t56\t78\t67\n",
      "\n"
     ]
    }
   ],
   "source": [
    "fp = open('C:\\\\users\\\\sachin\\\\Desktop\\\\test')\n",
    "data = fp.read()\n",
    "fp.close()\n",
    "print(\"Here is our data\")\n",
    "print(data)"
   ]
  },
  {
   "cell_type": "code",
   "execution_count": 6,
   "metadata": {},
   "outputs": [
    {
     "data": {
      "text/plain": [
       "'sachin\\t67\\t76\\t67\\nrajat\\t56\\t88\\t56\\nkushal\\t56\\t78\\t67\\n'"
      ]
     },
     "execution_count": 6,
     "metadata": {},
     "output_type": "execute_result"
    }
   ],
   "source": [
    "data"
   ]
  },
  {
   "cell_type": "code",
   "execution_count": 8,
   "metadata": {},
   "outputs": [
    {
     "ename": "UnsupportedOperation",
     "evalue": "not writable",
     "output_type": "error",
     "traceback": [
      "\u001b[1;31m---------------------------------------------------------------------------\u001b[0m",
      "\u001b[1;31mUnsupportedOperation\u001b[0m                      Traceback (most recent call last)",
      "\u001b[1;32m<ipython-input-8-8ec1970f090f>\u001b[0m in \u001b[0;36m<module>\u001b[1;34m()\u001b[0m\n\u001b[0;32m      1\u001b[0m \u001b[0mfp\u001b[0m \u001b[1;33m=\u001b[0m \u001b[0mopen\u001b[0m\u001b[1;33m(\u001b[0m\u001b[1;34m'C:\\\\users\\\\sachin\\\\Desktop\\\\test'\u001b[0m\u001b[1;33m)\u001b[0m\u001b[1;33m\u001b[0m\u001b[0m\n\u001b[1;32m----> 2\u001b[1;33m \u001b[0mfp\u001b[0m\u001b[1;33m.\u001b[0m\u001b[0mwrite\u001b[0m\u001b[1;33m(\u001b[0m\u001b[1;34m'nidhi\\t78\\t67\\45\\n'\u001b[0m\u001b[1;33m)\u001b[0m\u001b[1;33m\u001b[0m\u001b[0m\n\u001b[0m",
      "\u001b[1;31mUnsupportedOperation\u001b[0m: not writable"
     ]
    }
   ],
   "source": [
    "fp = open('C:\\\\users\\\\sachin\\\\Desktop\\\\test')\n",
    "fp.write('nidhi\\t78\\t67\\45\\n')"
   ]
  },
  {
   "cell_type": "code",
   "execution_count": 9,
   "metadata": {},
   "outputs": [],
   "source": [
    "fp.close()"
   ]
  },
  {
   "cell_type": "code",
   "execution_count": 10,
   "metadata": {},
   "outputs": [
    {
     "name": "stdout",
     "output_type": "stream",
     "text": [
      "Right i am working on dir =  C:\\Users\\sachin\\Documents\\GitHub\\Python_Codes\\batch_5pm\n"
     ]
    },
    {
     "ename": "FileNotFoundError",
     "evalue": "[Errno 2] No such file or directory: 'abracadabra'",
     "output_type": "error",
     "traceback": [
      "\u001b[1;31m---------------------------------------------------------------------------\u001b[0m",
      "\u001b[1;31mFileNotFoundError\u001b[0m                         Traceback (most recent call last)",
      "\u001b[1;32m<ipython-input-10-b9b516659db7>\u001b[0m in \u001b[0;36m<module>\u001b[1;34m()\u001b[0m\n\u001b[0;32m      2\u001b[0m \u001b[0mmydir\u001b[0m \u001b[1;33m=\u001b[0m \u001b[0mos\u001b[0m\u001b[1;33m.\u001b[0m\u001b[0mgetcwd\u001b[0m\u001b[1;33m(\u001b[0m\u001b[1;33m)\u001b[0m\u001b[1;33m\u001b[0m\u001b[0m\n\u001b[0;32m      3\u001b[0m \u001b[0mprint\u001b[0m\u001b[1;33m(\u001b[0m\u001b[1;34m\"Right i am working on dir = \"\u001b[0m\u001b[1;33m,\u001b[0m\u001b[0mmydir\u001b[0m\u001b[1;33m)\u001b[0m\u001b[1;33m\u001b[0m\u001b[0m\n\u001b[1;32m----> 4\u001b[1;33m \u001b[0mfp\u001b[0m \u001b[1;33m=\u001b[0m \u001b[0mopen\u001b[0m\u001b[1;33m(\u001b[0m\u001b[1;34m'abracadabra'\u001b[0m\u001b[1;33m)\u001b[0m\u001b[1;33m\u001b[0m\u001b[0m\n\u001b[0m",
      "\u001b[1;31mFileNotFoundError\u001b[0m: [Errno 2] No such file or directory: 'abracadabra'"
     ]
    }
   ],
   "source": [
    "import os\n",
    "mydir = os.getcwd()\n",
    "print(\"Right i am working on dir = \",mydir)\n",
    "fp = open('abracadabra')"
   ]
  },
  {
   "cell_type": "code",
   "execution_count": 16,
   "metadata": {},
   "outputs": [
    {
     "name": "stdout",
     "output_type": "stream",
     "text": [
      " Volume in drive C has no label.\n",
      "\n",
      " Volume Serial Number is F835-3256\n",
      "\n",
      "\n",
      "\n",
      " Directory of C:\\Users\\sachin\\Documents\\GitHub\\Python_Codes\\batch_5pm\n",
      "\n",
      "\n",
      "\n",
      "10/09/2018  06:07 PM    <DIR>          .\n",
      "\n",
      "10/09/2018  06:07 PM    <DIR>          ..\n",
      "\n",
      "10/09/2018  05:21 PM    <DIR>          .ipynb_checkpoints\n",
      "\n",
      "08/10/2018  06:34 PM                21 a.py\n",
      "\n",
      "10/08/2018  06:24 PM             2,128 Assignment10_answer.ipynb\n",
      "\n",
      "09/11/2018  06:10 AM            11,046 Assignments.ipynb\n",
      "\n",
      "08/10/2018  06:35 PM                21 b.py\n",
      "\n",
      "08/24/2018  07:23 PM            19,605 basic.ipynb\n",
      "\n",
      "08/30/2018  06:32 PM           130,914 Basic_Data_Type.ipynb\n",
      "\n",
      "08/10/2018  06:32 PM                22 bye.ppy\n",
      "\n",
      "09/24/2018  06:33 PM                87 c.py\n",
      "\n",
      "09/07/2018  06:41 PM             3,909 Control_Statements.ipynb\n",
      "\n",
      "10/01/2018  05:54 PM             2,829 Encrpytion_Decryption.ipynb\n",
      "\n",
      "10/09/2018  06:07 PM             6,556 File_Handling_in_Python.ipynb\n",
      "\n",
      "10/05/2018  06:48 PM            55,802 Functions_in_Python.ipynb\n",
      "\n",
      "08/10/2018  06:38 PM                87 hello.py\n",
      "\n",
      "08/13/2018  05:31 PM               110 hello_hello.py\n",
      "\n",
      "09/14/2018  06:49 PM            25,726 Loops_IN_PYTHON.ipynb\n",
      "\n",
      "09/30/2018  11:15 AM            34,104 Loop_in_Python.ipynb\n",
      "\n",
      "08/24/2018  04:25 PM               349 my.py\n",
      "\n",
      "08/13/2018  06:23 PM               223 mycode.py\n",
      "\n",
      "08/25/2018  05:17 PM            53,611 mynotebook.ipynb\n",
      "\n",
      "08/25/2018  03:49 PM                76 one.py\n",
      "\n",
      "09/05/2018  07:12 PM            31,945 Operators_in_Python.ipynb\n",
      "\n",
      "09/19/2018  06:13 PM             1,300 output.txt\n",
      "\n",
      "09/21/2018  06:52 PM             3,905 practice.ipynb\n",
      "\n",
      "09/13/2018  06:51 PM               727 prime.py\n",
      "\n",
      "10/05/2018  05:41 PM               147 scope1.py\n",
      "\n",
      "10/05/2018  06:04 PM               192 scope2.py\n",
      "\n",
      "10/05/2018  06:04 PM               193 scope3.py\n",
      "\n",
      "10/05/2018  06:16 PM               189 scope6.py\n",
      "\n",
      "08/10/2018  06:34 PM                60 test.py\n",
      "\n",
      "08/16/2018  05:19 PM                39 test1.py\n",
      "\n",
      "08/16/2018  05:25 PM                44 test2.py\n",
      "\n",
      "08/16/2018  05:32 PM                58 test3.py\n",
      "\n",
      "08/16/2018  05:38 PM                77 test4.py\n",
      "\n",
      "09/10/2018  06:04 PM               170 test5.py\n",
      "\n",
      "10/02/2018  09:04 AM             1,012 text_editor.py\n",
      "\n",
      "09/13/2018  06:53 AM               249 timed_input.py\n",
      "\n",
      "09/13/2018  06:57 AM               206 timed_input1.py\n",
      "\n",
      "09/19/2018  06:00 PM               339 time_sleep.py\n",
      "\n",
      "09/19/2018  06:07 PM                99 time_sleep2.py\n",
      "\n",
      "09/19/2018  06:15 PM                99 time_sleep3.py\n",
      "\n",
      "              40 File(s)        388,276 bytes\n",
      "\n",
      "               3 Dir(s)  125,692,452,864 bytes free\n",
      "\n"
     ]
    }
   ],
   "source": [
    "dirs = os.popen('dir')\n",
    "for folder in dirs :\n",
    "    print(folder)"
   ]
  },
  {
   "cell_type": "code",
   "execution_count": 14,
   "metadata": {},
   "outputs": [
    {
     "name": "stdout",
     "output_type": "stream",
     "text": [
      "<os._wrap_close object at 0x000001CE7FBAABE0>\n"
     ]
    }
   ],
   "source": [
    "print(dirs)"
   ]
  },
  {
   "cell_type": "code",
   "execution_count": 15,
   "metadata": {},
   "outputs": [
    {
     "data": {
      "text/plain": [
       "[]"
      ]
     },
     "execution_count": 15,
     "metadata": {},
     "output_type": "execute_result"
    }
   ],
   "source": [
    "list(dirs)"
   ]
  },
  {
   "cell_type": "code",
   "execution_count": 26,
   "metadata": {},
   "outputs": [
    {
     "name": "stdout",
     "output_type": "stream",
     "text": [
      "s = 'hello world'\n",
      "k = 'bye world'\n",
      "print(s+'\n",
      "'+k)\n",
      "\n"
     ]
    }
   ],
   "source": [
    "f = open('test3.py')\n",
    "data = f.read()\n",
    "f.close()\n",
    "print(data)"
   ]
  },
  {
   "cell_type": "code",
   "execution_count": 25,
   "metadata": {},
   "outputs": [],
   "source": [
    "f = open('test3.py','w')\n",
    "s = \"\"\"s = 'hello world'\n",
    "k = 'bye world'\n",
    "print(s+'\\n'+k)\n",
    "\"\"\"\n",
    "f.write(s)\n",
    "f.close()"
   ]
  },
  {
   "cell_type": "code",
   "execution_count": 28,
   "metadata": {},
   "outputs": [
    {
     "name": "stdout",
     "output_type": "stream",
     "text": [
      "sachin\t67\t76\t67\n",
      "rajat\t56\t88\t56\n",
      "kushal\t56\t78\t67\n",
      "\n"
     ]
    }
   ],
   "source": [
    "f = open('C:\\\\users\\\\sachin\\\\Desktop\\\\test','r+')\n",
    "data = f.read()\n",
    "print(data)"
   ]
  },
  {
   "cell_type": "code",
   "execution_count": 29,
   "metadata": {},
   "outputs": [
    {
     "data": {
      "text/plain": [
       "15"
      ]
     },
     "execution_count": 29,
     "metadata": {},
     "output_type": "execute_result"
    }
   ],
   "source": [
    "f.write('nidhi\\t86\\t45\\t67\\n')\n"
   ]
  },
  {
   "cell_type": "code",
   "execution_count": 31,
   "metadata": {},
   "outputs": [
    {
     "name": "stdout",
     "output_type": "stream",
     "text": [
      "sachin\t67\t76\t67\n",
      "rajat\t56\t88\t56\n",
      "kushal\t56\t78\t67\n",
      "nidhi\t86\t45\t67\n",
      "\n"
     ]
    }
   ],
   "source": [
    "f.seek(0)\n",
    "data = f.read()\n",
    "print(data)"
   ]
  },
  {
   "cell_type": "code",
   "execution_count": 32,
   "metadata": {},
   "outputs": [],
   "source": [
    "f.close()"
   ]
  },
  {
   "cell_type": "code",
   "execution_count": 1,
   "metadata": {},
   "outputs": [
    {
     "name": "stdout",
     "output_type": "stream",
     "text": [
      "sachin\t67\t76\t67\n",
      "rajat\t56\t88\t56\n",
      "kushal\t56\t78\t67\n",
      "nidhi\t86\t45\t67\n",
      "\n"
     ]
    }
   ],
   "source": [
    "fp = open('C:\\\\users\\\\sachin\\\\Desktop\\\\test','r')\n",
    "data  = fp.read()\n",
    "fp.close()\n",
    "print(data)\n"
   ]
  },
  {
   "cell_type": "code",
   "execution_count": 2,
   "metadata": {},
   "outputs": [
    {
     "name": "stdout",
     "output_type": "stream",
     "text": [
      "'sachin\\t67\\t76\\t67\\nrajat\\t56\\t88\\t56\\nkushal\\t56\\t78\\t67\\nnidhi\\t86\\t45\\t67\\n'\n"
     ]
    }
   ],
   "source": [
    "print(repr(data))"
   ]
  },
  {
   "cell_type": "code",
   "execution_count": 3,
   "metadata": {},
   "outputs": [
    {
     "name": "stdout",
     "output_type": "stream",
     "text": [
      "'sachin\\t67\\t76\\t67\\nrajat\\t56\\t88\\t56\\nkushal\\t56\\t78\\t67\\nnidhi\\t86\\t45\\t67\\n'\n"
     ]
    }
   ],
   "source": [
    "print(\"{!r}\".format(data))"
   ]
  },
  {
   "cell_type": "code",
   "execution_count": 4,
   "metadata": {},
   "outputs": [
    {
     "name": "stdout",
     "output_type": "stream",
     "text": [
      "['sachin\\t67\\t76\\t67', 'rajat\\t56\\t88\\t56', 'kushal\\t56\\t78\\t67', 'nidhi\\t86\\t45\\t67', '']\n"
     ]
    }
   ],
   "source": [
    "data1 = data.split('\\n')\n",
    "print(data1)"
   ]
  },
  {
   "cell_type": "code",
   "execution_count": 5,
   "metadata": {},
   "outputs": [
    {
     "name": "stdout",
     "output_type": "stream",
     "text": [
      "['sachin\\t67\\t76\\t67', 'rajat\\t56\\t88\\t56', 'kushal\\t56\\t78\\t67', 'nidhi\\t86\\t45\\t67']\n"
     ]
    }
   ],
   "source": [
    "data1 = data1[:-1]\n",
    "print(data1)"
   ]
  },
  {
   "cell_type": "code",
   "execution_count": 8,
   "metadata": {},
   "outputs": [
    {
     "name": "stdout",
     "output_type": "stream",
     "text": [
      "'sachin\\t67\\t76\\t67'\n"
     ]
    }
   ],
   "source": [
    "d = data1[0]\n",
    "print(repr(d))"
   ]
  },
  {
   "cell_type": "code",
   "execution_count": 9,
   "metadata": {},
   "outputs": [],
   "source": [
    "d = d.split('\\t')"
   ]
  },
  {
   "cell_type": "code",
   "execution_count": 10,
   "metadata": {},
   "outputs": [
    {
     "data": {
      "text/plain": [
       "['sachin', '67', '76', '67']"
      ]
     },
     "execution_count": 10,
     "metadata": {},
     "output_type": "execute_result"
    }
   ],
   "source": [
    "d"
   ]
  },
  {
   "cell_type": "code",
   "execution_count": 23,
   "metadata": {},
   "outputs": [
    {
     "name": "stdout",
     "output_type": "stream",
     "text": [
      "[67, 76, 67]\n"
     ]
    }
   ],
   "source": [
    "k = list(map(int,d[1:]))\n",
    "print(k)"
   ]
  },
  {
   "cell_type": "code",
   "execution_count": 24,
   "metadata": {},
   "outputs": [
    {
     "name": "stdout",
     "output_type": "stream",
     "text": [
      "70.0\n"
     ]
    }
   ],
   "source": [
    "per = sum(k)/3\n",
    "print(per)"
   ]
  },
  {
   "cell_type": "code",
   "execution_count": 25,
   "metadata": {},
   "outputs": [
    {
     "name": "stdout",
     "output_type": "stream",
     "text": [
      "['sachin', 67, 76, 67, 70.0]\n"
     ]
    }
   ],
   "source": [
    "p = [ d[0],*k,per]\n",
    "print(p)"
   ]
  },
  {
   "cell_type": "code",
   "execution_count": 26,
   "metadata": {},
   "outputs": [
    {
     "name": "stdout",
     "output_type": "stream",
     "text": [
      "'sachin\\t67\\t76\\t67\\t70.0'\n"
     ]
    }
   ],
   "source": [
    "q = list(map(str,p[1:]))\n",
    "q.insert(0,p[0])\n",
    "p = '\\t'.join(q)\n",
    "print(repr(p))"
   ]
  },
  {
   "cell_type": "code",
   "execution_count": 62,
   "metadata": {},
   "outputs": [],
   "source": [
    "def percentage(string):\n",
    "    \"\"\"percenage(string)--> string\n",
    "    if you have a dataset like\n",
    "    student1 m1 m2 ... mn\n",
    "    student2 m1 m2 ... mn\n",
    "            ...\n",
    "            ...\n",
    "    studentn m1 m2 ... mn\n",
    "    \n",
    "    it will return same dataset added their percentage at end like\n",
    "    student1 m1 m2 ... mn percentage\n",
    "        ...\n",
    "        ...\n",
    "    studentn m1 m2 ... mn percentage\n",
    "    \n",
    "    \"\"\"\n",
    "    data = string.split('\\n') #[ 'sachin\\t67\\t78\\t45','kushal\\t67\\t89\\t78',...]\n",
    "    if '' in data :\n",
    "        data.remove('')\n",
    "    marks = []\n",
    "    for m in data : \n",
    "        new = m.split('\\t') # [ 'sachin','67','78','45']\n",
    "        per = sum(map(eval,new[1:]))/len(new)-1 # 51.5\n",
    "        new.append(\"{:.2f}\".format(per))\n",
    "        new = '\\t'.join(new)\n",
    "        marks.append(new)\n",
    "    marks = '\\n'.join(marks)\n",
    "    return marks\n",
    "        "
   ]
  },
  {
   "cell_type": "code",
   "execution_count": 49,
   "metadata": {},
   "outputs": [
    {
     "name": "stdout",
     "output_type": "stream",
     "text": [
      "percenage(string)--> string\n",
      "    if you have a dataset like\n",
      "    student1 m1 m2 ... mn\n",
      "    student2 m1 m2 ... mn\n",
      "            ...\n",
      "            ...\n",
      "    studentn m1 m2 ... mn\n",
      "    \n",
      "    it will return same dataset added their percentage at end like\n",
      "    student1 m1 m2 ... mn percentage\n",
      "        ...\n",
      "        ...\n",
      "    studentn m1 m2 ... mn percentage\n",
      "    \n",
      "    \n"
     ]
    }
   ],
   "source": [
    "print(percentage.__doc__)\n",
    "data = percentage(data)"
   ]
  },
  {
   "cell_type": "code",
   "execution_count": 50,
   "metadata": {},
   "outputs": [
    {
     "name": "stdout",
     "output_type": "stream",
     "text": [
      "sachin\t67\t76\t67\t51.5\n",
      "rajat\t56\t88\t56\t49.0\n",
      "kushal\t56\t78\t67\t49.25\n",
      "nidhi\t86\t45\t67\t48.5\n"
     ]
    }
   ],
   "source": [
    "print(data)"
   ]
  },
  {
   "cell_type": "code",
   "execution_count": 51,
   "metadata": {},
   "outputs": [
    {
     "name": "stdout",
     "output_type": "stream",
     "text": [
      "Your successfully done\n"
     ]
    }
   ],
   "source": [
    "f = open('C:\\\\users\\\\sachin\\\\Desktop\\\\test','w')\n",
    "f.write(data)\n",
    "f.close()\n",
    "print(\"Your successfully done\")"
   ]
  },
  {
   "cell_type": "code",
   "execution_count": 63,
   "metadata": {},
   "outputs": [
    {
     "name": "stdout",
     "output_type": "stream",
     "text": [
      "Done\n"
     ]
    }
   ],
   "source": [
    "f = open('c:\\\\users\\\\sachin\\\\Desktop\\\\test')\n",
    "data = f.read()\n",
    "f.close()\n",
    "data = percentage(data)\n",
    "f = open('c:\\\\users\\\\sachin\\\\Desktop\\\\test','w')\n",
    "f.write(data)\n",
    "f.close()\n",
    "print('Done')"
   ]
  },
  {
   "cell_type": "code",
   "execution_count": 64,
   "metadata": {},
   "outputs": [
    {
     "data": {
      "text/html": [
       "<div>\n",
       "<style scoped>\n",
       "    .dataframe tbody tr th:only-of-type {\n",
       "        vertical-align: middle;\n",
       "    }\n",
       "\n",
       "    .dataframe tbody tr th {\n",
       "        vertical-align: top;\n",
       "    }\n",
       "\n",
       "    .dataframe thead th {\n",
       "        text-align: right;\n",
       "    }\n",
       "</style>\n",
       "<table border=\"1\" class=\"dataframe\">\n",
       "  <thead>\n",
       "    <tr style=\"text-align: right;\">\n",
       "      <th></th>\n",
       "      <th>sachin</th>\n",
       "      <th>67</th>\n",
       "      <th>76</th>\n",
       "      <th>78</th>\n",
       "      <th>78.1</th>\n",
       "      <th>90</th>\n",
       "      <th>63.83</th>\n",
       "    </tr>\n",
       "  </thead>\n",
       "  <tbody>\n",
       "    <tr>\n",
       "      <th>0</th>\n",
       "      <td>rajat</td>\n",
       "      <td>89</td>\n",
       "      <td>88</td>\n",
       "      <td>90</td>\n",
       "      <td>90</td>\n",
       "      <td>89</td>\n",
       "      <td>73.33</td>\n",
       "    </tr>\n",
       "    <tr>\n",
       "      <th>1</th>\n",
       "      <td>kushal</td>\n",
       "      <td>56</td>\n",
       "      <td>78</td>\n",
       "      <td>67</td>\n",
       "      <td>78</td>\n",
       "      <td>89</td>\n",
       "      <td>60.33</td>\n",
       "    </tr>\n",
       "    <tr>\n",
       "      <th>2</th>\n",
       "      <td>nidhi</td>\n",
       "      <td>89</td>\n",
       "      <td>78</td>\n",
       "      <td>97</td>\n",
       "      <td>78</td>\n",
       "      <td>90</td>\n",
       "      <td>71.00</td>\n",
       "    </tr>\n",
       "  </tbody>\n",
       "</table>\n",
       "</div>"
      ],
      "text/plain": [
       "   sachin  67  76  78  78.1  90  63.83\n",
       "0   rajat  89  88  90    90  89  73.33\n",
       "1  kushal  56  78  67    78  89  60.33\n",
       "2   nidhi  89  78  97    78  90  71.00"
      ]
     },
     "execution_count": 64,
     "metadata": {},
     "output_type": "execute_result"
    }
   ],
   "source": [
    "import pandas as pd\n",
    "\n",
    "df = pd.read_csv('C:\\\\users\\\\sachin\\\\Desktop\\\\test',sep='\\t')\n",
    "df.head()"
   ]
  },
  {
   "cell_type": "code",
   "execution_count": 71,
   "metadata": {},
   "outputs": [
    {
     "data": {
      "text/plain": [
       "Index(['sachin', '67', '76', '78', '78.1', '90', '63.83'], dtype='object')"
      ]
     },
     "execution_count": 71,
     "metadata": {},
     "output_type": "execute_result"
    }
   ],
   "source": [
    "%matplotlib inline\n",
    "df.columns"
   ]
  },
  {
   "cell_type": "code",
   "execution_count": 61,
   "metadata": {},
   "outputs": [
    {
     "name": "stdout",
     "output_type": "stream",
     "text": [
      "6.75\n"
     ]
    }
   ],
   "source": [
    "f = 6.7454434343434\n",
    "f = \"{:.2f}\".format(f)\n",
    "print(f)"
   ]
  },
  {
   "cell_type": "code",
   "execution_count": 72,
   "metadata": {},
   "outputs": [
    {
     "name": "stdout",
     "output_type": "stream",
     "text": [
      "[68, 43, 47, 6, 27, 42, 52, 43, 90, 49, 49, 77, 22, 79, 85, 3, 70, 53, 86, 27, 90, 40, 24, 10, 24, 91, 88, 82, 49, 84, 57, 62, 92, 60, 35, 24, 73, 30, 55, 28, 40, 83, 81, 43, 14, 43, 6, 2, 19, 45, 71, 98, 17, 61, 13, 50, 32, 75, 39, 100, 9, 48, 6, 91, 29, 7, 53, 80, 80, 96, 68, 51, 59, 46, 59, 95, 3, 9, 19, 97, 16, 69, 62, 14, 23, 38, 99, 92, 67, 32, 60, 15, 20, 9, 79, 49, 57, 86, 24, 51]\n",
      "[11, 10, 77, 12, 30, 20, 50, 75, 74, 15, 7, 56, 78, 55, 44, 28, 97, 26, 98, 81, 29, 67, 91, 93, 21, 5, 83, 99, 8, 82, 89, 100, 6, 41, 99, 23, 40, 77, 51, 56, 42, 4, 34, 82, 93, 26, 51, 16, 60, 88, 32, 44, 34, 49, 85, 100, 21, 83, 24, 84, 8, 39, 62, 60, 50, 73, 96, 52, 64, 63, 36, 51, 14, 21, 19, 88, 19, 10, 53, 15, 75, 4, 86, 62, 10, 82, 31, 77, 75, 46, 13, 20, 79, 94, 76, 65, 66, 64, 21, 62]\n"
     ]
    }
   ],
   "source": [
    "from random import randint\n",
    "\n",
    "l1 = [ randint(1,100) for var in range(100) ]\n",
    "l2 = [ randint(1,100) for var in range(100) ]\n",
    "print(l1)\n",
    "print(l2)"
   ]
  },
  {
   "cell_type": "code",
   "execution_count": 76,
   "metadata": {},
   "outputs": [
    {
     "data": {
      "text/plain": [
       "<matplotlib.collections.PathCollection at 0x2737dae1320>"
      ]
     },
     "execution_count": 76,
     "metadata": {},
     "output_type": "execute_result"
    },
    {
     "data": {
      "image/png": "[encoded data removed]",
      "text/plain": [
       "<Figure size 432x288 with 1 Axes>"
      ]
     },
     "metadata": {},
     "output_type": "display_data"
    }
   ],
   "source": [
    "from matplotlib import pyplot as plt\n",
    "import numpy as np\n",
    "plt.scatter(l1,l2)"
   ]
  },
  {
   "cell_type": "code",
   "execution_count": 77,
   "metadata": {},
   "outputs": [
    {
     "data": {
      "text/plain": [
       "<matplotlib.collections.PathCollection at 0x2737db3d4a8>"
      ]
     },
     "execution_count": 77,
     "metadata": {},
     "output_type": "execute_result"
    },
    {
     "data": {
      "image/png": "[encoded data removed]",
      "text/plain": [
       "<Figure size 432x288 with 1 Axes>"
      ]
     },
     "metadata": {},
     "output_type": "display_data"
    }
   ],
   "source": [
    "plt.scatter(sorted(l1),sorted(l2))"
   ]
  },
  {
   "cell_type": "code",
   "execution_count": null,
   "metadata": {},
   "outputs": [],
   "source": []
  }
 ],
 "metadata": {
  "kernelspec": {
   "display_name": "Python 3",
   "language": "python",
   "name": "python3"
  },
  "language_info": {
   "codemirror_mode": {
    "name": "ipython",
    "version": 3
   },
   "file_extension": ".py",
   "mimetype": "text/x-python",
   "name": "python",
   "nbconvert_exporter": "python",
   "pygments_lexer": "ipython3",
   "version": "3.6.5"
  }
 },
 "nbformat": 4,
 "nbformat_minor": 2
}
