{
 "cells": [
  {
   "cell_type": "markdown",
   "metadata": {
    "slideshow": {
     "slide_type": "slide"
    }
   },
   "source": [
    "<h1>Encrpytion using python</h1>"
   ]
  },
  {
   "cell_type": "code",
   "execution_count": 3,
   "metadata": {
    "slideshow": {
     "slide_type": "fragment"
    }
   },
   "outputs": [],
   "source": [
    "public = { 'a':'1', 'b':'2','c':'3','d':'4','e':'5','f':'6','g':'7','h':'8','i':'9',\n",
    "         'j':'0','k':'a','l':'b','m':'c','n':'d','o':'e','p':'f','q':'g','r':'h',\n",
    "         's':'i','t':'j','u':'k','v':'l','w':'m','x':'n','y':'o','z':'p','0':'q',\n",
    "         '1':'r','2':'s','3':'t','4':'u','5':'v','6':'w','7':'x','8':'y','9':'z',' ':'A'}"
   ]
  },
  {
   "cell_type": "code",
   "execution_count": 4,
   "metadata": {
    "slideshow": {
     "slide_type": "fragment"
    }
   },
   "outputs": [
    {
     "name": "stdout",
     "output_type": "stream",
     "text": [
      "{'1': 'a', '2': 'b', '3': 'c', '4': 'd', '5': 'e', '6': 'f', '7': 'g', '8': 'h', '9': 'i', '0': 'j', 'a': 'k', 'b': 'l', 'c': 'm', 'd': 'n', 'e': 'o', 'f': 'p', 'g': 'q', 'h': 'r', 'i': 's', 'j': 't', 'k': 'u', 'l': 'v', 'm': 'w', 'n': 'x', 'o': 'y', 'p': 'z', 'q': '0', 'r': '1', 's': '2', 't': '3', 'u': '4', 'v': '5', 'w': '6', 'x': '7', 'y': '8', 'z': '9', 'A': ' '}\n"
     ]
    }
   ],
   "source": [
    "private = {}\n",
    "for key in public : \n",
    "    private[public[key]] = key\n",
    "print(private)"
   ]
  },
  {
   "cell_type": "code",
   "execution_count": 7,
   "metadata": {
    "slideshow": {
     "slide_type": "slide"
    }
   },
   "outputs": [
    {
     "name": "stdout",
     "output_type": "stream",
     "text": [
      "Encrpyted data  85bbeAmehb4A8emA1h5AoekAA85bbeArstuAj89iA9iAi1389d\n"
     ]
    }
   ],
   "source": [
    "data = \"hello world how are you  hello 1234 this is sachin\"\n",
    "enc_data = ''\n",
    "for char in data : \n",
    "    enc_data  = enc_data + public[char]\n",
    "print(\"Encrpyted data \",enc_data)"
   ]
  },
  {
   "cell_type": "code",
   "execution_count": 8,
   "metadata": {
    "slideshow": {
     "slide_type": "fragment"
    }
   },
   "outputs": [
    {
     "name": "stdout",
     "output_type": "stream",
     "text": [
      "Enter your encrpyted data : 85bbeAmehb4A8emA1h5AoekAA85bbeArstuAj89iA9iAi1389d\n",
      "Your messege is :  hello world how are you  hello 1234 this is sachin\n"
     ]
    }
   ],
   "source": [
    "data1 = input(\"Enter your encrpyted data : \")\n",
    "dec_data = ''\n",
    "for char in  data1 :\n",
    "    dec_data = dec_data + private[char]\n",
    "\n",
    "print(\"Your messege is : \",dec_data)"
   ]
  },
  {
   "cell_type": "code",
   "execution_count": null,
   "metadata": {},
   "outputs": [],
   "source": []
  }
 ],
 "metadata": {
  "celltoolbar": "Slideshow",
  "kernelspec": {
   "display_name": "Python 3",
   "language": "python",
   "name": "python3"
  },
  "language_info": {
   "codemirror_mode": {
    "name": "ipython",
    "version": 3
   },
   "file_extension": ".py",
   "mimetype": "text/x-python",
   "name": "python",
   "nbconvert_exporter": "python",
   "pygments_lexer": "ipython3",
   "version": "3.6.5"
  }
 },
 "nbformat": 4,
 "nbformat_minor": 2
}
