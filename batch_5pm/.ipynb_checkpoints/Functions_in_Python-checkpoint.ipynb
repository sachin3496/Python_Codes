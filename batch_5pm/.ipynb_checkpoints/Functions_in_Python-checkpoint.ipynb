{
 "cells": [
  {
   "cell_type": "markdown",
   "metadata": {},
   "source": [
    "<h1 style='color:red'>What is a function ? </h1>"
   ]
  },
  {
   "cell_type": "code",
   "execution_count": null,
   "metadata": {},
   "outputs": [],
   "source": [
    "s = \"     Hello World    \"\n",
    "k = s.strip()\n",
    "l = s.lower()\n",
    "print(\"{!r}\".format(s))\n",
    "print(k)\n",
    "print(l)"
   ]
  },
  {
   "cell_type": "code",
   "execution_count": null,
   "metadata": {},
   "outputs": [],
   "source": [
    "s = \"     Hello World    \"\n",
    "s = s.strip()\n",
    "s = s.lower()\n",
    "print(\"{!r}\".format(s))\n"
   ]
  },
  {
   "cell_type": "code",
   "execution_count": null,
   "metadata": {},
   "outputs": [],
   "source": [
    "from random import randint\n",
    "x = randint(1,50)"
   ]
  },
  {
   "cell_type": "code",
   "execution_count": 5,
   "metadata": {},
   "outputs": [],
   "source": [
    "def print(arg):\n",
    "    pass"
   ]
  },
  {
   "cell_type": "code",
   "execution_count": 6,
   "metadata": {},
   "outputs": [],
   "source": [
    "print(\"Hello Word'\")"
   ]
  },
  {
   "cell_type": "code",
   "execution_count": null,
   "metadata": {},
   "outputs": [],
   "source": [
    "if = 5"
   ]
  },
  {
   "cell_type": "code",
   "execution_count": 1,
   "metadata": {},
   "outputs": [
    {
     "name": "stdout",
     "output_type": "stream",
     "text": [
      "Hello world\n"
     ]
    }
   ],
   "source": [
    "print(\"Hello world\")"
   ]
  },
  {
   "cell_type": "code",
   "execution_count": 2,
   "metadata": {},
   "outputs": [
    {
     "name": "stdout",
     "output_type": "stream",
     "text": [
      "sachin\n"
     ]
    }
   ],
   "source": [
    "x = input()"
   ]
  },
  {
   "cell_type": "code",
   "execution_count": 6,
   "metadata": {},
   "outputs": [
    {
     "name": "stdout",
     "output_type": "stream",
     "text": [
      "Welcome To Python\n",
      "Hello world this is retrn \n",
      "Enjoy Coding\n"
     ]
    }
   ],
   "source": [
    "data = greeting()\n",
    "print(\"Hello world this is retrn \")\n",
    "print(data)"
   ]
  },
  {
   "cell_type": "code",
   "execution_count": 4,
   "metadata": {},
   "outputs": [
    {
     "name": "stdout",
     "output_type": "stream",
     "text": [
      "hello world : hadksf\n"
     ]
    }
   ],
   "source": [
    "x = input(\"hello world : \")"
   ]
  },
  {
   "cell_type": "code",
   "execution_count": 5,
   "metadata": {},
   "outputs": [
    {
     "data": {
      "text/plain": [
       "'hadksf'"
      ]
     },
     "execution_count": 5,
     "metadata": {},
     "output_type": "execute_result"
    }
   ],
   "source": [
    "x"
   ]
  },
  {
   "cell_type": "code",
   "execution_count": 10,
   "metadata": {},
   "outputs": [],
   "source": [
    "def greeting():\n",
    "    print(\"Welcome To Python\")\n",
    "    return 'Enjoy Coding'\n",
    "    "
   ]
  },
  {
   "cell_type": "code",
   "execution_count": 12,
   "metadata": {},
   "outputs": [
    {
     "name": "stdout",
     "output_type": "stream",
     "text": [
      "Welcome To Python\n",
      "Enjoy Coding\n"
     ]
    }
   ],
   "source": [
    "x = greeting()\n",
    "print(x)"
   ]
  },
  {
   "cell_type": "code",
   "execution_count": 9,
   "metadata": {},
   "outputs": [
    {
     "name": "stdout",
     "output_type": "stream",
     "text": [
      "Enjoy Coding\n"
     ]
    }
   ],
   "source": [
    "def greeting():\n",
    "    return 'Enjoy Coding'\n",
    "    print(\"Welcome To Python\")\n",
    "    \n",
    "x = greeting()\n",
    "print(x)   "
   ]
  },
  {
   "cell_type": "code",
   "execution_count": 14,
   "metadata": {},
   "outputs": [
    {
     "name": "stdout",
     "output_type": "stream",
     "text": [
      "Welcome mr. sachin to the world of python     functions.\n",
      "Whola you have done a great work\n"
     ]
    }
   ],
   "source": [
    "def hello(name):\n",
    "    print(\"Welcome mr. {} to the world of python \\\n",
    "    functions.\".format(name))\n",
    "    return 0\n",
    "if hello('sachin'):\n",
    "    print(\"Function has some serious Issues\")\n",
    "else : \n",
    "    print(\"Whola you have done a great work\")"
   ]
  },
  {
   "cell_type": "code",
   "execution_count": 16,
   "metadata": {},
   "outputs": [
    {
     "name": "stdout",
     "output_type": "stream",
     "text": [
      "Enter a number : 16\n",
      "Given number is EVEN\n"
     ]
    }
   ],
   "source": [
    "def even(var):\n",
    "    if var % 2 : \n",
    "        return ''\n",
    "    else :\n",
    "        return 'a'\n",
    "\n",
    "if even(int(input(\"Enter a number : \"))) :\n",
    "    print(\"Given number is EVEN\")\n",
    "else : \n",
    "    print(\"Given number is ODD\")"
   ]
  },
  {
   "cell_type": "code",
   "execution_count": 18,
   "metadata": {},
   "outputs": [
    {
     "name": "stdout",
     "output_type": "stream",
     "text": [
      "Enter a number : 55\n",
      "Given number is EVEN\n"
     ]
    }
   ],
   "source": [
    "def even(var):\n",
    "    if var % 2 : \n",
    "        return True\n",
    "    else :\n",
    "        return False\n",
    "\n",
    "if even(int(input(\"Enter a number : \"))) :\n",
    "    print(\"Given number is EVEN\")\n",
    "else : \n",
    "    print(\"Given number is ODD\")"
   ]
  },
  {
   "cell_type": "code",
   "execution_count": 20,
   "metadata": {},
   "outputs": [
    {
     "name": "stdout",
     "output_type": "stream",
     "text": [
      "Enter a number : 12\n",
      "Given Number is :  EVEN\n"
     ]
    }
   ],
   "source": [
    "def even(var):\n",
    "    if var % 2 : \n",
    "        return 'ODD'\n",
    "    else :\n",
    "        return 'EVEN'\n",
    "\n",
    "print(\"Given Number is : \",even(int(input(\"Enter a number : \"))))"
   ]
  },
  {
   "cell_type": "code",
   "execution_count": 4,
   "metadata": {},
   "outputs": [
    {
     "name": "stdout",
     "output_type": "stream",
     "text": [
      "Enter number of rows : 10\n",
      "          *\n",
      "         ***\n",
      "        *****\n",
      "       *******\n",
      "      *********\n",
      "     ***********\n",
      "    *************\n",
      "   ***************\n",
      "  *****************\n",
      " *******************\n"
     ]
    }
   ],
   "source": [
    "rows = int(input(\"Enter number of rows : \"))\n",
    "\n",
    "for row in range(rows):\n",
    "    print(\" \"*(rows-row),end='')\n",
    "    print(\"*\"*(2*row+1))\n",
    "    "
   ]
  },
  {
   "cell_type": "code",
   "execution_count": 1,
   "metadata": {},
   "outputs": [],
   "source": [
    "#types of arguments\n",
    "from random import choice\n",
    "def random(a,b,c):\n",
    "    \n",
    "    return choice([ a,b,c ])\n",
    "    \n",
    "    "
   ]
  },
  {
   "cell_type": "code",
   "execution_count": 5,
   "metadata": {},
   "outputs": [
    {
     "name": "stdout",
     "output_type": "stream",
     "text": [
      "hi\n"
     ]
    }
   ],
   "source": [
    "r = random('hello','hi','bye')\n",
    "print(r)"
   ]
  },
  {
   "cell_type": "code",
   "execution_count": 6,
   "metadata": {},
   "outputs": [
    {
     "name": "stdout",
     "output_type": "stream",
     "text": [
      "Help on method choice in module random:\n",
      "\n",
      "choice(seq) method of random.Random instance\n",
      "    Choose a random element from a non-empty sequence.\n",
      "\n"
     ]
    }
   ],
   "source": [
    "help(choice)\n"
   ]
  },
  {
   "cell_type": "code",
   "execution_count": 7,
   "metadata": {},
   "outputs": [
    {
     "name": "stdout",
     "output_type": "stream",
     "text": [
      "Choose a random element from a non-empty sequence.\n"
     ]
    }
   ],
   "source": [
    "print(choice.__doc__)"
   ]
  },
  {
   "cell_type": "code",
   "execution_count": 8,
   "metadata": {},
   "outputs": [
    {
     "name": "stdout",
     "output_type": "stream",
     "text": [
      "Help on function random in module __main__:\n",
      "\n",
      "random(a, b, c)\n",
      "\n"
     ]
    }
   ],
   "source": [
    "help(random)"
   ]
  },
  {
   "cell_type": "code",
   "execution_count": 9,
   "metadata": {},
   "outputs": [],
   "source": [
    "random.__doc__"
   ]
  },
  {
   "cell_type": "code",
   "execution_count": 14,
   "metadata": {},
   "outputs": [],
   "source": [
    "def greatest(x,y,z): \n",
    "    #doc-string\n",
    "    \"\"\"greatest(x,y,z) ---> return greatest among x,y,z\n",
    "    this function takes 3 arguments as x,y,z and than return \n",
    "    greatest among them.\n",
    "    eg. greatest(5,10,8)\n",
    "    [1] 10\n",
    "    \"\"\"\n",
    "    if x >= y and y >= z : \n",
    "        return x\n",
    "    elif y >= x and y >= z : \n",
    "        return y\n",
    "    else : \n",
    "        return z\n",
    "    "
   ]
  },
  {
   "cell_type": "code",
   "execution_count": 15,
   "metadata": {},
   "outputs": [
    {
     "name": "stdout",
     "output_type": "stream",
     "text": [
      "Help on function greatest in module __main__:\n",
      "\n",
      "greatest(x, y, z)\n",
      "    greatest(x,y,z) ---> return greatest among x,y,z\n",
      "    this function takes 3 arguments as x,y,z and than return \n",
      "    greatest among them.\n",
      "    eg. greatest(5,10,8)\n",
      "    [1] 10\n",
      "\n"
     ]
    }
   ],
   "source": [
    "help(greatest)"
   ]
  },
  {
   "cell_type": "code",
   "execution_count": 16,
   "metadata": {},
   "outputs": [
    {
     "name": "stdout",
     "output_type": "stream",
     "text": [
      "greatest(x,y,z) ---> return greatest among x,y,z\n",
      "    this function takes 3 arguments as x,y,z and than return \n",
      "    greatest among them.\n",
      "    eg. greatest(5,10,8)\n",
      "    [1] 10\n",
      "    \n"
     ]
    }
   ],
   "source": [
    "print(greatest.__doc__)"
   ]
  },
  {
   "cell_type": "code",
   "execution_count": 17,
   "metadata": {},
   "outputs": [],
   "source": [
    "r = greatest(10,6,67)"
   ]
  },
  {
   "cell_type": "code",
   "execution_count": 18,
   "metadata": {},
   "outputs": [
    {
     "data": {
      "text/plain": [
       "67"
      ]
     },
     "execution_count": 18,
     "metadata": {},
     "output_type": "execute_result"
    }
   ],
   "source": [
    "r"
   ]
  },
  {
   "cell_type": "code",
   "execution_count": 21,
   "metadata": {},
   "outputs": [],
   "source": [
    "from random import randint\n",
    "\n",
    "random_list = [ randint(1,50) for var in range(50) ]"
   ]
  },
  {
   "cell_type": "code",
   "execution_count": 24,
   "metadata": {},
   "outputs": [
    {
     "name": "stdout",
     "output_type": "stream",
     "text": [
      "[42, 12, 28, 50, 44, 7, 28, 1, 39, 8, 28, 42, 34, 14, 25, 2, 14, 18, 6, 19, 3, 32, 39, 35, 6, 4, 31, 34, 1, 30, 6, 28, 47, 2, 3, 43, 28, 11, 42, 48, 8, 39, 46, 40, 25, 34, 39, 32, 15, 35]\n"
     ]
    },
    {
     "data": {
      "text/plain": [
       "2"
      ]
     },
     "execution_count": 24,
     "metadata": {},
     "output_type": "execute_result"
    }
   ],
   "source": [
    "print(random_list)\n",
    "random_list.count(2)"
   ]
  },
  {
   "cell_type": "code",
   "execution_count": 25,
   "metadata": {},
   "outputs": [],
   "source": [
    "def delete_item(seq,item):\n",
    "    count = seq.count(item)\n",
    "    for var in range(count):\n",
    "        seq.remove(item)\n"
   ]
  },
  {
   "cell_type": "code",
   "execution_count": 26,
   "metadata": {},
   "outputs": [],
   "source": [
    "delete_item(random_list,2)"
   ]
  },
  {
   "cell_type": "code",
   "execution_count": 28,
   "metadata": {},
   "outputs": [
    {
     "name": "stdout",
     "output_type": "stream",
     "text": [
      "[42, 12, 28, 50, 44, 7, 28, 1, 39, 8, 28, 42, 34, 14, 25, 14, 18, 6, 19, 3, 32, 39, 35, 6, 4, 31, 34, 1, 30, 6, 28, 47, 3, 43, 28, 11, 42, 48, 8, 39, 46, 40, 25, 34, 39, 32, 15, 35]\n"
     ]
    }
   ],
   "source": [
    "print(random_list)"
   ]
  },
  {
   "cell_type": "markdown",
   "metadata": {},
   "source": [
    "<h1 style='color:#123456'>Parameter passing</h1>\n",
    "<ol style='color:#123454'>\n",
    "    <li>Positional Arguments</li>\n",
    "    <li>Default Arguments</li>\n",
    "    <li>Keyword Arguments</li>\n",
    "    <li>Variable Length Arguments</li>\n",
    "    </ol>"
   ]
  },
  {
   "cell_type": "code",
   "execution_count": 29,
   "metadata": {},
   "outputs": [],
   "source": [
    "# Positional Arguments\n",
    "\n",
    "def add(a,b,c):\n",
    "    return a+b+c"
   ]
  },
  {
   "cell_type": "code",
   "execution_count": 30,
   "metadata": {},
   "outputs": [],
   "source": [
    "s = add(1,5,7)\n",
    "s1 = add('hello ','world ','how are you')\n",
    "s2 = add([1,2,3],['hi','bye','hello'],[])"
   ]
  },
  {
   "cell_type": "code",
   "execution_count": 31,
   "metadata": {},
   "outputs": [
    {
     "data": {
      "text/plain": [
       "13"
      ]
     },
     "execution_count": 31,
     "metadata": {},
     "output_type": "execute_result"
    }
   ],
   "source": [
    "s"
   ]
  },
  {
   "cell_type": "code",
   "execution_count": 32,
   "metadata": {},
   "outputs": [
    {
     "data": {
      "text/plain": [
       "'hello world how are you'"
      ]
     },
     "execution_count": 32,
     "metadata": {},
     "output_type": "execute_result"
    }
   ],
   "source": [
    "s1"
   ]
  },
  {
   "cell_type": "code",
   "execution_count": 33,
   "metadata": {},
   "outputs": [
    {
     "data": {
      "text/plain": [
       "[1, 2, 3, 'hi', 'bye', 'hello']"
      ]
     },
     "execution_count": 33,
     "metadata": {},
     "output_type": "execute_result"
    }
   ],
   "source": [
    "s2"
   ]
  },
  {
   "cell_type": "code",
   "execution_count": 34,
   "metadata": {},
   "outputs": [],
   "source": [
    "# Positional Arguments\n",
    "\n",
    "def add(a,b,c):\n",
    "    return a+b+c"
   ]
  },
  {
   "cell_type": "code",
   "execution_count": 38,
   "metadata": {},
   "outputs": [
    {
     "ename": "TypeError",
     "evalue": "add() takes 3 positional arguments but 4 were given",
     "output_type": "error",
     "traceback": [
      "\u001b[1;31m---------------------------------------------------------------------------\u001b[0m",
      "\u001b[1;31mTypeError\u001b[0m                                 Traceback (most recent call last)",
      "\u001b[1;32m<ipython-input-38-33ae41f0f966>\u001b[0m in \u001b[0;36m<module>\u001b[1;34m()\u001b[0m\n\u001b[1;32m----> 1\u001b[1;33m \u001b[0mr\u001b[0m \u001b[1;33m=\u001b[0m \u001b[0madd\u001b[0m\u001b[1;33m(\u001b[0m\u001b[1;36m5\u001b[0m\u001b[1;33m,\u001b[0m\u001b[1;36m2\u001b[0m\u001b[1;33m,\u001b[0m\u001b[1;36m1\u001b[0m\u001b[1;33m,\u001b[0m\u001b[1;36m5\u001b[0m\u001b[1;33m)\u001b[0m\u001b[1;33m\u001b[0m\u001b[0m\n\u001b[0m\u001b[0;32m      2\u001b[0m \u001b[0mprint\u001b[0m\u001b[1;33m(\u001b[0m\u001b[0mr\u001b[0m\u001b[1;33m)\u001b[0m\u001b[1;33m\u001b[0m\u001b[0m\n",
      "\u001b[1;31mTypeError\u001b[0m: add() takes 3 positional arguments but 4 were given"
     ]
    }
   ],
   "source": [
    "r = add(5,2,1,5)\n",
    "print(r)"
   ]
  },
  {
   "cell_type": "markdown",
   "metadata": {},
   "source": [
    "##### "
   ]
  },
  {
   "cell_type": "code",
   "execution_count": 41,
   "metadata": {},
   "outputs": [
    {
     "name": "stdout",
     "output_type": "stream",
     "text": [
      "a = 5 , b = 2, c = 0 \n",
      "7\n"
     ]
    }
   ],
   "source": [
    "def add(a,b=0,c=0): #default arguments\n",
    "    print(\"a = {} , b = {}, c = {} \".format(a,b,c))\n",
    "    return a+b+c\n",
    "r = add(5,2)\n",
    "print(r)"
   ]
  },
  {
   "cell_type": "code",
   "execution_count": 44,
   "metadata": {},
   "outputs": [
    {
     "name": "stdout",
     "output_type": "stream",
     "text": [
      "Hello\t\tWorld\t\tHow\t\tare\t\tyou\n"
     ]
    }
   ],
   "source": [
    "print(\"Hello\",\"World\",'How','are','you',sep='\\t\\t')"
   ]
  },
  {
   "cell_type": "code",
   "execution_count": 45,
   "metadata": {},
   "outputs": [],
   "source": [
    "print?"
   ]
  },
  {
   "cell_type": "code",
   "execution_count": 48,
   "metadata": {},
   "outputs": [
    {
     "name": "stdout",
     "output_type": "stream",
     "text": [
      "a = 3 , b = 13, c = 5 \n",
      "21\n"
     ]
    }
   ],
   "source": [
    "#keyword arguments\n",
    "def add(a,b=0,c=0): #default arguments\n",
    "    print(\"a = {} , b = {}, c = {} \".format(a,b,c))\n",
    "    return a+b+c\n",
    "r = add(c=5,a=3,b=13)\n",
    "print(r)\n"
   ]
  },
  {
   "cell_type": "code",
   "execution_count": 50,
   "metadata": {},
   "outputs": [
    {
     "name": "stdout",
     "output_type": "stream",
     "text": [
      "a = 5 , b = 13, c = 3 \n",
      "21\n"
     ]
    }
   ],
   "source": [
    "#keyword arguments\n",
    "def add(a,b=0,c=0): #default arguments\n",
    "    print(\"a = {} , b = {}, c = {} \".format(a,b,c))\n",
    "    return a+b+c\n",
    "r = add(5,c=3,b=13)\n",
    "print(r)\n"
   ]
  },
  {
   "cell_type": "code",
   "execution_count": 51,
   "metadata": {},
   "outputs": [
    {
     "ename": "SyntaxError",
     "evalue": "positional argument follows keyword argument (<ipython-input-51-75243f8be3ef>, line 5)",
     "output_type": "error",
     "traceback": [
      "\u001b[1;36m  File \u001b[1;32m\"<ipython-input-51-75243f8be3ef>\"\u001b[1;36m, line \u001b[1;32m5\u001b[0m\n\u001b[1;33m    r = add(c=3,b=13,5)\u001b[0m\n\u001b[1;37m                    ^\u001b[0m\n\u001b[1;31mSyntaxError\u001b[0m\u001b[1;31m:\u001b[0m positional argument follows keyword argument\n"
     ]
    }
   ],
   "source": [
    "#keyword arguments\n",
    "def add(a,b=0,c=0): #default arguments\n",
    "    print(\"a = {} , b = {}, c = {} \".format(a,b,c))\n",
    "    return a+b+c\n",
    "r = add(c=3,b=13,5)\n",
    "print(r)\n"
   ]
  },
  {
   "cell_type": "code",
   "execution_count": 52,
   "metadata": {},
   "outputs": [
    {
     "ename": "SyntaxError",
     "evalue": "non-default argument follows default argument (<ipython-input-52-3444b925a32f>, line 1)",
     "output_type": "error",
     "traceback": [
      "\u001b[1;36m  File \u001b[1;32m\"<ipython-input-52-3444b925a32f>\"\u001b[1;36m, line \u001b[1;32m1\u001b[0m\n\u001b[1;33m    def add(b=0,x,c=1):\u001b[0m\n\u001b[1;37m           ^\u001b[0m\n\u001b[1;31mSyntaxError\u001b[0m\u001b[1;31m:\u001b[0m non-default argument follows default argument\n"
     ]
    }
   ],
   "source": [
    "def add(b=0,x,c=1):\n",
    "    pass"
   ]
  },
  {
   "cell_type": "code",
   "execution_count": 54,
   "metadata": {},
   "outputs": [
    {
     "data": {
      "text/plain": [
       "3805"
      ]
     },
     "execution_count": 54,
     "metadata": {},
     "output_type": "execute_result"
    }
   ],
   "source": [
    "sum([1,23,23,23,2,32,32,323,2,3,23,23,2,3,2,3,23,2,3232,3,23,2])"
   ]
  },
  {
   "cell_type": "code",
   "execution_count": 55,
   "metadata": {},
   "outputs": [],
   "source": [
    "def my_sum(seq):\n",
    "    result = 0 \n",
    "    for var in seq : \n",
    "        result = result + var\n",
    "    return result\n"
   ]
  },
  {
   "cell_type": "code",
   "execution_count": 57,
   "metadata": {},
   "outputs": [
    {
     "data": {
      "text/plain": [
       "254"
      ]
     },
     "execution_count": 57,
     "metadata": {},
     "output_type": "execute_result"
    }
   ],
   "source": [
    "my_sum([12,3,34,34,4,6,43,42,34,42])"
   ]
  },
  {
   "cell_type": "code",
   "execution_count": 3,
   "metadata": {},
   "outputs": [],
   "source": [
    "# as tuple --> * \n",
    "# as dictionary --> **\n",
    "def add(*args):\n",
    "    result = 0\n",
    "    for var in args : \n",
    "        result += var\n",
    "    return result\n"
   ]
  },
  {
   "cell_type": "code",
   "execution_count": 7,
   "metadata": {},
   "outputs": [
    {
     "data": {
      "text/plain": [
       "6"
      ]
     },
     "execution_count": 7,
     "metadata": {},
     "output_type": "execute_result"
    }
   ],
   "source": [
    "add(1,2,3)"
   ]
  },
  {
   "cell_type": "code",
   "execution_count": 9,
   "metadata": {},
   "outputs": [
    {
     "data": {
      "text/plain": [
       "15"
      ]
     },
     "execution_count": 9,
     "metadata": {},
     "output_type": "execute_result"
    }
   ],
   "source": [
    "t = (1,2,3,4,5)\n",
    "add(*t)"
   ]
  },
  {
   "cell_type": "code",
   "execution_count": 10,
   "metadata": {},
   "outputs": [],
   "source": [
    "#keyworkd arguments ** kwargs"
   ]
  },
  {
   "cell_type": "code",
   "execution_count": 14,
   "metadata": {},
   "outputs": [],
   "source": [
    "def print_dict(**kwargs):\n",
    "    #print(kwargs)\n",
    "    return kwargs"
   ]
  },
  {
   "cell_type": "code",
   "execution_count": 15,
   "metadata": {},
   "outputs": [],
   "source": [
    "my_data = print_dict(name='sachin',age=22,country='india')"
   ]
  },
  {
   "cell_type": "code",
   "execution_count": 16,
   "metadata": {},
   "outputs": [
    {
     "data": {
      "text/plain": [
       "{'name': 'sachin', 'age': 22, 'country': 'india'}"
      ]
     },
     "execution_count": 16,
     "metadata": {},
     "output_type": "execute_result"
    }
   ],
   "source": [
    "my_data"
   ]
  },
  {
   "cell_type": "code",
   "execution_count": 17,
   "metadata": {},
   "outputs": [],
   "source": [
    "def print_dict(**kwargs):\n",
    "    #print(kwargs)\n",
    "    for key,value in kwargs.items() :\n",
    "        print(\"{key} = {value}\".format(key=key,value=value))"
   ]
  },
  {
   "cell_type": "code",
   "execution_count": 24,
   "metadata": {},
   "outputs": [],
   "source": [
    "l1 = list(range(1,100))\n",
    "l2 = list(range(100,1,-1))\n",
    "if len(l1) == len(l2) : \n",
    "    data = dict(zip(l1,l2))\n",
    "else : \n",
    "    print(\"Error!!both list are not have same length\")\n"
   ]
  },
  {
   "cell_type": "code",
   "execution_count": 30,
   "metadata": {},
   "outputs": [
    {
     "ename": "TypeError",
     "evalue": "print_dict() keywords must be strings",
     "output_type": "error",
     "traceback": [
      "\u001b[1;31m---------------------------------------------------------------------------\u001b[0m",
      "\u001b[1;31mTypeError\u001b[0m                                 Traceback (most recent call last)",
      "\u001b[1;32m<ipython-input-30-360c593f7873>\u001b[0m in \u001b[0;36m<module>\u001b[1;34m()\u001b[0m\n\u001b[1;32m----> 1\u001b[1;33m \u001b[0mprint_dict\u001b[0m\u001b[1;33m(\u001b[0m\u001b[1;33m**\u001b[0m\u001b[0mdata\u001b[0m\u001b[1;33m)\u001b[0m\u001b[1;33m\u001b[0m\u001b[0m\n\u001b[0m",
      "\u001b[1;31mTypeError\u001b[0m: print_dict() keywords must be strings"
     ]
    }
   ],
   "source": [
    "print_dict(**data)"
   ]
  },
  {
   "cell_type": "code",
   "execution_count": 31,
   "metadata": {},
   "outputs": [],
   "source": [
    "info = { 'name':'sachin','age':22,'country':'india','education':'b.tech'}"
   ]
  },
  {
   "cell_type": "code",
   "execution_count": 33,
   "metadata": {},
   "outputs": [
    {
     "name": "stdout",
     "output_type": "stream",
     "text": [
      "name = sachin\n",
      "age = 22\n",
      "country = india\n",
      "education = b.tech\n"
     ]
    }
   ],
   "source": [
    "print_dict(**info)"
   ]
  },
  {
   "cell_type": "markdown",
   "metadata": {},
   "source": [
    "<h1 style='color:red'>Var length Arguments</h1>"
   ]
  },
  {
   "cell_type": "code",
   "execution_count": 1,
   "metadata": {},
   "outputs": [],
   "source": [
    "def sum(a,b=0,c=0):\n",
    "    print(\"sum = \",a+b+c) \n",
    "\n",
    "\n",
    "    "
   ]
  },
  {
   "cell_type": "code",
   "execution_count": null,
   "metadata": {},
   "outputs": [],
   "source": []
  }
 ],
 "metadata": {
  "kernelspec": {
   "display_name": "Python 3",
   "language": "python",
   "name": "python3"
  },
  "language_info": {
   "codemirror_mode": {
    "name": "ipython",
    "version": 3
   },
   "file_extension": ".py",
   "mimetype": "text/x-python",
   "name": "python",
   "nbconvert_exporter": "python",
   "pygments_lexer": "ipython3",
   "version": "3.6.5"
  }
 },
 "nbformat": 4,
 "nbformat_minor": 2
}
