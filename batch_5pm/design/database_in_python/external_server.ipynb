{
 "cells": [
  {
   "cell_type": "code",
   "execution_count": 1,
   "metadata": {},
   "outputs": [],
   "source": [
    "#first step to connect to database\n",
    "# entries requried for logging into database\n",
    "\n",
    "#1. ip or hostname of your database server is running\n",
    "#2. port number on which your database server is running\n",
    "#3. username by which you are allowed to login into database server\n",
    "#4. password which should be valid\n",
    "# one optional Entry\n",
    "#5. database name "
   ]
  },
  {
   "cell_type": "code",
   "execution_count": 2,
   "metadata": {},
   "outputs": [],
   "source": [
    "#xammp database server is running on localhost and ip of localhost is 127.0.0.1\n",
    "#xampp database server is running on port 3306\n",
    "#username is sachin\n",
    "#password redhat\n",
    "#database bank"
   ]
  },
  {
   "cell_type": "code",
   "execution_count": 7,
   "metadata": {},
   "outputs": [],
   "source": [
    "import pymysql as sql #this is plugin package know DBI -> database interface\n",
    "#pymysql will connect us to database server\n",
    "\n",
    "db = sql.connect(host='localhost',port=3306,user='sachin',password='redhat',database='bank')\n",
    "#will connect us to database bank"
   ]
  },
  {
   "cell_type": "code",
   "execution_count": 8,
   "metadata": {},
   "outputs": [],
   "source": [
    "c = db.cursor()\n",
    "#will give us a cursor c by which we can fire commands"
   ]
  },
  {
   "cell_type": "code",
   "execution_count": 9,
   "metadata": {},
   "outputs": [
    {
     "name": "stdout",
     "output_type": "stream",
     "text": [
      "(('user',),)\n"
     ]
    }
   ],
   "source": [
    "#let's see how many table are there\n",
    "cmd = \"show tables\"\n",
    "c.execute(cmd)\n",
    "#will execute command\n",
    "data = c.fetchall() #will fetch data\n",
    "print(data)"
   ]
  },
  {
   "cell_type": "code",
   "execution_count": 12,
   "metadata": {},
   "outputs": [
    {
     "name": "stdout",
     "output_type": "stream",
     "text": [
      "acc\tint(6)\tNO\tPRI\tNone\tauto_increment\n",
      "name\tvarchar(50)\tNO\t\tNone\t\n",
      "password\tvarchar(30)\tNO\t\tNone\t\n",
      "balance\tdouble\tNO\t\tNone\t\n"
     ]
    }
   ],
   "source": [
    "#let's see what is inside user table\n",
    "cmd = 'describe user'\n",
    "c.execute(cmd)\n",
    "\n",
    "data = c.fetchall()\n",
    "for item in data : \n",
    "    print(*item,sep='\\t')"
   ]
  },
  {
   "cell_type": "code",
   "execution_count": 27,
   "metadata": {},
   "outputs": [
    {
     "name": "stdout",
     "output_type": "stream",
     "text": [
      "\n",
      "1001 sachin redhat 8866.0 \t\n",
      "\n",
      "1002 rajat rajat@Grras 50000.0 \t\n",
      "\n",
      "1003 gaurav myworld@123 80000.0 \t\n",
      "\n",
      "1004 ravi grras@123 25000.0 \t\n",
      "\n",
      "1005 nidhi nidhi@123 25000.0 \t\n",
      "\n",
      "1006 kushal redhat@redhat 12932932.0 \t\n",
      "\n",
      "1007 purujeet puru@world 100000.0 \t\n",
      "\n",
      "1008 Yadavendra iambkwaas 10000.0 \t\n",
      "\n",
      "1009 bharat redhat 1234567.0 \t\n",
      "\n",
      "1010 gaurav1 redhat 15000.0 \t\n",
      "\n",
      "1011 nidhisharma nidhi 1000.0 \t\n",
      "\n",
      "1012 sachinyadav redhat 12500.0 \t\n",
      "\n",
      "1013 newuser iamuser 10000.0 \t\n",
      "\n",
      "1014 grras grras 10000.0 \t\n",
      "\n",
      "1015 rajat123 redhat 300.0 \t\n",
      "\n",
      "1016 arvind007 redhat 48464.0 \t\n",
      "\n"
     ]
    }
   ],
   "source": [
    "#let's see how many entries are there\n",
    "cmd = 'select * from user'\n",
    "c.execute(cmd)\n",
    "\n",
    "data = c.fetchall()\n",
    "print()\n",
    "for item in data : \n",
    "    print(*item,'\\t')\n",
    "    print()"
   ]
  },
  {
   "cell_type": "code",
   "execution_count": 28,
   "metadata": {},
   "outputs": [
    {
     "name": "stdout",
     "output_type": "stream",
     "text": [
      "username : dafasfd\n",
      "None\n",
      "\n",
      "\n",
      "There is no such user exits\n"
     ]
    }
   ],
   "source": [
    "name = input(\"username : \")\n",
    "c.execute(f'select  * from user where name= \"{name}\"')\n",
    "\n",
    "data = c.fetchone()\n",
    "\n",
    "fields = [ 'account', 'username', 'password' , 'balance']\n",
    "if data : \n",
    "    print(\"\\n\\nDetails \\n\")\n",
    "    data = zip(fields,data)\n",
    "    print()\n",
    "    for key,value in data :\n",
    "        print(f'{key} = {value}\\n')\n",
    "else :\n",
    "    print(\"\\n\\nThere is no such user exits\")"
   ]
  },
  {
   "cell_type": "code",
   "execution_count": 36,
   "metadata": {},
   "outputs": [],
   "source": [
    "def login(acc,password):\n",
    "    c.execute(f'select * from user where acc={acc}')\n",
    "    data = c.fetchone()\n",
    "    #print(data)\n",
    "    if data : \n",
    "        fields = [ 'acc','username','password','balance']\n",
    "        data = dict(zip(fields,data))\n",
    "        \n",
    "        if password == data.get('password') : \n",
    "            return data\n",
    "    \n",
    "    return False\n",
    "    "
   ]
  },
  {
   "cell_type": "code",
   "execution_count": 42,
   "metadata": {},
   "outputs": [
    {
     "name": "stdout",
     "output_type": "stream",
     "text": [
      "Enter your account number : 1006\n",
      "Enter your password : ········\n",
      "Welcome back user kushal\n",
      "acc = 1006\n",
      "username = kushal\n",
      "password = redhat@redhat\n",
      "balance = 12932932.0\n"
     ]
    }
   ],
   "source": [
    "from getpass import getpass\n",
    "acc = int(input(\"Enter your account number : \"))\n",
    "p  = getpass(\"Enter your password : \").strip()\n",
    "\n",
    "data = login(acc,p)\n",
    "\n",
    "if data : \n",
    "    print(f\"Welcome back user {data.get('username')}\")\n",
    "    \n",
    "    for key,value in data.items():\n",
    "        \n",
    "        print(f\"{key} = {value}\")\n",
    "else :\n",
    "    print(\"Invalid Username or Password\")"
   ]
  },
  {
   "cell_type": "code",
   "execution_count": null,
   "metadata": {},
   "outputs": [],
   "source": []
  }
 ],
 "metadata": {
  "kernelspec": {
   "display_name": "Python 3",
   "language": "python",
   "name": "python3"
  },
  "language_info": {
   "codemirror_mode": {
    "name": "ipython",
    "version": 3
   },
   "file_extension": ".py",
   "mimetype": "text/x-python",
   "name": "python",
   "nbconvert_exporter": "python",
   "pygments_lexer": "ipython3",
   "version": "3.7.0"
  }
 },
 "nbformat": 4,
 "nbformat_minor": 2
}
