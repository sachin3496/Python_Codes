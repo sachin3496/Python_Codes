{
 "cells": [
  {
   "cell_type": "markdown",
   "metadata": {},
   "source": [
    "<h1 style='color:#123456'>Exceptions in Python</h1>"
   ]
  },
  {
   "cell_type": "markdown",
   "metadata": {},
   "source": [
    "<h1>Syntax Errors</h1>"
   ]
  },
  {
   "cell_type": "code",
   "execution_count": null,
   "metadata": {},
   "outputs": [],
   "source": [
    "print(hello world)"
   ]
  },
  {
   "cell_type": "code",
   "execution_count": null,
   "metadata": {},
   "outputs": [],
   "source": [
    "print(hello_world)"
   ]
  },
  {
   "cell_type": "code",
   "execution_count": null,
   "metadata": {},
   "outputs": [],
   "source": [
    "x = int(input(\"Enter a number : \"))\n",
    "print(x)"
   ]
  },
  {
   "cell_type": "code",
   "execution_count": null,
   "metadata": {},
   "outputs": [],
   "source": [
    "print(\"hello oword\")\n",
    "     print(\"HI\")\n",
    "print(\"bye\")"
   ]
  },
  {
   "cell_type": "code",
   "execution_count": null,
   "metadata": {},
   "outputs": [],
   "source": [
    "f = open('abracababra')"
   ]
  },
  {
   "cell_type": "code",
   "execution_count": null,
   "metadata": {},
   "outputs": [],
   "source": [
    "1 / 0"
   ]
  },
  {
   "cell_type": "code",
   "execution_count": null,
   "metadata": {},
   "outputs": [],
   "source": [
    "import builtins "
   ]
  },
  {
   "cell_type": "code",
   "execution_count": null,
   "metadata": {},
   "outputs": [],
   "source": []
  },
  {
   "cell_type": "code",
   "execution_count": null,
   "metadata": {},
   "outputs": [],
   "source": [
    "print(*dir(builtins),sep='\\t')"
   ]
  },
  {
   "cell_type": "code",
   "execution_count": null,
   "metadata": {},
   "outputs": [],
   "source": [
    "#write a program to take only an integer as input\n",
    "\n",
    "x = int(input(\"X = \"))\n",
    "print(x)"
   ]
  },
  {
   "cell_type": "code",
   "execution_count": null,
   "metadata": {},
   "outputs": [],
   "source": [
    "d = { 1:2,2:3}\n",
    "#d[4]\n",
    "d.get(4,'default')"
   ]
  },
  {
   "cell_type": "code",
   "execution_count": 1,
   "metadata": {},
   "outputs": [
    {
     "name": "stdout",
     "output_type": "stream",
     "text": [
      "key : 6\n",
      "Invalid key Try again\n",
      "Keys are = ,1,2\n",
      "key : 8\n",
      "Invalid key Try again\n",
      "Keys are = ,1,2\n",
      "key : 1\n",
      "Data =  2\n"
     ]
    }
   ],
   "source": [
    "d = { 1:2,2:3}\n",
    "while True:\n",
    "    try:\n",
    "        x = int(input(\"key : \"))\n",
    "        print(\"Data = \",d[x])\n",
    "        break\n",
    "    except : \n",
    "        print(\"Invalid key Try again\")\n",
    "        print(\"Keys are = \",*d.keys(),sep=',')\n",
    "    "
   ]
  },
  {
   "cell_type": "code",
   "execution_count": null,
   "metadata": {},
   "outputs": [
    {
     "name": "stdout",
     "output_type": "stream",
     "text": [
      "\n",
      "Enter x : \n",
      "6\n",
      "\n",
      "Enter y : 4\n",
      "Result = 1.500\n",
      "file location : Exception_Handling.ipynb\n",
      "{\n",
      " \"cells\": [\n",
      "  {\n",
      "   \"cell_type\": \"markdown\",\n",
      "   \"metadata\": {},\n",
      "   \"source\": [\n",
      "    \"<h1 style='color:#123456'>Exceptions in Python</h1>\"\n",
      "   ]\n",
      "  },\n",
      "  {\n",
      "   \"cell_type\": \"markdown\",\n",
      "   \"metadata\": {},\n",
      "   \"source\": [\n",
      "    \"<h1>Syntax Errors</h1>\"\n",
      "   ]\n",
      "  },\n",
      "  {\n",
      "   \"cell_type\": \"code\",\n",
      "   \"execution_count\": null,\n",
      "   \"metadata\": {},\n",
      "   \"outputs\": [],\n",
      "   \"source\": [\n",
      "    \"print(hello world)\"\n",
      "   ]\n",
      "  },\n",
      "  {\n",
      "   \"cell_type\": \"code\",\n",
      "   \"execution_count\": null,\n",
      "   \"metadata\": {},\n",
      "   \"outputs\": [],\n",
      "   \"source\": [\n",
      "    \"print(hello_world)\"\n",
      "   ]\n",
      "  },\n",
      "  {\n",
      "   \"cell_type\": \"code\",\n",
      "   \"execution_count\": null,\n",
      "   \"metadata\": {},\n",
      "   \"outputs\": [],\n",
      "   \"source\": [\n",
      "    \"x = int(input(\\\"Enter a number : \\\"))\\n\",\n",
      "    \"print(x)\"\n",
      "   ]\n",
      "  },\n",
      "  {\n",
      "   \"cell_type\": \"code\",\n",
      "   \"execution_count\": null,\n",
      "   \"metadata\": {},\n",
      "   \"outputs\": [],\n",
      "   \"source\": [\n",
      "    \"print(\\\"hello oword\\\")\\n\",\n",
      "    \"     print(\\\"HI\\\")\\n\",\n",
      "    \"print(\\\"bye\\\")\"\n",
      "   ]\n",
      "  },\n",
      "  {\n",
      "   \"cell_type\": \"code\",\n",
      "   \"execution_count\": null,\n",
      "   \"metadata\": {},\n",
      "   \"outputs\": [],\n",
      "   \"source\": [\n",
      "    \"f = open('abracababra')\"\n",
      "   ]\n",
      "  },\n",
      "  {\n",
      "   \"cell_type\": \"code\",\n",
      "   \"execution_count\": null,\n",
      "   \"metadata\": {},\n",
      "   \"outputs\": [],\n",
      "   \"source\": [\n",
      "    \"1 / 0\"\n",
      "   ]\n",
      "  },\n",
      "  {\n",
      "   \"cell_type\": \"code\",\n",
      "   \"execution_count\": null,\n",
      "   \"metadata\": {},\n",
      "   \"outputs\": [],\n",
      "   \"source\": [\n",
      "    \"import builtins \"\n",
      "   ]\n",
      "  },\n",
      "  {\n",
      "   \"cell_type\": \"code\",\n",
      "   \"execution_count\": null,\n",
      "   \"metadata\": {},\n",
      "   \"outputs\": [],\n",
      "   \"source\": []\n",
      "  },\n",
      "  {\n",
      "   \"cell_type\": \"code\",\n",
      "   \"execution_count\": null,\n",
      "   \"metadata\": {},\n",
      "   \"outputs\": [],\n",
      "   \"source\": [\n",
      "    \"print(*dir(builtins),sep='\\\\t')\"\n",
      "   ]\n",
      "  },\n",
      "  {\n",
      "   \"cell_type\": \"code\",\n",
      "   \"execution_count\": null,\n",
      "   \"metadata\": {},\n",
      "   \"outputs\": [],\n",
      "   \"source\": [\n",
      "    \"#write a program to take only an integer as input\\n\",\n",
      "    \"\\n\",\n",
      "    \"x = int(input(\\\"X = \\\"))\\n\",\n",
      "    \"print(x)\"\n",
      "   ]\n",
      "  },\n",
      "  {\n",
      "   \"cell_type\": \"code\",\n",
      "   \"execution_count\": null,\n",
      "   \"metadata\": {},\n",
      "   \"outputs\": [],\n",
      "   \"source\": [\n",
      "    \"d = { 1:2,2:3}\\n\",\n",
      "    \"#d[4]\\n\",\n",
      "    \"d.get(4,'default')\"\n",
      "   ]\n",
      "  },\n",
      "  {\n",
      "   \"cell_type\": \"code\",\n",
      "   \"execution_count\": 1,\n",
      "   \"metadata\": {},\n",
      "   \"outputs\": [\n",
      "    {\n",
      "     \"name\": \"stdout\",\n",
      "     \"output_type\": \"stream\",\n",
      "     \"text\": [\n",
      "      \"key : 6\\n\",\n",
      "      \"Invalid key Try again\\n\",\n",
      "      \"Keys are = ,1,2\\n\",\n",
      "      \"key : 8\\n\",\n",
      "      \"Invalid key Try again\\n\",\n",
      "      \"Keys are = ,1,2\\n\",\n",
      "      \"key : 1\\n\",\n",
      "      \"Data =  2\\n\"\n",
      "     ]\n",
      "    }\n",
      "   ],\n",
      "   \"source\": [\n",
      "    \"d = { 1:2,2:3}\\n\",\n",
      "    \"while True:\\n\",\n",
      "    \"    try:\\n\",\n",
      "    \"        x = int(input(\\\"key : \\\"))\\n\",\n",
      "    \"        print(\\\"Data = \\\",d[x])\\n\",\n",
      "    \"        break\\n\",\n",
      "    \"    except : \\n\",\n",
      "    \"        print(\\\"Invalid key Try again\\\")\\n\",\n",
      "    \"        print(\\\"Keys are = \\\",*d.keys(),sep=',')\\n\",\n",
      "    \"    \"\n",
      "   ]\n",
      "  },\n",
      "  {\n",
      "   \"cell_type\": \"code\",\n",
      "   \"execution_count\": null,\n",
      "   \"metadata\": {},\n",
      "   \"outputs\": [\n",
      "    {\n",
      "     \"name\": \"stdout\",\n",
      "     \"output_type\": \"stream\",\n",
      "     \"text\": [\n",
      "      \"\\n\",\n",
      "      \"Enter x : \\n\",\n",
      "      \"5\\n\",\n",
      "      \"\\n\",\n",
      "      \"Enter y : lsdkjf\\n\",\n",
      "      \"\\n\",\n",
      "      \"Only Integer input you idiot\\n\",\n",
      "      \"\\n\",\n",
      "      \"Error!!! invalid literal for int() with base 10: 'lsdkjf'\\n\",\n",
      "      \"\\n\",\n",
      "      \"Enter x : \\n\",\n",
      "      \"6\\n\",\n",
      "      \"\\n\",\n",
      "      \"Enter y : 0\\n\",\n",
      "      \"Error!! division by zero\\n\",\n",
      "      \"Can't divide any number by zero\\n\",\n",
      "      \"\\n\",\n",
      "      \"Enter x : \\n\",\n",
      "      \"4\\n\",\n",
      "      \"\\n\",\n",
      "      \"Enter y : 5\\n\",\n",
      "      \"Result = 0.800\\n\",\n",
      "      \"file location : lahfkskfhasdkf\\n\",\n",
      "      \"Something Went Wrong I also don't know\\n\",\n",
      "      \"Provide this to our authoritives we help you\\n\",\n",
      "      \"Errorr!! [Errno 2] No such file or directory: 'lahfkskfhasdkf'\\n\"\n",
      "     ]\n",
      "    }\n",
      "   ],\n",
      "   \"source\": [\n",
      "    \"while True :\\n\",\n",
      "    \"    try : \\n\",\n",
      "    \"        x = int(input(\\\"\\\\nEnter x : \\\\n\\\"))\\n\",\n",
      "    \"        y = int(input(\\\"\\\\nEnter y : \\\"))\\n\",\n",
      "    \"        result = x / y \\n\",\n",
      "    \"        print(\\\"Result = {:.3f}\\\".format(result))\\n\",\n",
      "    \"        f = open(input('file location : '))\\n\",\n",
      "    \"        print(f.read())\\n\",\n",
      "    \"        f.close()\\n\",\n",
      "    \"        break\\n\",\n",
      "    \"    except ValueError  as error :\\n\",\n",
      "    \"        print(\\\"\\\\nOnly Integer input you idiot\\\\n\\\")\\n\",\n",
      "    \"        print(\\\"Error!!!\\\",error)\\n\",\n",
      "    \"    except ZeroDivisionError as msg : \\n\",\n",
      "    \"        print(\\\"Error!!\\\",msg)\\n\",\n",
      "    \"        print(\\\"Can't divide any number by zero\\\")\\n\",\n",
      "    \"    except Exception as e :\\n\",\n",
      "    \"        print(\\\"Something Went Wrong I also don't know\\\")\\n\",\n",
      "    \"        print(\\\"Provide this to our authoritives we help you\\\")\\n\",\n",
      "    \"        print(\\\"Errorr!!\\\",e)\"\n",
      "   ]\n",
      "  },\n",
      "  {\n",
      "   \"cell_type\": \"code\",\n",
      "   \"execution_count\": 9,\n",
      "   \"metadata\": {},\n",
      "   \"outputs\": [\n",
      "    {\n",
      "     \"name\": \"stdout\",\n",
      "     \"output_type\": \"stream\",\n",
      "     \"text\": [\n",
      "      \"349sdf\\n\"\n",
      "     ]\n",
      "    },\n",
      "    {\n",
      "     \"ename\": \"ValueError\",\n",
      "     \"evalue\": \"invalid literal for int() with base 10: '349sdf'\",\n",
      "     \"output_type\": \"error\",\n",
      "     \"traceback\": [\n",
      "      \"\\u001b[1;31m---------------------------------------------------------------------------\\u001b[0m\",\n",
      "      \"\\u001b[1;31mValueError\\u001b[0m                                Traceback (most recent call last)\",\n",
      "      \"\\u001b[1;32m<ipython-input-9-2ad52a4b3ef5>\\u001b[0m in \\u001b[0;36m<module>\\u001b[1;34m()\\u001b[0m\\n\\u001b[1;32m----> 1\\u001b[1;33m \\u001b[0mint\\u001b[0m\\u001b[1;33m(\\u001b[0m\\u001b[0minput\\u001b[0m\\u001b[1;33m(\\u001b[0m\\u001b[1;33m)\\u001b[0m\\u001b[1;33m)\\u001b[0m\\u001b[1;33m\\u001b[0m\\u001b[0m\\n\\u001b[0m\",\n",
      "      \"\\u001b[1;31mValueError\\u001b[0m: invalid literal for int() with base 10: '349sdf'\"\n",
      "     ]\n",
      "    }\n",
      "   ],\n",
      "   \"source\": [\n",
      "    \"int(input())\"\n",
      "   ]\n",
      "  },\n",
      "  {\n",
      "   \"cell_type\": \"code\",\n",
      "   \"execution_count\": 11,\n",
      "   \"metadata\": {},\n",
      "   \"outputs\": [\n",
      "    {\n",
      "     \"ename\": \"ZeroDivisionError\",\n",
      "     \"evalue\": \"division by zero\",\n",
      "     \"output_type\": \"error\",\n",
      "     \"traceback\": [\n",
      "      \"\\u001b[1;31m---------------------------------------------------------------------------\\u001b[0m\",\n",
      "      \"\\u001b[1;31mZeroDivisionError\\u001b[0m                         Traceback (most recent call last)\",\n",
      "      \"\\u001b[1;32m<ipython-input-11-9e1622b385b6>\\u001b[0m in \\u001b[0;36m<module>\\u001b[1;34m()\\u001b[0m\\n\\u001b[1;32m----> 1\\u001b[1;33m \\u001b[1;36m1\\u001b[0m\\u001b[1;33m/\\u001b[0m\\u001b[1;36m0\\u001b[0m\\u001b[1;33m\\u001b[0m\\u001b[0m\\n\\u001b[0m\",\n",
      "      \"\\u001b[1;31mZeroDivisionError\\u001b[0m: division by zero\"\n",
      "     ]\n",
      "    }\n",
      "   ],\n",
      "   \"source\": [\n",
      "    \"1/0\"\n",
      "   ]\n",
      "  },\n",
      "  {\n",
      "   \"cell_type\": \"code\",\n",
      "   \"execution_count\": null,\n",
      "   \"metadata\": {},\n",
      "   \"outputs\": [],\n",
      "   \"source\": []\n",
      "  }\n",
      " ],\n",
      " \"metadata\": {\n",
      "  \"kernelspec\": {\n",
      "   \"display_name\": \"Python 3\",\n",
      "   \"language\": \"python\",\n",
      "   \"name\": \"python3\"\n",
      "  },\n",
      "  \"language_info\": {\n",
      "   \"codemirror_mode\": {\n",
      "    \"name\": \"ipython\",\n",
      "    \"version\": 3\n",
      "   },\n",
      "   \"file_extension\": \".py\",\n",
      "   \"mimetype\": \"text/x-python\",\n",
      "   \"name\": \"python\",\n",
      "   \"nbconvert_exporter\": \"python\",\n",
      "   \"pygments_lexer\": \"ipython3\",\n",
      "   \"version\": \"3.6.5\"\n",
      "  }\n",
      " },\n",
      " \"nbformat\": 4,\n",
      " \"nbformat_minor\": 2\n",
      "}\n",
      "\n",
      "Something Went Wrong I also don't know\n",
      "Provide this to our authoritives we help you\n",
      "Errorr!! \n"
     ]
    }
   ],
   "source": [
    "while True :\n",
    "    try : \n",
    "        x = int(input(\"\\nEnter x : \\n\"))\n",
    "        y = int(input(\"\\nEnter y : \"))\n",
    "        result = x / y \n",
    "        print(\"Result = {:.3f}\".format(result))\n",
    "        f = open(input('file location : '))\n",
    "        print(f.read())\n",
    "        f.close()\n",
    "        k = iter('python')\n",
    "        while True:\n",
    "            next(k)\n",
    "        break\n",
    "    except ValueError  as error :\n",
    "        print(\"\\nOnly Integer input you idiot\\n\")\n",
    "        print(\"Error!!!\",error)\n",
    "    except ZeroDivisionError as msg : \n",
    "        print(\"Error!!\",msg)\n",
    "        print(\"Can't divide any number by zero\")\n",
    "    except Exception as e :\n",
    "        print(\"Something Went Wrong I also don't know\")\n",
    "        print(\"Provide this to our authoritives we help you\")\n",
    "        print(\"Errorr!!\",e)"
   ]
  },
  {
   "cell_type": "code",
   "execution_count": 9,
   "metadata": {},
   "outputs": [
    {
     "name": "stdout",
     "output_type": "stream",
     "text": [
      "349sdf\n"
     ]
    },
    {
     "ename": "ValueError",
     "evalue": "invalid literal for int() with base 10: '349sdf'",
     "output_type": "error",
     "traceback": [
      "\u001b[1;31m---------------------------------------------------------------------------\u001b[0m",
      "\u001b[1;31mValueError\u001b[0m                                Traceback (most recent call last)",
      "\u001b[1;32m<ipython-input-9-2ad52a4b3ef5>\u001b[0m in \u001b[0;36m<module>\u001b[1;34m()\u001b[0m\n\u001b[1;32m----> 1\u001b[1;33m \u001b[0mint\u001b[0m\u001b[1;33m(\u001b[0m\u001b[0minput\u001b[0m\u001b[1;33m(\u001b[0m\u001b[1;33m)\u001b[0m\u001b[1;33m)\u001b[0m\u001b[1;33m\u001b[0m\u001b[0m\n\u001b[0m",
      "\u001b[1;31mValueError\u001b[0m: invalid literal for int() with base 10: '349sdf'"
     ]
    }
   ],
   "source": [
    "int(input())"
   ]
  },
  {
   "cell_type": "code",
   "execution_count": 11,
   "metadata": {},
   "outputs": [
    {
     "ename": "ZeroDivisionError",
     "evalue": "division by zero",
     "output_type": "error",
     "traceback": [
      "\u001b[1;31m---------------------------------------------------------------------------\u001b[0m",
      "\u001b[1;31mZeroDivisionError\u001b[0m                         Traceback (most recent call last)",
      "\u001b[1;32m<ipython-input-11-9e1622b385b6>\u001b[0m in \u001b[0;36m<module>\u001b[1;34m()\u001b[0m\n\u001b[1;32m----> 1\u001b[1;33m \u001b[1;36m1\u001b[0m\u001b[1;33m/\u001b[0m\u001b[1;36m0\u001b[0m\u001b[1;33m\u001b[0m\u001b[0m\n\u001b[0m",
      "\u001b[1;31mZeroDivisionError\u001b[0m: division by zero"
     ]
    }
   ],
   "source": [
    "1/0"
   ]
  },
  {
   "cell_type": "code",
   "execution_count": 7,
   "metadata": {},
   "outputs": [
    {
     "name": "stdout",
     "output_type": "stream",
     "text": [
      "Hello World\n",
      "Enter a number : 5\n",
      "Enter a number : 6\n",
      "0.8333333333333334\n",
      "You are a good boy.\n",
      "I will run What ever you do \n",
      "Thanks for using our service\n"
     ]
    }
   ],
   "source": [
    "try : \n",
    "    print(\"Hello World\")\n",
    "    x = int(input(\"Enter a number : \"))\n",
    "    y = int(input(\"Enter a number : \"))\n",
    "    print(x/y)\n",
    "except Exception as error : \n",
    "    print(\"Error!\",error)\n",
    "else :\n",
    "    print(\"You are a good boy.\")\n",
    "finally : \n",
    "    print(\"I will run What ever you do \")\n",
    "    print(\"Thanks for using our service\")"
   ]
  },
  {
   "cell_type": "code",
   "execution_count": 10,
   "metadata": {},
   "outputs": [
    {
     "name": "stdout",
     "output_type": "stream",
     "text": [
      "File Location : hello.py\n",
      "print(\"hello world\")\n",
      "\n",
      "name = input(\"Enter your name \")\n",
      "\n",
      "print(\"Welcome mr \",name)\n",
      "\n"
     ]
    }
   ],
   "source": [
    "try :  \n",
    "    f = open(input(\"File Location : \"))\n",
    "    data = f.read()\n",
    "    print(data)\n",
    "    f.close()\n",
    "except FileNotFoundError as e : \n",
    "    print(\"Please Double Check your file location and run again\")\n"
   ]
  },
  {
   "cell_type": "code",
   "execution_count": 11,
   "metadata": {},
   "outputs": [
    {
     "name": "stdout",
     "output_type": "stream",
     "text": [
      "File Location : dslfk\n"
     ]
    },
    {
     "ename": "FileNotFoundError",
     "evalue": "[Errno 2] No such file or directory: 'dslfk'",
     "output_type": "error",
     "traceback": [
      "\u001b[1;31m---------------------------------------------------------------------------\u001b[0m",
      "\u001b[1;31mFileNotFoundError\u001b[0m                         Traceback (most recent call last)",
      "\u001b[1;32m<ipython-input-11-1391cf9d997b>\u001b[0m in \u001b[0;36m<module>\u001b[1;34m()\u001b[0m\n\u001b[1;32m----> 1\u001b[1;33m \u001b[0mf\u001b[0m \u001b[1;33m=\u001b[0m \u001b[0mopen\u001b[0m\u001b[1;33m(\u001b[0m\u001b[0minput\u001b[0m\u001b[1;33m(\u001b[0m\u001b[1;34m\"File Location : \"\u001b[0m\u001b[1;33m)\u001b[0m\u001b[1;33m)\u001b[0m\u001b[1;33m\u001b[0m\u001b[0m\n\u001b[0m\u001b[0;32m      2\u001b[0m \u001b[0mdata\u001b[0m \u001b[1;33m=\u001b[0m \u001b[0mf\u001b[0m\u001b[1;33m.\u001b[0m\u001b[0mread\u001b[0m\u001b[1;33m(\u001b[0m\u001b[1;33m)\u001b[0m\u001b[1;33m\u001b[0m\u001b[0m\n\u001b[0;32m      3\u001b[0m \u001b[0mprint\u001b[0m\u001b[1;33m(\u001b[0m\u001b[0mdata\u001b[0m\u001b[1;33m)\u001b[0m\u001b[1;33m\u001b[0m\u001b[0m\n\u001b[0;32m      4\u001b[0m \u001b[0mf\u001b[0m\u001b[1;33m.\u001b[0m\u001b[0mclose\u001b[0m\u001b[1;33m(\u001b[0m\u001b[1;33m)\u001b[0m\u001b[1;33m\u001b[0m\u001b[0m\n",
      "\u001b[1;31mFileNotFoundError\u001b[0m: [Errno 2] No such file or directory: 'dslfk'"
     ]
    }
   ],
   "source": [
    "f = open(input(\"File Location : \"))\n",
    "data = f.read()\n",
    "print(data)\n",
    "f.close()"
   ]
  },
  {
   "cell_type": "code",
   "execution_count": 13,
   "metadata": {},
   "outputs": [
    {
     "name": "stdout",
     "output_type": "stream",
     "text": [
      "947\n",
      "Good you have done a great job\n"
     ]
    }
   ],
   "source": [
    "if int(input()) < 0 : \n",
    "    print(\"only positive number are allowed\")\n",
    "else :\n",
    "    print(\"Good you have done a great job\")"
   ]
  },
  {
   "cell_type": "code",
   "execution_count": 16,
   "metadata": {},
   "outputs": [
    {
     "name": "stdout",
     "output_type": "stream",
     "text": [
      "Enter a positive number : 0\n",
      "Error!! Only Positive Number you idiot\n"
     ]
    }
   ],
   "source": [
    "#Custom Error\n",
    "try : \n",
    "    x = int(input(\"Enter a positive number : \"))\n",
    "    assert x > 0 , \"Only Positive Number you idiot\"\n",
    "    print(\"Squre of {} is {}\".format(x,x**2))\n",
    "except AssertionError as msg : \n",
    "    print(\"Error!!\",msg)"
   ]
  },
  {
   "cell_type": "code",
   "execution_count": 18,
   "metadata": {},
   "outputs": [
    {
     "name": "stdout",
     "output_type": "stream",
     "text": [
      "Enter a positive number : -12\n",
      "Error!! Only Positive Number you idiot\n"
     ]
    }
   ],
   "source": [
    "#Custom Error\n",
    "try : \n",
    "    x = int(input(\"Enter a positive number : \"))\n",
    "    if x > 0: \n",
    "        print(\"Squre of {} is {}\".format(x,x**2))\n",
    "    else :\n",
    "        raise ZeroDivisionError(\"Only Positive Number you idiot\")\n",
    "except ZeroDivisionError as msg : \n",
    "    print(\"Error!!\",msg)\n",
    "    "
   ]
  },
  {
   "cell_type": "code",
   "execution_count": 19,
   "metadata": {},
   "outputs": [],
   "source": [
    "class MyError(ValueError):\n",
    "    def __init__(self,arg):\n",
    "        super().__init__(arg)\n",
    "        self.arg = arg\n",
    "    def __str__(self):\n",
    "        return self.arg"
   ]
  },
  {
   "cell_type": "code",
   "execution_count": 20,
   "metadata": {},
   "outputs": [
    {
     "name": "stdout",
     "output_type": "stream",
     "text": [
      "Enter a positive number : -12\n",
      "Error!! Only Positive Number you idiot\n"
     ]
    }
   ],
   "source": [
    "#Custom Error\n",
    "try : \n",
    "    x = int(input(\"Enter a positive number : \"))\n",
    "    if x > 0: \n",
    "        print(\"Squre of {} is {}\".format(x,x**2))\n",
    "    else :\n",
    "        raise MyError(\"Only Positive Number you idiot\")\n",
    "except MyError as msg : \n",
    "    print(\"Error!!\",msg)\n",
    "    "
   ]
  },
  {
   "cell_type": "code",
   "execution_count": 21,
   "metadata": {},
   "outputs": [],
   "source": [
    "l = list(range(1,1000,5))"
   ]
  },
  {
   "cell_type": "code",
   "execution_count": 29,
   "metadata": {},
   "outputs": [
    {
     "name": "stdout",
     "output_type": "stream",
     "text": [
      "(1, 'hi')\n",
      "(2, 'hello')\n",
      "(3, 'bye')\n"
     ]
    }
   ],
   "source": [
    "l = iter(zip([1,2,3],['hi','hello','bye']))\n",
    "while True :\n",
    "    try : \n",
    "        print(next(l))\n",
    "    except StopIteration as e : \n",
    "        break"
   ]
  },
  {
   "cell_type": "code",
   "execution_count": 30,
   "metadata": {},
   "outputs": [
    {
     "ename": "TypeError",
     "evalue": "write() argument must be str, not dict",
     "output_type": "error",
     "traceback": [
      "\u001b[1;31m---------------------------------------------------------------------------\u001b[0m",
      "\u001b[1;31mTypeError\u001b[0m                                 Traceback (most recent call last)",
      "\u001b[1;32m<ipython-input-30-cceb71f16ede>\u001b[0m in \u001b[0;36m<module>\u001b[1;34m()\u001b[0m\n\u001b[0;32m      3\u001b[0m \u001b[0mf\u001b[0m \u001b[1;33m=\u001b[0m \u001b[0mopen\u001b[0m\u001b[1;33m(\u001b[0m\u001b[1;34m'bank.db'\u001b[0m\u001b[1;33m,\u001b[0m\u001b[1;34m'w'\u001b[0m\u001b[1;33m)\u001b[0m\u001b[1;33m\u001b[0m\u001b[0m\n\u001b[0;32m      4\u001b[0m \u001b[0mdata\u001b[0m \u001b[1;33m=\u001b[0m \u001b[1;33m{\u001b[0m \u001b[1;34m'name'\u001b[0m\u001b[1;33m:\u001b[0m\u001b[1;34m'hello'\u001b[0m\u001b[1;33m,\u001b[0m\u001b[1;34m'age'\u001b[0m\u001b[1;33m:\u001b[0m\u001b[1;36m35\u001b[0m\u001b[1;33m,\u001b[0m\u001b[1;34m'country'\u001b[0m\u001b[1;33m:\u001b[0m\u001b[1;34m'india'\u001b[0m\u001b[1;33m}\u001b[0m\u001b[1;33m\u001b[0m\u001b[0m\n\u001b[1;32m----> 5\u001b[1;33m \u001b[0mf\u001b[0m\u001b[1;33m.\u001b[0m\u001b[0mwrite\u001b[0m\u001b[1;33m(\u001b[0m\u001b[0mdata\u001b[0m\u001b[1;33m)\u001b[0m\u001b[1;33m\u001b[0m\u001b[0m\n\u001b[0m\u001b[0;32m      6\u001b[0m \u001b[0mf\u001b[0m\u001b[1;33m.\u001b[0m\u001b[0mclose\u001b[0m\u001b[1;33m(\u001b[0m\u001b[1;33m)\u001b[0m\u001b[1;33m\u001b[0m\u001b[0m\n\u001b[0;32m      7\u001b[0m \u001b[1;33m\u001b[0m\u001b[0m\n",
      "\u001b[1;31mTypeError\u001b[0m: write() argument must be str, not dict"
     ]
    }
   ],
   "source": [
    "# kal bank application\n",
    "# quiz \n",
    "f = open('bank.db','w')\n",
    "data = { 'name':'hello','age':35,'country':'india'}\n",
    "f.write(data)\n",
    "f.close()\n",
    "\n",
    "f = open('bank.db')\n",
    "data = f.read()\n",
    "print(data)"
   ]
  },
  {
   "cell_type": "code",
   "execution_count": 32,
   "metadata": {},
   "outputs": [
    {
     "name": "stdout",
     "output_type": "stream",
     "text": [
      "<class 'dict'>\n",
      "{'name': 'hello', 'age': 35, 'country': 'india'}\n"
     ]
    }
   ],
   "source": [
    "#JSON --> java script Object Notation language\n",
    "import json\n",
    "# kal bank application\n",
    "# quiz \n",
    "f = open('bank.db','w')\n",
    "data = { 'name':'hello','age':35,'country':'india'}\n",
    "json.dump(data,f)\n",
    "f.close()\n",
    "\n",
    "f = open('bank.db')\n",
    "data = json.load(f)\n",
    "print(type(data))\n",
    "print(data)"
   ]
  },
  {
   "cell_type": "code",
   "execution_count": 39,
   "metadata": {},
   "outputs": [],
   "source": [
    "bank = { \n",
    "            'user' : [ 'ram','shyam','mohan'],\n",
    "            'bal'  : [ 12323,23353232,243242],\n",
    "            'acc'  : [ 1001, 1002, 1003 ],\n",
    "            'pass' : [ 'mar','mayhs','nahom']\n",
    "            }\n",
    "\n",
    "f = open('bank.db','w')\n",
    "json.dump(bank,f)\n",
    "f.close()\n",
    "#data permanent write"
   ]
  },
  {
   "cell_type": "code",
   "execution_count": 51,
   "metadata": {},
   "outputs": [],
   "source": [
    "f = open('bank.db')\n",
    "data = json.load(f)\n",
    "f.close()\n",
    "\n",
    "def login(acc,password):\n",
    "    if acc in data['acc'] :\n",
    "        i = data['acc'].index(acc)\n",
    "        print(i)\n",
    "        if password == data['pass'][i]:\n",
    "            return True\n",
    "    return False"
   ]
  },
  {
   "cell_type": "code",
   "execution_count": 41,
   "metadata": {},
   "outputs": [
    {
     "data": {
      "text/plain": [
       "False"
      ]
     },
     "execution_count": 41,
     "metadata": {},
     "output_type": "execute_result"
    }
   ],
   "source": [
    "login(1002,'redhat')"
   ]
  },
  {
   "cell_type": "code",
   "execution_count": 42,
   "metadata": {},
   "outputs": [
    {
     "data": {
      "text/plain": [
       "True"
      ]
     },
     "execution_count": 42,
     "metadata": {},
     "output_type": "execute_result"
    }
   ],
   "source": [
    "login(1001,'mar')"
   ]
  },
  {
   "cell_type": "code",
   "execution_count": 52,
   "metadata": {},
   "outputs": [
    {
     "name": "stdout",
     "output_type": "stream",
     "text": [
      "3\n"
     ]
    },
    {
     "data": {
      "text/plain": [
       "True"
      ]
     },
     "execution_count": 52,
     "metadata": {},
     "output_type": "execute_result"
    }
   ],
   "source": [
    "login(1007,'redhat')"
   ]
  },
  {
   "cell_type": "code",
   "execution_count": 46,
   "metadata": {},
   "outputs": [
    {
     "name": "stdout",
     "output_type": "stream",
     "text": [
      "{'user': ['ram', 'shyam', 'mohan', 'sachin'], 'bal': [123456, 12323, 23353232, 243242], 'acc': [1001, 1002, 1003, 1007], 'pass': ['mar', 'mayhs', 'nahom', 'redhat']}\n"
     ]
    }
   ],
   "source": [
    "print(data)"
   ]
  },
  {
   "cell_type": "code",
   "execution_count": 49,
   "metadata": {},
   "outputs": [
    {
     "data": {
      "text/plain": [
       "'redhat'"
      ]
     },
     "execution_count": 49,
     "metadata": {},
     "output_type": "execute_result"
    }
   ],
   "source": [
    "data['pass'][3]"
   ]
  },
  {
   "cell_type": "code",
   "execution_count": 54,
   "metadata": {},
   "outputs": [],
   "source": [
    "data['user'].append('rajat')\n",
    "data['pass'].append('sachin')\n",
    "data['bal'].append(100023)\n",
    "data['acc'].append(23223)\n",
    "\n",
    "f = open('bank.db','w')\n",
    "json.dump(data,f)\n",
    "f.close()"
   ]
  },
  {
   "cell_type": "code",
   "execution_count": 55,
   "metadata": {},
   "outputs": [],
   "source": [
    "import xml"
   ]
  },
  {
   "cell_type": "code",
   "execution_count": 56,
   "metadata": {},
   "outputs": [
    {
     "data": {
      "text/plain": [
       "['__all__',\n",
       " '__builtins__',\n",
       " '__cached__',\n",
       " '__doc__',\n",
       " '__file__',\n",
       " '__loader__',\n",
       " '__name__',\n",
       " '__package__',\n",
       " '__path__',\n",
       " '__spec__']"
      ]
     },
     "execution_count": 56,
     "metadata": {},
     "output_type": "execute_result"
    }
   ],
   "source": [
    "dir(xml)"
   ]
  },
  {
   "cell_type": "code",
   "execution_count": 57,
   "metadata": {},
   "outputs": [],
   "source": [
    "import pickle"
   ]
  },
  {
   "cell_type": "code",
   "execution_count": null,
   "metadata": {},
   "outputs": [],
   "source": []
  }
 ],
 "metadata": {
  "kernelspec": {
   "display_name": "Python 3",
   "language": "python",
   "name": "python3"
  },
  "language_info": {
   "codemirror_mode": {
    "name": "ipython",
    "version": 3
   },
   "file_extension": ".py",
   "mimetype": "text/x-python",
   "name": "python",
   "nbconvert_exporter": "python",
   "pygments_lexer": "ipython3",
   "version": "3.6.5"
  }
 },
 "nbformat": 4,
 "nbformat_minor": 2
}
